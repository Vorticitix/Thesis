{
 "cells": [
  {
   "cell_type": "code",
   "execution_count": 3,
   "metadata": {},
   "outputs": [
    {
     "name": "stdout",
     "output_type": "stream",
     "text": [
      "The autoreload extension is already loaded. To reload it, use:\n",
      "  %reload_ext autoreload\n"
     ]
    }
   ],
   "source": [
    "%load_ext autoreload\n",
    "%autoreload 2\n",
    "import xarray as xr\n",
    "import numpy as np\n",
    "import pandas as pd\n",
    "from matplotlib import pyplot as plt\n",
    "import cartopy.crs as ccrs\n",
    "import sys\n",
    "sys.path.append('/home/onno/Thesis/Scripts')\n",
    "import my_tools\n",
    "from datetime import datetime\n",
    "import glob\n",
    "%matplotlib qt"
   ]
  },
  {
   "cell_type": "code",
   "execution_count": 12,
   "metadata": {},
   "outputs": [],
   "source": [
    "path = '/media/onno/Algemeen/Thesis/'\n",
    "# file_gfs = 'gefsrf2_env_wledit2000-10000_latavg_v300_control0-252h_6hourly_2x2_dec84-nov19.nc'\n",
    "# file_era = 'era51_env_wledit2000-10000_latavg_v300_79-19_6hourly_anom_from_smoothed04_clim_smoothed.nc'\n",
    "file_gfs = 'gefsrf2_phasevel_wledit2000-10000_latavg_v300_envgt15_control0-252h_6hourly_2x2_dec84-nov19_setvrange_-100to100.nc'\n",
    "file_era = 'era51_phasevel_wledit2000-10000_latavg_v300_envgt15_79-19_6hourly_anom_from_smoothed04_clim_setvrange_-100to100.nc'\n",
    "gfs = xr.open_dataset(path+file_gfs,decode_times=False)\n",
    "era = xr.open_dataset(path+file_era,decode_times=False)\n",
    "#Convert dates to standard datetime values\n",
    "gfs['time']=my_tools.convert_date_gefs_r(gfs.time.values)\n",
    "era['time']=my_tools.convert_date_era_r(era.time.values)\n"
   ]
  },
  {
   "cell_type": "code",
   "execution_count": 13,
   "metadata": {},
   "outputs": [],
   "source": [
    "gfs_nh = gfs.sel(lat=slice(90,0),lead=gfs.lead.values[[bool(i) for i in gfs.lead%24==0]])\n",
    "era_nh = era.sel(lat=slice(90,0))"
   ]
  },
  {
   "cell_type": "markdown",
   "metadata": {},
   "source": [
    "Calculation for each season"
   ]
  },
  {
   "cell_type": "code",
   "execution_count": 14,
   "metadata": {},
   "outputs": [],
   "source": [
    "#Categorize each month for season\n",
    "seasons = {'MAM':[3,4,5],\n",
    "          'JJA':[6,7,8],\n",
    "          'SON':[9,10,11],\n",
    "          'DJF':[12,1,2]}\n",
    "\n",
    "#Loop through season\n",
    "for key in seasons:\n",
    "    #loop through lead days\n",
    "    for i in range(11):\n",
    "        #Select days for which GEFS data is present and make datasets equally long\n",
    "        gfs_nh_d = gfs_nh.sel(time=[i for i in pd.date_range('1984-12-1','2019-11-{}'.format(30-i))],lead=i*24)\n",
    "        era_nh_d = era_nh.sel(time=[i for i in pd.date_range('1984-12-{}'.format(1+i),'2019-11-30')])        \n",
    "        #Make boolean array for each day that is present in season        \n",
    "        idxz = np.isin(gfs_nh_d.time.dt.month,seasons[key])\n",
    "        gfs_season = gfs_nh_d.v[idxz] ; era_season = era_nh_d.v[idxz]\n",
    "        #Check if dates are correct\n",
    "        assert(np.all(np.isin([(j-pd.Timedelta(i,'d')).month for j in era_season.time.values],seasons[key])))\n",
    "        assert(np.all(np.isin([pd.to_datetime(j).month for j in gfs_season.time.values],seasons[key])))\n",
    "        gfs_season_mean = gfs_season.mean(dim='time')\n",
    "        era_season_mean = era_season.mean(dim='time')\n",
    "        diff = gfs_season_mean - era_season_mean\n",
    "        diff.to_netcdf('/media/onno/Algemeen/Thesis/GFS_mean_season/GFS_mean_error_phasespeed_{}_day_{:02d}.nc'.format(key,i))\n"
   ]
  },
  {
   "cell_type": "code",
   "execution_count": 5,
   "metadata": {},
   "outputs": [],
   "source": [
    "filez = glob.glob('/media/onno/Algemeen/Thesis/GFS_mean/*envelope*.nc')\n",
    "for i, file in enumerate(filez):\n",
    "    ds = xr.open_dataset(file,decode_times=False).squeeze()\n",
    "    fig = plt.figure()\n",
    "    ax = plt.subplot(1,1,1,projection=ccrs.Orthographic(0, 90))\n",
    "    ax.coastlines()\n",
    "    im = ax.imshow(ds.v,transform=ccrs.PlateCarree(),\n",
    "                   vmin=-2.5,vmax=2.5,cmap='seismic')\n",
    "    cbar = fig.colorbar(im)\n",
    "    cbar.set_label('E (m/s)', rotation=90)\n",
    "    fig.suptitle('GEFS mean RWP envelope error day {}'.format(i+1))\n",
    "    fig.savefig('/media/onno/Algemeen/Thesis/GFS_mean/GEFS_forecast_envelope_error_day_{:02d}'.format(i))\n",
    "    plt.close(fig)"
   ]
  },
  {
   "cell_type": "code",
   "execution_count": null,
   "metadata": {},
   "outputs": [],
   "source": []
  }
 ],
 "metadata": {
  "kernelspec": {
   "display_name": "Python 3",
   "language": "python",
   "name": "python3"
  },
  "language_info": {
   "codemirror_mode": {
    "name": "ipython",
    "version": 3
   },
   "file_extension": ".py",
   "mimetype": "text/x-python",
   "name": "python",
   "nbconvert_exporter": "python",
   "pygments_lexer": "ipython3",
   "version": "3.8.5"
  }
 },
 "nbformat": 4,
 "nbformat_minor": 4
}
