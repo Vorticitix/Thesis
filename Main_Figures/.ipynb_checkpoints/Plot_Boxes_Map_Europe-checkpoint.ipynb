{
 "cells": [
  {
   "cell_type": "code",
   "execution_count": 1,
   "id": "south-three",
   "metadata": {},
   "outputs": [],
   "source": [
    "from matplotlib import pyplot as plt\n",
    "from mpl_toolkits.basemap import Basemap\n",
    "from matplotlib.patches import Polygon\n",
    "import numpy as np\n",
    "%matplotlib qt"
   ]
  },
  {
   "cell_type": "code",
   "execution_count": 4,
   "id": "going-justice",
   "metadata": {},
   "outputs": [],
   "source": [
    "def draw_screen_poly( lats, lons, m):\n",
    "    x, y = m( lons, lats )\n",
    "    xy = zip(x,y)\n",
    "    poly = Polygon( list(xy), edgecolor='red', facecolor='none',linewidth=2)\n",
    "    plt.gca().add_patch(poly)\n",
    "    \n",
    "lats_total = [[46,54,54,46],\n",
    "       [36,44,44,36],\n",
    "       [46,54,54,46],\n",
    "       [50,58,58,50],\n",
    "       [34,42,42,34],\n",
    "       [60,68,68,60],\n",
    "       [58,66,66,58],\n",
    "       [52,60,60,52]]\n",
    "lons_total = [[6,6,14,14],\n",
    "       [-8,-8,0,0],\n",
    "       [26,26,34,34],\n",
    "       [-8,-8,0,0],\n",
    "       [28,28,36,36],\n",
    "       [22,22,30,30],\n",
    "       [6,6,14,14],\n",
    "       [46,46,54,54]]\n",
    "\n",
    "labelz = {'DE':(50,10),\n",
    "         'ES':(40,-4),\n",
    "         'UA':(50,30),\n",
    "         'UK':(54,-4),\n",
    "         'TR':(38,32),\n",
    "         'FI':(64,26),\n",
    "         'RU':(56,50),\n",
    "         'NO':(62,10)}"
   ]
  },
  {
   "cell_type": "code",
   "execution_count": 13,
   "id": "patent-private",
   "metadata": {},
   "outputs": [],
   "source": [
    "fig,ax=plt.subplots(figsize=(7.5,5.5))\n",
    "m = Basemap(llcrnrlon=-20,llcrnrlat=30,urcrnrlon=60.,urcrnrlat=70,\n",
    "             resolution='i', projection='mill', lat_0 = 50, lon_0 = 30,ax=ax)\n",
    "\n",
    "m.drawmapboundary(fill_color='aqua')\n",
    "m.fillcontinents(color='w',lake_color='aqua')\n",
    "m.drawcoastlines(linewidth=.25)\n",
    "m.drawcountries()\n",
    "parallels = np.arange(0.,81,10.)\n",
    "# labels = [left,right,top,bottom]\n",
    "m.drawparallels(parallels,labels=[False,True,True,False])\n",
    "meridians = np.arange(0,361.,20.)\n",
    "m.drawmeridians(meridians,labels=[True,False,False,True])\n",
    "for i in np.arange(len(lats_total)):\n",
    "    draw_screen_poly( lats_total[i], lons_total[i], m )\n",
    "    \n",
    "for key in labelz:\n",
    "    lat,lon=labelz[key]\n",
    "    X,Y = m(lon,lat)\n",
    "    plt.text(X,Y,key,\n",
    "             horizontalalignment='center',\n",
    "            verticalalignment='center',\n",
    "            fontsize=18,color='r')\n",
    "fig.subplots_adjust(left=0.03,right=0.925,bottom=0.025,top=1)\n",
    "fig.savefig('/media/onno/Algemeen/Thesis/Main_Figures/boex_europe_pres.png',dpi=200)\n",
    "\n",
    "\n"
   ]
  },
  {
   "cell_type": "code",
   "execution_count": null,
   "id": "arabic-adventure",
   "metadata": {},
   "outputs": [],
   "source": []
  }
 ],
 "metadata": {
  "kernelspec": {
   "display_name": "Python 3",
   "language": "python",
   "name": "python3"
  },
  "language_info": {
   "codemirror_mode": {
    "name": "ipython",
    "version": 3
   },
   "file_extension": ".py",
   "mimetype": "text/x-python",
   "name": "python",
   "nbconvert_exporter": "python",
   "pygments_lexer": "ipython3",
   "version": "3.6.12"
  }
 },
 "nbformat": 4,
 "nbformat_minor": 5
}
