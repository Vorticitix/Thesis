{
 "cells": [
  {
   "cell_type": "code",
   "execution_count": 2,
   "id": "framed-college",
   "metadata": {},
   "outputs": [],
   "source": [
    "import numpy as np\n",
    "import xarray as xr\n",
    "from matplotlib import pyplot as plt\n",
    "import sys\n",
    "sys.path.append('/home/onno/Thesis/Scripts')\n",
    "import my_tools\n",
    "#import dictionaries from my_tools to automize plotting\n",
    "from my_tools import plot_dic\n",
    "from cmap import ncl_colormap\n",
    "from mpl_toolkits.basemap import Basemap, addcyclic\n",
    "from mpl_toolkits.axes_grid1 import make_axes_locatable\n",
    "import string\n",
    "import matplotlib\n",
    "plt.rcParams.update({'font.size': 15})\n",
    "%matplotlib qt"
   ]
  },
  {
   "cell_type": "code",
   "execution_count": 3,
   "id": "signal-juice",
   "metadata": {},
   "outputs": [],
   "source": [
    "#set path\n",
    "path = '/media/onno/Algemeen/Thesis/GFS_T850/GSS/'\n",
    "#load GSS data\n",
    "GSS_ERA5RF = xr.open_dataset(path+'GSS_data_ERA5RF.nc')\n",
    "GSS_GEFSRF = xr.open_dataset(path+'GSS_data_GFS.nc')"
   ]
  },
  {
   "cell_type": "code",
   "execution_count": 20,
   "id": "human-genome",
   "metadata": {},
   "outputs": [
    {
     "ename": "SystemExit",
     "evalue": "",
     "output_type": "error",
     "traceback": [
      "An exception has occurred, use %tb to see the full traceback.\n",
      "\u001b[0;31mSystemExit\u001b[0m\n"
     ]
    },
    {
     "name": "stderr",
     "output_type": "stream",
     "text": [
      "/home/onno/miniconda3/envs/thesis/lib/python3.6/site-packages/IPython/core/interactiveshell.py:3351: UserWarning: To exit: use 'exit', 'quit', or Ctrl-D.\n",
      "  warn(\"To exit: use 'exit', 'quit', or Ctrl-D.\", stacklevel=1)\n"
     ]
    }
   ],
   "source": [
    "\n",
    "#loading GFS and ERA5 data for specific bo\n",
    "modelz_GSS = [GSS_GEFSRF,GSS_ERA5RF]\n",
    "#Create dictionary for figure title\n",
    "model_titlez = ['GEFSRF','ERA5RF']\n",
    "#Calculate GSS for following lead days\n",
    "lead_dayz = [1,3,5,7,9]\n",
    "#Column names for csv file\n",
    "columnz = ['persistent_hw','short_hw','persistent_cw','short_cw']\n",
    "colorz = [(0,'#ff0000'),(0.25,'#ff6600'),(0.5,'#ffff00'),\n",
    "          (0.7,'#33cc33'),(1,'#006600')]   \n",
    "cmap = matplotlib.colors.LinearSegmentedColormap.from_list('custom', colorz, N=1024)\n",
    "\n",
    "#Axis titles\n",
    "event_lablez = ['PH','SH','PC','SC']\n",
    "#x and y axis ticks\n",
    "tickz = np.arange(4)\n",
    "#lead days to plot\n",
    "lead_dayz = [3,5]\n",
    "\n",
    "\n",
    "fig,axz = plt.subplots(2,2,figsize=(10,6))\n",
    "for i,lead_day in enumerate(lead_dayz):\n",
    "    for j, model_GSS in enumerate(modelz_GSS):\n",
    "        ds = model_GSS.sel(lead_day=lead_day).mean(dim='region')\n",
    "        ax = axz[i,j]\n",
    "        ax.set_xticks(tickz); ax.set_yticks(tickz)\n",
    "        ax.set_xticklabels(ds.season.values); ax.set_yticklabels(event_lablez)\n",
    "        if i ==0:\n",
    "            ax.set_title('{}\\n Lead Day 3 Mean GSS = {:.2f}'.format(model_titlez[j],ds.GSS.mean().values))\n",
    "        else:\n",
    "            ax.set_title('Lead Day 5 Mean GSS = {:.2f}'.format(ds.GSS.mean().values))\n",
    "        im = ax.imshow(ds.GSS.values,cmap=cmap,vmin=0,vmax=1,aspect='auto')\n",
    "        for y in range(ds.GSS.shape[0]):\n",
    "            for x in range(ds.GSS.shape[1]):\n",
    "                ax.text(y,x,'{:.2f}'.format(ds.GSS.values[x,y]),\n",
    "                       ha=\"center\", va=\"center\", color=\"k\",fontsize=15)\n",
    "            \n",
    "\n",
    "fig.subplots_adjust(left=0.05,right=0.975,bottom=0.2,top=0.9,wspace=0.15,hspace=0.3)\n",
    "cax = fig.add_axes([0.05, 0.1, 0.925, 0.05])\n",
    "fig.colorbar(im, cax=cax, orientation='horizontal',label='Gilbert Skill Score')\n",
    "fig.savefig('/media/onno/Algemeen/Thesis/Main_Figures/GSS_total.png')\n",
    "sys.exit()\n",
    "\n"
   ]
  },
  {
   "cell_type": "code",
   "execution_count": null,
   "id": "extraordinary-wallace",
   "metadata": {},
   "outputs": [],
   "source": []
  }
 ],
 "metadata": {
  "kernelspec": {
   "display_name": "Python 3",
   "language": "python",
   "name": "python3"
  },
  "language_info": {
   "codemirror_mode": {
    "name": "ipython",
    "version": 3
   },
   "file_extension": ".py",
   "mimetype": "text/x-python",
   "name": "python",
   "nbconvert_exporter": "python",
   "pygments_lexer": "ipython3",
   "version": "3.6.12"
  }
 },
 "nbformat": 4,
 "nbformat_minor": 5
}
