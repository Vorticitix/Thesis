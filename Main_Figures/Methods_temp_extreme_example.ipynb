{
 "cells": [
  {
   "cell_type": "code",
   "execution_count": 23,
   "id": "vietnamese-gregory",
   "metadata": {},
   "outputs": [],
   "source": [
    "import pandas as pd\n",
    "import xarray as xr\n",
    "from matplotlib import pyplot as plt\n",
    "%matplotlib qt"
   ]
  },
  {
   "cell_type": "code",
   "execution_count": 4,
   "id": "sunrise-throat",
   "metadata": {},
   "outputs": [],
   "source": [
    "path = '/media/onno/Algemeen/Thesis/GFS_T850/'\n",
    "file_era_t = 'era51_fldmean_mars_t850_79-19_24hourly_lon_6_12_lat_52_46.nc'\n",
    "file_clim_p90 = 'era51_mars_t850_79-19_24hourly_90p_lon_6_12_lat_52_46_SMOOTHED.nc'\n",
    "file_clim_p10 = 'era51_mars_t850_79-19_24hourly_10p_lon_6_12_lat_52_46_SMOOTHED.nc'"
   ]
  },
  {
   "cell_type": "code",
   "execution_count": 17,
   "id": "offshore-devon",
   "metadata": {},
   "outputs": [],
   "source": [
    "era_t = xr.open_dataset(path+file_era_t).squeeze()\n",
    "clim_p90 = xr.open_dataset(path+file_clim_p90).squeeze()\n",
    "clim_p10 = xr.open_dataset(path+file_clim_p10).squeeze()"
   ]
  },
  {
   "cell_type": "code",
   "execution_count": 19,
   "id": "excessive-living",
   "metadata": {},
   "outputs": [],
   "source": [
    "date_range_clim = pd.date_range('2019-08-01','2019-08-31')\n",
    "date_range_era = pd.date_range('2016-08-01','2016-08-31')\n",
    "\n",
    "era_t_aug = era_t.sel(time=date_range_era)\n",
    "clim_p90_aug = clim_p90.sel(time=date_range_clim)\n",
    "clim_p10_aug = clim_p10.sel(time=date_range_clim)\n",
    "\n",
    "clim_p90_aug['time'] = date_range_era\n",
    "clim_p10_aug['time'] = date_range_era"
   ]
  },
  {
   "cell_type": "code",
   "execution_count": 35,
   "id": "neither-morning",
   "metadata": {},
   "outputs": [
    {
     "data": {
      "text/plain": [
       "Text(0.5, 0.98, 'August 2016 850 hPa Temperature (DE Grid Box): ERA5 vs ERA5 climatology')"
      ]
     },
     "execution_count": 35,
     "metadata": {},
     "output_type": "execute_result"
    }
   ],
   "source": [
    "fig,ax = plt.subplots(figsize=(8,5))\n",
    "ax.plot(date_range_era,era_t_aug.t.values-273.15,'o-',color='k',label='T850')\n",
    "ax.plot(date_range_era,clim_p90_aug.t.values-273.15,color='r',label='T850 P90 Clim')\n",
    "ax.plot(date_range_era,clim_p10_aug.t.values-273.15,color='b',label='T850 P10 Clim')\n",
    "ax.set_ylabel('850 hPa Temperature [°C]')\n",
    "ax.set_xlabel('Date')\n",
    "ax.set_xticks(pd.date_range('2016-08-01','2016-08-31',freq='10D'))\n",
    "ax.legend()\n",
    "\n",
    "fig.suptitle('August 2016 850 hPa Temperature (DE Grid Box): ERA5 vs ERA5 climatology')\n",
    "\n"
   ]
  },
  {
   "cell_type": "code",
   "execution_count": null,
   "id": "difficult-chance",
   "metadata": {},
   "outputs": [],
   "source": []
  }
 ],
 "metadata": {
  "kernelspec": {
   "display_name": "Python 3",
   "language": "python",
   "name": "python3"
  },
  "language_info": {
   "codemirror_mode": {
    "name": "ipython",
    "version": 3
   },
   "file_extension": ".py",
   "mimetype": "text/x-python",
   "name": "python",
   "nbconvert_exporter": "python",
   "pygments_lexer": "ipython3",
   "version": "3.6.12"
  }
 },
 "nbformat": 4,
 "nbformat_minor": 5
}
