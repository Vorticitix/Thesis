{
 "cells": [
  {
   "cell_type": "code",
   "execution_count": 1,
   "metadata": {},
   "outputs": [],
   "source": [
    "from matplotlib import pyplot as plt\n",
    "from mpl_toolkits.basemap import Basemap\n",
    "from matplotlib.patches import Polygon\n",
    "import numpy as np\n",
    "%matplotlib qt"
   ]
  },
  {
   "cell_type": "code",
   "execution_count": 3,
   "metadata": {},
   "outputs": [],
   "source": [
    "def draw_screen_poly( lats, lons, m):\n",
    "    x, y = m( lons, lats )\n",
    "    xy = zip(x,y)\n",
    "    poly = Polygon( list(xy), edgecolor='red', facecolor='none',linewidth=2)\n",
    "    plt.gca().add_patch(poly)\n",
    "    \n",
    "lats_total = [[54,62,62,54],\n",
    "       [46,54,54,46],\n",
    "       [38,46,46,38],\n",
    "       [54,62,62,54],\n",
    "       [46,54,54,46],\n",
    "       [38,46,46,38],\n",
    "       [54,62,62,54],\n",
    "       [46,54,54,46],\n",
    "       [38,46,46,38]]\n",
    "lons_total = [[0,0,8,8],\n",
    "       [0,0,8,8],\n",
    "       [0,0,8,8],\n",
    "       [8,8,16,16],\n",
    "       [8,8,16,16],\n",
    "       [8,8,16,16],\n",
    "       [16,16,24,24],\n",
    "       [16,16,24,24],\n",
    "       [16,16,24,24]]\n"
   ]
  },
  {
   "cell_type": "code",
   "execution_count": 13,
   "metadata": {},
   "outputs": [
    {
     "data": {
      "text/plain": [
       "Text(0.5, 0.98, 'Grid boxes Central Europe')"
      ]
     },
     "execution_count": 13,
     "metadata": {},
     "output_type": "execute_result"
    }
   ],
   "source": [
    "fig,ax=plt.subplots(figsize=(6.5,5))\n",
    "m = Basemap(llcrnrlon=-20,llcrnrlat=30,urcrnrlon=40,urcrnrlat=70,\n",
    "             resolution='i', projection='cyl', lat_0 = 50, lon_0 = 5,ax=ax)\n",
    "\n",
    "m.drawmapboundary(fill_color='aqua')\n",
    "m.fillcontinents(color='w',lake_color='w')\n",
    "m.drawcoastlines(linewidth=.25)\n",
    "m.drawcountries()\n",
    "parallels = np.arange(0.,81,10.)\n",
    "# labels = [left,right,top,bottom]\n",
    "m.drawparallels(parallels,labels=[False,True,True,False])\n",
    "meridians = np.arange(0,361.,20.)\n",
    "m.drawmeridians(meridians,labels=[True,False,False,True])\n",
    "for i in np.arange(len(lats_total)):\n",
    "    draw_screen_poly( lats_total[i], lons_total[i], m )\n",
    "    \n",
    "# for key in labelz:\n",
    "#     lat,lon=labelz[key]\n",
    "#     X,Y = m(lon,lat)\n",
    "#     plt.text(X,Y,key,\n",
    "#              horizontalalignment='center',\n",
    "#             verticalalignment='center',\n",
    "#             fontsize=18,color='r')\n",
    "fig.subplots_adjust(left=0.03,right=0.925,bottom=0.025,top=1)\n",
    "fig.suptitle('Grid boxes Central Europe')\n",
    "# fig.savefig('/media/onno/Algemeen/Thesis/Main_Figures/boex_europe_pres.png',dpi=200)\n",
    "\n",
    "\n"
   ]
  },
  {
   "cell_type": "code",
   "execution_count": 6,
   "metadata": {},
   "outputs": [
    {
     "ename": "NameError",
     "evalue": "name 'sys' is not defined",
     "output_type": "error",
     "traceback": [
      "\u001b[0;31m---------------------------------------------------------------------------\u001b[0m",
      "\u001b[0;31mNameError\u001b[0m                                 Traceback (most recent call last)",
      "\u001b[0;32m<ipython-input-6-e11a5a2ccb32>\u001b[0m in \u001b[0;36m<module>\u001b[0;34m\u001b[0m\n\u001b[1;32m     27\u001b[0m \u001b[0mpoly\u001b[0m \u001b[0;34m=\u001b[0m \u001b[0mPolygon\u001b[0m\u001b[0;34m(\u001b[0m \u001b[0mlist\u001b[0m\u001b[0;34m(\u001b[0m\u001b[0mxy\u001b[0m\u001b[0;34m)\u001b[0m\u001b[0;34m,\u001b[0m \u001b[0medgecolor\u001b[0m\u001b[0;34m=\u001b[0m\u001b[0;34m'red'\u001b[0m\u001b[0;34m,\u001b[0m \u001b[0mfacecolor\u001b[0m\u001b[0;34m=\u001b[0m\u001b[0;34m'none'\u001b[0m\u001b[0;34m,\u001b[0m\u001b[0mlinewidth\u001b[0m\u001b[0;34m=\u001b[0m\u001b[0;36m4\u001b[0m\u001b[0;34m)\u001b[0m\u001b[0;34m\u001b[0m\u001b[0;34m\u001b[0m\u001b[0m\n\u001b[1;32m     28\u001b[0m \u001b[0mplt\u001b[0m\u001b[0;34m.\u001b[0m\u001b[0mgca\u001b[0m\u001b[0;34m(\u001b[0m\u001b[0;34m)\u001b[0m\u001b[0;34m.\u001b[0m\u001b[0madd_patch\u001b[0m\u001b[0;34m(\u001b[0m\u001b[0mpoly\u001b[0m\u001b[0;34m)\u001b[0m\u001b[0;34m\u001b[0m\u001b[0;34m\u001b[0m\u001b[0m\n\u001b[0;32m---> 29\u001b[0;31m \u001b[0msys\u001b[0m\u001b[0;34m.\u001b[0m\u001b[0mexit\u001b[0m\u001b[0;34m(\u001b[0m\u001b[0;34m)\u001b[0m\u001b[0;34m\u001b[0m\u001b[0;34m\u001b[0m\u001b[0m\n\u001b[0m\u001b[1;32m     30\u001b[0m \u001b[0mfig\u001b[0m\u001b[0;34m.\u001b[0m\u001b[0msavefig\u001b[0m\u001b[0;34m(\u001b[0m\u001b[0;34m'/media/onno/Algemeen/Thesis/Main_Figures/box_germany_rwp.png'\u001b[0m\u001b[0;34m,\u001b[0m\u001b[0mdpi\u001b[0m\u001b[0;34m=\u001b[0m\u001b[0;36m200\u001b[0m\u001b[0;34m)\u001b[0m\u001b[0;34m\u001b[0m\u001b[0;34m\u001b[0m\u001b[0m\n",
      "\u001b[0;31mNameError\u001b[0m: name 'sys' is not defined"
     ]
    }
   ],
   "source": [
    "#create map\n",
    "fig,ax=plt.subplots(figsize=(5,5))\n",
    "m = Basemap(llcrnrlon=-20,llcrnrlat=30,urcrnrlon=40.,urcrnrlat=70,\n",
    "             resolution='i', projection='mill', lat_0 = 50, lon_0 = 30,ax=ax)\n",
    "\n",
    "m.drawmapboundary(fill_color='aqua')\n",
    "m.fillcontinents(color='w',lake_color='w')\n",
    "m.drawcoastlines(linewidth=.25)\n",
    "m.drawcountries()\n",
    "parallels = np.arange(0.,81,10.)\n",
    "# labels = [left,right,top,bottom]\n",
    "m.drawparallels(parallels,labels=[False,True,True,False])\n",
    "meridians = np.arange(0,361.,20.)\n",
    "m.drawmeridians(meridians,labels=[True,False,False,True])\n",
    "#add small box\n",
    "lats = [46,54,54,46]\n",
    "lons = [6,6,14,14]\n",
    "x, y = m( lons, lats )\n",
    "xy = zip(x,y)\n",
    "poly = Polygon( list(xy), edgecolor='k', facecolor='none',linewidth=4,linestyle='--')\n",
    "plt.gca().add_patch(poly)\n",
    "#add large box\n",
    "lats = [38,62,62,38]\n",
    "lons = [-2,-2,22,22]\n",
    "x, y = m( lons, lats )\n",
    "xy = zip(x,y)\n",
    "poly = Polygon( list(xy), edgecolor='red', facecolor='none',linewidth=4)\n",
    "plt.gca().add_patch(poly)\n",
    "sys.exit()\n",
    "fig.savefig('/media/onno/Algemeen/Thesis/Main_Figures/box_germany_rwp.png',dpi=200)\n"
   ]
  },
  {
   "cell_type": "code",
   "execution_count": 3,
   "metadata": {},
   "outputs": [],
   "source": [
    "import cartopy.crs as ccrs"
   ]
  },
  {
   "cell_type": "code",
   "execution_count": 5,
   "metadata": {},
   "outputs": [],
   "source": [
    "fig,ax=plt.subplots(subplot_kw=dict(projection=ccrs.PlateCarree()))\n",
    "# ax.coastlines()\n"
   ]
  },
  {
   "cell_type": "code",
   "execution_count": null,
   "metadata": {},
   "outputs": [],
   "source": []
  }
 ],
 "metadata": {
  "kernelspec": {
   "display_name": "Python 3",
   "language": "python",
   "name": "python3"
  },
  "language_info": {
   "codemirror_mode": {
    "name": "ipython",
    "version": 3
   },
   "file_extension": ".py",
   "mimetype": "text/x-python",
   "name": "python",
   "nbconvert_exporter": "python",
   "pygments_lexer": "ipython3",
   "version": "3.8.5"
  }
 },
 "nbformat": 4,
 "nbformat_minor": 5
}
