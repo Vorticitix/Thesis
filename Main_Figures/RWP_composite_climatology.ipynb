{
 "cells": [
  {
   "cell_type": "code",
   "execution_count": 3,
   "id": "civil-classic",
   "metadata": {},
   "outputs": [
    {
     "name": "stdout",
     "output_type": "stream",
     "text": [
      "The autoreload extension is already loaded. To reload it, use:\n",
      "  %reload_ext autoreload\n"
     ]
    }
   ],
   "source": [
    "%load_ext autoreload\n",
    "%autoreload 2\n",
    "%matplotlib qt\n",
    "import xarray as xr\n",
    "import numpy as np\n",
    "import pandas as pd\n",
    "from matplotlib import pyplot as plt\n",
    "from glob import glob\n",
    "#set path for my_tools script\n",
    "import sys\n",
    "sys.path.append('/home/onno/Thesis/Scripts')\n",
    "import my_tools\n",
    "from cmap import ncl_colormap\n",
    "from my_tools import file_dic, plot_dic\n",
    "import matplotlib.ticker as plticker\n",
    "from mpl_toolkits.basemap import Basemap, addcyclic"
   ]
  },
  {
   "cell_type": "code",
   "execution_count": 4,
   "id": "alleged-static",
   "metadata": {},
   "outputs": [],
   "source": [
    "path = '/media/onno/Algemeen/Thesis/'"
   ]
  },
  {
   "cell_type": "code",
   "execution_count": 5,
   "id": "postal-belize",
   "metadata": {},
   "outputs": [],
   "source": [
    "#list filenames\n",
    "file_pers_hw = 'GFS_T850/persistent_hw_lon_6_12_lat_52_46.npy'\n",
    "file_pers_cw = 'GFS_T850/persistent_cw_lon_6_12_lat_52_46.npy'\n",
    "file_short_hw = 'GFS_T850/short_hw_lon_6_12_lat_52_46.npy'\n",
    "file_short_cw = 'GFS_T850/short_cw_lon_6_12_lat_52_46.npy'\n",
    "file_ind_short_hw = 'GFS_T850/independent_short_hw_lon_6_12_lat_52_46.npy'\n",
    "file_ind_short_cw = 'GFS_T850/independent_short_cw_lon_6_12_lat_52_46.npy'\n",
    "\n",
    "#open numpy array with extreme events\n",
    "pers_hw = np.load(path+file_pers_hw)\n",
    "pers_cw = np.load(path+file_pers_cw)\n",
    "ind_short_hw = np.load(path+file_ind_short_hw)\n",
    "ind_short_cw = np.load(path+file_ind_short_cw)\n",
    "#load independent short extremes only\n",
    "short_hw = np.load(path+file_short_hw)[ind_short_hw,:]\n",
    "short_cw = np.load(path+file_short_cw)[ind_short_cw,:]\n",
    "\n"
   ]
  },
  {
   "cell_type": "code",
   "execution_count": 16,
   "id": "convertible-capital",
   "metadata": {},
   "outputs": [],
   "source": [
    "file_env = 'era51_mars_env_wledit2000-10000_latavg_v300_79-19_6hourly_smoothed.nc'\n",
    "file_cp = 'era51_mars_phasevel_wledit2000-10000_latavg_v300_envgt15_79-19_6hourly_setvrange_-100to100.nc'\n",
    "file_t850 = 'era51_mars_t850_79-19_6hourly_anom_from_smoothed04_clim.nc'\n",
    "file_v300 = 'era51_mars_v300_wledit2000-10000_latavg_79-19_6hourly.nc'\n",
    "file_z500 = 'era51_mars_phi500_79-19_6hourly.nc'\n",
    "file_mslp = 'era5_mslp_79-19_6hourly_remapbil2x2.nc'\n",
    "\n",
    "era_env = xr.open_dataset(path+file_env)\n",
    "era_cp = xr.open_dataset(path+file_cp)\n",
    "era_v300 = xr.open_dataset(path+file_v300)\n",
    "era_z500 = xr.open_dataset(path+file_z500)\n",
    "era_mslp = xr.open_dataset(path+file_mslp)\n",
    "era_t850 = xr.open_dataset(path+file_t850)"
   ]
  },
  {
   "cell_type": "markdown",
   "id": "fantastic-portfolio",
   "metadata": {},
   "source": [
    "Composite Event onset only"
   ]
  },
  {
   "cell_type": "code",
   "execution_count": 11,
   "id": "premier-estimate",
   "metadata": {},
   "outputs": [
    {
     "name": "stderr",
     "output_type": "stream",
     "text": [
      "/home/onno/.local/lib/python3.6/site-packages/mpl_toolkits/basemap/__init__.py:5133: FutureWarning: Using a non-tuple sequence for multidimensional indexing is deprecated; use `arr[tuple(seq)]` instead of `arr[seq]`. In the future this will be interpreted as an array index, `arr[np.array(seq)]`, which will result either in an error or a different result.\n",
      "  return npsel.concatenate((a,a[slicer]),axis=axis)\n",
      "/home/onno/.local/lib/python3.6/site-packages/mpl_toolkits/basemap/__init__.py:5133: FutureWarning: Using a non-tuple sequence for multidimensional indexing is deprecated; use `arr[tuple(seq)]` instead of `arr[seq]`. In the future this will be interpreted as an array index, `arr[np.array(seq)]`, which will result either in an error or a different result.\n",
      "  return npsel.concatenate((a,a[slicer]),axis=axis)\n",
      "/home/onno/.local/lib/python3.6/site-packages/mpl_toolkits/basemap/__init__.py:5133: FutureWarning: Using a non-tuple sequence for multidimensional indexing is deprecated; use `arr[tuple(seq)]` instead of `arr[seq]`. In the future this will be interpreted as an array index, `arr[np.array(seq)]`, which will result either in an error or a different result.\n",
      "  return npsel.concatenate((a,a[slicer]),axis=axis)\n",
      "/home/onno/.local/lib/python3.6/site-packages/mpl_toolkits/basemap/__init__.py:5133: FutureWarning: Using a non-tuple sequence for multidimensional indexing is deprecated; use `arr[tuple(seq)]` instead of `arr[seq]`. In the future this will be interpreted as an array index, `arr[np.array(seq)]`, which will result either in an error or a different result.\n",
      "  return npsel.concatenate((a,a[slicer]),axis=axis)\n"
     ]
    }
   ],
   "source": [
    "#define color map\n",
    "cmap = ncl_colormap()\n",
    "#Define axis labels\n",
    "extreme_labelz = ['Persistent Warm Extremes','Persistent Cold Extremes',\n",
    "                 'Short-Lived Warm Extremes','Short-Lived Cold Extremes']\n",
    "#Put all extreme dates in list to loop over them\n",
    "extremez = [pers_hw,pers_cw,short_hw,short_cw]\n",
    "#Create 2x2 figure \n",
    "fig,axz = plt.subplots(2,2,figsize=(8,7))\n",
    "for i in range(4):\n",
    "    #select figure axis\n",
    "    ax = axz.flat[i]\n",
    "    #Pick relevant dates and only event onsets\n",
    "    datez = extremez[i][:,0]\n",
    "    #make composite analysis by averaging over all event onsets\n",
    "    ds_env = era_env.sel(time=datez,latitude=slice(85,0)).mean(dim='time').squeeze()\n",
    "    ds_cp = era_cp.sel(time=datez,latitude=slice(85,0)).mean(dim='time').squeeze()\n",
    "    #create cyclic dataset\n",
    "    ds_env_cyclic, lon_env_cyclic = addcyclic(ds_env.v.values, ds_env.longitude)\n",
    "    ds_cp_cyclic, lon_cp_cyclic = addcyclic(ds_cp.v.values, ds_cp.longitude)\n",
    "    lon,lat = np.meshgrid(lon_env_cyclic,ds_env.latitude)\n",
    "    #draw map with lambert projection\n",
    "    m = Basemap(projection='lcc',lat_0=50,lon_0=10,resolution='c',ax=ax,\n",
    "                llcrnrlon=-40,llcrnrlat=15,urcrnrlon=90,urcrnrlat=75)\n",
    "    #draw contour with contour lines\n",
    "    im = m.contourf(lon,lat,ds_cp_cyclic,latlon='true', extend='both', cmap=cmap,\n",
    "                   vmin=0,vmax=10,levels=np.linspace(0,10,101))\n",
    "    cs = m.contour(lon,lat,ds_env_cyclic,latlon='true',colors='dimgrey',levels=np.linspace(0,60,21))\n",
    "    #draw contour line labels\n",
    "    ax.clabel(cs,inline=True,fmt='%2.0f',colors='k')\n",
    "    #set axis titles\n",
    "    ax.set_title(extreme_labelz[i])\n",
    "    #draw continents\n",
    "    m.drawcoastlines()\n",
    "\n",
    "#create extra axis for color bar and draw color bar\n",
    "cbax = fig.add_axes([0.2,0.07,0.6,0.015])\n",
    "\n",
    "cbar = fig.colorbar(im,cax=cbax,orientation='horizontal',ticks=np.linspace(0,10,11))\n",
    "cbar.set_label('Cp (m/s)')\n",
    "fig.subplots_adjust(left=0.025,right=0.975,top=0.95,bottom=0.105,wspace=0.05,hspace=0.15)     \n",
    "fig.savefig(path+'Main_Figures/composite_env_cp_onset')\n",
    "plt.close(fig)\n",
    "    \n",
    "    "
   ]
  },
  {
   "cell_type": "markdown",
   "id": "approximate-commercial",
   "metadata": {},
   "source": [
    "Composite complete event"
   ]
  },
  {
   "cell_type": "code",
   "execution_count": 14,
   "id": "operating-audit",
   "metadata": {},
   "outputs": [
    {
     "name": "stderr",
     "output_type": "stream",
     "text": [
      "/home/onno/.local/lib/python3.6/site-packages/mpl_toolkits/basemap/__init__.py:5133: FutureWarning: Using a non-tuple sequence for multidimensional indexing is deprecated; use `arr[tuple(seq)]` instead of `arr[seq]`. In the future this will be interpreted as an array index, `arr[np.array(seq)]`, which will result either in an error or a different result.\n",
      "  return npsel.concatenate((a,a[slicer]),axis=axis)\n",
      "/home/onno/.local/lib/python3.6/site-packages/mpl_toolkits/basemap/__init__.py:5133: FutureWarning: Using a non-tuple sequence for multidimensional indexing is deprecated; use `arr[tuple(seq)]` instead of `arr[seq]`. In the future this will be interpreted as an array index, `arr[np.array(seq)]`, which will result either in an error or a different result.\n",
      "  return npsel.concatenate((a,a[slicer]),axis=axis)\n",
      "/home/onno/.local/lib/python3.6/site-packages/mpl_toolkits/basemap/__init__.py:5133: FutureWarning: Using a non-tuple sequence for multidimensional indexing is deprecated; use `arr[tuple(seq)]` instead of `arr[seq]`. In the future this will be interpreted as an array index, `arr[np.array(seq)]`, which will result either in an error or a different result.\n",
      "  return npsel.concatenate((a,a[slicer]),axis=axis)\n",
      "/home/onno/.local/lib/python3.6/site-packages/mpl_toolkits/basemap/__init__.py:5133: FutureWarning: Using a non-tuple sequence for multidimensional indexing is deprecated; use `arr[tuple(seq)]` instead of `arr[seq]`. In the future this will be interpreted as an array index, `arr[np.array(seq)]`, which will result either in an error or a different result.\n",
      "  return npsel.concatenate((a,a[slicer]),axis=axis)\n"
     ]
    }
   ],
   "source": [
    "#define color map\n",
    "cmap = ncl_colormap()\n",
    "#Define axis labels\n",
    "extreme_labelz = ['Persistent Warm Extremes','Persistent Cold Extremes',\n",
    "                 'Short-Lived Warm Extremes','Short-Lived Cold Extremes']\n",
    "#Put all extreme dates in list to loop over them\n",
    "extremez = [pers_hw,pers_cw,short_hw,short_cw]\n",
    "#Create 2x2 figure \n",
    "fig,axz = plt.subplots(2,2,figsize=(8,7))\n",
    "for i in range(4):\n",
    "    #select figure axis\n",
    "    ax = axz.flat[i]\n",
    "    #Pick relevant dates and only event onsets\n",
    "    datez = extremez[i]\n",
    "    #make composite analysis by averaging over all event onsets\n",
    "    ds_env_list = []\n",
    "    ds_cp_list = []\n",
    "    for date in datez:\n",
    "        ds_env_sub = era_env.sel(time=slice(date[0],date[1]),latitude=slice(85,0)).squeeze()\n",
    "        ds_cp_sub = era_cp.sel(time=slice(date[0],date[1]),latitude=slice(85,0)).squeeze()\n",
    "        ds_env_list.append(ds_env_sub)\n",
    "        ds_cp_list.append(ds_cp_sub)\n",
    "    ds_env = xr.concat(ds_env_list,dim='time').mean(dim='time')\n",
    "    ds_cp = xr.concat(ds_cp_list,dim='time').mean(dim='time')\n",
    "    #create cyclic dataset\n",
    "    ds_env_cyclic, lon_env_cyclic = addcyclic(ds_env.v.values, ds_env.longitude)\n",
    "    ds_cp_cyclic, lon_cp_cyclic = addcyclic(ds_cp.v.values, ds_cp.longitude)\n",
    "    lon,lat = np.meshgrid(lon_env_cyclic,ds_env.latitude)\n",
    "    #Draw map with lambert projection\n",
    "    m = Basemap(projection='lcc',lat_0=50,lon_0=10,resolution='c',ax=ax,\n",
    "                llcrnrlon=-40,llcrnrlat=15,urcrnrlon=90,urcrnrlat=75)\n",
    "    #draw contour with contour lines\n",
    "    im = m.contourf(lon,lat,ds_cp_cyclic,latlon='true', extend='both', cmap=cmap,\n",
    "                   vmin=0,vmax=10,levels=np.linspace(0,10,101))\n",
    "    cs = m.contour(lon,lat,ds_env_cyclic,latlon='true',colors='dimgrey',levels=np.linspace(0,60,21))\n",
    "    #draw contour line labels\n",
    "    ax.clabel(cs,inline=True,fmt='%2.0f',colors='k')\n",
    "    #set axis titles\n",
    "    ax.set_title(extreme_labelz[i])\n",
    "    #draw continents\n",
    "    m.drawcoastlines()\n",
    "\n",
    "#create extra axis for color bar and draw color bar\n",
    "cbax = fig.add_axes([0.2,0.07,0.6,0.015])\n",
    "\n",
    "cbar = fig.colorbar(im,cax=cbax,orientation='horizontal',ticks=np.linspace(0,10,11))\n",
    "cbar.set_label('Cp (m/s)')\n",
    "fig.subplots_adjust(left=0.025,right=0.975,top=0.95,bottom=0.105,wspace=0.05,hspace=0.15)     \n",
    "fig.savefig(path+'Main_Figures/composite_env_cp_all')\n",
    "plt.close(fig)\n"
   ]
  },
  {
   "cell_type": "markdown",
   "id": "jewish-adventure",
   "metadata": {},
   "source": [
    "Composite event middle event day only "
   ]
  },
  {
   "cell_type": "code",
   "execution_count": 15,
   "id": "quality-remains",
   "metadata": {},
   "outputs": [
    {
     "name": "stderr",
     "output_type": "stream",
     "text": [
      "/home/onno/.local/lib/python3.6/site-packages/mpl_toolkits/basemap/__init__.py:5133: FutureWarning: Using a non-tuple sequence for multidimensional indexing is deprecated; use `arr[tuple(seq)]` instead of `arr[seq]`. In the future this will be interpreted as an array index, `arr[np.array(seq)]`, which will result either in an error or a different result.\n",
      "  return npsel.concatenate((a,a[slicer]),axis=axis)\n",
      "/home/onno/.local/lib/python3.6/site-packages/mpl_toolkits/basemap/__init__.py:5133: FutureWarning: Using a non-tuple sequence for multidimensional indexing is deprecated; use `arr[tuple(seq)]` instead of `arr[seq]`. In the future this will be interpreted as an array index, `arr[np.array(seq)]`, which will result either in an error or a different result.\n",
      "  return npsel.concatenate((a,a[slicer]),axis=axis)\n",
      "/home/onno/.local/lib/python3.6/site-packages/mpl_toolkits/basemap/__init__.py:5133: FutureWarning: Using a non-tuple sequence for multidimensional indexing is deprecated; use `arr[tuple(seq)]` instead of `arr[seq]`. In the future this will be interpreted as an array index, `arr[np.array(seq)]`, which will result either in an error or a different result.\n",
      "  return npsel.concatenate((a,a[slicer]),axis=axis)\n",
      "/home/onno/.local/lib/python3.6/site-packages/mpl_toolkits/basemap/__init__.py:5133: FutureWarning: Using a non-tuple sequence for multidimensional indexing is deprecated; use `arr[tuple(seq)]` instead of `arr[seq]`. In the future this will be interpreted as an array index, `arr[np.array(seq)]`, which will result either in an error or a different result.\n",
      "  return npsel.concatenate((a,a[slicer]),axis=axis)\n"
     ]
    }
   ],
   "source": [
    "#define color map\n",
    "cmap = ncl_colormap()\n",
    "#Define axis labels\n",
    "extreme_labelz = ['Persistent Warm Extremes','Persistent Cold Extremes',\n",
    "                 'Short-Lived Warm Extremes','Short-Lived Cold Extremes']\n",
    "#Put all extreme dates in list to loop over them\n",
    "extremez = [pers_hw,pers_cw,short_hw,short_cw]\n",
    "#Create 2x2 figure \n",
    "fig,axz = plt.subplots(2,2,figsize=(8,7))\n",
    "for i in range(4):\n",
    "    #select figure axis\n",
    "    ax = axz.flat[i]\n",
    "    #Pick relevant dates and only event onsets\n",
    "    datez = extremez[i]\n",
    "    datez_middle = [datez[i,0]+((datez[i,1]+pd.Timedelta(1,'days'))-datez[i,0])/2 for i in range(len(datez))]\n",
    "    #make composite analysis by averaging over all event onsets\n",
    "    ds_env = era_env.sel(time=datez_middle,latitude=slice(85,0)).mean(dim='time').squeeze()\n",
    "    ds_cp = era_cp.sel(time=datez_middle,latitude=slice(85,0)).mean(dim='time').squeeze()\n",
    "    #create cyclic dataset\n",
    "    ds_env_cyclic, lon_env_cyclic = addcyclic(ds_env.v.values, ds_env.longitude)\n",
    "    ds_cp_cyclic, lon_cp_cyclic = addcyclic(ds_cp.v.values, ds_cp.longitude)\n",
    "    lon,lat = np.meshgrid(lon_env_cyclic,ds_env.latitude)\n",
    "    m = Basemap(projection='lcc',lat_0=50,lon_0=10,resolution='c',ax=ax,\n",
    "                llcrnrlon=-40,llcrnrlat=15,urcrnrlon=90,urcrnrlat=75)\n",
    "    #Draw contour plot with contour lines\n",
    "    im = m.contourf(lon,lat,ds_cp_cyclic,latlon='true', extend='both', cmap=cmap,\n",
    "                   vmin=0,vmax=10,levels=np.linspace(0,10,101))\n",
    "    cs = m.contour(lon,lat,ds_env_cyclic,latlon='true',colors='dimgrey',levels=np.linspace(0,60,21))\n",
    "    #draw contour line labels\n",
    "    ax.clabel(cs,inline=True,fmt='%2.0f',colors='k')\n",
    "    #set axis titles\n",
    "    ax.set_title(extreme_labelz[i])\n",
    "    #draw continents\n",
    "    m.drawcoastlines()\n",
    "\n",
    "#create extra axis for color bar and draw color bar\n",
    "cbax = fig.add_axes([0.2,0.07,0.6,0.015])\n",
    "\n",
    "cbar = fig.colorbar(im,cax=cbax,orientation='horizontal',ticks=np.linspace(0,10,11))\n",
    "cbar.set_label('Cp (m/s)')\n",
    "fig.subplots_adjust(left=0.025,right=0.975,top=0.95,bottom=0.105,wspace=0.05,hspace=0.15)         \n",
    "fig.savefig(path+'Main_Figures/composite_env_cp_middle')\n",
    "plt.close(fig)\n",
    "      \n",
    "    "
   ]
  },
  {
   "cell_type": "markdown",
   "id": "tough-essay",
   "metadata": {},
   "source": [
    "Plot temperature anomalie with 300 hpa meridional wind"
   ]
  },
  {
   "cell_type": "code",
   "execution_count": 21,
   "id": "specific-stock",
   "metadata": {},
   "outputs": [
    {
     "name": "stderr",
     "output_type": "stream",
     "text": [
      "/home/onno/.local/lib/python3.6/site-packages/mpl_toolkits/basemap/__init__.py:5133: FutureWarning: Using a non-tuple sequence for multidimensional indexing is deprecated; use `arr[tuple(seq)]` instead of `arr[seq]`. In the future this will be interpreted as an array index, `arr[np.array(seq)]`, which will result either in an error or a different result.\n",
      "  return npsel.concatenate((a,a[slicer]),axis=axis)\n",
      "/home/onno/.local/lib/python3.6/site-packages/mpl_toolkits/basemap/__init__.py:5133: FutureWarning: Using a non-tuple sequence for multidimensional indexing is deprecated; use `arr[tuple(seq)]` instead of `arr[seq]`. In the future this will be interpreted as an array index, `arr[np.array(seq)]`, which will result either in an error or a different result.\n",
      "  return npsel.concatenate((a,a[slicer]),axis=axis)\n",
      "/home/onno/.local/lib/python3.6/site-packages/mpl_toolkits/basemap/__init__.py:5133: FutureWarning: Using a non-tuple sequence for multidimensional indexing is deprecated; use `arr[tuple(seq)]` instead of `arr[seq]`. In the future this will be interpreted as an array index, `arr[np.array(seq)]`, which will result either in an error or a different result.\n",
      "  return npsel.concatenate((a,a[slicer]),axis=axis)\n",
      "/home/onno/.local/lib/python3.6/site-packages/mpl_toolkits/basemap/__init__.py:5133: FutureWarning: Using a non-tuple sequence for multidimensional indexing is deprecated; use `arr[tuple(seq)]` instead of `arr[seq]`. In the future this will be interpreted as an array index, `arr[np.array(seq)]`, which will result either in an error or a different result.\n",
      "  return npsel.concatenate((a,a[slicer]),axis=axis)\n"
     ]
    }
   ],
   "source": [
    "#define color map\n",
    "cmap = ncl_colormap()\n",
    "#Define axis labels\n",
    "extreme_labelz = ['Persistent Warm Extremes','Persistent Cold Extremes',\n",
    "                 'Short-Lived Warm Extremes','Short-Lived Cold Extremes']\n",
    "#Put all extreme dates in list to loop over them\n",
    "extremez = [pers_hw,pers_cw,short_hw,short_cw]\n",
    "#Create 2x2 figure \n",
    "fig,axz = plt.subplots(2,2,figsize=(8,7))\n",
    "for i in range(4):\n",
    "    #select figure axis\n",
    "    ax = axz.flat[i]\n",
    "    #Pick relevant dates and only event onsets\n",
    "    datez = extremez[i][:,0]\n",
    "    #make composite analysis by averaging over all event onsets\n",
    "    ds_t850 = era_t850.sel(time=datez,latitude=slice(85,0)).mean(dim='time').squeeze()\n",
    "    ds_v300 = era_v300.sel(time=datez,latitude=slice(85,0)).mean(dim='time').squeeze()\n",
    "    #create cyclic dataset\n",
    "    ds_t850_cyclic, lon_t850_cyclic = addcyclic(ds_t850.t.values, ds_t850.longitude)\n",
    "    ds_v300_cyclic, lon_v300_cyclic = addcyclic(ds_v300.v.values, ds_v300.longitude)\n",
    "    lon,lat = np.meshgrid(lon_t850_cyclic,ds_t850.latitude)\n",
    "    #create map with lambert projection\n",
    "    m = Basemap(projection='lcc',lat_0=50,lon_0=10,resolution='c',ax=ax,\n",
    "                llcrnrlon=-40,llcrnrlat=15,urcrnrlon=90,urcrnrlat=75)\n",
    "    im = m.contourf(lon,lat,ds_t850_cyclic,latlon='true', extend='both', cmap='bwr',\n",
    "                   vmin=-10,vmax=10,levels=np.linspace(-10,10,201))\n",
    "    #create contour labels\n",
    "    cs = m.contour(lon,lat,ds_v300_cyclic,latlon='true',colors='dimgrey',levels=np.linspace(-40,40,21))\n",
    "    ax.clabel(cs,inline=True,fmt='%2.0f',colors='k')\n",
    "    ax.set_title(extreme_labelz[i])\n",
    "    #draw continents\n",
    "    m.drawcoastlines()\n",
    "\n",
    "#make room for colorbar and create one\n",
    "cbax = fig.add_axes([0.2,0.07,0.6,0.015])\n",
    "\n",
    "cbar = fig.colorbar(im,cax=cbax,orientation='horizontal',ticks=np.linspace(-10,10,5))\n",
    "cbar.set_label('850 hPa temperature Anomaly (K)')\n",
    "fig.subplots_adjust(left=0.025,right=0.975,top=0.95,bottom=0.105,wspace=0.05,hspace=0.15)     \n",
    "fig.savefig(path+'Main_Figures/composite_t850_v300_onset')\n",
    "plt.close(fig)\n",
    "    \n",
    "    "
   ]
  },
  {
   "cell_type": "markdown",
   "id": "soviet-observation",
   "metadata": {},
   "source": [
    "Plot temperature anomalie with 300 hpa meridional wind"
   ]
  },
  {
   "cell_type": "code",
   "execution_count": 22,
   "id": "guilty-system",
   "metadata": {},
   "outputs": [
    {
     "name": "stderr",
     "output_type": "stream",
     "text": [
      "/home/onno/.local/lib/python3.6/site-packages/mpl_toolkits/basemap/__init__.py:5133: FutureWarning: Using a non-tuple sequence for multidimensional indexing is deprecated; use `arr[tuple(seq)]` instead of `arr[seq]`. In the future this will be interpreted as an array index, `arr[np.array(seq)]`, which will result either in an error or a different result.\n",
      "  return npsel.concatenate((a,a[slicer]),axis=axis)\n",
      "/home/onno/.local/lib/python3.6/site-packages/mpl_toolkits/basemap/__init__.py:5133: FutureWarning: Using a non-tuple sequence for multidimensional indexing is deprecated; use `arr[tuple(seq)]` instead of `arr[seq]`. In the future this will be interpreted as an array index, `arr[np.array(seq)]`, which will result either in an error or a different result.\n",
      "  return npsel.concatenate((a,a[slicer]),axis=axis)\n",
      "/home/onno/.local/lib/python3.6/site-packages/mpl_toolkits/basemap/__init__.py:5133: FutureWarning: Using a non-tuple sequence for multidimensional indexing is deprecated; use `arr[tuple(seq)]` instead of `arr[seq]`. In the future this will be interpreted as an array index, `arr[np.array(seq)]`, which will result either in an error or a different result.\n",
      "  return npsel.concatenate((a,a[slicer]),axis=axis)\n",
      "/home/onno/.local/lib/python3.6/site-packages/mpl_toolkits/basemap/__init__.py:5133: FutureWarning: Using a non-tuple sequence for multidimensional indexing is deprecated; use `arr[tuple(seq)]` instead of `arr[seq]`. In the future this will be interpreted as an array index, `arr[np.array(seq)]`, which will result either in an error or a different result.\n",
      "  return npsel.concatenate((a,a[slicer]),axis=axis)\n"
     ]
    }
   ],
   "source": [
    "#define color map\n",
    "cmap = ncl_colormap()\n",
    "#Define axis labels\n",
    "extreme_labelz = ['Persistent Warm Extremes','Persistent Cold Extremes',\n",
    "                 'Short-Lived Warm Extremes','Short-Lived Cold Extremes']\n",
    "#Put all extreme dates in list to loop over them\n",
    "extremez = [pers_hw,pers_cw,short_hw,short_cw]\n",
    "#Create 2x2 figure \n",
    "fig,axz = plt.subplots(2,2,figsize=(8,7))\n",
    "for i in range(4):\n",
    "    #select figure axis\n",
    "    ax = axz.flat[i]\n",
    "    #Pick relevant dates and only event onsets\n",
    "    datez = extremez[i]\n",
    "    datez_middle = [datez[i,0]+((datez[i,1]+pd.Timedelta(1,'days'))-datez[i,0])/2 for i in range(len(datez))]\n",
    "    #make composite analysis by averaging over all event onsets\n",
    "    ds_t850 = era_t850.sel(time=datez_middle,latitude=slice(85,0)).mean(dim='time').squeeze()\n",
    "    ds_v300 = era_v300.sel(time=datez_middle,latitude=slice(85,0)).mean(dim='time').squeeze()\n",
    "    #create cyclic dataset\n",
    "    ds_t850_cyclic, lon_t850_cyclic = addcyclic(ds_t850.t.values, ds_t850.longitude)\n",
    "    ds_v300_cyclic, lon_v300_cyclic = addcyclic(ds_v300.v.values, ds_v300.longitude)\n",
    "    lon,lat = np.meshgrid(lon_t850_cyclic,ds_t850.latitude)\n",
    "    #create map with lambert projection\n",
    "    m = Basemap(projection='lcc',lat_0=50,lon_0=10,resolution='c',ax=ax,\n",
    "                llcrnrlon=-40,llcrnrlat=15,urcrnrlon=90,urcrnrlat=75)\n",
    "    im = m.contourf(lon,lat,ds_t850_cyclic,latlon='true', extend='both', cmap='bwr',\n",
    "                   vmin=-10,vmax=10,levels=np.linspace(-10,10,201))\n",
    "    #create contour labels\n",
    "    cs = m.contour(lon,lat,ds_v300_cyclic,latlon='true',colors='dimgrey',levels=np.linspace(-40,40,21))\n",
    "    ax.clabel(cs,inline=True,fmt='%2.0f',colors='k')\n",
    "    ax.set_title(extreme_labelz[i])\n",
    "    #draw continents\n",
    "    m.drawcoastlines()\n",
    "\n",
    "#make room for colorbar and create one\n",
    "cbax = fig.add_axes([0.2,0.07,0.6,0.015])\n",
    "\n",
    "cbar = fig.colorbar(im,cax=cbax,orientation='horizontal',ticks=np.linspace(-10,10,5))\n",
    "cbar.set_label('850 hPa temperature Anomaly (K)')\n",
    "fig.subplots_adjust(left=0.025,right=0.975,top=0.95,bottom=0.105,wspace=0.05,hspace=0.15)     \n",
    "fig.savefig(path+'Main_Figures/composite_t850_v300_middle')\n",
    "plt.close(fig)\n",
    "    \n",
    "    "
   ]
  },
  {
   "cell_type": "code",
   "execution_count": null,
   "id": "involved-nutrition",
   "metadata": {},
   "outputs": [],
   "source": []
  },
  {
   "cell_type": "code",
   "execution_count": 32,
   "id": "warming-carolina",
   "metadata": {},
   "outputs": [
    {
     "name": "stderr",
     "output_type": "stream",
     "text": [
      "/home/onno/.local/lib/python3.6/site-packages/mpl_toolkits/basemap/__init__.py:5133: FutureWarning: Using a non-tuple sequence for multidimensional indexing is deprecated; use `arr[tuple(seq)]` instead of `arr[seq]`. In the future this will be interpreted as an array index, `arr[np.array(seq)]`, which will result either in an error or a different result.\n",
      "  return npsel.concatenate((a,a[slicer]),axis=axis)\n",
      "/home/onno/.local/lib/python3.6/site-packages/mpl_toolkits/basemap/__init__.py:5133: FutureWarning: Using a non-tuple sequence for multidimensional indexing is deprecated; use `arr[tuple(seq)]` instead of `arr[seq]`. In the future this will be interpreted as an array index, `arr[np.array(seq)]`, which will result either in an error or a different result.\n",
      "  return npsel.concatenate((a,a[slicer]),axis=axis)\n",
      "/home/onno/.local/lib/python3.6/site-packages/mpl_toolkits/basemap/__init__.py:5133: FutureWarning: Using a non-tuple sequence for multidimensional indexing is deprecated; use `arr[tuple(seq)]` instead of `arr[seq]`. In the future this will be interpreted as an array index, `arr[np.array(seq)]`, which will result either in an error or a different result.\n",
      "  return npsel.concatenate((a,a[slicer]),axis=axis)\n",
      "/home/onno/.local/lib/python3.6/site-packages/mpl_toolkits/basemap/__init__.py:5133: FutureWarning: Using a non-tuple sequence for multidimensional indexing is deprecated; use `arr[tuple(seq)]` instead of `arr[seq]`. In the future this will be interpreted as an array index, `arr[np.array(seq)]`, which will result either in an error or a different result.\n",
      "  return npsel.concatenate((a,a[slicer]),axis=axis)\n"
     ]
    }
   ],
   "source": [
    "#define color map\n",
    "cmap = ncl_colormap()\n",
    "#Define axis labels\n",
    "extreme_labelz = ['Persistent Warm Extremes','Persistent Cold Extremes',\n",
    "                 'Short-Lived Warm Extremes','Short-Lived Cold Extremes']\n",
    "#Put all extreme dates in list to loop over them\n",
    "extremez = [pers_hw,pers_cw,short_hw,short_cw]\n",
    "#Create 2x2 figure \n",
    "fig,axz = plt.subplots(2,2,figsize=(8,7))\n",
    "for i in range(4):\n",
    "    #select figure axis\n",
    "    ax = axz.flat[i]\n",
    "    #Pick relevant dates and only event onsets\n",
    "    datez = extremez[i]\n",
    "    datez_middle = [datez[i,0]+((datez[i,1]+pd.Timedelta(1,'days'))-datez[i,0])/2 for i in range(len(datez))]\n",
    "    #make composite analysis by averaging over all event onsets\n",
    "    ds_t850 = era_t850.sel(time=datez_middle,latitude=slice(85,0)).mean(dim='time').squeeze()\n",
    "    ds_z500 = era_z500.sel(time=datez_middle,latitude=slice(85,0)).mean(dim='time').squeeze()\n",
    "    #create cyclic dataset\n",
    "    ds_t850_cyclic, lon_t850_cyclic = addcyclic(ds_t850.t.values, ds_t850.longitude)\n",
    "    #Divide 500 hPa geopential height by 100 to gain dam\n",
    "    ds_z500_cyclic, lon_z500_cyclic = addcyclic(ds_z500.z.values/100, ds_z500.longitude)\n",
    "    lon,lat = np.meshgrid(lon_t850_cyclic,ds_t850.latitude)\n",
    "    #create map with lambert projection\n",
    "    m = Basemap(projection='lcc',lat_0=50,lon_0=10,resolution='c',ax=ax,\n",
    "                llcrnrlon=-40,llcrnrlat=15,urcrnrlon=90,urcrnrlat=75)\n",
    "    im = m.contourf(lon,lat,ds_t850_cyclic,latlon='true', extend='both', cmap='bwr',\n",
    "                   vmin=-10,vmax=10,levels=np.linspace(-10,10,201))\n",
    "    #create contour labels\n",
    "    cs = m.contour(lon,lat,ds_z500_cyclic,latlon='true',colors='dimgrey',levels=np.linspace(400,600,41))\n",
    "    ax.clabel(cs,inline=True,fmt='%2.0f',colors='k')\n",
    "    ax.set_title(extreme_labelz[i])\n",
    "    #draw continents\n",
    "    m.drawcoastlines()\n",
    "\n",
    "#make room for colorbar and create one\n",
    "cbax = fig.add_axes([0.2,0.07,0.6,0.015])\n",
    "\n",
    "cbar = fig.colorbar(im,cax=cbax,orientation='horizontal',ticks=np.linspace(-10,10,5))\n",
    "cbar.set_label('850 hPa temperature Anomaly (K)')\n",
    "fig.subplots_adjust(left=0.025,right=0.975,top=0.95,bottom=0.105,wspace=0.05,hspace=0.15)     \n",
    "fig.savefig(path+'Main_Figures/composite_t850_z500_middle')\n",
    "plt.close(fig)\n",
    "    \n",
    "    "
   ]
  },
  {
   "cell_type": "code",
   "execution_count": null,
   "id": "passive-budget",
   "metadata": {},
   "outputs": [],
   "source": []
  }
 ],
 "metadata": {
  "kernelspec": {
   "display_name": "Python 3",
   "language": "python",
   "name": "python3"
  },
  "language_info": {
   "codemirror_mode": {
    "name": "ipython",
    "version": 3
   },
   "file_extension": ".py",
   "mimetype": "text/x-python",
   "name": "python",
   "nbconvert_exporter": "python",
   "pygments_lexer": "ipython3",
   "version": "3.6.12"
  }
 },
 "nbformat": 4,
 "nbformat_minor": 5
}
