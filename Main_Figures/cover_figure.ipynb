{
 "cells": [
  {
   "cell_type": "code",
   "execution_count": 81,
   "id": "fifteen-civilization",
   "metadata": {},
   "outputs": [],
   "source": [
    "import xarray as xr\n",
    "from matplotlib import pyplot as plt\n",
    "import pandas as pd\n",
    "import numpy as np\n",
    "%matplotlib qt"
   ]
  },
  {
   "cell_type": "code",
   "execution_count": 2,
   "id": "mathematical-thousand",
   "metadata": {},
   "outputs": [],
   "source": [
    "path = '/media/onno/Algemeen/Thesis/'\n",
    "era_t850 = xr.open_dataset(path+'era51_mars_t850_79-19_6hourly_anom_from_smoothed04_clim.nc')\n",
    "era_z500 = xr.open_dataset(path+'era51_mars_phi500_79-19_6hourly.nc')\n",
    "era_u300 = xr.open_dataset(path+'era51_mars_u300_79-19_6hourly.nc')\n",
    "era_v300 = xr.open_dataset(path+'era51_mars_v300_79-19_6hourly.nc')\n",
    "\n"
   ]
  },
  {
   "cell_type": "code",
   "execution_count": 83,
   "id": "ruled-council",
   "metadata": {},
   "outputs": [
    {
     "name": "stderr",
     "output_type": "stream",
     "text": [
      "/home/onno/miniconda3/envs/thesis/lib/python3.6/site-packages/ipykernel_launcher.py:9: RuntimeWarning: invalid value encountered in sqrt\n",
      "  if __name__ == '__main__':\n"
     ]
    }
   ],
   "source": [
    "date = pd.Timestamp('2019-10-26')\n",
    "lat = slice(75,20)\n",
    "lon = slice(110,250)\n",
    "t850 = era_t850.sel(time=date,latitude=lat,longitude=lon)\n",
    "z500 = era_z500.sel(time=date,latitude=lat,longitude=lon)\n",
    "u300 = era_u300.sel(time=date,latitude=lat,longitude=lon).squeeze()\n",
    "v300 = era_v300.sel(time=date,latitude=lat,longitude=lon).squeeze()\n",
    "wind = u300.copy()\n",
    "wind.u.values = (u300.u.values**2+v300.v.values)**0.5\n",
    "wind = wind.squeeze()"
   ]
  },
  {
   "cell_type": "code",
   "execution_count": 85,
   "id": "enclosed-greenhouse",
   "metadata": {},
   "outputs": [
    {
     "data": {
      "text/plain": [
       "(110.0, 250.0, 20.0, 74.0)"
      ]
     },
     "execution_count": 85,
     "metadata": {},
     "output_type": "execute_result"
    }
   ],
   "source": [
    "lonz = t850.longitude.values\n",
    "latz = t850.latitude.values\n",
    "fig,ax = plt.subplots()\n",
    "x,y = np.meshgrid(lonz,latz)\n",
    "ax.contourf(lonz,latz,t850.t.values,cmap='bwr',levels=np.linspace(-12,12,121))\n",
    "lw = 5*(wind.u.values/np.nanmax(wind.u.values))\n",
    "lw[lw<.5]=np.nan\n",
    "\n",
    "ax.streamplot(x,y,u300.u.values,v300.v.values,linewidth=lw)\n",
    "fig.patch.set_visible(False)\n",
    "ax.axis('off')"
   ]
  },
  {
   "cell_type": "code",
   "execution_count": null,
   "id": "stopped-management",
   "metadata": {},
   "outputs": [],
   "source": []
  }
 ],
 "metadata": {
  "kernelspec": {
   "display_name": "Python 3",
   "language": "python",
   "name": "python3"
  },
  "language_info": {
   "codemirror_mode": {
    "name": "ipython",
    "version": 3
   },
   "file_extension": ".py",
   "mimetype": "text/x-python",
   "name": "python",
   "nbconvert_exporter": "python",
   "pygments_lexer": "ipython3",
   "version": "3.6.12"
  }
 },
 "nbformat": 4,
 "nbformat_minor": 5
}
