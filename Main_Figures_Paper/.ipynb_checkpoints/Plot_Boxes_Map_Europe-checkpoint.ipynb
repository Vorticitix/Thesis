{
 "cells": [
  {
   "cell_type": "code",
   "execution_count": 1,
   "id": "07e21435",
   "metadata": {},
   "outputs": [],
   "source": [
    "from matplotlib import pyplot as plt\n",
    "from mpl_toolkits.basemap import Basemap\n",
    "from matplotlib.patches import Polygon\n",
    "import numpy as np\n",
    "%matplotlib qt"
   ]
  },
  {
   "cell_type": "code",
   "execution_count": 15,
   "id": "915cc674",
   "metadata": {},
   "outputs": [],
   "source": [
    "def draw_screen_poly( lats, lons, m):\n",
    "    x, y = m( lons, lats )\n",
    "    xy = zip(x,y)\n",
    "    poly = Polygon( list(xy), edgecolor='darkslategrey', facecolor='none',linewidth=2)\n",
    "    plt.gca().add_patch(poly)\n",
    "\n",
    "def draw_screen_poly_black( lats, lons, m):\n",
    "    x, y = m( lons, lats )\n",
    "    xy = zip(x,y)\n",
    "    poly = Polygon( list(xy), edgecolor='red', facecolor='none',linewidth=2)\n",
    "    plt.gca().add_patch(poly)\n",
    "\n",
    "    \n",
    "lats_total = [[54,62,62,54],\n",
    "       [46,54,54,46],\n",
    "       [38,46,46,38],\n",
    "       [54,62,62,54],\n",
    "       [46,54,54,46],\n",
    "       [38,46,46,38],\n",
    "       [54,62,62,54],\n",
    "       [46,54,54,46],\n",
    "       [38,46,46,38]]\n",
    "lons_total = [[0,0,8,8],\n",
    "       [0,0,8,8],\n",
    "       [0,0,8,8],\n",
    "       [8,8,16,16],\n",
    "       [8,8,16,16],\n",
    "       [8,8,16,16],\n",
    "       [16,16,24,24],\n",
    "       [16,16,24,24],\n",
    "       [16,16,24,24]]\n"
   ]
  },
  {
   "cell_type": "code",
   "execution_count": 17,
   "id": "811aae73",
   "metadata": {},
   "outputs": [],
   "source": [
    "fig,ax=plt.subplots(figsize=(6.5,5))\n",
    "m = Basemap(llcrnrlon=-20,llcrnrlat=30,urcrnrlon=40,urcrnrlat=70,\n",
    "             resolution='i', projection='cyl', lat_0 = 50, lon_0 = 5,ax=ax)\n",
    "\n",
    "m.drawmapboundary(fill_color='aqua')\n",
    "m.fillcontinents(color='w',lake_color='w')\n",
    "m.drawcoastlines(linewidth=.25)\n",
    "m.drawcountries()\n",
    "parallels = np.arange(0.,81,10.)\n",
    "# labels = [left,right,top,bottom]\n",
    "m.drawparallels(parallels,labels=[False,True,True,False])\n",
    "meridians = np.arange(0,361.,20.)\n",
    "m.drawmeridians(meridians,labels=[True,False,False,True])\n",
    "for i in np.arange(len(lats_total)):\n",
    "    draw_screen_poly( lats_total[i], lons_total[i], m )\n",
    "\n",
    "draw_screen_poly_black(lats_total[4],lons_total[4], m)\n",
    "    \n",
    "# for key in labelz:\n",
    "#     lat,lon=labelz[key]\n",
    "#     X,Y = m(lon,lat)\n",
    "#     plt.text(X,Y,key,\n",
    "#              horizontalalignment='center',\n",
    "#             verticalalignment='center',\n",
    "#             fontsize=18,color='r')\n",
    "# fig.suptitle('Grid Boxes Central Europe')\n",
    "fig.subplots_adjust(left=0.03,right=0.925,bottom=0.025,top=1)\n",
    "fig.suptitle(\"Area Extreme Temperature Analysis\")\n",
    "fig.savefig('/media/onno/Volume/Bern/Boxes_Europe.png',dpi=200)\n",
    "\n",
    "\n"
   ]
  },
  {
   "cell_type": "code",
   "execution_count": null,
   "id": "65eff50a",
   "metadata": {},
   "outputs": [],
   "source": []
  }
 ],
 "metadata": {
  "kernelspec": {
   "display_name": "Python 3",
   "language": "python",
   "name": "python3"
  },
  "language_info": {
   "codemirror_mode": {
    "name": "ipython",
    "version": 3
   },
   "file_extension": ".py",
   "mimetype": "text/x-python",
   "name": "python",
   "nbconvert_exporter": "python",
   "pygments_lexer": "ipython3",
   "version": "3.6.13"
  }
 },
 "nbformat": 4,
 "nbformat_minor": 5
}
