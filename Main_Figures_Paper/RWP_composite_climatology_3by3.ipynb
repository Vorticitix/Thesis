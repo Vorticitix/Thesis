{
 "cells": [
  {
   "cell_type": "code",
   "execution_count": 1,
   "metadata": {},
   "outputs": [],
   "source": [
    "%load_ext autoreload\n",
    "%autoreload 2\n",
    "%matplotlib qt\n",
    "import xarray as xr\n",
    "import numpy as np\n",
    "import pandas as pd\n",
    "from matplotlib import pyplot as plt\n",
    "from glob import glob\n",
    "#set path for my_tools script\n",
    "import sys\n",
    "sys.path.append('/home/onno/Thesis/Scripts')\n",
    "import my_tools\n",
    "from cmap import ncl_colormap\n",
    "from my_tools import file_dic, plot_dic\n",
    "import matplotlib.ticker as plticker\n",
    "from mpl_toolkits.basemap import Basemap, addcyclic\n",
    "import string\n",
    "from matplotlib.patches import Polygon\n",
    "from scipy.stats import ttest_ind\n",
    "import warnings\n",
    "warnings.filterwarnings(\"ignore\")\n",
    "import matplotlib\n",
    "\n"
   ]
  },
  {
   "cell_type": "code",
   "execution_count": 2,
   "metadata": {},
   "outputs": [],
   "source": [
    "path = '/media/onno/Volume/'"
   ]
  },
  {
   "cell_type": "code",
   "execution_count": 3,
   "metadata": {},
   "outputs": [],
   "source": [
    "xx, yy = np.meshgrid(np.linspace(-1, 1, 100), np.linspace(-1, 1, 100))\n",
    "zz = xx**2 + yy**2\n",
    "\n",
    "my_cmap_rgb = plt.get_cmap('bwr')(np.arange(256))\n",
    "alpha = 0.65\n",
    "\n",
    "for i in range(3): # Do not include the last column!\n",
    "    my_cmap_rgb[:,i] = (1 - alpha) + alpha*my_cmap_rgb[:,i]\n",
    "my_cmap = matplotlib.colors.ListedColormap(my_cmap_rgb, name='my_cmap')"
   ]
  },
  {
   "cell_type": "code",
   "execution_count": 4,
   "metadata": {},
   "outputs": [],
   "source": [
    "file_env = 'era51_mars_env_wledit2000-10000_latavg_v300_79-19_6hourly_smoothed.nc'\n",
    "file_cp = 'era51_mars_phasevel_wledit2000-10000_latavg_v300_envgt15_79-19_6hourly_setvrange_-100to100.nc'\n",
    "file_t850 = 'era51_mars_t850_79-19_6hourly_anom_from_smoothed04_clim.nc'\n",
    "file_v300 = 'era51_mars_v300_wledit2000-10000_latavg_79-19_6hourly.nc'\n",
    "file_z500 = 'era51_mars_phi500_79-19_6hourly.nc'\n",
    "file_mslp = 'era5_mslp_79-19_6hourly_remapbil2x2.nc'\n",
    "file_prec = 'era5_totprecip_79-19_1hourly_remapbil2x2_daysum.nc'\n",
    "file_z500_anom = 'era51_mars_phi500_79-19_6hourly_anom_from_smoothed04_clim_daymean.nc'\n",
    "file_z500_fcst = 'era5rf_z500_0-240h_12hourly_2x2nh_jan79-dec19.nc'\n",
    "\n",
    "\n",
    "# era_env = xr.open_dataset(path+file_env)\n",
    "# era_cp = xr.open_dataset(path+file_cp)\n",
    "# era_v300 = xr.open_dataset(path+file_v300)\n",
    "era_z500 = xr.open_dataset(path+file_z500)\n",
    "era_mslp = xr.open_dataset(path+file_mslp)\n",
    "# era_t850 = xr.open_dataset(path+file_t850)\n",
    "# era_prec = xr.open_dataset(path+file_prec)\n",
    "era_z500_anom = xr.open_dataset(path+file_z500_anom)\n",
    "era5rf_z500 = xr.open_dataset(path+file_z500_fcst,decode_times=False)\n",
    "# era_prec['time'] = [era_prec['time'].values[i] - pd.Timedelta(15,'h') if i==0 else \n",
    "#                    era_prec['time'].values[i] - pd.Timedelta(11.5,'h')\n",
    "#                     for i in range(len( era_prec['time'].values))]\n",
    "# era_prec = era_prec.drop('time_bnds')\n",
    "era_z500_anom['time'] = [era_z500_anom['time'].values[i] - pd.Timedelta(9,'h')\n",
    "                    for i in range(len(era_z500_anom['time'].values))]\n",
    "era_z500_anom = era_z500_anom.drop('time_bnds')\n",
    "ERA5RF_init_time = pd.Timestamp('1900-01-01')\n",
    "era5rf_z500['time']=[pd.Timedelta(i,'hours')+ERA5RF_init_time for i in era5rf_z500.time.values]\n"
   ]
  },
  {
   "cell_type": "markdown",
   "metadata": {},
   "source": [
    "composite MSLP and Z500"
   ]
  },
  {
   "cell_type": "code",
   "execution_count": 7,
   "metadata": {
    "tags": []
   },
   "outputs": [
    {
     "ename": "SystemExit",
     "evalue": "",
     "output_type": "error",
     "traceback": [
      "An exception has occurred, use %tb to see the full traceback.\n",
      "\u001b[0;31mSystemExit\u001b[0m\n"
     ]
    }
   ],
   "source": [
    "plt.rcParams['hatch.color'] = 'w'\n",
    "seasonz = ['DJF','MAM','JJA','SON']\n",
    "modelz = ['ERA5RF']\n",
    "eventz = ['persistent_hw','persistent_cw']\n",
    "event_labelz = ['Warm Extreme','Cold Extreme']\n",
    "regionz = ['Finland']\n",
    "file_warm_mslp = '/fcst_composite/reanalysis/composite_mslp_warm_forecasts_{}_{}_{}.nc'\n",
    "file_cold_mslp = '/fcst_composite/reanalysis/composite_mslp_cold_forecasts_{}_{}_{}.nc'\n",
    "# file_p_mslp = '/fcst_composite/reanalysis/composite_mslp_diff_p_value_{}_{}_{}_{}.nc'\n",
    "file_warm_z500 = '/fcst_composite/reanalysis/composite_z500_warm_forecasts_{}_{}_{}.nc'\n",
    "file_cold_z500 = '/fcst_composite/reanalysis/composite_z500_cold_forecasts_{}_{}_{}.nc'\n",
    "# file_p_z500 = '/fcst_composite/reanalysis/composite_z500_diff_p_value_{}_{}_{}_{}.nc'\n",
    "file_diff_warm_z500 = '/fcst_composite/reanalysis/diff_z500_warm_forecasts_{}_{}_{}.nc'\n",
    "file_diff_cold_z500 = '/fcst_composite/reanalysis/diff_z500_cold_forecasts_{}_{}_{}.nc'\n",
    "\n",
    "for region in regionz:\n",
    "    for model in modelz:\n",
    "        for season in seasonz:\n",
    "            fig,axz = plt.subplots(5,2,figsize=(18,10))\n",
    "            ds_warm_z500 = xr.open_dataset(path+file_warm_z500.format(season,region,model))\n",
    "            ds_cold_z500 = xr.open_dataset(path+file_cold_z500.format(season,region,model))     \n",
    "            ds_diff_warm_z500 = xr.open_dataset(path+file_diff_warm_z500.format(season,region,model)).sel(latitude=slice(85,0))\n",
    "            ds_diff_cold_z500 = xr.open_dataset(path+file_diff_cold_z500.format(season,region,model)).sel(latitude=slice(85,0))               \n",
    "            ds_warm_mslp = xr.open_dataset(path+file_warm_mslp.format(season,region,model))\n",
    "            ds_cold_mslp = xr.open_dataset(path+file_cold_mslp.format(season,region,model))      \n",
    "            days_to_plot = np.arange(-4,5,2)\n",
    "            for i in range(len(days_to_plot)):\n",
    "                ds_warm_z500_day = ds_warm_z500.sel(time=days_to_plot[i])\n",
    "                ds_warm_z500_day_cyclic, lon_cyclic = addcyclic(ds_warm_z500_day.z.values, ds_warm_z500_day.longitude.values)\n",
    "                ds_diff_warm_z500_day = ds_diff_warm_z500.sel(time=days_to_plot[i])\n",
    "                ds_diff_warm_z500_day_cyclic, lon_cyclic_diff = addcyclic(ds_diff_warm_z500_day.z.values, ds_diff_warm_z500_day.longitude.values)                \n",
    "\n",
    "                ds_warm_mslp_day = ds_warm_mslp.sel(time=days_to_plot[i])\n",
    "                ds_warm_mslp_day_cyclic, lon_cyclic = addcyclic(ds_warm_mslp_day.var151.values, ds_warm_mslp_day.longitude.values)\n",
    "\n",
    "                lon,lat = np.meshgrid(lon_cyclic,ds_warm_z500_day.latitude.values)\n",
    "                lon_diff,lat_diff = np.meshgrid(lon_cyclic_diff,ds_diff_warm_z500_day.latitude.values)\n",
    "\n",
    "                ax_warm = axz[i,0]\n",
    "                ax_warm.set_title('Warm Extremes Day {}'.format(days_to_plot[i]))\n",
    "                m = Basemap(projection='cyl',lat_0=50,lon_0=0,resolution='c',ax=ax_warm,\n",
    "                            llcrnrlon=-180,llcrnrlat=15,urcrnrlon=180,urcrnrlat=75)\n",
    "                m.drawcoastlines()\n",
    "                m.contourf(lon,lat,ds_warm_z500_day_cyclic/(9.80665*10),latlon='true',\n",
    "                          vmin=450,vmax=600,cmap=ncl_colormap(),levels=np.linspace(450,600,30),extend='both')\n",
    "                m.contour(lon,lat,ds_warm_mslp_day_cyclic/100,latlon='true',\n",
    "                          vmin=970,vmax=1040,levels=np.arange(970,1041,5),cmap='Greys',linewidths=.75)\n",
    "                m.contour(lon_diff,lat_diff,ds_diff_warm_z500_day_cyclic,latlon='true',\n",
    "                          vmin=-6,vmax=6,levels=[-6,-4,-2,2,4,6],cmap='bwr',extend='both')\n",
    "\n",
    "                ds_cold_z500_day = ds_cold_z500.sel(time=days_to_plot[i])\n",
    "                ds_cold_z500_day_cyclic, lon_cyclic = addcyclic(ds_cold_z500_day.z.values, ds_cold_z500_day.longitude.values)\n",
    "                ds_diff_cold_z500_day = ds_diff_cold_z500.sel(time=days_to_plot[i])\n",
    "                ds_diff_cold_z500_day_cyclic, lon_cyclic = addcyclic(ds_diff_cold_z500_day.z.values, ds_diff_cold_z500_day.longitude.values)                \n",
    "\n",
    "                ds_cold_mslp_day = ds_cold_mslp.sel(time=days_to_plot[i])\n",
    "                ds_cold_mslp_day_cyclic, lon_cyclic = addcyclic(ds_cold_mslp_day.var151.values, ds_cold_mslp_day.longitude.values)\n",
    "\n",
    "                lon,lat = np.meshgrid(lon_cyclic,ds_cold_z500_day.latitude.values)\n",
    "                lon_diff,lat_diff = np.meshgrid(lon_cyclic_diff,ds_diff_cold_z500_day.latitude.values)\n",
    "\n",
    "                ax_cold = axz[i,1]\n",
    "                ax_cold.set_title('Cold Extremes Day {}'.format(days_to_plot[i]))\n",
    "\n",
    "                m = Basemap(projection='cyl',lat_0=50,lon_0=0,resolution='c',ax=ax_cold,\n",
    "                            llcrnrlon=-180,llcrnrlat=15,urcrnrlon=180,urcrnrlat=75)\n",
    "                m.drawcoastlines()\n",
    "                im = m.contourf(lon,lat,ds_cold_z500_day_cyclic/(9.80665*10),latlon='true',\n",
    "                          vmin=450,vmax=600,cmap=ncl_colormap(),levels=np.linspace(450,600,30),extend='both')\n",
    "                m.contour(lon,lat,ds_cold_mslp_day_cyclic/100,latlon='true',\n",
    "                          vmin=970,vmax=1040,levels=np.arange(970,1041,5),cmap='Greys',linewidths=.75)\n",
    "                m.contour(lon_diff,lat_diff,ds_diff_cold_z500_day_cyclic,latlon='true',\n",
    "                          vmin=-6,vmax=6,levels=[-6,-4,-2,2,4,6],cmap='bwr',extend='both')\n",
    "\n",
    "\n",
    "\n",
    "            fig.subplots_adjust(left=0.025,right=0.975,top=0.95,bottom=0.105,wspace=0,hspace=0.1)     \n",
    "            fig.suptitle('Composites Z500 (contours), Z500 forecast error and MSLP (contour lines) {} {} {}'.format(season,region,model))\n",
    "\n",
    "            cbax = fig.add_axes([0.2,0.07,0.6,0.015])\n",
    "\n",
    "            cbar = fig.colorbar(im,cax=cbax,orientation='horizontal',ticks=np.arange(450,601,25))\n",
    "            cbar.ax.set_xlabel('Z 500 hPa [m]')\n",
    "            sys.exit()\n",
    "            fig.savefig(path+'fcst_composite/reanalysis/figures/composite_z500_mslp_{}_{}_{}_error.png'.format(season,region,model))\n",
    "#                 fig.savefig(path+'fcst_composite/reanalysis/figures/try.png'.format(event,season,region,model))\n",
    "            plt.close(fig)\n"
   ]
  },
  {
   "cell_type": "markdown",
   "metadata": {},
   "source": [
    "composite MSLP and Z500 anomaly"
   ]
  },
  {
   "cell_type": "code",
   "execution_count": 9,
   "metadata": {},
   "outputs": [
    {
     "ename": "SystemExit",
     "evalue": "",
     "output_type": "error",
     "traceback": [
      "An exception has occurred, use %tb to see the full traceback.\n",
      "\u001b[0;31mSystemExit\u001b[0m\n"
     ]
    }
   ],
   "source": [
    "plt.rcParams['hatch.color'] = 'k'\n",
    "seasonz = ['DJF','JJA']\n",
    "modelz = ['ERA5RF']\n",
    "eventz = ['persistent_hw','persistent_cw']\n",
    "regionz = ['Finland']\n",
    "event_labelz = ['Warm Extreme','Cold Extreme']\n",
    "file_warm_z500 = '/fcst_composite/reanalysis/composite_z500_warm_forecasts_{}_{}_{}.nc'\n",
    "file_cold_z500 = '/fcst_composite/reanalysis/composite_z500_cold_forecasts_{}_{}_{}.nc'\n",
    "file_warm_z500_anom = '/fcst_composite/reanalysis/composite_z500_anom_warm_forecasts_{}_{}_{}.nc'\n",
    "file_cold_z500_anom = '/fcst_composite/reanalysis/composite_z500_anom_cold_forecasts_{}_{}_{}.nc'\n",
    "file_diff_warm_z500 = '/fcst_composite/reanalysis/diff_z500_warm_forecasts_{}_{}_{}.nc'\n",
    "file_diff_cold_z500 = '/fcst_composite/reanalysis/diff_z500_cold_forecasts_{}_{}_{}.nc'\n",
    "\n",
    "for region in regionz:\n",
    "    for model in modelz:\n",
    "        fig,axz = plt.subplots(5,4,figsize=(10,10))\n",
    "        for j,season in enumerate(seasonz):\n",
    "            ds_warm_z500 = xr.open_dataset(path+file_warm_z500.format(season,region,model))\n",
    "            ds_cold_z500 = xr.open_dataset(path+file_cold_z500.format(season,region,model))\n",
    "            ds_diff_warm_z500 = xr.open_dataset(path+file_diff_warm_z500.format(season,region,model)).sel(latitude=slice(85,0))\n",
    "            ds_diff_cold_z500 = xr.open_dataset(path+file_diff_cold_z500.format(season,region,model)).sel(latitude=slice(85,0))  \n",
    "            ds_warm_z500_anom = xr.open_dataset(path+file_warm_z500_anom.format(season,region,model))\n",
    "            ds_cold_z500_anom = xr.open_dataset(path+file_cold_z500_anom.format(season,region,model))      \n",
    "            days_to_plot = np.arange(-4,5,2)\n",
    "            for i in range(len(days_to_plot)):\n",
    "                ds_warm_z500_day = ds_warm_z500.sel(time=days_to_plot[i])\n",
    "                ds_warm_z500_day_cyclic, lon_cyclic = addcyclic(ds_warm_z500_day.z.values, ds_warm_z500_day.longitude.values)\n",
    "                ds_diff_warm_z500_day = ds_diff_warm_z500.sel(time=days_to_plot[i])\n",
    "                ds_diff_warm_z500_day_cyclic, lon_cyclic_diff = addcyclic(ds_diff_warm_z500_day.z.values, ds_diff_warm_z500_day.longitude.values)                \n",
    "                ds_warm_z500_anom_day = ds_warm_z500_anom.sel(time=days_to_plot[i])\n",
    "                ds_warm_z500_anom_day_cyclic, lon_cyclic = addcyclic(ds_warm_z500_anom_day.z.values, ds_warm_z500_anom_day.longitude.values)                \n",
    "                lon,lat = np.meshgrid(lon_cyclic,ds_warm_z500_day.latitude.values)\n",
    "                lon_diff,lat_diff = np.meshgrid(lon_cyclic_diff,ds_diff_warm_z500_day.latitude.values)\n",
    "\n",
    "\n",
    "                ax_warm = axz[i,j*2]\n",
    "                ax_warm.set_title('Warm {} Day {}'.format(season,days_to_plot[i]),pad=4)\n",
    "                m = Basemap(projection='merc',lat_0=50,lon_0=0,resolution='c',ax=ax_warm,\n",
    "                            llcrnrlon=-60,llcrnrlat=20,urcrnrlon=60,urcrnrlat=70)\n",
    "                m.drawcoastlines()\n",
    "                m.contour(lon,lat,ds_warm_z500_day_cyclic/(9.80665*10),latlon='true',colors='k',\n",
    "                          vmin=450,vmax=600,levels=np.arange(450,601,10),linewidths=.5)\n",
    "                m.contourf(lon,lat,ds_warm_z500_anom_day_cyclic/(9.80665*10),latlon='true',\n",
    "                          vmin=-25,vmax=25,cmap=my_cmap,levels=np.linspace(-25,25,501),extend='both')\n",
    "                m.contour(lon_diff,lat_diff,ds_diff_warm_z500_day_cyclic,latlon='true',\n",
    "                          vmin=-6,vmax=6,levels=[-6,-4,-2,2,4,6],cmap='seismic',extend='both')\n",
    "\n",
    "                ds_cold_z500_day = ds_cold_z500.sel(time=days_to_plot[i])\n",
    "                ds_cold_z500_day_cyclic, lon_cyclic = addcyclic(ds_cold_z500_day.z.values, ds_cold_z500_day.longitude.values)\n",
    "                ds_diff_cold_z500_day = ds_diff_cold_z500.sel(time=days_to_plot[i])\n",
    "                ds_diff_cold_z500_day_cyclic, lon_cyclic_diff = addcyclic(ds_diff_cold_z500_day.z.values, ds_diff_cold_z500_day.longitude.values)                \n",
    "                ds_cold_z500_anom_day = ds_cold_z500_anom.sel(time=days_to_plot[i])\n",
    "                ds_cold_z500_anom_day_cyclic, lon_cyclic = addcyclic(ds_cold_z500_anom_day.z.values, ds_cold_z500_anom_day.longitude.values)\n",
    "                lon,lat = np.meshgrid(lon_cyclic,ds_cold_z500_day.latitude.values)\n",
    "                lon_diff,lat_diff = np.meshgrid(lon_cyclic_diff,ds_diff_cold_z500_day.latitude.values)\n",
    "\n",
    "\n",
    "                ax_cold = axz[i,j*2+1]\n",
    "                ax_cold.set_title('Cold {} Day {}'.format(season,days_to_plot[i]),pad=4)\n",
    "\n",
    "                m = Basemap(projection='merc',lat_0=50,lon_0=0,resolution='c',ax=ax_cold,\n",
    "                            llcrnrlon=-60,llcrnrlat=20,urcrnrlon=60,urcrnrlat=70)\n",
    "                m.drawcoastlines()\n",
    "                m.contour(lon,lat,ds_cold_z500_day_cyclic/(9.80665*10),latlon='true',colors='k',\n",
    "                          vmin=450,vmax=600,levels=np.arange(-25,601,10),linewidths=.5)\n",
    "                im = m.contourf(lon,lat,ds_cold_z500_anom_day_cyclic/(9.80665*10),latlon='true',\n",
    "                          vmin=-25,vmax=25,cmap=my_cmap,levels=np.linspace(-25,25,501),extend='both')\n",
    "                m.contour(lon_diff,lat_diff,ds_diff_cold_z500_day_cyclic,latlon='true',\n",
    "                          vmin=-6,vmax=6,levels=[-6,-4,-2,2,4,6],cmap='seismic',extend='both')\n",
    "\n",
    "\n",
    "\n",
    "        fig.subplots_adjust(left=0.025,right=0.975,top=0.94,bottom=0.07,wspace=0,hspace=0.125)     \n",
    "        fig.suptitle('Z500 Anomaly (contours) and Z500 (contour lines) {} {} {}'.format(season,region,model))\n",
    "\n",
    "        cbax = fig.add_axes([0.2,0.05,0.6,0.015])\n",
    "\n",
    "        cbar = fig.colorbar(im,cax=cbax,orientation='horizontal',ticks=np.linspace(-25,25,11))\n",
    "        cbar.ax.set_xlabel('Z\\' 500 hPa [m]')\n",
    "\n",
    "        fig.savefig(path+'/Main_Figures/composite_z500_anom_z500_error_alpha_Finland.png')\n",
    "        sys.exit()\n",
    "        plt.close(fig)\n",
    "\n"
   ]
  },
  {
   "cell_type": "code",
   "execution_count": 8,
   "metadata": {},
   "outputs": [
    {
     "data": {
      "text/plain": [
       "7.6919804"
      ]
     },
     "execution_count": 8,
     "metadata": {},
     "output_type": "execute_result"
    }
   ],
   "source": [
    "ds_diff_warm_z500_day_cyclic.max()"
   ]
  },
  {
   "cell_type": "code",
   "execution_count": null,
   "metadata": {},
   "outputs": [],
   "source": []
  }
 ],
 "metadata": {
  "kernelspec": {
   "display_name": "Python 3",
   "language": "python",
   "name": "python3"
  },
  "language_info": {
   "codemirror_mode": {
    "name": "ipython",
    "version": 3
   },
   "file_extension": ".py",
   "mimetype": "text/x-python",
   "name": "python",
   "nbconvert_exporter": "python",
   "pygments_lexer": "ipython3",
   "version": "3.8.5"
  }
 },
 "nbformat": 4,
 "nbformat_minor": 5
}
