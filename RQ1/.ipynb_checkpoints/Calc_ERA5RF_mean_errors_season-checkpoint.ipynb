{
 "cells": [
  {
   "cell_type": "code",
   "execution_count": 3,
   "metadata": {},
   "outputs": [
    {
     "name": "stdout",
     "output_type": "stream",
     "text": [
      "The autoreload extension is already loaded. To reload it, use:\n",
      "  %reload_ext autoreload\n"
     ]
    }
   ],
   "source": [
    "%load_ext autoreload\n",
    "%autoreload 2\n",
    "import xarray as xr\n",
    "import numpy as np\n",
    "import pandas as pd\n",
    "from matplotlib import pyplot as plt\n",
    "# import cartopy.crs as ccrs\n",
    "#set directory for importinh my_tools,py\n",
    "import sys\n",
    "sys.path.append('/home/onno/Thesis/Scripts')\n",
    "import my_tools\n",
    "from my_tools import plot_dic, file_dic\n",
    "from datetime import datetime\n",
    "import glob\n",
    "%matplotlib qt"
   ]
  },
  {
   "cell_type": "code",
   "execution_count": 4,
   "metadata": {},
   "outputs": [],
   "source": [
    "#set path. Change accoridngly\n",
    "path_file = '/media/onno/Algemeen/Thesis/'\n",
    "path = '/media/onno/Algemeen/Thesis/GFS_mean_season/'"
   ]
  },
  {
   "cell_type": "markdown",
   "metadata": {},
   "source": [
    "Mean variable error for each season"
   ]
  },
  {
   "cell_type": "code",
   "execution_count": 2,
   "metadata": {},
   "outputs": [
    {
     "name": "stdout",
     "output_type": "stream",
     "text": [
      "u_wind\n"
     ]
    },
    {
     "ename": "NameError",
     "evalue": "name 'path_file' is not defined",
     "output_type": "error",
     "traceback": [
      "\u001b[0;31m---------------------------------------------------------------------------\u001b[0m",
      "\u001b[0;31mNameError\u001b[0m                                 Traceback (most recent call last)",
      "\u001b[0;32m<ipython-input-2-adc5e08c2f1a>\u001b[0m in \u001b[0;36m<module>\u001b[0;34m\u001b[0m\n\u001b[1;32m     10\u001b[0m     \u001b[0mfile_rean\u001b[0m \u001b[0;34m=\u001b[0m \u001b[0mfile_dic\u001b[0m\u001b[0;34m[\u001b[0m\u001b[0mvariable\u001b[0m\u001b[0;34m]\u001b[0m\u001b[0;34m[\u001b[0m\u001b[0;34m'ERA5'\u001b[0m\u001b[0;34m]\u001b[0m\u001b[0;34m\u001b[0m\u001b[0;34m\u001b[0m\u001b[0m\n\u001b[1;32m     11\u001b[0m     \u001b[0;31m#open netcdf files as xarray datasets\u001b[0m\u001b[0;34m\u001b[0m\u001b[0;34m\u001b[0m\u001b[0;34m\u001b[0m\u001b[0m\n\u001b[0;32m---> 12\u001b[0;31m     \u001b[0mfcst\u001b[0m \u001b[0;34m=\u001b[0m \u001b[0mxr\u001b[0m\u001b[0;34m.\u001b[0m\u001b[0mopen_dataset\u001b[0m\u001b[0;34m(\u001b[0m\u001b[0mpath_file\u001b[0m\u001b[0;34m+\u001b[0m\u001b[0mfile_fcst\u001b[0m\u001b[0;34m,\u001b[0m\u001b[0mdecode_times\u001b[0m\u001b[0;34m=\u001b[0m\u001b[0;32mFalse\u001b[0m\u001b[0;34m)\u001b[0m\u001b[0;34m.\u001b[0m\u001b[0msqueeze\u001b[0m\u001b[0;34m(\u001b[0m\u001b[0;34m)\u001b[0m\u001b[0;34m\u001b[0m\u001b[0;34m\u001b[0m\u001b[0m\n\u001b[0m\u001b[1;32m     13\u001b[0m     \u001b[0mrean\u001b[0m \u001b[0;34m=\u001b[0m \u001b[0mxr\u001b[0m\u001b[0;34m.\u001b[0m\u001b[0mopen_dataset\u001b[0m\u001b[0;34m(\u001b[0m\u001b[0mpath_file\u001b[0m\u001b[0;34m+\u001b[0m\u001b[0mfile_rean\u001b[0m\u001b[0;34m,\u001b[0m\u001b[0mdecode_times\u001b[0m\u001b[0;34m=\u001b[0m\u001b[0;32mFalse\u001b[0m\u001b[0;34m)\u001b[0m\u001b[0;34m.\u001b[0m\u001b[0msqueeze\u001b[0m\u001b[0;34m(\u001b[0m\u001b[0;34m)\u001b[0m\u001b[0;34m\u001b[0m\u001b[0;34m\u001b[0m\u001b[0m\n\u001b[1;32m     14\u001b[0m     \u001b[0;31m#change dimension names of ERA5 dataset\u001b[0m\u001b[0;34m\u001b[0m\u001b[0;34m\u001b[0m\u001b[0;34m\u001b[0m\u001b[0m\n",
      "\u001b[0;31mNameError\u001b[0m: name 'path_file' is not defined"
     ]
    }
   ],
   "source": [
    "#Categorize each month for season\n",
    "variablez = ['envelope','phasespeed','u_wind']\n",
    "seasons = {'JJA':[6,7,8],\n",
    "          'DJF':[12,1,2]}\n",
    "#Loop through season\n",
    "for variable in variablez:\n",
    "    print(variable)\n",
    "    #get file names from imported dictionary\n",
    "    file_fcst = file_dic[variable]['ERA5RF']\n",
    "    file_rean = file_dic[variable]['ERA5']\n",
    "    #open netcdf files as xarray datasets\n",
    "    fcst = xr.open_dataset(path_file+file_fcst,decode_times=False).squeeze()\n",
    "    rean = xr.open_dataset(path_file+file_rean,decode_times=False).squeeze()\n",
    "    #change dimension names of ERA5 dataset\n",
    "    if list(rean.coords)[1]=='longitude':\n",
    "        rean=rean.rename({'longitude':'lon'})\n",
    "    if list(rean.coords)[2]=='latitude':\n",
    "        rean=rean.rename({'latitude':'lat'})\n",
    "\n",
    "    #Convert dates to standard datetime values\n",
    "    fcst['time']=my_tools.convert_date_era5rf_r(fcst.time.values)\n",
    "    rean['time']=my_tools.convert_date_era_r(rean.time.values)\n",
    "\n",
    "    #Select only data for 24h intervals\n",
    "    fcst = fcst.sel(lead=fcst.lead.values[[bool(i) for i in fcst.lead%24==0]],\n",
    "                   time=fcst.time.values[[bool(i) for i in fcst.time.dt.hour%24==0]])  \n",
    "    rean = rean.sel(time=rean.time.values[[bool(i) for i in rean.time.dt.hour%24==0]])\n",
    "    for key in seasons:\n",
    "        #loop through lead days\n",
    "        for i in range(0,11):\n",
    "            if (variable=='phasespeed')&(i>=6):\n",
    "                continue\n",
    "            #Select days for which GEFS data is present and make datasets equally long\n",
    "            fcst_d = fcst.sel(time=slice('1984-12-1','2019-11-{}'.format(30-i)),lead=i*24)\n",
    "            rean_d = rean.sel(time=slice('1984-12-{}'.format(1+i),'2019-11-30'))        \n",
    "            #Make boolean array for each day that is present in season        \n",
    "            idxz = np.isin(fcst_d.time.dt.month,seasons[key])\n",
    "            fcst_season = fcst_d[plot_dic[variable]['data_variable']][idxz] ; rean_season = rean_d[plot_dic[variable]['data_variable']][idxz]\n",
    "            #Check if dates are correct\n",
    "            assert(np.all(np.isin([(j-pd.Timedelta(i,'d')).month for j in rean_season.time.values],seasons[key])))\n",
    "            assert(np.all(np.isin([pd.to_datetime(j).month for j in fcst_season.time.values],seasons[key])))\n",
    "            fcst_season_mean = fcst_season.mean(dim='time')\n",
    "            rean_season_mean = rean_season.mean(dim='time')\n",
    "            diff = fcst_season_mean - rean_season_mean\n",
    "            diff.to_netcdf(path+'/ERA5RF_mean_error_{}_{}_day_{:02d}.nc'.format(plot_dic[variable]['filename'],key,i))\n",
    "\n"
   ]
  },
  {
   "cell_type": "code",
   "execution_count": null,
   "metadata": {},
   "outputs": [],
   "source": []
  }
 ],
 "metadata": {
  "kernelspec": {
   "display_name": "Python 3",
   "language": "python",
   "name": "python3"
  },
  "language_info": {
   "codemirror_mode": {
    "name": "ipython",
    "version": 3
   },
   "file_extension": ".py",
   "mimetype": "text/x-python",
   "name": "python",
   "nbconvert_exporter": "python",
   "pygments_lexer": "ipython3",
   "version": "3.6.12"
  }
 },
 "nbformat": 4,
 "nbformat_minor": 4
}
