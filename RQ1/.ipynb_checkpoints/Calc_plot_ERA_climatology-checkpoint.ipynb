{
 "cells": [
  {
   "cell_type": "code",
   "execution_count": 3,
   "metadata": {},
   "outputs": [
    {
     "name": "stdout",
     "output_type": "stream",
     "text": [
      "The autoreload extension is already loaded. To reload it, use:\n",
      "  %reload_ext autoreload\n"
     ]
    }
   ],
   "source": [
    "%load_ext autoreload\n",
    "%autoreload 2\n",
    "import xarray as xr\n",
    "import numpy as np\n",
    "import pandas as pd\n",
    "from matplotlib import pyplot as plt\n",
    "import cartopy.crs as ccrs\n",
    "#set directory for importinh my_tools,py\n",
    "import sys\n",
    "sys.path.append('/home/onno/Thesis/Scripts')\n",
    "import my_tools\n",
    "from my_tools import file_dic, plot_dic\n",
    "from datetime import datetime\n",
    "import glob\n",
    "from cartopy.util import add_cyclic_point\n",
    "%matplotlib qt"
   ]
  },
  {
   "cell_type": "code",
   "execution_count": 20,
   "metadata": {},
   "outputs": [],
   "source": [
    "#Set path. Change accordingly\n",
    "path_file = '/media/onno/Algemeen/Thesis/'\n",
    "path = '/media/onno/Algemeen/Thesis/ERA_climatology/'\n",
    "#set variable\n",
    "variable = 'u_wind'\n",
    "#set file path with imported dcitionary\n",
    "file_era = file_dic[variable]['ERA5']\n",
    "#Open ERA5 dataset\n",
    "era = xr.open_dataset(path_file+file_era)\n",
    "#change hours since 1979 to real datetime values\n",
    "\n",
    "# era['time']=my_tools.convert_date_era_r(era.time.values)\n",
    "\n",
    "#Select data fro Northern Hemisphere and leave out polar regions\n",
    "# era_nh = era.sel(latitude=slice(85,0)).squeeze()\n",
    "#Account for dates that are only in gefs dataset\n",
    "era = era.sel(time=[i for i in pd.date_range('1984-12-01','2019-11-30')])"
   ]
  },
  {
   "cell_type": "markdown",
   "metadata": {},
   "source": [
    "Calculating annual climatological overviews"
   ]
  },
  {
   "cell_type": "code",
   "execution_count": 16,
   "metadata": {},
   "outputs": [],
   "source": [
    "#Select relevant area and calculate climatology along time dimension\n",
    "era_mean = era.mean(dim='time').squeeze()\n",
    "era_mean.to_netcdf(path+'/ERA5_{}_clim.nc'.format(variable))"
   ]
  },
  {
   "cell_type": "code",
   "execution_count": 21,
   "metadata": {},
   "outputs": [
    {
     "ename": "TypeError",
     "evalue": "Cannot label gridlines on a Orthographic plot.  Only PlateCarree and Mercator plots are currently supported.",
     "output_type": "error",
     "traceback": [
      "\u001b[0;31m---------------------------------------------------------------------------\u001b[0m",
      "\u001b[0;31mTypeError\u001b[0m                                 Traceback (most recent call last)",
      "\u001b[0;32m<ipython-input-21-55660e89fe54>\u001b[0m in \u001b[0;36m<module>\u001b[0;34m\u001b[0m\n\u001b[1;32m     13\u001b[0m              \u001b[0mtransform\u001b[0m\u001b[0;34m=\u001b[0m\u001b[0mccrs\u001b[0m\u001b[0;34m.\u001b[0m\u001b[0mPlateCarree\u001b[0m\u001b[0;34m(\u001b[0m\u001b[0;34m)\u001b[0m\u001b[0;34m,\u001b[0m\u001b[0;34m\u001b[0m\u001b[0;34m\u001b[0m\u001b[0m\n\u001b[1;32m     14\u001b[0m               extend='both')\n\u001b[0;32m---> 15\u001b[0;31m \u001b[0mgl\u001b[0m \u001b[0;34m=\u001b[0m \u001b[0max\u001b[0m\u001b[0;34m.\u001b[0m\u001b[0mgridlines\u001b[0m\u001b[0;34m(\u001b[0m\u001b[0mcrs\u001b[0m\u001b[0;34m=\u001b[0m\u001b[0mccrs\u001b[0m\u001b[0;34m.\u001b[0m\u001b[0mPlateCarree\u001b[0m\u001b[0;34m(\u001b[0m\u001b[0;34m)\u001b[0m\u001b[0;34m,\u001b[0m \u001b[0mdraw_labels\u001b[0m\u001b[0;34m=\u001b[0m\u001b[0;32mTrue\u001b[0m\u001b[0;34m)\u001b[0m\u001b[0;34m\u001b[0m\u001b[0;34m\u001b[0m\u001b[0m\n\u001b[0m\u001b[1;32m     16\u001b[0m \u001b[0mcbar\u001b[0m \u001b[0;34m=\u001b[0m \u001b[0mfig\u001b[0m\u001b[0;34m.\u001b[0m\u001b[0mcolorbar\u001b[0m\u001b[0;34m(\u001b[0m\u001b[0mim\u001b[0m\u001b[0;34m)\u001b[0m\u001b[0;34m\u001b[0m\u001b[0;34m\u001b[0m\u001b[0m\n\u001b[1;32m     17\u001b[0m \u001b[0mcbar\u001b[0m\u001b[0;34m.\u001b[0m\u001b[0max\u001b[0m\u001b[0;34m.\u001b[0m\u001b[0mset_ylabel\u001b[0m\u001b[0;34m(\u001b[0m\u001b[0mplot_dic\u001b[0m\u001b[0;34m[\u001b[0m\u001b[0mvariable\u001b[0m\u001b[0;34m]\u001b[0m\u001b[0;34m[\u001b[0m\u001b[0;34m'label'\u001b[0m\u001b[0;34m]\u001b[0m\u001b[0;34m,\u001b[0m \u001b[0mrotation\u001b[0m\u001b[0;34m=\u001b[0m\u001b[0;36m90\u001b[0m\u001b[0;34m)\u001b[0m\u001b[0;34m\u001b[0m\u001b[0;34m\u001b[0m\u001b[0m\n",
      "\u001b[0;32m~/miniconda3/lib/python3.7/site-packages/cartopy/mpl/geoaxes.py\u001b[0m in \u001b[0;36mgridlines\u001b[0;34m(self, crs, draw_labels, xlocs, ylocs, **kwargs)\u001b[0m\n\u001b[1;32m   1222\u001b[0m         gl = Gridliner(\n\u001b[1;32m   1223\u001b[0m             \u001b[0mself\u001b[0m\u001b[0;34m,\u001b[0m \u001b[0mcrs\u001b[0m\u001b[0;34m=\u001b[0m\u001b[0mcrs\u001b[0m\u001b[0;34m,\u001b[0m \u001b[0mdraw_labels\u001b[0m\u001b[0;34m=\u001b[0m\u001b[0mdraw_labels\u001b[0m\u001b[0;34m,\u001b[0m \u001b[0mxlocator\u001b[0m\u001b[0;34m=\u001b[0m\u001b[0mxlocs\u001b[0m\u001b[0;34m,\u001b[0m\u001b[0;34m\u001b[0m\u001b[0;34m\u001b[0m\u001b[0m\n\u001b[0;32m-> 1224\u001b[0;31m             ylocator=ylocs, collection_kwargs=kwargs)\n\u001b[0m\u001b[1;32m   1225\u001b[0m         \u001b[0mself\u001b[0m\u001b[0;34m.\u001b[0m\u001b[0m_gridliners\u001b[0m\u001b[0;34m.\u001b[0m\u001b[0mappend\u001b[0m\u001b[0;34m(\u001b[0m\u001b[0mgl\u001b[0m\u001b[0;34m)\u001b[0m\u001b[0;34m\u001b[0m\u001b[0;34m\u001b[0m\u001b[0m\n\u001b[1;32m   1226\u001b[0m         \u001b[0;32mreturn\u001b[0m \u001b[0mgl\u001b[0m\u001b[0;34m\u001b[0m\u001b[0;34m\u001b[0m\u001b[0m\n",
      "\u001b[0;32m~/miniconda3/lib/python3.7/site-packages/cartopy/mpl/gridliner.py\u001b[0m in \u001b[0;36m__init__\u001b[0;34m(self, axes, crs, draw_labels, xlocator, ylocator, collection_kwargs)\u001b[0m\n\u001b[1;32m    183\u001b[0m         \u001b[0;31m# public attributes are changed after instantiation.\u001b[0m\u001b[0;34m\u001b[0m\u001b[0;34m\u001b[0m\u001b[0;34m\u001b[0m\u001b[0m\n\u001b[1;32m    184\u001b[0m         \u001b[0;32mif\u001b[0m \u001b[0mdraw_labels\u001b[0m\u001b[0;34m:\u001b[0m\u001b[0;34m\u001b[0m\u001b[0;34m\u001b[0m\u001b[0m\n\u001b[0;32m--> 185\u001b[0;31m             \u001b[0mself\u001b[0m\u001b[0;34m.\u001b[0m\u001b[0m_assert_can_draw_ticks\u001b[0m\u001b[0;34m(\u001b[0m\u001b[0;34m)\u001b[0m\u001b[0;34m\u001b[0m\u001b[0;34m\u001b[0m\u001b[0m\n\u001b[0m\u001b[1;32m    186\u001b[0m \u001b[0;34m\u001b[0m\u001b[0m\n\u001b[1;32m    187\u001b[0m         \u001b[0;31m#: The number of interpolation points which are used to draw the\u001b[0m\u001b[0;34m\u001b[0m\u001b[0;34m\u001b[0m\u001b[0;34m\u001b[0m\u001b[0m\n",
      "\u001b[0;32m~/miniconda3/lib/python3.7/site-packages/cartopy/mpl/gridliner.py\u001b[0m in \u001b[0;36m_assert_can_draw_ticks\u001b[0;34m(self)\u001b[0m\n\u001b[1;32m    397\u001b[0m                             \u001b[0;34m'{prj.__class__.__name__} plot.  Only PlateCarree'\u001b[0m\u001b[0;34m\u001b[0m\u001b[0;34m\u001b[0m\u001b[0m\n\u001b[1;32m    398\u001b[0m                             \u001b[0;34m' and Mercator plots are currently '\u001b[0m\u001b[0;34m\u001b[0m\u001b[0;34m\u001b[0m\u001b[0m\n\u001b[0;32m--> 399\u001b[0;31m                             'supported.'.format(prj=self.axes.projection))\n\u001b[0m\u001b[1;32m    400\u001b[0m         \u001b[0;32mreturn\u001b[0m \u001b[0;32mTrue\u001b[0m\u001b[0;34m\u001b[0m\u001b[0;34m\u001b[0m\u001b[0m\n\u001b[1;32m    401\u001b[0m \u001b[0;34m\u001b[0m\u001b[0m\n",
      "\u001b[0;31mTypeError\u001b[0m: Cannot label gridlines on a Orthographic plot.  Only PlateCarree and Mercator plots are currently supported."
     ]
    }
   ],
   "source": [
    "#Create cyclic point so data is continious\n",
    "era_mean = xr.open_dataset(path+'/ERA5_{}_clim.nc'.format(variable))\n",
    "era_mean_cyclic, lon_cyclic = add_cyclic_point(era_mean[plot_dic[variable]['data_variable']].values, coord=era_mean.lon)\n",
    "lon,lat = np.meshgrid(lon_cyclic,era_mean.lat)\n",
    "\n",
    "#Plot climatology\n",
    "fig,ax= plt.subplots(figsize=(20, 10),subplot_kw={'projection': ccrs.Orthographic(0,90)})\n",
    "ax.coastlines()\n",
    "im=ax.contourf(lon,lat,era_mean_cyclic,\n",
    "               #adjust levels for specific variable\n",
    "                levels = np.linspace(0,25,51),\n",
    "               cmap='viridis',\n",
    "             transform=ccrs.PlateCarree(),\n",
    "              extend='both')\n",
    "gl = ax.gridlines(crs=ccrs.PlateCarree(), draw_labels=True)\n",
    "cbar = fig.colorbar(im)\n",
    "cbar.ax.set_ylabel(plot_dic[variable]['label'], rotation=90)\n",
    "fig.suptitle('ERA5 {} Climatology'.format(plot_dic[variable]['title']))\n",
    "fig.subplots_adjust(right=0.84)\n",
    "fig.show()"
   ]
  },
  {
   "cell_type": "markdown",
   "metadata": {},
   "source": [
    "Calculating seasonal climatological overviews"
   ]
  },
  {
   "cell_type": "code",
   "execution_count": 17,
   "metadata": {},
   "outputs": [],
   "source": [
    "#Calculate seasonal means \n",
    "seasons = {'MAM':[3,4,5],\n",
    "          'JJA':[6,7,8],\n",
    "          'SON':[9,10,11],\n",
    "          'DJF':[12,1,2]}\n",
    "for key in seasons:\n",
    "    idxz = np.isin(era_nh.time.dt.month,seasons[key])\n",
    "    era_season_mean=era_nh[plot_dic[variable]['data_variable']][idxz].mean(dim='time')\n",
    "    era_season_mean.to_netcdf(path+'/ERA5_{}_clim_{}.nc'.format(variable,key))\n",
    "    "
   ]
  },
  {
   "cell_type": "code",
   "execution_count": 12,
   "metadata": {},
   "outputs": [
    {
     "name": "stdout",
     "output_type": "stream",
     "text": [
      "25.6900691986084\n",
      "19.439178466796875\n",
      "25.336322784423828\n",
      "26.26408576965332\n"
     ]
    },
    {
     "data": {
      "text/plain": [
       "Text(0.5, 0.98, 'ERA5 RWP Envelope seasonal climatology')"
      ]
     },
     "execution_count": 12,
     "metadata": {},
     "output_type": "execute_result"
    }
   ],
   "source": [
    "seasons = {'MAM':[3,4,5],\n",
    "          'JJA':[6,7,8],\n",
    "          'SON':[9,10,11],\n",
    "          'DJF':[12,1,2]}\n",
    "#plot climatologies\n",
    "fig,axz=plt.subplots(2,2,figsize=(20, 10),subplot_kw={'projection': ccrs.Orthographic(0,90)})\n",
    "for i,key in enumerate(seasons):\n",
    "    ds = xr.open_dataset(path+'/ERA5_{}_clim_{}.nc''.format(variable,key))\n",
    "    print(float(ds.v.max()))\n",
    "    ax = axz.flat[i]\n",
    "    ax.coastlines()\n",
    "    ds_cyclic, lon_cyclic = add_cyclic_point(ds[plot_dic[variable]['data_variable']].values, coord=ds.lon)\n",
    "    lon,lat = np.meshgrid(lon_cyclic,ds.lat)\n",
    "    im=ax.contourf(lon,lat,ds_cyclic,\n",
    "                   #adjust levels for specific variable\n",
    "                    levels = np.linspace(0,30,61),\n",
    "                   cmap='viridis',\n",
    "                 transform=ccrs.PlateCarree(),\n",
    "                  extend='both')\n",
    "    gl = ax.gridlines(crs=ccrs.PlateCarree(), draw_labels=True)\n",
    "    ax.set_title(key)\n",
    "fig.subplots_adjust(top=0.85,bottom=0.05,left=0,\n",
    "                    right=0.8,hspace=0.3,wspace=0.0)\n",
    "cbax = fig.add_axes([0.85, 0.2, 0.025, 0.6])\n",
    "fig.colorbar(im, cax=cbax)\n",
    "cbax.set_ylabel(plot_dic[variable]['label'], rotation=90)\n",
    "fig.suptitle('ERA5 RWP {} seasonal climatology'.format(plot_dic[variable]['title']))\n",
    "\n",
    "    "
   ]
  },
  {
   "cell_type": "code",
   "execution_count": null,
   "metadata": {},
   "outputs": [],
   "source": []
  }
 ],
 "metadata": {
  "kernelspec": {
   "display_name": "Python 3",
   "language": "python",
   "name": "python3"
  },
  "language_info": {
   "codemirror_mode": {
    "name": "ipython",
    "version": 3
   },
   "file_extension": ".py",
   "mimetype": "text/x-python",
   "name": "python",
   "nbconvert_exporter": "python",
   "pygments_lexer": "ipython3",
   "version": "3.7.9"
  }
 },
 "nbformat": 4,
 "nbformat_minor": 4
}
