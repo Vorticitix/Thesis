{
 "cells": [
  {
   "cell_type": "code",
   "execution_count": 1,
   "metadata": {},
   "outputs": [],
   "source": [
    "%load_ext autoreload\n",
    "%autoreload 2\n",
    "import xarray as xr\n",
    "import numpy as np\n",
    "import pandas as pd\n",
    "from matplotlib import pyplot as plt\n",
    "import cartopy.crs as ccrs\n",
    "#set directory for importinh my_tools,py\n",
    "import sys\n",
    "sys.path.append('/home/onno/Thesis/Scripts')\n",
    "import my_tools\n",
    "from my_tools import file_dic, plot_dic\n",
    "from datetime import datetime\n",
    "import glob\n",
    "from cartopy.util import add_cyclic_point\n",
    "from mpl_toolkits.basemap import Basemap, addcyclic\n",
    "%matplotlib qt"
   ]
  },
  {
   "cell_type": "code",
   "execution_count": 4,
   "metadata": {},
   "outputs": [
    {
     "ename": "SystemExit",
     "evalue": "",
     "output_type": "error",
     "traceback": [
      "An exception has occurred, use %tb to see the full traceback.\n",
      "\u001b[0;31mSystemExit\u001b[0m\n"
     ]
    },
    {
     "name": "stderr",
     "output_type": "stream",
     "text": [
      "/home/onno/miniconda3/envs/thesis/lib/python3.8/site-packages/IPython/core/interactiveshell.py:3425: UserWarning: To exit: use 'exit', 'quit', or Ctrl-D.\n",
      "  warn(\"To exit: use 'exit', 'quit', or Ctrl-D.\", stacklevel=1)\n"
     ]
    }
   ],
   "source": [
    "#Set path. Change accordingly\n",
    "path_file = '/media/onno/Algemeen/Thesis/'\n",
    "path = '/media/onno/Algemeen/Thesis/ERA_climatology/'\n",
    "#set variable\n",
    "variable = 'u_wind'\n",
    "#set file path with imported dcitionary\n",
    "file_era = file_dic[variable]['ERA5']\n",
    "#Open ERA5 dataset\n",
    "era = xr.open_dataset(path_file+file_era)\n",
    "#change hours since 1979 to real datetime values\n",
    "sys.exit()\n",
    "# era['time']=my_tools.convert_date_era_r(era.time.values)\n",
    "\n",
    "#Select data fro Northern Hemisphere and leave out polar regions\n",
    "# era_nh = era.sel(latitude=slice(85,0)).squeeze()\n",
    "#Account for dates that are only in gefs dataset\n",
    "era = era.sel(time=[i for i in pd.date_range('1984-12-01','2019-11-30')])\n",
    "#Change coordinate names and remove unnecessary attribute data\n",
    "if list(era.coords)[1]=='longitude':\n",
    "    era=era.rename({'longitude':'lon'})\n",
    "if list(era.coords)[2]=='latitude':\n",
    "    era=era.rename({'latitude':'lat'})\n",
    "era.attrs['history']=None"
   ]
  },
  {
   "cell_type": "markdown",
   "metadata": {},
   "source": [
    "Calculating annual climatological overviews"
   ]
  },
  {
   "cell_type": "code",
   "execution_count": 53,
   "metadata": {},
   "outputs": [],
   "source": [
    "#Select relevant area and calculate climatology along time dimension\n",
    "era_mean = era.mean(dim='time').squeeze()\n",
    "era_mean.to_netcdf(path+'/ERA5_{}_clim_mars.nc'.format(variable))"
   ]
  },
  {
   "cell_type": "code",
   "execution_count": 71,
   "metadata": {},
   "outputs": [
    {
     "name": "stdout",
     "output_type": "stream",
     "text": [
      "<xarray.Dataset>\n",
      "Dimensions:  ()\n",
      "Coordinates:\n",
      "    level    float64 ...\n",
      "Data variables:\n",
      "    v        float32 11.850657\n"
     ]
    },
    {
     "name": "stderr",
     "output_type": "stream",
     "text": [
      "/home/onno/miniconda3/envs/thesis/lib/python3.8/site-packages/mpl_toolkits/basemap/__init__.py:5098: FutureWarning: Using a non-tuple sequence for multidimensional indexing is deprecated; use `arr[tuple(seq)]` instead of `arr[seq]`. In the future this will be interpreted as an array index, `arr[np.array(seq)]`, which will result either in an error or a different result.\n",
      "  return npsel.concatenate((a,a[slicer]),axis=axis)\n"
     ]
    }
   ],
   "source": [
    "#Create cyclic point so data is continious to sue for contourf\n",
    "variable='phasespeed'\n",
    "era_mean = xr.open_dataset(path+'/ERA5_{}_clim_mars.nc'.format(variable))\n",
    "print(era_mean.max())\n",
    "era_mean_cyclic, lon_cyclic = addcyclic(era_mean[plot_dic[variable]['data_variable']].values, era_mean.lon)\n",
    "lon,lat = np.meshgrid(lon_cyclic,era_mean.lat)\n",
    "\n",
    "fig,ax = plt.subplots(figsize=(20,10))\n",
    "m = Basemap(projection='ortho',lon_0=0,lat_0=90,resolution='c')\n",
    "im = m.contourf(lon,lat,era_mean_cyclic,latlon='true', extend='both', cmap=plt.cm.get_cmap('viridis'),\n",
    "               vmin=0,vmax=12,levels=np.linspace(0,12,49))\n",
    "m.drawcoastlines()\n",
    "m.drawparallels((-80,-60,-40,-20,0,20,40,60,80))\n",
    "m.drawmeridians((0,60,120,180,240,300),labels=[0,0,1,1])\n",
    "cbar = fig.colorbar(im)\n",
    "cbar.ax.set_ylabel(plot_dic[variable]['label'], rotation=90)\n",
    "fig.suptitle('ERA5 {} Climatology'.format(plot_dic[variable]['title']))\n",
    "fig.subplots_adjust(right=0.84)\n",
    "fig.savefig(path+'ERA5_{}_climatology_mars.png'.format(variable))\n",
    "plt.close(fig)"
   ]
  },
  {
   "cell_type": "markdown",
   "metadata": {},
   "source": [
    "Calculating seasonal climatological overviews"
   ]
  },
  {
   "cell_type": "code",
   "execution_count": 79,
   "metadata": {},
   "outputs": [],
   "source": [
    "#Calculate seasonal means \n",
    "seasons = {'MAM':[3,4,5],\n",
    "          'JJA':[6,7,8],\n",
    "          'SON':[9,10,11],\n",
    "          'DJF':[12,1,2]}\n",
    "for key in seasons:\n",
    "    idxz = np.isin(era.time.dt.month,seasons[key])\n",
    "    era_season_mean=era[plot_dic[variable]['data_variable']][idxz].mean(dim='time')\n",
    "    era_season_mean.to_netcdf(path+'/ERA5_{}_clim_{}_mars.nc'.format(variable,key))\n",
    "    "
   ]
  },
  {
   "cell_type": "code",
   "execution_count": 100,
   "metadata": {},
   "outputs": [
    {
     "name": "stdout",
     "output_type": "stream",
     "text": [
      "<xarray.DataArray 'v' ()>\n",
      "array(27.54298, dtype=float32)\n"
     ]
    },
    {
     "name": "stderr",
     "output_type": "stream",
     "text": [
      "/home/onno/miniconda3/envs/thesis/lib/python3.8/site-packages/mpl_toolkits/basemap/__init__.py:5098: FutureWarning: Using a non-tuple sequence for multidimensional indexing is deprecated; use `arr[tuple(seq)]` instead of `arr[seq]`. In the future this will be interpreted as an array index, `arr[np.array(seq)]`, which will result either in an error or a different result.\n",
      "  return npsel.concatenate((a,a[slicer]),axis=axis)\n"
     ]
    },
    {
     "name": "stdout",
     "output_type": "stream",
     "text": [
      "<xarray.DataArray 'v' ()>\n",
      "array(25.859207, dtype=float32)\n"
     ]
    },
    {
     "name": "stderr",
     "output_type": "stream",
     "text": [
      "/home/onno/miniconda3/envs/thesis/lib/python3.8/site-packages/mpl_toolkits/basemap/__init__.py:5098: FutureWarning: Using a non-tuple sequence for multidimensional indexing is deprecated; use `arr[tuple(seq)]` instead of `arr[seq]`. In the future this will be interpreted as an array index, `arr[np.array(seq)]`, which will result either in an error or a different result.\n",
      "  return npsel.concatenate((a,a[slicer]),axis=axis)\n"
     ]
    },
    {
     "name": "stdout",
     "output_type": "stream",
     "text": [
      "<xarray.DataArray 'v' ()>\n",
      "array(25.775103, dtype=float32)\n"
     ]
    },
    {
     "name": "stderr",
     "output_type": "stream",
     "text": [
      "/home/onno/miniconda3/envs/thesis/lib/python3.8/site-packages/mpl_toolkits/basemap/__init__.py:5098: FutureWarning: Using a non-tuple sequence for multidimensional indexing is deprecated; use `arr[tuple(seq)]` instead of `arr[seq]`. In the future this will be interpreted as an array index, `arr[np.array(seq)]`, which will result either in an error or a different result.\n",
      "  return npsel.concatenate((a,a[slicer]),axis=axis)\n"
     ]
    },
    {
     "name": "stdout",
     "output_type": "stream",
     "text": [
      "<xarray.DataArray 'v' ()>\n",
      "array(27.349924, dtype=float32)\n"
     ]
    },
    {
     "name": "stderr",
     "output_type": "stream",
     "text": [
      "/home/onno/miniconda3/envs/thesis/lib/python3.8/site-packages/mpl_toolkits/basemap/__init__.py:5098: FutureWarning: Using a non-tuple sequence for multidimensional indexing is deprecated; use `arr[tuple(seq)]` instead of `arr[seq]`. In the future this will be interpreted as an array index, `arr[np.array(seq)]`, which will result either in an error or a different result.\n",
      "  return npsel.concatenate((a,a[slicer]),axis=axis)\n"
     ]
    }
   ],
   "source": [
    "variable = 'envelope'\n",
    "seasons = {'MAM':[3,4,5],\n",
    "          'JJA':[6,7,8],\n",
    "          'SON':[9,10,11],\n",
    "          'DJF':[12,1,2]}\n",
    "#plot climatologies\n",
    "fig,axz=plt.subplots(2,2,figsize=(20, 10))\n",
    "for i,key in enumerate(seasons):\n",
    "    ds = xr.open_dataset(path+'/ERA5_{}_clim_{}_mars.nc'.format(variable,key))\n",
    "    print(ds.v.max())\n",
    "    ds_mean_cyclic, lon_cyclic = addcyclic(ds[plot_dic[variable]['data_variable']].values, ds.lon)\n",
    "    lon,lat = np.meshgrid(lon_cyclic,ds.lat)\n",
    "    ax = axz.flat[i]\n",
    "    m = Basemap(projection='ortho',lon_0=0,lat_0=-90,resolution='c',ax=ax)\n",
    "    im = m.contourf(lon,lat,ds_mean_cyclic.squeeze(),latlon='true', extend='both', cmap=plt.cm.get_cmap('viridis'),\n",
    "                   vmin=0,vmax=30,levels=np.linspace(0,30,61))\n",
    "    m.drawcoastlines()\n",
    "    m.drawparallels((-80,-60,-40,-20,0,20,40,60,80))\n",
    "    m.drawmeridians((0,60,120,180,240,300),labels=[0,0,1,1])\n",
    "    ax.text(x=0.5,y=1.10,s=key,\n",
    "                       transform=ax.transAxes,horizontalalignment='center',fontsize=12)\n",
    "fig.subplots_adjust(top=0.85,bottom=0.05,left=0,\n",
    "                    right=0.8,hspace=0.3,wspace=0.0)\n",
    "cbax = fig.add_axes([0.85, 0.2, 0.025, 0.6])\n",
    "fig.colorbar(im, cax=cbax)\n",
    "cbax.set_ylabel(plot_dic[variable]['label'], rotation=90)\n",
    "fig.suptitle('ERA5 RWP {} seasonal climatology'.format(plot_dic[variable]['title']))\n",
    "fig.savefig(path+'ERA5_{}_climatology_{}_mars_SH.png'.format(variable,key))\n",
    "plt.close(fig)\n",
    "\n",
    "    "
   ]
  },
  {
   "cell_type": "code",
   "execution_count": null,
   "metadata": {},
   "outputs": [],
   "source": []
  }
 ],
 "metadata": {
  "kernelspec": {
   "display_name": "Python 3",
   "language": "python",
   "name": "python3"
  },
  "language_info": {
   "codemirror_mode": {
    "name": "ipython",
    "version": 3
   },
   "file_extension": ".py",
   "mimetype": "text/x-python",
   "name": "python",
   "nbconvert_exporter": "python",
   "pygments_lexer": "ipython3",
   "version": "3.6.12"
  }
 },
 "nbformat": 4,
 "nbformat_minor": 4
}
