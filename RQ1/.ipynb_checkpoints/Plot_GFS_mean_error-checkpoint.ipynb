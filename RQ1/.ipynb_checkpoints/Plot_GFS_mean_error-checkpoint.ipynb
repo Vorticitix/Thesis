{
 "cells": [
  {
   "cell_type": "code",
   "execution_count": 7,
   "metadata": {},
   "outputs": [
    {
     "name": "stdout",
     "output_type": "stream",
     "text": [
      "The autoreload extension is already loaded. To reload it, use:\n",
      "  %reload_ext autoreload\n"
     ]
    }
   ],
   "source": [
    "%load_ext autoreload\n",
    "%autoreload 2\n",
    "import glob\n",
    "import xarray as xr\n",
    "from matplotlib import pyplot as plt\n",
    "%matplotlib qt\n",
    "import cartopy.crs as ccrs\n",
    "import numpy as np\n",
    "import sys\n",
    "sys.path.append('/home/onno/Thesis/Scripts')\n",
    "import my_tools\n",
    "#import dictionaries from my_tools to automize plotting\n",
    "from my_tools import plot_dic\n",
    "\n"
   ]
  },
  {
   "cell_type": "code",
   "execution_count": 21,
   "metadata": {},
   "outputs": [],
   "source": [
    "#Set variable to plot \n",
    "variable = 'envelope'"
   ]
  },
  {
   "cell_type": "markdown",
   "metadata": {},
   "source": [
    "Normal 10 lead day error plot"
   ]
  },
  {
   "cell_type": "code",
   "execution_count": 32,
   "metadata": {},
   "outputs": [
    {
     "data": {
      "text/plain": [
       "Text(0, 0.5, 'E (m/s)')"
      ]
     },
     "execution_count": 32,
     "metadata": {},
     "output_type": "execute_result"
    }
   ],
   "source": [
    "#list all the relevant files\n",
    "filez = sorted(glob.glob('/media/onno/Algemeen/Thesis/GFS_mean/*{}_day_??.nc'.format(plot_dic[variable]['filename'])))\n",
    "#create orthographic plot for each lead day\n",
    "fig,axz = plt.subplots(2,5,subplot_kw={'projection': ccrs.Orthographic(0,90)})\n",
    "\n",
    "#Looping over all lead day error files\n",
    "for i, ax in enumerate(axz.flat):\n",
    "    ds = xr.open_dataset(filez[i+1],decode_times=False).squeeze()\n",
    "    #Discard 85 - 90 degrees north, because these data yield unrealistical large errors\n",
    "    ds = ds.sel(lat=slice(85,0))\n",
    "    #Create coastlines\n",
    "    ax.coastlines()\n",
    "    #Plotting the data\n",
    "    im = ax.contourf(ds.lon.values,ds.lat.values,ds[plot_dic[variable]['data_variable']].values,\n",
    "                    transform=ccrs.PlateCarree(),\n",
    "                    levels = np.linspace(-2,2,41),\n",
    "                    cmap='bwr',\n",
    "                    vmin=-2,vmax=2)\n",
    "    #Plotting the variable mean error below the graph\n",
    "    ax.text(x=0.5,y=-0.15,s='Mean error = {:.2f}'.format(float(my_tools.weighted_average_area(ds))),\n",
    "           transform=ax.transAxes,horizontalalignment='center',fontsize=12)\n",
    "    #set gridlines\n",
    "    gl = ax.gridlines(crs=ccrs.PlateCarree(), draw_labels=True)\n",
    "    ax.set_title('Day {}'.format(i+1))\n",
    "\n",
    "#set figure size\n",
    "fig.set_size_inches(20, 10)\n",
    "fig.suptitle('GEFS mean {} error compared to CFS'.format(plot_dic[variable]['title']))\n",
    "#Make room for color bar and create color bar\n",
    "fig.subplots_adjust(left=0.03,right=0.9)\n",
    "cbax = fig.add_axes([0.925, 0.2, 0.025, 0.6])\n",
    "fig.colorbar(im, cax=cbax)\n",
    "cbax.set_ylabel(plot_dic[variable]['label'], rotation=90)\n",
    "# fig.savefig('/media/onno/Algemeen/Thesis/GFS_mean/GEFS_forecast_mean_{}_error.png'format(plot_dic[variable]['filename']))\n"
   ]
  },
  {
   "cell_type": "markdown",
   "metadata": {},
   "source": [
    "Simple 1 lead day error plot\n"
   ]
  },
  {
   "cell_type": "code",
   "execution_count": 23,
   "metadata": {},
   "outputs": [
    {
     "ename": "SyntaxError",
     "evalue": "invalid syntax (<ipython-input-23-5ec0e1dc8ff0>, line 14)",
     "output_type": "error",
     "traceback": [
      "\u001b[0;36m  File \u001b[0;32m\"<ipython-input-23-5ec0e1dc8ff0>\"\u001b[0;36m, line \u001b[0;32m14\u001b[0m\n\u001b[0;31m    transform=ccrs.PlateCarree(),\u001b[0m\n\u001b[0m             ^\u001b[0m\n\u001b[0;31mSyntaxError\u001b[0m\u001b[0;31m:\u001b[0m invalid syntax\n"
     ]
    }
   ],
   "source": [
    "#list all files\n",
    "filez = glob.glob('/media/onno/Algemeen/Thesis/GFS_mean/*{}*CFS.nc'.format(plot_dic[variable]['filename']))\n",
    "\n",
    "#Loop over all files\n",
    "for i, file in enumerate(filez):\n",
    "    #open associated file for lead day\n",
    "    ds = xr.open_dataset(file,decode_times=False).squeeze()\n",
    "    ds = ds.sel(lat=slice(80,20))\n",
    "    #create figure\n",
    "    fig,ax = plt.subplots(subplot_kw={'projection': ccrs.Orthographic(0,90)})\n",
    "    ax.coastlines()\n",
    "    #plot data\n",
    "    im = ax.pcolormesh(ds.lon.values,ds.lat.values,ds[plot_dic[variable]['data_variable'].values,\n",
    "                    transform=ccrs.PlateCarree(),\n",
    "                    cmap='bwr',\n",
    "                    vmin=-2,vmax=2)\n",
    "    #create colorbar\n",
    "    cbar = fig.colorbar(im,boundaries = (-2,2))\n",
    "    cbar.set_label(plot_dic[variable]['label'], rotation=90)\n",
    "    fig.suptitle('GEFS mean RWP {} error day {}'.format(plot_dic[variable]['title'],i))\n",
    "    fig.savefig('/media/onno/Algemeen/Thesis/GFS_mean/GEFS_forecast_{}_error_day_{:02d}'.format(plot_dic[variable]['filename'],i))\n",
    "    plt.close(fig)"
   ]
  },
  {
   "cell_type": "markdown",
   "metadata": {},
   "source": [
    "Normal 10 day plot for each season"
   ]
  },
  {
   "cell_type": "code",
   "execution_count": null,
   "metadata": {},
   "outputs": [],
   "source": [
    "#Loop over all seasons\n",
    "seasons = ['MAM','JJA','SON','DJF']\n",
    "for season in seasons:\n",
    "    #list all files for each season\n",
    "    filez = sorted(glob.glob('/media/onno/Algemeen/Thesis/GFS_mean_season/*{}_{}*.nc'.format(plot_dic[variable]['filename'],\n",
    "                                                                                             season)))\n",
    "    #create orthographic plot for each lead day\n",
    "    fig,axz = plt.subplots(2,5,subplot_kw={'projection': ccrs.Orthographic(0,90)})\n",
    "    fig.set_size_inches(20, 10)\n",
    "    #Plot each mean error for each lead day\n",
    "    for i, ax in enumerate(axz.flat):\n",
    "        #open accompanying netcdf file for lead day error\n",
    "        ds = xr.open_dataset(filez[i+1],decode_times=False).squeeze()\n",
    "        ds = ds.sel(lat=slice(85,0))\n",
    "        ax.coastlines()\n",
    "        #plot data\n",
    "        im = ax.pcolormesh(ds.lon.values,ds.lat.values,ds[plot_dic[variable]['data_variable'].values,\n",
    "                    transform=ccrs.PlateCarree(),\n",
    "                    cmap='bwr',\n",
    "                    vmin=-2,vmax=2)\n",
    "        #plot text with mean error belowhemisphere plot\n",
    "        ax.text(x=0.5,y=-0.15,s='Mean error = {:.2f}'.format(float(my_tools.weighted_average_area(ds))),\n",
    "           transform=ax.transAxes,horizontalalignment='center',fontsize=12)\n",
    "        gl = ax.gridlines(crs=ccrs.PlateCarree(), draw_labels=True)\n",
    "        ax.set_title('Day {}'.format(i+1))\n",
    "\n",
    "    # cbar = fig.colorbar(im)\n",
    "    # cbar.set_label('E (m/s)', rotation=90)\n",
    "    fig.suptitle('GEFS mean RWP {} error {} compared to ERA5'.format(plot_dic[variable]['title'],season))\n",
    "    #Set colorbar and make room for it\n",
    "    fig.subplots_adjust(right=0.85)\n",
    "    cbax = fig.add_axes([0.875, 0.2, 0.025, 0.6])\n",
    "    fig.colorbar(im, cax=cbax)\n",
    "    cbax.set_ylabel(plot_dic[variable]['label'], rotation=90)\n",
    "    #Save figure and make sure it does not open a window\n",
    "    plt.close(fig)\n",
    "    fig.savefig('/media/onno/Algemeen/Thesis/GFS_mean_season/GEFS_forecast_{}_error_{}.png'.format(plot_dic[variable]['filename'],season),dpi=300)"
   ]
  }
 ],
 "metadata": {
  "kernelspec": {
   "display_name": "Python 3",
   "language": "python",
   "name": "python3"
  },
  "language_info": {
   "codemirror_mode": {
    "name": "ipython",
    "version": 3
   },
   "file_extension": ".py",
   "mimetype": "text/x-python",
   "name": "python",
   "nbconvert_exporter": "python",
   "pygments_lexer": "ipython3",
   "version": "3.8.5"
  }
 },
 "nbformat": 4,
 "nbformat_minor": 4
}
