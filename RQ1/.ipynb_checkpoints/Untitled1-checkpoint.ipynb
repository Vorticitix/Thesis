{
 "cells": [
  {
   "cell_type": "code",
   "execution_count": 51,
   "metadata": {},
   "outputs": [
    {
     "ename": "SyntaxError",
     "evalue": "invalid syntax (<ipython-input-51-f3f8c61c935f>, line 7)",
     "output_type": "error",
     "traceback": [
      "\u001b[0;36m  File \u001b[0;32m\"<ipython-input-51-f3f8c61c935f>\"\u001b[0;36m, line \u001b[0;32m7\u001b[0m\n\u001b[0;31m    import scipy as scipyq8-\u001b[0m\n\u001b[0m                           ^\u001b[0m\n\u001b[0;31mSyntaxError\u001b[0m\u001b[0;31m:\u001b[0m invalid syntax\n"
     ]
    }
   ],
   "source": [
    "import pandas as pd\n",
    "import numpy as np\n",
    "import netCDF4 as ncdf\n",
    "import matplotlib.pyplot as plt\n",
    "import datetime\n",
    "import statsmodels.api as sm\n",
    "import scipy as scipyq8-"
   ]
  },
  {
   "cell_type": "code",
   "execution_count": 2,
   "metadata": {},
   "outputs": [],
   "source": [
    "def z_score(c, std, n):\n",
    "    \"\"\"Calculate z-score\"\"\"\n",
    "    z = (c)/(std/n)\n",
    "    return z\n",
    "\n",
    "def p_value(z):\n",
    "    \"\"\"Calculate p-value\"\"\"\n",
    "    p_values = scipy.stats.norm.sf(abs(z)) * 2\n",
    "    return p_values"
   ]
  },
  {
   "cell_type": "code",
   "execution_count": 3,
   "metadata": {},
   "outputs": [],
   "source": [
    "data = ncdf.Dataset(\"/home/onno/Downloads/dt_global_allsat_msla_h_y1993_2018_masked.nc\", mode='r')\n",
    "lat  = data.variables[\"lat\"][:]          # latitude\n",
    "lon  = data.variables[\"lon\"][:]          # longitude\n",
    "time = data.variables[\"time\"]            # time array\n",
    "sla  = data.variables[\"sla\"][:,::-1,:]   # sea level anomaly\n",
    "dates_monthly = [datetime.datetime(1950,1,1)+datetime.timedelta(days = float(val)) for val in time]\n",
    "dates_annual = [datetime.datetime(1950,1,1)+datetime.timedelta(days = float(val)/365) for val in time]\n",
    "\n",
    "# close data\n",
    "data.close()"
   ]
  },
  {
   "cell_type": "code",
   "execution_count": 4,
   "metadata": {},
   "outputs": [],
   "source": [
    "# Convert NaN to 0\n",
    "sla_monthly = np.ma.masked_array(sla, np.isnan(sla))\n",
    "land = sla_monthly.sum(0).mask\n",
    "sla_monthly[:,land] = 0\n",
    "\n",
    "# ------------------------------------------\n",
    "# Calculate global averages\n",
    "# ------------------------------------------\n",
    "# calculate grid cell weight (for weighted mean)\n",
    "r       = 6370000.0 # Radius earth [m]\n",
    "dphi    = lat [0] - lat [1] # grid distance in latitude [deg]\n",
    "dy      = r * np.pi * dphi / 180. # meridional grid distance [m]\n",
    "dx      = 2 * np.pi * r * np.cos(lat * np.pi / 180) # latitudinal grid distance [m]\n",
    "grid_area = dx * dy # area of each grid cell [m2]\n",
    "grid_rell = grid_area / (dy * 2 * np.pi * r) # Relative size each grid cell [-]"
   ]
  },
  {
   "cell_type": "code",
   "execution_count": 5,
   "metadata": {},
   "outputs": [
    {
     "name": "stdout",
     "output_type": "stream",
     "text": [
      "Elapsed time is 393.12\n"
     ]
    }
   ],
   "source": [
    "t1 = datetime.datetime.now()\n",
    "sla_monthly_mean = np.zeros(312)\n",
    "\n",
    "# Problem 1 - Calculate monthly mean sea level anomaly\n",
    "\n",
    "for i in range(312):\n",
    "    # calculate weighted mean\n",
    "    sla_monthly_mean[i] = np.mean(grid_rell*np.mean(sla[i], axis=1))\n",
    "sla_monthly_mean_ewouts_method = sla_monthly_mean[:]\n",
    "    \n",
    "sla_annual = np.zeros((26,360,720))\n",
    "\n",
    "# Problem 2 - Calculate annual mean sea level anomaly\n",
    "\n",
    "for i in range(360):\n",
    "    for j in range(720):\n",
    "        for q in range(0,312,12):\n",
    "            sla_annual[int(q/12),i,j] = np.nanmean(np.array(sla[q:q+12,i,j]))\n",
    "t2 = datetime.datetime.now()\n",
    "sla_annual_ewouts_method = sla_annual[:]\n",
    "print('Elapsed time is {:.2f} seconds'.format((t2-t1).total_seconds()))"
   ]
  },
  {
   "cell_type": "markdown",
   "metadata": {},
   "source": [
    "Volgende methode gebruikt zoveel mogelijk numpy om zo weinig mogelijk langzame for loops te gebruiken"
   ]
  },
  {
   "cell_type": "code",
   "execution_count": null,
   "metadata": {},
   "outputs": [],
   "source": [
    "t1 = datetime.datetime.now()\n",
    "# In twee stappen maak ik van jouw grid_rell array een 3D array met dezelfde shape als je sla array. \n",
    "# Kan ook in een stap, maar ik doe dit even voor de duidelijkheid\n",
    "# Die kan ik dan direct met je sla array vermeingvuldigen. Dat voorkomt een for loop\n",
    "#Onderstaande array heeft shape (360,720)\n",
    "grid_rell_2D = np.tile(grid_rell,(720,1)).T\n",
    "#De grid_rell_2D array gebruik ik alleen om de 3D array te maken. Verder gebruik ik 2D niet meer\n",
    "#Onderstaande array heeft shape \n",
    "grid_rell_3D = np.tile(grid_rell_2D,(312,1,1))\n",
    "sla_monthly_mean = np.mean(grid_rell_3D*sla,axis=(2,1))\n"
   ]
  },
  {
   "cell_type": "markdown",
   "metadata": {},
   "source": [
    "In deze methode gebruik ik een package die xarray heet. Deze package is speciefiek gemaakt voor netcdf data en is echt veel beter en overzichtelijker dan netcdf 4"
   ]
  },
  {
   "cell_type": "code",
   "execution_count": 98,
   "metadata": {},
   "outputs": [],
   "source": [
    "import xarray as xr"
   ]
  },
  {
   "cell_type": "code",
   "execution_count": 119,
   "metadata": {},
   "outputs": [
    {
     "data": {
      "text/html": [
       "<pre>&lt;xarray.Dataset&gt;\n",
       "Dimensions:  (lat: 360, lon: 720, time: 312)\n",
       "Coordinates:\n",
       "  * lon      (lon) float64 0.0 0.5 1.0 1.5 2.0 ... 357.5 358.0 358.5 359.0 359.5\n",
       "  * lat      (lat) float64 -89.75 -89.25 -88.75 -88.25 ... 88.75 89.25 89.75\n",
       "  * time     (time) datetime64[ns] 1993-01-15 1993-02-15 ... 2018-12-15\n",
       "Data variables:\n",
       "    sla      (time, lat, lon) float32 ...</pre>"
      ],
      "text/plain": [
       "<xarray.Dataset>\n",
       "Dimensions:  (lat: 360, lon: 720, time: 312)\n",
       "Coordinates:\n",
       "  * lon      (lon) float64 0.0 0.5 1.0 1.5 2.0 ... 357.5 358.0 358.5 359.0 359.5\n",
       "  * lat      (lat) float64 -89.75 -89.25 -88.75 -88.25 ... 88.75 89.25 89.75\n",
       "  * time     (time) datetime64[ns] 1993-01-15 1993-02-15 ... 2018-12-15\n",
       "Data variables:\n",
       "    sla      (time, lat, lon) float32 ..."
      ]
     },
     "execution_count": 119,
     "metadata": {},
     "output_type": "execute_result"
    }
   ],
   "source": [
    "ds = xr.open_dataset(\"/home/onno/Downloads/dt_global_allsat_msla_h_y1993_2018_masked.nc\")\n",
    "#met behulpt van dictionary key 'sla' kan ik die variable accessen\n",
    "ds\n",
    "#xarray laadt de variabelen niet meteen in het geheugen. Dat doet de package pas als je de data echt nodig hebt.\n",
    "#Hiermee kun je ook veel grotere bestanden dan dat je werkgeheugen groot is inladen\n"
   ]
  },
  {
   "cell_type": "code",
   "execution_count": 121,
   "metadata": {},
   "outputs": [
    {
     "ename": "AttributeError",
     "evalue": "'Dataset' object has no attribute 'weighted'",
     "output_type": "error",
     "traceback": [
      "\u001b[0;31m---------------------------------------------------------------------------\u001b[0m",
      "\u001b[0;31mAttributeError\u001b[0m                            Traceback (most recent call last)",
      "\u001b[0;32m<ipython-input-121-abe56cb204dd>\u001b[0m in \u001b[0;36m<module>\u001b[0;34m\u001b[0m\n\u001b[1;32m      1\u001b[0m \u001b[0mweights\u001b[0m \u001b[0;34m=\u001b[0m \u001b[0mgrid_rell\u001b[0m\u001b[0;34m[\u001b[0m\u001b[0;34m:\u001b[0m\u001b[0;34m]\u001b[0m\u001b[0;34m\u001b[0m\u001b[0;34m\u001b[0m\u001b[0m\n\u001b[0;32m----> 2\u001b[0;31m \u001b[0mds_sla_weighted\u001b[0m \u001b[0;34m=\u001b[0m \u001b[0mds\u001b[0m\u001b[0;34m.\u001b[0m\u001b[0mweighted\u001b[0m\u001b[0;34m(\u001b[0m\u001b[0mweights\u001b[0m\u001b[0;34m)\u001b[0m\u001b[0;34m\u001b[0m\u001b[0;34m\u001b[0m\u001b[0m\n\u001b[0m\u001b[1;32m      3\u001b[0m \u001b[0msla_monthly_mean\u001b[0m \u001b[0;34m=\u001b[0m \u001b[0mds_sla_weighted\u001b[0m\u001b[0;34m.\u001b[0m\u001b[0mmean\u001b[0m\u001b[0;34m(\u001b[0m\u001b[0mdim\u001b[0m\u001b[0;34m=\u001b[0m\u001b[0;34m[\u001b[0m\u001b[0;34m'lon'\u001b[0m\u001b[0;34m,\u001b[0m\u001b[0;34m'lat'\u001b[0m\u001b[0;34m]\u001b[0m\u001b[0;34m)\u001b[0m\u001b[0;34m\u001b[0m\u001b[0;34m\u001b[0m\u001b[0m\n",
      "\u001b[0;32m~/miniconda3/lib/python3.7/site-packages/xarray/core/common.py\u001b[0m in \u001b[0;36m__getattr__\u001b[0;34m(self, name)\u001b[0m\n\u001b[1;32m    231\u001b[0m                     \u001b[0;32mreturn\u001b[0m \u001b[0msource\u001b[0m\u001b[0;34m[\u001b[0m\u001b[0mname\u001b[0m\u001b[0;34m]\u001b[0m\u001b[0;34m\u001b[0m\u001b[0;34m\u001b[0m\u001b[0m\n\u001b[1;32m    232\u001b[0m         raise AttributeError(\n\u001b[0;32m--> 233\u001b[0;31m             \u001b[0;34m\"{!r} object has no attribute {!r}\"\u001b[0m\u001b[0;34m.\u001b[0m\u001b[0mformat\u001b[0m\u001b[0;34m(\u001b[0m\u001b[0mtype\u001b[0m\u001b[0;34m(\u001b[0m\u001b[0mself\u001b[0m\u001b[0;34m)\u001b[0m\u001b[0;34m.\u001b[0m\u001b[0m__name__\u001b[0m\u001b[0;34m,\u001b[0m \u001b[0mname\u001b[0m\u001b[0;34m)\u001b[0m\u001b[0;34m\u001b[0m\u001b[0;34m\u001b[0m\u001b[0m\n\u001b[0m\u001b[1;32m    234\u001b[0m         )\n\u001b[1;32m    235\u001b[0m \u001b[0;34m\u001b[0m\u001b[0m\n",
      "\u001b[0;31mAttributeError\u001b[0m: 'Dataset' object has no attribute 'weighted'"
     ]
    }
   ],
   "source": [
    "weights = grid_rell[:]\n",
    "ds_sla_weighted = ds.weighted(weights)\n",
    "sla_monthly_mean = ds_sla_weighted.mean(dim=['lon','lat'])\n"
   ]
  },
  {
   "cell_type": "code",
   "execution_count": null,
   "metadata": {},
   "outputs": [],
   "source": []
  }
 ],
 "metadata": {
  "kernelspec": {
   "display_name": "Python 3",
   "language": "python",
   "name": "python3"
  },
  "language_info": {
   "codemirror_mode": {
    "name": "ipython",
    "version": 3
   },
   "file_extension": ".py",
   "mimetype": "text/x-python",
   "name": "python",
   "nbconvert_exporter": "python",
   "pygments_lexer": "ipython3",
   "version": "3.7.9"
  }
 },
 "nbformat": 4,
 "nbformat_minor": 4
}
