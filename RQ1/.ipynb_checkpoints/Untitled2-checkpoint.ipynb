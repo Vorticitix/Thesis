{
 "cells": [
  {
   "cell_type": "code",
   "execution_count": 39,
   "metadata": {},
   "outputs": [],
   "source": [
    "import xarray as xr\n",
    "import numpy as np\n",
    "from glob import glob"
   ]
  },
  {
   "cell_type": "code",
   "execution_count": 4,
   "metadata": {},
   "outputs": [],
   "source": [
    "path = '/media/onno/Algemeen/Thesis/GFS_performace/'\n",
    "meanerrorz = sorted(glob(path+'*mean_error*.nc'))\n",
    "rmsez = sorted(glob(path+'*RMSE*.nc'))"
   ]
  },
  {
   "cell_type": "code",
   "execution_count": 25,
   "metadata": {},
   "outputs": [
    {
     "ename": "SystemExit",
     "evalue": "",
     "output_type": "error",
     "traceback": [
      "An exception has occurred, use %tb to see the full traceback.\n",
      "\u001b[0;31mSystemExit\u001b[0m\n"
     ]
    }
   ],
   "source": [
    "for i in range(1,len(meanerrorz)):\n",
    "    mean_error = xr.open_dataset(meanerrorz[i],decode_times=False)\n",
    "    rmse = xr.open_dataset(rmsez[i],decode_times=False)\n",
    "    new_nc = mean_error.copy()\n",
    "    new_nc.v.values = rmse.v.values\n",
    "    new_nc.to_netcdf(path+'RMSE_{}.nc')\n",
    "    sys.exit()\n"
   ]
  },
  {
   "cell_type": "code",
   "execution_count": 60,
   "metadata": {},
   "outputs": [],
   "source": [
    "path = '/media/onno/Algemeen/Thesis/GFS_histogram/'\n",
    "filez = sorted(glob(path+'*multiplier*.nc'))"
   ]
  },
  {
   "cell_type": "code",
   "execution_count": 61,
   "metadata": {},
   "outputs": [
    {
     "data": {
      "text/plain": [
       "'_multiplier_40.nc'"
      ]
     },
     "execution_count": 61,
     "metadata": {},
     "output_type": "execute_result"
    }
   ],
   "source": [
    "file[-17:]"
   ]
  },
  {
   "cell_type": "code",
   "execution_count": 66,
   "metadata": {},
   "outputs": [
    {
     "name": "stdout",
     "output_type": "stream",
     "text": [
      "[(80, 60), (60, 40), (40, 20)]\n",
      "[(320, 340), (290, 310), (320, 340)]\n",
      "1.2533488273620605\n",
      "1.5969866514205933\n",
      "1.750731348991394\n",
      "1.8840296268463135\n",
      "1.9828327894210815\n",
      "2.079188346862793\n",
      "[(80, 60), (60, 40), (40, 20)]\n",
      "[(320, 340), (290, 310), (320, 340)]\n",
      "3.4280495643615723\n",
      "3.8793528079986572\n",
      "4.112452507019043\n",
      "4.3636603355407715\n",
      "4.618965148925781\n",
      "4.874808311462402\n",
      "[(80, 60), (60, 40), (40, 20)]\n",
      "[(320, 340), (290, 310), (320, 340)]\n",
      "0.9427882432937622\n",
      "1.7979505062103271\n",
      "2.1578426361083984\n",
      "2.5132992267608643\n",
      "2.8596487045288086\n",
      "3.1963021755218506\n"
     ]
    }
   ],
   "source": [
    "latz = [(80,60),(60,40),(40,20)]\n",
    "lonz = [(320,340),(290,310),(320,340)]\n",
    "for i in range(len(latz)):\n",
    "    print(latz)\n",
    "    print(lonz)\n",
    "    for factor in np.arange(0,51,10):\n",
    "        file = 'GFS_error_weighted_mean_phasespeed_day_05_lat_lower_left_{}_lon_lower_left_{}_multiplier_{}.nc'.format(latz[i][1],lonz[i][0],factor)\n",
    "        ds = xr.open_dataset(path+file,decode_times=False)\n",
    "        mean = float(ds['__xarray_dataarray_variable__'].mean().values)\n",
    "        print(mean)"
   ]
  },
  {
   "cell_type": "code",
   "execution_count": null,
   "metadata": {},
   "outputs": [],
   "source": []
  }
 ],
 "metadata": {
  "kernelspec": {
   "display_name": "Python 3",
   "language": "python",
   "name": "python3"
  },
  "language_info": {
   "codemirror_mode": {
    "name": "ipython",
    "version": 3
   },
   "file_extension": ".py",
   "mimetype": "text/x-python",
   "name": "python",
   "nbconvert_exporter": "python",
   "pygments_lexer": "ipython3",
   "version": "3.8.5"
  }
 },
 "nbformat": 4,
 "nbformat_minor": 4
}
