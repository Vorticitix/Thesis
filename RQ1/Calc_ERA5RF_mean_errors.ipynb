{
 "cells": [
  {
   "cell_type": "code",
   "execution_count": 2,
   "metadata": {},
   "outputs": [],
   "source": [
    "%load_ext autoreload\n",
    "%autoreload 2\n",
    "import xarray as xr\n",
    "import numpy as np\n",
    "import pandas as pd\n",
    "from matplotlib import pyplot as plt\n",
    "# import cartopy.crs as ccrs\n",
    "#set directory for importinh my_tools,py\n",
    "import sys\n",
    "sys.path.append('/home/onno/Thesis/Scripts')\n",
    "import my_tools\n",
    "from my_tools import plot_dic, file_dic\n",
    "from datetime import datetime\n",
    "import glob\n",
    "%matplotlib qt"
   ]
  },
  {
   "cell_type": "markdown",
   "metadata": {},
   "source": [
    "Selecting the GEFS data and comparing them with ERA5 observations. Choose a variable of your liking"
   ]
  },
  {
   "cell_type": "code",
   "execution_count": 3,
   "metadata": {},
   "outputs": [],
   "source": [
    "#set path. Change accoridngly\n",
    "path_file = '/media/onno/Algemeen/Thesis/'\n",
    "path = '/media/onno/Algemeen/Thesis/GFS_mean/'"
   ]
  },
  {
   "cell_type": "code",
   "execution_count": null,
   "metadata": {},
   "outputs": [
    {
     "name": "stdout",
     "output_type": "stream",
     "text": [
      "envelope\n"
     ]
    }
   ],
   "source": [
    "# # file_gfs = 'gefsrf2_env_wledit2000-10000_latavg_v300_control0-252h_6hourly_2x2_dec84-nov19.nc'\n",
    "# # file_era = 'cfsr-cfsv2_env_wledit2000-10000_latavg_v300_79-19_6hourly_anom_from_smoothed04_clim_smoothed.nc'\n",
    "# file_gfs = 'gefsrf2_phasevel_wledit2000-10000_latavg_v300_envgt15_control0-252h_6hourly_2x2_dec84-nov19_setvrange_-100to100.nc'\n",
    "# file_era = 'cfsr-cfsv2_phasevel_wledit2000-10000_latavg_v300_envgt15_79-19_6hourly_anom_from_smoothed04_clim_setvrange_-100to100.nc'\n",
    "# # file_gfs = 'gefsrf2_u300_control0-252h_6hourly_2x2_dec84-nov19.nc'\n",
    "# # file_era = 'era5_u300_79-19_6hourly.nc'\n",
    "\n",
    "#Looop over all variables to compute annual mean error\n",
    "# variablez = ['envelope','phasespeed','u_wind']\n",
    "variablez=['envelope','phasespeed','u_wind']\n",
    "for variable in variablez:\n",
    "    print(variable)\n",
    "    #get file names from imported dictionary\n",
    "    file_fcst = file_dic[variable]['ERA5RF']\n",
    "    file_era = file_dic[variable]['ERA5']\n",
    "    #open netcdf files as xarray datasets\n",
    "    fcst = xr.open_dataset(path_file+file_fcst,decode_times=False).squeeze()\n",
    "    era = xr.open_dataset(path_file+file_era,decode_times=False).squeeze()\n",
    "    #change dimension names of ERA5 dataset\n",
    "    if list(era.coords)[1]=='longitude':\n",
    "        era=era.rename({'longitude':'lon'})\n",
    "    if list(era.coords)[2]=='latitude':\n",
    "        era=era.rename({'latitude':'lat'})\n",
    "    #Convert dates to standard datetime values\n",
    "    fcst['time']=my_tools.convert_date_era5rf_r(fcst.time.values)\n",
    "    era['time']=my_tools.convert_date_era_r(era.time.values)\n",
    "\n",
    "    #Select only data for 24h intervals\n",
    "    fcst = fcst.sel(lead=fcst.lead.values[[bool(i) for i in fcst.lead%24==0]],\n",
    "                   time=fcst.time.values[[bool(i) for i in fcst.time.dt.hour%24==0]])\n",
    "    era = era.sel(time=era.time.values[[bool(i) for i in era.time.dt.hour%24==0]])\n",
    "\n",
    "    #Calculating daily mean errors  \n",
    "\n",
    "\n",
    "    t1 = datetime.now()\n",
    "    for i in range(11):\n",
    "        if (variable=='phasespeed')&(i>=6):\n",
    "            continue\n",
    "        #Select days for which GEFS data is present and make datasets equally long\n",
    "        fcst_d = fcst.sel(time=slice('1984-12-1','2019-11-{}'.format(30-i)),lead=i*24)\n",
    "        era_d = era.sel(time=slice('1984-12-{}'.format(1+i),'2019-11-30')) \n",
    "        print(i)\n",
    "        #Make boolean array for each day that is present in season        \n",
    "        #Check if relevant dates are correct\n",
    "        assert(fcst_d.time.values[0]==(era_d.time.values[0]-pd.Timedelta(i,'d')))\n",
    "        #for each dataset calculate mean \n",
    "        fcst_season_mean = fcst_d.mean(dim='time')\n",
    "        era_season_mean = era_d.mean(dim='time')\n",
    "        #Subtract reforecast dataset with reanalysis dataset to get mean error\n",
    "        diff = fcst_season_mean - era_season_mean\n",
    "        sys.exit()\n",
    "        #save mean errors for each lead day to new netcdf file\n",
    "        diff.to_netcdf(path +'ERA5RF_mean_error_{}_day_{:02d}_globe_mars.nc'.format(variable,i))\n",
    "        \n",
    "        \n",
    "    #Measure duration of calculation\n",
    "\n",
    "    t2 = datetime.now()\n",
    "    print(t2-t1)"
   ]
  },
  {
   "cell_type": "code",
   "execution_count": 6,
   "metadata": {},
   "outputs": [
    {
     "name": "stdout",
     "output_type": "stream",
     "text": [
      "0:00:01.863019\n"
     ]
    }
   ],
   "source": [
    "# t1 = datetime.now()\n",
    "# for i in range(1,11):\n",
    "#     forecast = gfs_nh.sel(time=[my_tools.convert_date_gefs(i) for i in pd.date_range('2014-12-1','2019-11-{}'.format(30-i))],lead=i*24)\n",
    "#     reanalysis = era_nh.sel(time=[my_tools.convert_date_era(i) for i in pd.date_range('2014-12-{}'.format(1+i),'2019-11-30')])\n",
    "#     assert(my_tools.convert_date_gefs_r(float(forecast.time[0]+forecast.lead.values))==my_tools.convert_date_era_r(float(reanalysis.time[0])))\n",
    "#     reanalysis['time'] = forecast.time.values\n",
    "# #     forecast_mean = forecast.mean(dim='time')\n",
    "# #     reanalysis_mean = reanalysis.mean(dim='time')\n",
    "#     diff2 = forecast - reanalysis\n",
    "#     diff2 = diff2.mean(dim='time')\n",
    "#     break\n",
    "#     diff.to_netcdf('/media/onno/Algemeen/Thesis/GFS_mean/bias_GFS_forecast_phasespeed_day{:02d}.nc'.format(i))\n",
    "#     print(i)\n",
    "# t2 = datetime.now()\n",
    "# print(t2-t1)\n"
   ]
  }
 ],
 "metadata": {
  "kernelspec": {
   "display_name": "Python 3",
   "language": "python",
   "name": "python3"
  },
  "language_info": {
   "codemirror_mode": {
    "name": "ipython",
    "version": 3
   },
   "file_extension": ".py",
   "mimetype": "text/x-python",
   "name": "python",
   "nbconvert_exporter": "python",
   "pygments_lexer": "ipython3",
   "version": "3.6.12"
  }
 },
 "nbformat": 4,
 "nbformat_minor": 4
}
