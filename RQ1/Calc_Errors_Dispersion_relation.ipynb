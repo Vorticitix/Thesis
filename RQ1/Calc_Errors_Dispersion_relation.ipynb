{
 "cells": [
  {
   "cell_type": "code",
   "execution_count": 1,
   "metadata": {},
   "outputs": [],
   "source": [
    "%load_ext autoreload\n",
    "%autoreload 2\n",
    "import xarray as xr\n",
    "import numpy as np\n",
    "import pandas as pd\n",
    "from matplotlib import pyplot as plt\n",
    "#set directory for importinh my_tools,py\n",
    "import sys\n",
    "sys.path.append('/home/onno/Thesis/Scripts')\n",
    "import my_tools\n",
    "from my_tools import file_dic, plot_dic\n",
    "from datetime import datetime\n",
    "import glob\n",
    "from mpl_toolkits.basemap import Basemap, addcyclic\n",
    "%matplotlib qt"
   ]
  },
  {
   "cell_type": "code",
   "execution_count": 38,
   "metadata": {},
   "outputs": [],
   "source": [
    "#set path \n",
    "path = '/media/onno/UUI/Thesis_data/GFS_mean/'\n",
    "#List all files\n",
    "error_wavenumber = sorted(glob.glob(path+'GFS_mean_error_wavenumber_day_??_globe_mars.nc'))\n",
    "error_phasespeed = sorted(glob.glob(path+'GFS_mean_error_phasespeed_day_??_globe_mars.nc'))\n",
    "error_u_wind = sorted(glob.glob(path+'GFS_mean_error_u_wind_day_??_globe_mars.nc'))"
   ]
  },
  {
   "cell_type": "code",
   "execution_count": 30,
   "metadata": {},
   "outputs": [],
   "source": [
    "omega = 7.292e-5 #value for angular speed of Earth [rad/s]\n",
    "a = 6.37e6 #radius of Earth [m]\n",
    "circum = np.pi*a #calculate half circumference of Earth to calculate distance between lat circles\n",
    "lat_dist = circum/180 #Calculate distance between single lat lines [m]\n",
    "lat = np.arange(90,-91,-2)\n",
    "lon = np.arange(0,360,2)\n",
    "lonz,latz = np.meshgrid(lon,lat)\n",
    "f = 2*omega*np.sin(np.deg2rad(latz)) #calculate coriolis parameter for each latitude\n",
    "dy = np.gradient(latz,axis=0)*lat_dist #calculate distance between each lat circle\n",
    "df = np.gradient(f,axis=0) #calculate gradient of coriolis parameter \n",
    "beta = df/dy #calculate beta paramter for eachlatitude as defined by beta = df/dy [rad/sm]\n"
   ]
  },
  {
   "cell_type": "code",
   "execution_count": 40,
   "metadata": {},
   "outputs": [],
   "source": [
    "for i in range(1,11):\n",
    "    ds_wavenumber = xr.open_dataset(error_wavenumber[i],decode_times=False)\n",
    "    ds_phasespeed = xr.open_dataset(error_wavenumber[i],decode_times=False)\n",
    "    ds_u_wind = xr.open_dataset(error_wavenumber[i],decode_times=False)\n",
    "    break"
   ]
  },
  {
   "cell_type": "code",
   "execution_count": 52,
   "metadata": {},
   "outputs": [],
   "source": [
    "a=(beta)/(ds_wavenumber.v)**2"
   ]
  },
  {
   "cell_type": "code",
   "execution_count": null,
   "metadata": {},
   "outputs": [],
   "source": []
  }
 ],
 "metadata": {
  "kernelspec": {
   "display_name": "Python 3",
   "language": "python",
   "name": "python3"
  },
  "language_info": {
   "codemirror_mode": {
    "name": "ipython",
    "version": 3
   },
   "file_extension": ".py",
   "mimetype": "text/x-python",
   "name": "python",
   "nbconvert_exporter": "python",
   "pygments_lexer": "ipython3",
   "version": "3.8.5"
  }
 },
 "nbformat": 4,
 "nbformat_minor": 4
}
