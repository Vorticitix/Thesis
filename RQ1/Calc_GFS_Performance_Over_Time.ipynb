{
 "cells": [
  {
   "cell_type": "code",
   "execution_count": 1,
   "metadata": {},
   "outputs": [],
   "source": [
    "%load_ext autoreload\n",
    "%autoreload 2\n",
    "import xarray as xr\n",
    "import numpy as np\n",
    "import pandas as pd\n",
    "from matplotlib import pyplot as plt\n",
    "import cartopy.crs as ccrs\n",
    "#set directory for importinh my_tools,py\n",
    "import sys\n",
    "sys.path.append('/home/onno/Thesis/Scripts')\n",
    "import my_tools\n",
    "from my_tools import plot_dic, file_dic\n",
    "from datetime import datetime\n",
    "import glob\n",
    "%matplotlib qt"
   ]
  },
  {
   "cell_type": "code",
   "execution_count": 2,
   "metadata": {},
   "outputs": [],
   "source": [
    "#set path. Change accoridngly\n",
    "path_file = '/media/onno/Algemeen/Thesis/'\n",
    "path = '/media/onno/Algemeen/Thesis/GFS_performace/'"
   ]
  },
  {
   "cell_type": "markdown",
   "metadata": {},
   "source": [
    "Mean Error"
   ]
  },
  {
   "cell_type": "code",
   "execution_count": null,
   "metadata": {},
   "outputs": [],
   "source": [
    "\n",
    "variablez=['envelope','phasespeed','u_wind']\n",
    "for variable in variablez:\n",
    "    print(variable)\n",
    "    #get file names from imported dictionary\n",
    "    file_gfs = file_dic[variable]['GFS']\n",
    "    file_era = file_dic[variable]['ERA5']\n",
    "    #open netcdf files as xarray datasets\n",
    "    gfs = xr.open_dataset(path_file+file_gfs,decode_times=False).squeeze()\n",
    "    era = xr.open_dataset(path_file+file_era,decode_times=False).squeeze()\n",
    "    #change dimension names of ERA5 dataset\n",
    "    if list(era.coords)[1]=='longitude':\n",
    "        era=era.rename({'longitude':'lon'})\n",
    "    if list(era.coords)[2]=='latitude':\n",
    "        era=era.rename({'latitude':'lat'})\n",
    "\n",
    "    #Convert dates to standard datetime values\n",
    "    gfs['time']=my_tools.convert_date_gefs_r(gfs.time.values)\n",
    "    era['time']=my_tools.convert_date_era_r(era.time.values)\n",
    "\n",
    "    #Select only data for 24h intervals\n",
    "    gfs = gfs.sel(lead=gfs.lead.values[[bool(i) for i in gfs.lead%24==0]])\n",
    "\n",
    "    #Calculating daily mean errors \n",
    "    \n",
    "\n",
    "    t1 = datetime.now()\n",
    "    for i in range(11):\n",
    "        #Select days for which GEFS data is present and make datasets equally long\n",
    "        gfs_d = gfs.sel(time=[i for i in pd.date_range('1984-12-1','2019-11-{}'.format(30-i))],lead=i*24)\n",
    "        era_d = era.sel(time=[i for i in pd.date_range('1984-12-{}'.format(1+i),'2019-11-30')]) \n",
    "        #Check if relevant dates are correct\n",
    "        assert(gfs_d.time.values[0]==(era_d.time.values[0]-pd.Timedelta(i,'d')))\n",
    "        #resample data to calculate mean for each quarter in the dataset\n",
    "        gfs_d_resampled = gfs_d.resample(time='QS-DEC').mean()\n",
    "        era_d_resampled = era_d.resample(time='QS-DEC').mean()\n",
    "        #Make boolean array for each day that is present in season       \n",
    "        #for each dataset calculate mean \n",
    "#         gfs_season_mean = gfs_d.mean(dim='time')\n",
    "#         era_season_mean = era_d.mean(dim='time')\n",
    "        #Subtract reforecast dataset with reanalysis dataset to get mean error\n",
    "        diff = gfs_d_resampled - era_d_resampled\n",
    "        #save mean errors for each lead day to new netcdf file\n",
    "        diff.to_netcdf(path +'GFS_resampled_mean_error_{}_day_{:02d}.nc'.format(variable,i))\n",
    "    #Measure duration of calculation\n",
    "\n",
    "    t2 = datetime.now()\n",
    "    print(t2-t1)"
   ]
  },
  {
   "cell_type": "markdown",
   "metadata": {},
   "source": [
    "Root mean square error"
   ]
  },
  {
   "cell_type": "code",
   "execution_count": null,
   "metadata": {},
   "outputs": [],
   "source": [
    "variablez=['envelope','phasespeed','u_wind']\n",
    "def rmse(diff):\n",
    "    return np.sqrt((diff ** 2).mean(axis=0))\n",
    "\n",
    "\n",
    "for variable in variablez:\n",
    "    print(variable)\n",
    "    #get file names from imported dictionary\n",
    "    file_gfs = file_dic[variable]['GFS']\n",
    "    file_era = file_dic[variable]['ERA5']\n",
    "    #open netcdf files as xarray datasets\n",
    "    gfs = xr.open_dataset(path_file+file_gfs,decode_times=False).squeeze()\n",
    "    era = xr.open_dataset(path_file+file_era,decode_times=False).squeeze()\n",
    "    #change dimension names of ERA5 dataset\n",
    "    if list(era.coords)[1]=='longitude':\n",
    "        era=era.rename({'longitude':'lon'})\n",
    "    if list(era.coords)[2]=='latitude':\n",
    "        era=era.rename({'latitude':'lat'})\n",
    "\n",
    "    #Convert dates to standard datetime values\n",
    "    gfs['time']=my_tools.convert_date_gefs_r(gfs.time.values)\n",
    "    era['time']=my_tools.convert_date_era_r(era.time.values)\n",
    "\n",
    "    #Select only data for 24h intervals\n",
    "    gfs = gfs.sel(lead=gfs.lead.values[[bool(i) for i in gfs.lead%24==0]])\n",
    "\n",
    "    #Calculating daily mean errors \n",
    "\n",
    "\n",
    "    t1 = datetime.now()\n",
    "    for i in range(11):\n",
    "\n",
    "        #Select days for which GEFS data is present and make datasets equally long\n",
    "        gfs_d = gfs.sel(time=[i for i in pd.date_range('1984-12-1','2019-11-{}'.format(30-i))],lead=i*24)\n",
    "        era_d = era.sel(time=[i for i in pd.date_range('1984-12-{}'.format(1+i),'2019-11-30')])\n",
    "        #Check if relevant dates are correct\n",
    "        assert(gfs_d.time.values[0]==(era_d.time.values[0]-pd.Timedelta(i,'d')))\n",
    "        diff_abs = (gfs_d-era_d)**2\n",
    "        model_rmse = (diff_abs.resample(time='QS-DEC').mean())**0.5\n",
    "        #resample data to calculate mean for each quarter in the dataset\n",
    "#         gfs_d_resampled = gfs_d.resample(time='QS-DEC').mean()\n",
    "#         era_d_resampled = era_d.resample(time='QS-DEC').mean()\n",
    "        #Make boolean array for each day that is present in season       \n",
    "        #for each dataset calculate mean \n",
    "#         gfs_season_mean = gfs_d.mean(dim='time')\n",
    "#         era_season_mean = era_d.mean(dim='time')\n",
    "        #Subtract reforecast dataset with reanalysis dataset to get mean error\n",
    "        #save mean errors for each lead day to new netcdf file\n",
    "        model_rmse.to_netcdf(path +'GFS_resampled_RMSE_{}_day_{:02d}_alt.nc'.format(variable,i))\n",
    "    #Measure duration of calculation\n",
    "\n",
    "    t2 = datetime.now()\n",
    "    print(t2-t1)"
   ]
  },
  {
   "cell_type": "code",
   "execution_count": 9,
   "metadata": {},
   "outputs": [
    {
     "name": "stdout",
     "output_type": "stream",
     "text": [
      "envelope\n"
     ]
    }
   ],
   "source": [
    "variablez = ['envelope']\n",
    "for variable in variablez:\n",
    "    print(variable)\n",
    "    #get file names from imported dictionary\n",
    "    file_gfs = file_dic[variable]['GFS']\n",
    "    file_era = file_dic[variable]['ERA5']\n",
    "    #open netcdf files as xarray datasets\n",
    "    gfs = xr.open_dataset(path_file+file_gfs,decode_times=False).squeeze()\n",
    "    era = xr.open_dataset(path_file+file_era,decode_times=False).squeeze()\n",
    "    #change dimension names of ERA5 dataset\n",
    "    if list(era.coords)[1]=='longitude':\n",
    "        era=era.rename({'longitude':'lon'})\n",
    "    if list(era.coords)[2]=='latitude':\n",
    "        era=era.rename({'latitude':'lat'})\n",
    "\n",
    "    #Convert dates to standard datetime values\n",
    "    gfs['time']=my_tools.convert_date_gefs_r(gfs.time.values)\n",
    "    era['time']=my_tools.convert_date_era_r(era.time.values)\n",
    "\n",
    "    #Select only data for 24h intervals\n",
    "    gfs = gfs.sel(lead=gfs.lead.values[[bool(i) for i in gfs.lead%24==0]])\n",
    "    era = era.sel(time=[i for i in pd.date_range('1984-12-{}'.format(1),'2019-11-30')])\n",
    "    gfs_sub = gfs.sel(lead=0,lat=slice(75,25),lon=slice(300,358))\n",
    "    era_sub = era.sel(lat=slice(75,25),lon=slice(300,358))"
   ]
  },
  {
   "cell_type": "code",
   "execution_count": 28,
   "metadata": {},
   "outputs": [
    {
     "name": "stdout",
     "output_type": "stream",
     "text": [
      "0.9544362288483995\n",
      "0.9544361663982903\n",
      "<xarray.DataArray 'v' ()>\n",
      "array(0.9544362, dtype=float32)\n",
      "Coordinates:\n",
      "    time     datetime64[ns] 1984-12-01\n",
      "    lead     float32 0.0\n",
      "    level    float64 300.0\n"
     ]
    }
   ],
   "source": [
    "from sklearn.metrics import mean_squared_error\n",
    "# diff = gfs_sub - era_sub \n",
    "def rmse(diff):\n",
    "    return np.sqrt((diff ** 2).mean())\n",
    "rmse_sklearn = mean_squared_error(gfs_sub.v.values[0,:,:],era_sub.v.values[0,:,:])**0.5\n",
    "\n",
    "diff_abs = diff**2\n",
    "rmse_my = (diff_abs.v.values[0,:,:].mean())**0.5\n",
    "rmse_fun = rmse(diff.v[0,:,:])\n",
    "\n",
    "print(rmse_sklearn)\n",
    "print(rmse_my)\n",
    "print(rmse_fun)\n",
    "\n"
   ]
  },
  {
   "cell_type": "code",
   "execution_count": null,
   "metadata": {},
   "outputs": [],
   "source": []
  }
 ],
 "metadata": {
  "kernelspec": {
   "display_name": "Python 3",
   "language": "python",
   "name": "python3"
  },
  "language_info": {
   "codemirror_mode": {
    "name": "ipython",
    "version": 3
   },
   "file_extension": ".py",
   "mimetype": "text/x-python",
   "name": "python",
   "nbconvert_exporter": "python",
   "pygments_lexer": "ipython3",
   "version": "3.8.5"
  }
 },
 "nbformat": 4,
 "nbformat_minor": 4
}
