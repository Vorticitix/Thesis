{
 "cells": [
  {
   "cell_type": "code",
   "execution_count": 1,
   "metadata": {},
   "outputs": [],
   "source": [
    "%load_ext autoreload\n",
    "%autoreload 2\n",
    "import xarray as xr\n",
    "import numpy as np\n",
    "import pandas as pd\n",
    "from matplotlib import pyplot as plt\n",
    "import cartopy.crs as ccrs\n",
    "#set directory for importinh my_tools,py\n",
    "import sys\n",
    "sys.path.append('/home/onno/Thesis/Scripts')\n",
    "import my_tools\n",
    "from my_tools import plot_dic, file_dic\n",
    "from datetime import datetime\n",
    "import glob\n",
    "%matplotlib qt"
   ]
  },
  {
   "cell_type": "code",
   "execution_count": 2,
   "metadata": {},
   "outputs": [],
   "source": [
    "#set path. Change accoridngly\n",
    "path_file = '/media/onno/Algemeen/Thesis/'\n",
    "path = '/media/onno/Algemeen/Thesis/GFS_mean_season/'"
   ]
  },
  {
   "cell_type": "markdown",
   "metadata": {},
   "source": [
    "Mean variable error for each season"
   ]
  },
  {
   "cell_type": "code",
   "execution_count": 3,
   "metadata": {},
   "outputs": [
    {
     "name": "stdout",
     "output_type": "stream",
     "text": [
      "envelope\n"
     ]
    }
   ],
   "source": [
    "#Categorize each month for season\n",
    "variablez = ['envelope']\n",
    "seasons = {'MAM':[3,4,5],\n",
    "          'JJA':[6,7,8],\n",
    "          'SON':[9,10,11],\n",
    "          'DJF':[12,1,2]}\n",
    "seasons = {'MMA':[3,4,5]}\n",
    "#Loop through season\n",
    "for variable in variablez:\n",
    "    print(variable)\n",
    "    #get file names from imported dictionary\n",
    "    file_gfs = file_dic[variable]['GFS']\n",
    "    file_era = file_dic[variable]['ERA5']\n",
    "    #open netcdf files as xarray datasets\n",
    "    gfs = xr.open_dataset(path_file+file_gfs,decode_times=False).squeeze()\n",
    "    era = xr.open_dataset(path_file+file_era,decode_times=False).squeeze()\n",
    "    #change dimension names of ERA5 dataset\n",
    "    if list(era.coords)[1]=='longitude':\n",
    "        era=era.rename({'longitude':'lon'})\n",
    "    if list(era.coords)[2]=='latitude':\n",
    "        era=era.rename({'latitude':'lat'})\n",
    "\n",
    "    #Convert dates to standard datetime values\n",
    "    gfs['time']=my_tools.convert_date_gefs_r(gfs.time.values)\n",
    "    era['time']=my_tools.convert_date_era_r(era.time.values)\n",
    "\n",
    "    #Select only data for 24h intervals\n",
    "    gfs = gfs.sel(lead=gfs.lead.values[[bool(i) for i in gfs.lead%24==0]])    \n",
    "    for key in seasons:\n",
    "        #loop through lead days\n",
    "        for i in range(11):\n",
    "            #Select days for which GEFS data is present and make datasets equally long\n",
    "            gfs_d = gfs.sel(time=[i for i in pd.date_range('1984-12-1','2019-11-{}'.format(30-i))],lead=i*24)\n",
    "            era_d = era.sel(time=[i for i in pd.date_range('1984-12-{}'.format(1+i),'2019-11-30')])        \n",
    "            #Make boolean array for each day that is present in season        \n",
    "            idxz = np.isin(gfs_d.time.dt.month,seasons[key])\n",
    "            gfs_season = gfs_d[plot_dic[variable]['data_variable']][idxz] ; era_season = era_d[plot_dic[variable]['data_variable']][idxz]\n",
    "            #Check if dates are correct\n",
    "            assert(np.all(np.isin([(j-pd.Timedelta(i,'d')).month for j in era_season.time.values],seasons[key])))\n",
    "            assert(np.all(np.isin([pd.to_datetime(j).month for j in gfs_season.time.values],seasons[key])))\n",
    "            gfs_season_mean = gfs_season.mean(dim='time')\n",
    "            era_season_mean = era_season.mean(dim='time')\n",
    "            diff = gfs_season_mean - era_season_mean\n",
    "            diff.to_netcdf(path+'/GFS_mean_error_{}_{}_day_{:02d}_globe_non_mars.nc'.format(plot_dic[variable]['filename'],key,i))\n",
    "\n"
   ]
  },
  {
   "cell_type": "code",
   "execution_count": null,
   "metadata": {},
   "outputs": [],
   "source": []
  }
 ],
 "metadata": {
  "kernelspec": {
   "display_name": "Python 3",
   "language": "python",
   "name": "python3"
  },
  "language_info": {
   "codemirror_mode": {
    "name": "ipython",
    "version": 3
   },
   "file_extension": ".py",
   "mimetype": "text/x-python",
   "name": "python",
   "nbconvert_exporter": "python",
   "pygments_lexer": "ipython3",
   "version": "3.8.5"
  }
 },
 "nbformat": 4,
 "nbformat_minor": 4
}
