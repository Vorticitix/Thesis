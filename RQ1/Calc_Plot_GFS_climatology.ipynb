{
 "cells": [
  {
   "cell_type": "code",
   "execution_count": 1,
   "metadata": {},
   "outputs": [],
   "source": [
    "%load_ext autoreload\n",
    "%autoreload 2\n",
    "import xarray as xr\n",
    "import numpy as np\n",
    "import pandas as pd\n",
    "from matplotlib import pyplot as plt\n",
    "#set directory for importinh my_tools,py\n",
    "import sys\n",
    "sys.path.append('/home/onno/Thesis/Scripts')\n",
    "import my_tools\n",
    "from my_tools import file_dic, plot_dic\n",
    "from datetime import datetime\n",
    "import glob\n",
    "from mpl_toolkits.basemap import Basemap, addcyclic\n",
    "%matplotlib qt"
   ]
  },
  {
   "cell_type": "code",
   "execution_count": 2,
   "metadata": {},
   "outputs": [],
   "source": [
    "#Set path. Change accordingly\n",
    "path_file = '/media/onno/Algemeen/Thesis/'\n",
    "path =  '/media/onno/Algemeen/Thesis/GFS_climatology/'\n",
    "#open dataset\n",
    "gfs = xr.open_dataset(path_file+file_gfs,decode_times=False)\n",
    "gfs['time']=my_tools.convert_date_gefs_r(gfs.time.values)\n",
    "#only select lead times at 24 h intervals\n",
    "gfs = gfs.sel(lead=gfs.lead.values[[bool(i) for i in gfs.lead%24==0]])"
   ]
  },
  {
   "cell_type": "code",
   "execution_count": 5,
   "metadata": {},
   "outputs": [],
   "source": [
    "#select variables to calculate mean and loop over them\n",
    "variablez = ['phasespeed','u_wind']\n",
    "for variable in variablez:\n",
    "    file_gfs = file_dic[variable]['GFS']\n",
    "    #open dataset\n",
    "    gfs = xr.open_dataset(path_file+file_gfs,decode_times=False)\n",
    "    gfs['time']=my_tools.convert_date_gefs_r(gfs.time.values)\n",
    "    #select only gfs values at 24 hour intervals\n",
    "    gfs = gfs.sel(lead=gfs.lead.values[[bool(i) for i in gfs.lead%24==0]])\n",
    "    #loop over all lead days\n",
    "    for i in range(11):\n",
    "        gfs_lead = gfs.sel(lead=i*24).squeeze()\n",
    "        #calculate climatology \n",
    "        gfs_lead_mean = gfs_lead.mean(dim='time')\n",
    "        #save climatology to netcf\n",
    "        gfs_lead_mean.to_netcdf(path+'GFS_{}_clim_day_{:02d}'.format(variable,i))\n",
    "    "
   ]
  },
  {
   "cell_type": "code",
   "execution_count": null,
   "metadata": {},
   "outputs": [],
   "source": [
    "variablez = ['envelope','phasespeed','u_wind']\n",
    "fig,axz = plt.subplots(2,5,figsize=(20,10))\n",
    "for variable in variablez:\n",
    "    for i in range(10):\n",
    "        ax = axz.flat[i]\n",
    "        gfs_lead_mean = xr.open_dataset(path+'/GFS_{}_clim_day_{:02d}.nc'.format(variable,i+1),decode_times=False)\n",
    "        #Create cyclic point so data is continious to sue for contourf\n",
    "\n",
    "        gfs_lead_mean_cyclic, lon_cyclic = addcyclic(gfs_lead_mean[plot_dic[variable]['data_variable']].values, gfs_lead_mean.lon)\n",
    "        lon,lat = np.meshgrid(lon_cyclic,gfs_lead_mean.lat)\n",
    "\n",
    "        m = Basemap(projection='ortho',lon_0=0,lat_0=90,resolution='c',ax=ax)\n",
    "        im = m.contourf(lon,lat,gfs_lead_mean_cyclic,latlon='true', extend='both', cmap=plt.cm.get_cmap('viridis'),\n",
    "                   vmin=0,vmax=12,levels=np.linspace(0,12,49))\n",
    "        m.drawcoastlines()\n",
    "        m.drawparallels((-80,-60,-40,-20,0,20,40,60,80))\n",
    "        m.drawmeridians((0,60,120,180,240,300),labels=[0,0,1,1])\n",
    "    fig.subplots_adjust(top=0.85,bottom=0.05,left=0,\n",
    "                        right=0.8,hspace=0.3,wspace=0.0)\n",
    "    cbax = fig.add_axes([0.85, 0.2, 0.025, 0.6])\n",
    "    fig.colorbar(im, cax=cbax)\n",
    "    cbax.set_ylabel(plot_dic[variable]['label'], rotation=90)\n",
    "    fig.suptitle('GEFS {} Climatology'.format(plot_dic[variable]['title']))\n",
    "    fig.subplots_adjust(right=0.84)\n",
    "    sys.exit()\n",
    "    fig.savefig(path+'GEFS_{}_climatology_mars.png'.format(variable))\n",
    "    plt.close(fig)"
   ]
  },
  {
   "cell_type": "code",
   "execution_count": 22,
   "metadata": {},
   "outputs": [],
   "source": [
    "#same procedure as the annual means but now done for each season\n",
    "seasons = {'MAM':[3,4,5],\n",
    "          'JJA':[6,7,8],\n",
    "          'SON':[9,10,11],\n",
    "          'DJF':[12,1,2]}\n",
    "variablez=['envelope','phasespeed','u_wind']\n",
    "for variable in variablez:\n",
    "    file_gfs = file_dic[variable]['GFS']\n",
    "    #open dataset\n",
    "    gfs = xr.open_dataset(path_file+file_gfs,decode_times=False)\n",
    "    gfs['time']=my_tools.convert_date_gefs_r(gfs.time.values)\n",
    "    gfs = gfs.sel(lead=gfs.lead.values[[bool(i) for i in gfs.lead%24==0]])\n",
    "    for key in seasons:\n",
    "        for i in range(11):\n",
    "            gfs_lead = gfs.sel(lead=i*24)\n",
    "            idxz = np.isin(gfs_lead.time.dt.month,seasons[key])\n",
    "            assert(gfs_lead.time[idxz][0].dt.month==seasons[key][0])\n",
    "            assert(gfs_lead.time[idxz][-1].dt.month==seasons[key][-1])\n",
    "            gfs_lead_season_mean=gfs_lead[plot_dic[variable]['data_variable']][idxz].mean(dim='time')\n",
    "            gfs_lead_season_mean.to_netcdf(path+'/GFS_{}_clim_{}_day_{:02d}.nc'.format(variable,key,i))\n",
    "    "
   ]
  },
  {
   "cell_type": "code",
   "execution_count": null,
   "metadata": {},
   "outputs": [],
   "source": []
  }
 ],
 "metadata": {
  "kernelspec": {
   "display_name": "Python 3",
   "language": "python",
   "name": "python3"
  },
  "language_info": {
   "codemirror_mode": {
    "name": "ipython",
    "version": 3
   },
   "file_extension": ".py",
   "mimetype": "text/x-python",
   "name": "python",
   "nbconvert_exporter": "python",
   "pygments_lexer": "ipython3",
   "version": "3.8.5"
  }
 },
 "nbformat": 4,
 "nbformat_minor": 4
}
