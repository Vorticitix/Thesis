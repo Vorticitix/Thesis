{
 "cells": [
  {
   "cell_type": "code",
   "execution_count": 2,
   "metadata": {},
   "outputs": [
    {
     "name": "stdout",
     "output_type": "stream",
     "text": [
      "The autoreload extension is already loaded. To reload it, use:\n",
      "  %reload_ext autoreload\n"
     ]
    }
   ],
   "source": [
    "%load_ext autoreload\n",
    "%autoreload 2\n",
    "import xarray as xr\n",
    "from matplotlib import pyplot as plt\n",
    "import numpy as np\n",
    "#set path to import my_toools.py\n",
    "import sys\n",
    "sys.path.append('/home/onno/Thesis/Scripts')\n",
    "import my_tools\n",
    "from my_tools import file_dic, plot_dic\n",
    "import pandas as pd\n",
    "import glob\n",
    "%matplotlib qt\n",
    "\n"
   ]
  },
  {
   "cell_type": "code",
   "execution_count": null,
   "metadata": {},
   "outputs": [],
   "source": [
    "#set path change accordingly\n",
    "path = '/media/onno/UUI/Thesis_data/GFS_error_weighted_mean/'\n",
    "path_file = '/media/onno/Algemeen/Thesis/'\n",
    "#List specific variable data\n",
    "variable='envelope'\n",
    "file_gfs = file_dic[variable]['GFS']\n",
    "file_era = file_dic[variable]['ERA5']\n",
    "#open xarray datasets\n",
    "gfs = xr.open_dataset(path_file+file_gfs,decode_times=False)\n",
    "era = xr.open_dataset(path_file+file_era,decode_times=False)\n",
    "\n",
    "#change time values to normal datetime values\n",
    "gfs['time']=my_tools.convert_date_gefs_r(gfs.time.values)\n",
    "era['time']=my_tools.convert_date_era_r(era.time.values)\n",
    "if list(era.coords)[1]=='longitude':\n",
    "    era=era.rename({'longitude':'lon'})\n",
    "if list(era.coords)[2]=='latitude':\n",
    "    era=era.rename({'latitude':'lat'})"
   ]
  },
  {
   "cell_type": "code",
   "execution_count": 4,
   "metadata": {},
   "outputs": [],
   "source": [
    "#Select specific 24 by 24 degrees area \n",
    "latz = [(64,40),(64,40),(56,32)]\n",
    "lonz = [(0,24),(310,334),(230,254)]\n",
    "\n",
    "for i in range(len(latz)):\n",
    "    gfs_selected = gfs.sel(lat=slice(latz[i][0],latz[i][1]),\n",
    "                          lon=slice(lonz[i][0],lonz[i,1]))\n",
    "    era_selected = era.sel(lat=slice(latz[i][0],latz[i][1]),\n",
    "                          lon=slice(lonz[i][0],lonz[i,1]))\n",
    "    for i in range(11):\n",
    "        #Select data for each day and specific lead time\n",
    "        gfs_selected_d = gfs_selected_d.sel(time=[i for i in pd.date_range('1984-12-1','2019-11-{}'.format(30-i))],lead=i*24)\n",
    "        era_selected_d = era_selected_d.sel(time=[i for i in pd.date_range('1984-12-{}'.format(1+i),'2019-11-30')]) \n",
    "        #Using the xarray weighted function to calculate latitude weighted mean error\n",
    "        #Calculating the weights\n",
    "        weights = np.cos(np.deg2rad(gfs_europe_d.lat))\n",
    "        #Calculate difference between datasets to get array of errors for all days in dataset\n",
    "        diff = gfs_selected_d - era_selected_d\n",
    "        #Caluclate latitude weighted mean average\n",
    "        diff_weighted = diff.weighted(weights)\n",
    "        weighted_mean = diff_weighted.mean(dim=['lat','lon'])\n",
    "        #write data to netcdf file\n",
    "        weighted_mean.to_netcdf(path+'/GFS_error_weighted_mean_envelope_day_{:02d}_lat_lower_left_{}_lon_lower_left_{}.nc'.format(i,latz[i][1],lonz[i][0]))"
   ]
  },
  {
   "cell_type": "code",
   "execution_count": 6,
   "metadata": {},
   "outputs": [],
   "source": [
    "#Loop over all lead days (from 0 till 10)\n",
    "for i in range(11):\n",
    "    #Select data for each day and specific lead time\n",
    "    gfs_europe_d = gfs_europe.sel(time=[i for i in pd.date_range('1984-12-1','2019-11-{}'.format(30-i))],lead=i*24)\n",
    "    era_europe_d = era_europe.sel(time=[i for i in pd.date_range('1984-12-{}'.format(1+i),'2019-11-30')]) \n",
    "    #Using the xarray weighted function to calculate latitude weighted mean error\n",
    "    #Calculating the weights\n",
    "    weights = np.cos(np.deg2rad(gfs_europe_d.lat))\n",
    "    #Calculate difference between datasets to get array of errors for all days in dataset\n",
    "    diff = gfs_europe_d - era_europe_d\n",
    "    #Caluclate latitude weighted mean average\n",
    "    diff_weighted = diff.weighted(weights)\n",
    "    weighted_mean = diff_weighted.mean(dim=['lat','lon'])\n",
    "    #write data to netcdf file\n",
    "    weighted_mean.to_netcdf(path+'/GFS_error_weighted_mean_envelope_day_{:02d}_europe.nc'.format(i))\n"
   ]
  },
  {
   "cell_type": "code",
   "execution_count": 7,
   "metadata": {},
   "outputs": [],
   "source": [
    "#Loop over all lead days (from 0 till 10)\n",
    "for i in range(11):\n",
    "    #Select data for each day and specific lead time\n",
    "    gfs_europe_d = gfs_europe.sel(time=[i for i in pd.date_range('1984-12-1','2019-11-{}'.format(30-i))],lead=i*24)\n",
    "    #Using the xarray weighted function to calculate latitude weighted mean error\n",
    "    #Calculating the weights\n",
    "    weights = np.cos(np.deg2rad(gfs_europe_d.lat))\n",
    "    #Calculate difference between datasets to get array of errors for all days in dataset\n",
    "    #Caluclate latitude weighted mean average\n",
    "    gfs_europe_d_weighted = gfs_europe_d.weighted(weights)\n",
    "    weighted_mean = gfs_europe_d_weighted.mean(dim=['lat','lon'])\n",
    "    #write data to netcdf file\n",
    "    weighted_mean.to_netcdf(path+'/GFS_weighted_mean_envelope_day_{:02d}_europe.nc'.format(i))\n"
   ]
  },
  {
   "cell_type": "code",
   "execution_count": 4,
   "metadata": {},
   "outputs": [],
   "source": [
    "#list all relevant files\n",
    "filez = sorted(glob.glob('/media/onno/Algemeen/Thesis/GFS_error_weighted_mean/GFS_weighted_mean_envelope_day_??_europe.nc'))\n",
    "#create base figure\n",
    "plt.rcParams.update({'font.size': 14})\n",
    "fig,axz = plt.subplots(2,5)\n",
    "#set number of bins for histogram\n",
    "bins = 40\n",
    "#loop over all subplots\n",
    "for i,ax in enumerate(axz.flat):\n",
    "    #open accompanying 1D datasets for each error\n",
    "    ds = xr.open_dataset(filez[i+1],decode_times=False)\n",
    "    #Calculate median error and standard deviation for each lead day\n",
    "    stdv = float(ds.v.std())\n",
    "    median = float(ds.v.median())\n",
    "    #plot data\n",
    "    ax.hist(x=ds.v.values,bins=bins,range=(0,60))\n",
    "    ax.set_ylim([0,1500])\n",
    "    ax.grid()\n",
    "    ax.set_ylabel('N')\n",
    "    ax.set_xlabel('Error (m/s)')\n",
    "    #set figure eproperties\n",
    "    if i<5:\n",
    "        ax.text(x=0.5,y=-0.125,s='\\u03BC = {:.2f} \\u03C3 = {:.2f}'.format(median,stdv),\n",
    "           transform=ax.transAxes,horizontalalignment='center',fontsize=12)\n",
    "    else:\n",
    "        ax.text(x=0.5,y=-0.225,s='\\u03BC = {:.2f} \\u03C3 = {:.2f}'.format(median,stdv),\n",
    "           transform=ax.transAxes,horizontalalignment='center',fontsize=12)        \n",
    "    ax.label_outer()\n",
    "fig.suptitle('GEFS Envelope Forecast 10 day Error Distribution')\n",
    "# plt.subplots_adjust(hspace=0.3)\n",
    "fig.show()\n",
    "    \n",
    "    "
   ]
  },
  {
   "cell_type": "code",
   "execution_count": null,
   "metadata": {},
   "outputs": [],
   "source": []
  }
 ],
 "metadata": {
  "kernelspec": {
   "display_name": "Python 3",
   "language": "python",
   "name": "python3"
  },
  "language_info": {
   "codemirror_mode": {
    "name": "ipython",
    "version": 3
   },
   "file_extension": ".py",
   "mimetype": "text/x-python",
   "name": "python",
   "nbconvert_exporter": "python",
   "pygments_lexer": "ipython3",
   "version": "3.7.6"
  }
 },
 "nbformat": 4,
 "nbformat_minor": 4
}
