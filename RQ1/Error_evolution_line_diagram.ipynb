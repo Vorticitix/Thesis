{
 "cells": [
  {
   "cell_type": "code",
   "execution_count": 75,
   "metadata": {},
   "outputs": [
    {
     "name": "stdout",
     "output_type": "stream",
     "text": [
      "The autoreload extension is already loaded. To reload it, use:\n",
      "  %reload_ext autoreload\n"
     ]
    }
   ],
   "source": [
    "%load_ext autoreload\n",
    "%autoreload 2\n",
    "%matplotlib qt\n",
    "import xarray as xr\n",
    "import numpy as np\n",
    "from matplotlib import pyplot as plt\n",
    "from glob import glob\n",
    "#set path for my_tools script\n",
    "import sys\n",
    "sys.path.append('/home/onno/Thesis/Scripts')\n",
    "import my_tools"
   ]
  },
  {
   "cell_type": "code",
   "execution_count": 79,
   "metadata": {},
   "outputs": [],
   "source": [
    "#list all relevant files\n",
    "filez = sorted(glob('/media/onno/Algemeen/Thesis/GFS_mean/*phasespeed*.nc'))\n",
    "#Put all lead day errors into one dataset\n",
    "datasets = []\n",
    "for i, file in enumerate(filez):\n",
    "    ds_single = xr.open_dataset(file,decode_times=False)\n",
    "    datasets.append(ds_single)\n",
    "ds = xr.concat(datasets,dim='lead').squeeze()"
   ]
  },
  {
   "cell_type": "code",
   "execution_count": 80,
   "metadata": {},
   "outputs": [
    {
     "name": "stdout",
     "output_type": "stream",
     "text": [
      "[[ 0.         -0.22269797 -0.17327106 -0.20218268 -0.22369966 -0.18509324\n",
      "  -0.15430865 -0.21805076 -0.2650072  -0.2757006  -0.20581493]\n",
      " [ 0.         -0.31432471 -0.38909486 -0.41941345 -0.43612447 -0.43406713\n",
      "  -0.42286304 -0.39944455 -0.47697347 -0.45164818 -0.45557433]\n",
      " [ 0.         -0.31115746 -0.36487457 -0.42048326 -0.43812075 -0.44898364\n",
      "  -0.44459113 -0.42003953 -0.4579629  -0.49149889 -0.51593596]\n",
      " [ 0.         -0.28970933 -0.28760779 -0.31008792 -0.32072955 -0.3322449\n",
      "  -0.34915251 -0.33285066 -0.31908256 -0.35032564 -0.35045654]\n",
      " [ 0.         -0.204695   -0.20229112 -0.24367282 -0.23637258 -0.24479944\n",
      "  -0.2333764  -0.21464933 -0.1780483  -0.18775339 -0.17854762]\n",
      " [ 0.         -0.14047706 -0.14890774 -0.15519413 -0.16265881 -0.15750428\n",
      "  -0.16212061 -0.18508458 -0.1609142  -0.17138647 -0.17704977]]\n"
     ]
    }
   ],
   "source": [
    "#Only select values between 20 and 80 degrees north\n",
    "ds =ds.sel(lat=slice(80,20))\n",
    "#Seperating the data in bins of 10 degrees\n",
    "latz = [(20,30),(30,40),(40,50),(50,60),(60,70),(70,80)]\n",
    "leads = np.linspace(0,240,11)\n",
    "mean_lat_lead = []\n",
    "for lat in latz:\n",
    "    mean_lat_each_lead=[]\n",
    "    for lead in leads:   \n",
    "        #Calculating the mean compensating for cosine altitude weighting\n",
    "        ds_lat = ds.sel(lat=slice(lat[1],lat[0]),lead=lead)\n",
    "        ds_lat_mean = my_tools.weighted_average_area(ds_lat)\n",
    "        mean_lat_each_lead.append(float(ds_lat_mean))\n",
    "    mean_lat_lead.append(mean_lat_each_lead)\n",
    "mean_lat_lead = np.array(mean_lat_lead)\n",
    "print(mean_lat_lead)        \n",
    "    "
   ]
  },
  {
   "cell_type": "code",
   "execution_count": 82,
   "metadata": {},
   "outputs": [],
   "source": [
    "#Creating line graph\n",
    "legendz = ['20-30 °N','30-40 °N','40-50 °N','50-60 °N','60-70 °N','70-80 °N']\n",
    "colorz = ['#930717','#AF0F19','#CF4A0C','#E1A023','#EBD110','#6A9D16']\n",
    "fig,ax = plt.subplots()\n",
    "\n",
    "for i in range(len(mean_lat_lead)):\n",
    "    ax.plot(mean_lat_lead[i],label=legendz[i],color=colorz[i])\n",
    "    ax.legend(loc='upper right')\n",
    "    ax.set_xlabel(\"Lead time (days)\")\n",
    "    ax.set_ylabel('Mean error in Cp (m/s)')\n",
    "    ax.set_ylim(-0.6,0)\n",
    "    ax.set_xticks(np.arange(11))\n",
    "    ax.grid(b=True,which='major',axis='y')\n",
    "    ax.margins(0)\n",
    "fig.suptitle('GFS Mean Error in Phase Speed for each Latitude Group compared to ERA5')\n",
    "fig.show()"
   ]
  },
  {
   "cell_type": "code",
   "execution_count": null,
   "metadata": {},
   "outputs": [],
   "source": []
  }
 ],
 "metadata": {
  "kernelspec": {
   "display_name": "Python 3",
   "language": "python",
   "name": "python3"
  },
  "language_info": {
   "codemirror_mode": {
    "name": "ipython",
    "version": 3
   },
   "file_extension": ".py",
   "mimetype": "text/x-python",
   "name": "python",
   "nbconvert_exporter": "python",
   "pygments_lexer": "ipython3",
   "version": "3.8.5"
  }
 },
 "nbformat": 4,
 "nbformat_minor": 4
}
