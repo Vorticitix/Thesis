{
 "cells": [
  {
   "cell_type": "code",
   "execution_count": 3,
   "metadata": {},
   "outputs": [],
   "source": [
    "%load_ext autoreload\n",
    "%autoreload 2\n",
    "import xarray as xr\n",
    "import numpy as np\n",
    "import pandas as pd\n",
    "from matplotlib import pyplot as plt\n",
    "#set directory for importinh my_tools,py\n",
    "import sys\n",
    "sys.path.append('/home/onno/Thesis/Scripts')\n",
    "import my_tools\n",
    "from my_tools import file_dic, plot_dic\n",
    "from datetime import datetime\n",
    "import glob\n",
    "from mpl_toolkits.basemap import Basemap, addcyclic\n",
    "%matplotlib qt"
   ]
  },
  {
   "cell_type": "code",
   "execution_count": 4,
   "metadata": {},
   "outputs": [],
   "source": [
    "#set path \n",
    "path = '/media/onno/Algemeen/Thesis/GFS_mean/'\n",
    "#List all files\n",
    "error_wavenumber = sorted(glob.glob(path+'GFS_mean_error_wavenumber_day_??_globe_mars.nc'))\n",
    "error_phasespeed = sorted(glob.glob(path+'GFS_mean_error_phasespeed_day_??_globe_mars.nc'))\n",
    "error_u_wind = sorted(glob.glob(path+'GFS_mean_error_u_wind_day_??_globe_mars.nc'))"
   ]
  },
  {
   "cell_type": "code",
   "execution_count": 19,
   "metadata": {},
   "outputs": [],
   "source": [
    "lat = np.arange(90,-91,-2)\n",
    "lon = np.arange(0,360,2)\n",
    "lonz,latz = np.meshgrid(lon,lat)\n",
    "beta = np.zeros(np.shape(latz))"
   ]
  },
  {
   "cell_type": "code",
   "execution_count": null,
   "metadata": {},
   "outputs": [],
   "source": [
    "for i in range(1,11):\n",
    "    "
   ]
  }
 ],
 "metadata": {
  "kernelspec": {
   "display_name": "Python 3",
   "language": "python",
   "name": "python3"
  },
  "language_info": {
   "codemirror_mode": {
    "name": "ipython",
    "version": 3
   },
   "file_extension": ".py",
   "mimetype": "text/x-python",
   "name": "python",
   "nbconvert_exporter": "python",
   "pygments_lexer": "ipython3",
   "version": "3.8.5"
  }
 },
 "nbformat": 4,
 "nbformat_minor": 4
}
