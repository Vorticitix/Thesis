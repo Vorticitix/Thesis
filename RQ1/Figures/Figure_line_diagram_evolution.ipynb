{
 "cells": [
  {
   "cell_type": "code",
   "execution_count": 1,
   "metadata": {},
   "outputs": [],
   "source": [
    "%load_ext autoreload\n",
    "%autoreload 2\n",
    "%matplotlib qt\n",
    "import xarray as xr\n",
    "import numpy as np\n",
    "from matplotlib import pyplot as plt\n",
    "from glob import glob\n",
    "#set path for my_tools script\n",
    "import sys\n",
    "sys.path.append('/home/onno/Thesis/Scripts')\n",
    "import my_tools\n",
    "from my_tools import file_dic, plot_dic"
   ]
  },
  {
   "cell_type": "code",
   "execution_count": null,
   "metadata": {},
   "outputs": [],
   "source": [
    "#set file paths\n",
    "path_annual = '/home/onno/Thesis/GFS_mean/'\n",
    "path_season = '/home/onno/Thesis/GFS_mean_season/'\n",
    "path_to_write = '/home/onno/Thesis/Main_Figures/'\n",
    "#intialize figure\n",
    "fig,axz = plt.subplots(1,3)]\n",
    "#set variables\n",
    "variablez = ['envelope','phasespeed','u_wind']\n",
    "#set latitude data for NH and SH to plot\n",
    "latz_hem = [(75,25),(-25,-75)]\n",
    "for k,variable in enumerate(variablez):\n",
    "    ax = axz.flat[k]\n",
    "    for lat_hem in latz_hem:\n",
    "        for i in range(11):\n",
    "            file_annual = 'GFS_mean_error_{}_day_{:02d}_globe_mars.nc'.format(variable,i)\n",
    "            file_DJF = 'GFS_mean_error_{}_DJF_day_{:02d}_globe.nc'.format(variable,i)\n",
    "            file_JJA = 'GFS_mean_error_{}_JJA_day_{:02d}_globe.nc'.format(variable,i)\n",
    "            ds = xr.open_dataset(path_annua+file_annual,decode_times=False)\n",
    "            ds_DJF = xr.open_dataset(path_season+file_DJF,decode_times=False)\n",
    "            ds_JJA = xr.open_dataset(path_season+file_JJA,decode_times=False)\n",
    "    \n",
    "    \n"
   ]
  }
 ],
 "metadata": {
  "kernelspec": {
   "display_name": "Python 3",
   "language": "python",
   "name": "python3"
  },
  "language_info": {
   "codemirror_mode": {
    "name": "ipython",
    "version": 3
   },
   "file_extension": ".py",
   "mimetype": "text/x-python",
   "name": "python",
   "nbconvert_exporter": "python",
   "pygments_lexer": "ipython3",
   "version": "3.8.5"
  }
 },
 "nbformat": 4,
 "nbformat_minor": 4
}
