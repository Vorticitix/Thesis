{
 "cells": [
  {
   "cell_type": "code",
   "execution_count": 1,
   "metadata": {},
   "outputs": [],
   "source": [
    "%load_ext autoreload\n",
    "%autoreload 2\n",
    "import xarray as xr\n",
    "import numpy as np\n",
    "import pandas as pd\n",
    "from matplotlib import pyplot as plt\n",
    "import cartopy.crs as ccrs\n",
    "import sys\n",
    "sys.path.append('/home/onno/Thesis/Scripts')\n",
    "import my_tools\n",
    "from datetime import datetime\n",
    "import glob\n",
    "%matplotlib qt"
   ]
  },
  {
   "cell_type": "markdown",
   "metadata": {},
   "source": [
    "Selecting the GEFS data and comparing them with ERA5 observations. Choose either RWP envelope or phase speed. Only select Northern Hemisphere"
   ]
  },
  {
   "cell_type": "code",
   "execution_count": 2,
   "metadata": {},
   "outputs": [],
   "source": [
    "path = '/media/onno/Algemeen/Thesis/'\n",
    "file_gfs = 'gefsrf2_env_wledit2000-10000_latavg_v300_control0-252h_6hourly_2x2_dec84-nov19.nc'\n",
    "file_era = 'era51_env_wledit2000-10000_latavg_v300_79-19_6hourly_anom_from_smoothed04_clim_smoothed.nc'\n",
    "# file_gfs = 'gefsrf2_phasevel_wledit2000-10000_latavg_v300_envgt15_control0-252h_6hourly_2x2_dec84-nov19_setvrange_-100to100.nc'\n",
    "# file_era = 'era51_phasevel_wledit2000-10000_latavg_v300_envgt15_79-19_6hourly_anom_from_smoothed04_clim_setvrange_-100to100.nc'\n",
    "gfs = xr.open_dataset(path+file_gfs,decode_times=False)\n",
    "era = xr.open_dataset(path+file_era,decode_times=False)\n",
    " "
   ]
  },
  {
   "cell_type": "code",
   "execution_count": 3,
   "metadata": {},
   "outputs": [],
   "source": [
    "gfs_nh = gfs.sel(lat=slice(90,0),lead=gfs.lead.values[[bool(i) for i in gfs.lead%24==0]])\n",
    "era_nh = era.sel(lat=slice(90,0))"
   ]
  },
  {
   "cell_type": "markdown",
   "metadata": {},
   "source": [
    "Calculating daily mean errors "
   ]
  },
  {
   "cell_type": "code",
   "execution_count": 6,
   "metadata": {},
   "outputs": [
    {
     "name": "stdout",
     "output_type": "stream",
     "text": [
      "0:00:00.464547\n"
     ]
    }
   ],
   "source": [
    "t1 = datetime.now()\n",
    "for i in range(1,11):\n",
    "    forecast = gfs_nh.sel(time=[my_tools.convert_date_gefs(i) for i in pd.date_range('1984-12-1','2019-11-{}'.format(30-i))],lead=i*24)\n",
    "    reanalysis = era_nh.sel(time=[my_tools.convert_date_era(i) for i in pd.date_range('1984-12-{}'.format(1+i),'2019-11-30')])\n",
    "    break\n",
    "    assert(my_tools.convert_date_gefs_r(float(forecast.time[0]+forecast.lead.values))==my_tools.convert_date_gefs_r(float(reanalysis.time[0])))\n",
    "    forecast_mean = forecast.mean(dim='time')\n",
    "    reanalysis_mean = reanalysis.mean(dim='time')\n",
    "    diff = forecast_mean - reanalysis_mean\n",
    "    diff.to_netcdf('/media/onno/Algemeen/Thesis/GFS_mean/bias_GFS_forecast_envelope_only_GEFS_day{:02d}.nc'.format(i))\n",
    "    print(i)\n",
    "t2 = datetime.now()\n",
    "print(t2-t1)\n"
   ]
  },
  {
   "cell_type": "code",
   "execution_count": 6,
   "metadata": {
    "jupyter": {
     "source_hidden": true
    }
   },
   "outputs": [
    {
     "name": "stdout",
     "output_type": "stream",
     "text": [
      "0:00:01.863019\n"
     ]
    }
   ],
   "source": [
    "t1 = datetime.now()\n",
    "for i in range(1,11):\n",
    "    forecast = gfs_nh.sel(time=[my_tools.convert_date_gefs(i) for i in pd.date_range('2014-12-1','2019-11-{}'.format(30-i))],lead=i*24)\n",
    "    reanalysis = era_nh.sel(time=[my_tools.convert_date_era(i) for i in pd.date_range('2014-12-{}'.format(1+i),'2019-11-30')])\n",
    "    assert(my_tools.convert_date_gefs_r(float(forecast.time[0]+forecast.lead.values))==my_tools.convert_date_era_r(float(reanalysis.time[0])))\n",
    "    reanalysis['time'] = forecast.time.values\n",
    "#     forecast_mean = forecast.mean(dim='time')\n",
    "#     reanalysis_mean = reanalysis.mean(dim='time')\n",
    "    diff2 = forecast - reanalysis\n",
    "    diff2 = diff2.mean(dim='time')\n",
    "    break\n",
    "    diff.to_netcdf('/media/onno/Algemeen/Thesis/GFS_mean/bias_GFS_forecast_phasespeed_day{:02d}.nc'.format(i))\n",
    "    print(i)\n",
    "t2 = datetime.now()\n",
    "print(t2-t1)\n"
   ]
  },
  {
   "cell_type": "code",
   "execution_count": 8,
   "metadata": {},
   "outputs": [],
   "source": [
    "\n"
   ]
  },
  {
   "cell_type": "code",
   "execution_count": 9,
   "metadata": {},
   "outputs": [
    {
     "data": {
      "text/plain": [
       "1708584.0"
      ]
     },
     "execution_count": 9,
     "metadata": {},
     "output_type": "execute_result"
    }
   ],
   "source": []
  },
  {
   "cell_type": "code",
   "execution_count": null,
   "metadata": {},
   "outputs": [],
   "source": []
  }
 ],
 "metadata": {
  "kernelspec": {
   "display_name": "Python 3",
   "language": "python",
   "name": "python3"
  },
  "language_info": {
   "codemirror_mode": {
    "name": "ipython",
    "version": 3
   },
   "file_extension": ".py",
   "mimetype": "text/x-python",
   "name": "python",
   "nbconvert_exporter": "python",
   "pygments_lexer": "ipython3",
   "version": "3.8.5"
  }
 },
 "nbformat": 4,
 "nbformat_minor": 4
}
