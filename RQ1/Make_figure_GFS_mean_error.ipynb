{
 "cells": [
  {
   "cell_type": "code",
   "execution_count": 16,
   "metadata": {},
   "outputs": [],
   "source": [
    "import glob\n",
    "import xarray as xr\n",
    "from matplotlib import pyplot as plt\n",
    "%matplotlib qt\n",
    "import cartopy.crs as ccrs\n"
   ]
  },
  {
   "cell_type": "code",
   "execution_count": 52,
   "metadata": {},
   "outputs": [
    {
     "name": "stdout",
     "output_type": "stream",
     "text": [
      "/media/onno/Algemeen/Thesis/GFS_mean/bias_GFS_forecast_phasespeed_day01.nc\n",
      "/media/onno/Algemeen/Thesis/GFS_mean/bias_GFS_forecast_phasespeed_day02.nc\n",
      "/media/onno/Algemeen/Thesis/GFS_mean/bias_GFS_forecast_phasespeed_day03.nc\n",
      "/media/onno/Algemeen/Thesis/GFS_mean/bias_GFS_forecast_phasespeed_day04.nc\n",
      "/media/onno/Algemeen/Thesis/GFS_mean/bias_GFS_forecast_phasespeed_day05.nc\n",
      "/media/onno/Algemeen/Thesis/GFS_mean/bias_GFS_forecast_phasespeed_day06.nc\n",
      "/media/onno/Algemeen/Thesis/GFS_mean/bias_GFS_forecast_phasespeed_day07.nc\n",
      "/media/onno/Algemeen/Thesis/GFS_mean/bias_GFS_forecast_phasespeed_day08.nc\n",
      "/media/onno/Algemeen/Thesis/GFS_mean/bias_GFS_forecast_phasespeed_day09.nc\n",
      "/media/onno/Algemeen/Thesis/GFS_mean/bias_GFS_forecast_phasespeed_day10.nc\n"
     ]
    },
    {
     "data": {
      "text/plain": [
       "Text(0, 0.5, 'Cp (m/s)')"
      ]
     },
     "execution_count": 52,
     "metadata": {},
     "output_type": "execute_result"
    }
   ],
   "source": [
    "filez = sorted(glob.glob('/media/onno/Algemeen/Thesis/GFS_mean/*phasespeed*.nc'))\n",
    "fig,axz = plt.subplots(2,5,subplot_kw={'projection': ccrs.Orthographic(0,90)})\n",
    "fig.show()\n",
    "for i, ax in enumerate(axz.flat):\n",
    "    ds = xr.open_dataset(filez[i+1],decode_times=False).squeeze()\n",
    "    ax.coastlines()\n",
    "    im = ax.imshow(ds.v,transform=ccrs.PlateCarree(),\n",
    "                   vmin=-4,vmax=4,cmap='seismic')\n",
    "    ax.set_title('Day {}'.format(i+1))\n",
    "    print(filez[i+1])\n",
    "\n",
    "# cbar = fig.colorbar(im)\n",
    "# cbar.set_label('E (m/s)', rotation=90)\n",
    "fig.suptitle('GEFS mean RWP phase speed error compared to ERA5')\n",
    "fig.subplots_adjust(right=0.85)\n",
    "cbax = fig.add_axes([0.875, 0.2, 0.025, 0.6])\n",
    "fig.colorbar(im, cax=cbax)\n",
    "cbax.set_ylabel('Cp (m/s)', rotation=90)\n",
    "#     fig.savefig('/media/onno/Algemeen/Thesis/GFS_mean/GEFS_forecast_envelope_error_day_{:02d}'.format(i))\n",
    "# plt.close(fig)"
   ]
  },
  {
   "cell_type": "code",
   "execution_count": null,
   "metadata": {},
   "outputs": [],
   "source": [
    "filez = glob.glob('/media/onno/Algemeen/Thesis/GFS_mean/*envelope*.nc')\n",
    "for i, file in enumerate(filez):\n",
    "    ds = xr.open_dataset(file,decode_times=False).squeeze()\n",
    "    fig = plt.figure()\n",
    "    ax = plt.subplot(1,1,1,projection=ccrs.Orthographic(0, 90))\n",
    "    ax.coastlines()\n",
    "    im = ax.imshow(ds.v,transform=ccrs.PlateCarree(),\n",
    "                   vmin=-2.5,vmax=2.5,cmap='seismic')\n",
    "    cbar = fig.colorbar(im)\n",
    "    cbar.set_label('E (m/s)', rotation=90)\n",
    "    fig.suptitle('GEFS mean RWP Envelope error day {}'.format(i))\n",
    "    fig.savefig('/media/onno/Algemeen/Thesis/GFS_mean/GEFS_forecast_envelope_error_day_{:02d}'.format(i))\n",
    "    plt.close(fig)"
   ]
  }
 ],
 "metadata": {
  "kernelspec": {
   "display_name": "Python 3",
   "language": "python",
   "name": "python3"
  },
  "language_info": {
   "codemirror_mode": {
    "name": "ipython",
    "version": 3
   },
   "file_extension": ".py",
   "mimetype": "text/x-python",
   "name": "python",
   "nbconvert_exporter": "python",
   "pygments_lexer": "ipython3",
   "version": "3.8.5"
  }
 },
 "nbformat": 4,
 "nbformat_minor": 4
}
