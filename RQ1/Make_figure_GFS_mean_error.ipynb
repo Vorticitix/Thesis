{
 "cells": [
  {
   "cell_type": "code",
   "execution_count": 57,
   "metadata": {},
   "outputs": [
    {
     "name": "stdout",
     "output_type": "stream",
     "text": [
      "The autoreload extension is already loaded. To reload it, use:\n",
      "  %reload_ext autoreload\n"
     ]
    }
   ],
   "source": [
    "%load_ext autoreload\n",
    "%autoreload 2\n",
    "import glob\n",
    "import xarray as xr\n",
    "from matplotlib import pyplot as plt\n",
    "%matplotlib qt\n",
    "import cartopy.crs as ccrs\n",
    "import numpy as np\n",
    "import sys\n",
    "sys.path.append('/home/onno/Thesis/Scripts')\n",
    "import my_tools\n",
    "\n"
   ]
  },
  {
   "cell_type": "markdown",
   "metadata": {},
   "source": [
    "Normal 10 day plot"
   ]
  },
  {
   "cell_type": "code",
   "execution_count": 91,
   "metadata": {},
   "outputs": [
    {
     "name": "stdout",
     "output_type": "stream",
     "text": [
      "/media/onno/Algemeen/Thesis/GFS_mean/GFS_mean_error_u_wind_day_01.nc\n",
      "/media/onno/Algemeen/Thesis/GFS_mean/GFS_mean_error_u_wind_day_02.nc\n",
      "/media/onno/Algemeen/Thesis/GFS_mean/GFS_mean_error_u_wind_day_03.nc\n",
      "/media/onno/Algemeen/Thesis/GFS_mean/GFS_mean_error_u_wind_day_04.nc\n",
      "/media/onno/Algemeen/Thesis/GFS_mean/GFS_mean_error_u_wind_day_05.nc\n",
      "/media/onno/Algemeen/Thesis/GFS_mean/GFS_mean_error_u_wind_day_06.nc\n",
      "/media/onno/Algemeen/Thesis/GFS_mean/GFS_mean_error_u_wind_day_07.nc\n",
      "/media/onno/Algemeen/Thesis/GFS_mean/GFS_mean_error_u_wind_day_08.nc\n",
      "/media/onno/Algemeen/Thesis/GFS_mean/GFS_mean_error_u_wind_day_09.nc\n",
      "/media/onno/Algemeen/Thesis/GFS_mean/GFS_mean_error_u_wind_day_10.nc\n"
     ]
    }
   ],
   "source": [
    "#list all the relevant files\n",
    "filez = sorted(glob.glob('/media/onno/Algemeen/Thesis/GFS_mean/*u_wind*.nc'))\n",
    "#create orthographic plot for each lead day\n",
    "fig,axz = plt.subplots(2,5,subplot_kw={'projection': ccrs.Orthographic(0,90)})\n",
    "fig.show()\n",
    "for i, ax in enumerate(axz.flat):\n",
    "    ds = xr.open_dataset(filez[i+1],decode_times=False).squeeze()\n",
    "    ds = ds.sel(lat=slice(85,0))\n",
    "    ax.coastlines()\n",
    "    im = ax.pcolormesh(ds.lon.values,ds.lat.values,ds.u.values,\n",
    "                    transform=ccrs.PlateCarree(),\n",
    "                    cmap='bwr',\n",
    "                    vmin=-2,vmax=2)\n",
    "    ax.text(x=0.5,y=-0.15,s='Mean u = {:.2f}'.format(float(my_tools.weighted_average_area(ds))),\n",
    "           transform=ax.transAxes,horizontalalignment='center',fontsize=12)\n",
    "    gl = ax.gridlines(crs=ccrs.PlateCarree(), draw_labels=True)\n",
    "    ax.set_title('Day {}'.format(i+1))\n",
    "    print(filez[i+1])\n",
    "\n",
    "# cbar = fig.colorbar(im)\n",
    "# cbar.set_label('E (m/s)', rotation=90)\n",
    "fig.set_size_inches(20, 10)\n",
    "fig.suptitle('GEFS mean zonal wind speed error compared to ERA5')\n",
    "fig.subplots_adjust(right=0.9)\n",
    "cbax = fig.add_axes([0.925, 0.2, 0.025, 0.6])\n",
    "fig.colorbar(im, cax=cbax)\n",
    "cbax.set_ylabel('u (m/s)', rotation=90)\n",
    "plt.subplots_adjust(left=0.03)\n",
    "fig.savefig('/media/onno/Algemeen/Thesis/GFS_mean/GEFS_forecast_mean_wind_u_error.png')\n",
    "plt.close(fig)\n",
    "# plt.close(fig)"
   ]
  },
  {
   "cell_type": "code",
   "execution_count": 3,
   "metadata": {},
   "outputs": [],
   "source": [
    "filez = glob.glob('/media/onno/Algemeen/Thesis/GFS_mean/*envelope*.nc')\n",
    "\n",
    "for i, file in enumerate(filez):\n",
    "    ds = xr.open_dataset(file,decode_times=False).squeeze()\n",
    "    ds = ds.sel(lat=slice(80,20))\n",
    "    fig = plt.figure()\n",
    "    ax = plt.subplot(1,1,1,projection=ccrs.Orthographic(0, 90))\n",
    "#     lon = np.append(ds.lon.values,360)\n",
    "#     lat = np.append(ds.lat.values,18)\n",
    "    ax.coastlines()\n",
    "    im = ax.pcolormesh(ds.lon.values,ds.lat.values,ds.v.values,\n",
    "                    transform=ccrs.PlateCarree(),\n",
    "                    cmap='bwr',\n",
    "                    vmin=-2,vmax=2)\n",
    "    cbar = fig.colorbar(im)\n",
    "    cbar.set_label('E (m/s)', rotation=90)\n",
    "    fig.suptitle('GEFS mean RWP Envelope error day {}'.format(i))\n",
    "#     fig.savefig('/media/onno/Algemeen/Thesis/GFS_mean/GEFS_forecast_envelope_error_day_{:02d}'.format(i))\n",
    "#     plt.close(fig)"
   ]
  },
  {
   "cell_type": "code",
   "execution_count": 94,
   "metadata": {},
   "outputs": [],
   "source": [
    "filez = glob.glob('/media/onno/Algemeen/Thesis/GFS_mean/*try2*.nc')\n",
    "filez = ['/media/onno/Algemeen/Thesis/GFS_mean/GFS_mean_error_envelope_day_10_try2.nc']\n",
    "for i, file in enumerate(filez):\n",
    "    ds = xr.open_dataset(file,decode_times=False).squeeze()\n",
    "    ds = ds.sel(lat=slice(80,20))\n",
    "\n",
    "    im = ds.v.plot(transform=ccrs.PlateCarree(),\n",
    "                  subplot_kws={'projection':ccrs.Orthographic(0,90)})\n",
    "    im.axes.coastlines()\n",
    "    cbar = fig.colorbar(im)\n",
    "    cbar.set_label('E (m/s)', rotation=90)\n",
    "    fig.suptitle('GEFS mean RWP Envelope error day {}'.format(i))\n",
    "    break\n",
    "#     fig.savefig('/media/onno/Algemeen/Thesis/GFS_mean/GEFS_forecast_envelope_error_day_{:02d}'.format(i))\n",
    "#     plt.close(fig)"
   ]
  },
  {
   "cell_type": "markdown",
   "metadata": {},
   "source": [
    "Normal 10 day plot for each season"
   ]
  },
  {
   "cell_type": "code",
   "execution_count": 96,
   "metadata": {},
   "outputs": [
    {
     "name": "stdout",
     "output_type": "stream",
     "text": [
      "/media/onno/Algemeen/Thesis/GFS_mean_season/GFS_mean_error_phasespeed_MAM_day_01.nc\n",
      "/media/onno/Algemeen/Thesis/GFS_mean_season/GFS_mean_error_phasespeed_MAM_day_02.nc\n",
      "/media/onno/Algemeen/Thesis/GFS_mean_season/GFS_mean_error_phasespeed_MAM_day_03.nc\n",
      "/media/onno/Algemeen/Thesis/GFS_mean_season/GFS_mean_error_phasespeed_MAM_day_04.nc\n",
      "/media/onno/Algemeen/Thesis/GFS_mean_season/GFS_mean_error_phasespeed_MAM_day_05.nc\n",
      "/media/onno/Algemeen/Thesis/GFS_mean_season/GFS_mean_error_phasespeed_MAM_day_06.nc\n",
      "/media/onno/Algemeen/Thesis/GFS_mean_season/GFS_mean_error_phasespeed_MAM_day_07.nc\n",
      "/media/onno/Algemeen/Thesis/GFS_mean_season/GFS_mean_error_phasespeed_MAM_day_08.nc\n",
      "/media/onno/Algemeen/Thesis/GFS_mean_season/GFS_mean_error_phasespeed_MAM_day_09.nc\n",
      "/media/onno/Algemeen/Thesis/GFS_mean_season/GFS_mean_error_phasespeed_MAM_day_10.nc\n",
      "/media/onno/Algemeen/Thesis/GFS_mean_season/GFS_mean_error_phasespeed_JJA_day_01.nc\n",
      "/media/onno/Algemeen/Thesis/GFS_mean_season/GFS_mean_error_phasespeed_JJA_day_02.nc\n",
      "/media/onno/Algemeen/Thesis/GFS_mean_season/GFS_mean_error_phasespeed_JJA_day_03.nc\n",
      "/media/onno/Algemeen/Thesis/GFS_mean_season/GFS_mean_error_phasespeed_JJA_day_04.nc\n",
      "/media/onno/Algemeen/Thesis/GFS_mean_season/GFS_mean_error_phasespeed_JJA_day_05.nc\n",
      "/media/onno/Algemeen/Thesis/GFS_mean_season/GFS_mean_error_phasespeed_JJA_day_06.nc\n",
      "/media/onno/Algemeen/Thesis/GFS_mean_season/GFS_mean_error_phasespeed_JJA_day_07.nc\n",
      "/media/onno/Algemeen/Thesis/GFS_mean_season/GFS_mean_error_phasespeed_JJA_day_08.nc\n",
      "/media/onno/Algemeen/Thesis/GFS_mean_season/GFS_mean_error_phasespeed_JJA_day_09.nc\n",
      "/media/onno/Algemeen/Thesis/GFS_mean_season/GFS_mean_error_phasespeed_JJA_day_10.nc\n",
      "/media/onno/Algemeen/Thesis/GFS_mean_season/GFS_mean_error_phasespeed_SON_day_01.nc\n",
      "/media/onno/Algemeen/Thesis/GFS_mean_season/GFS_mean_error_phasespeed_SON_day_02.nc\n",
      "/media/onno/Algemeen/Thesis/GFS_mean_season/GFS_mean_error_phasespeed_SON_day_03.nc\n",
      "/media/onno/Algemeen/Thesis/GFS_mean_season/GFS_mean_error_phasespeed_SON_day_04.nc\n",
      "/media/onno/Algemeen/Thesis/GFS_mean_season/GFS_mean_error_phasespeed_SON_day_05.nc\n",
      "/media/onno/Algemeen/Thesis/GFS_mean_season/GFS_mean_error_phasespeed_SON_day_06.nc\n",
      "/media/onno/Algemeen/Thesis/GFS_mean_season/GFS_mean_error_phasespeed_SON_day_07.nc\n",
      "/media/onno/Algemeen/Thesis/GFS_mean_season/GFS_mean_error_phasespeed_SON_day_08.nc\n",
      "/media/onno/Algemeen/Thesis/GFS_mean_season/GFS_mean_error_phasespeed_SON_day_09.nc\n",
      "/media/onno/Algemeen/Thesis/GFS_mean_season/GFS_mean_error_phasespeed_SON_day_10.nc\n",
      "/media/onno/Algemeen/Thesis/GFS_mean_season/GFS_mean_error_phasespeed_DJF_day_01.nc\n",
      "/media/onno/Algemeen/Thesis/GFS_mean_season/GFS_mean_error_phasespeed_DJF_day_02.nc\n",
      "/media/onno/Algemeen/Thesis/GFS_mean_season/GFS_mean_error_phasespeed_DJF_day_03.nc\n",
      "/media/onno/Algemeen/Thesis/GFS_mean_season/GFS_mean_error_phasespeed_DJF_day_04.nc\n",
      "/media/onno/Algemeen/Thesis/GFS_mean_season/GFS_mean_error_phasespeed_DJF_day_05.nc\n",
      "/media/onno/Algemeen/Thesis/GFS_mean_season/GFS_mean_error_phasespeed_DJF_day_06.nc\n",
      "/media/onno/Algemeen/Thesis/GFS_mean_season/GFS_mean_error_phasespeed_DJF_day_07.nc\n",
      "/media/onno/Algemeen/Thesis/GFS_mean_season/GFS_mean_error_phasespeed_DJF_day_08.nc\n",
      "/media/onno/Algemeen/Thesis/GFS_mean_season/GFS_mean_error_phasespeed_DJF_day_09.nc\n",
      "/media/onno/Algemeen/Thesis/GFS_mean_season/GFS_mean_error_phasespeed_DJF_day_10.nc\n"
     ]
    }
   ],
   "source": [
    "#Loop over all seasons\n",
    "seasons = ['MAM','JJA','SON','DJF']\n",
    "for season in seasons:\n",
    "    #list all files for each season\n",
    "    filez = sorted(glob.glob('/media/onno/Algemeen/Thesis/GFS_mean_season/*phasespeed_{}*.nc'.format(season)))\n",
    "    #create orthographic plot for each lead day\n",
    "    fig,axz = plt.subplots(2,5,subplot_kw={'projection': ccrs.Orthographic(0,90)})\n",
    "    fig.set_size_inches(20, 10)\n",
    "    #Plot each mean error for each lead day\n",
    "    for i, ax in enumerate(axz.flat):\n",
    "        ds = xr.open_dataset(filez[i+1],decode_times=False).squeeze()\n",
    "        ds = ds.sel(lat=slice(85,0))\n",
    "        ax.coastlines()\n",
    "        im = ax.pcolormesh(ds.lon.values,ds.lat.values,ds.v.values,\n",
    "                    transform=ccrs.PlateCarree(),\n",
    "                    cmap='bwr',\n",
    "                    vmin=-2,vmax=2)\n",
    "        ax.text(x=0.5,y=-0.15,s='Mean Cp = {:.2f}'.format(float(my_tools.weighted_average_area(ds))),\n",
    "           transform=ax.transAxes,horizontalalignment='center',fontsize=12)\n",
    "        gl = ax.gridlines(crs=ccrs.PlateCarree(), draw_labels=True)\n",
    "        ax.set_title('Day {}'.format(i+1))\n",
    "        print(filez[i+1])\n",
    "\n",
    "    # cbar = fig.colorbar(im)\n",
    "    # cbar.set_label('E (m/s)', rotation=90)\n",
    "    fig.suptitle('GEFS mean RWP phase speed error {} compared to ERA5'.format(season))\n",
    "    fig.subplots_adjust(right=0.85)\n",
    "    cbax = fig.add_axes([0.875, 0.2, 0.025, 0.6])\n",
    "    fig.colorbar(im, cax=cbax)\n",
    "    cbax.set_ylabel('Cp (m/s)', rotation=90)\n",
    "    fig.show()\n",
    "    plt.close(fig)\n",
    "    fig.savefig('/media/onno/Algemeen/Thesis/GFS_mean_season/GEFS_forecast_phasespeed_error_{}.png'.format(season,i),dpi=300)"
   ]
  },
  {
   "cell_type": "code",
   "execution_count": null,
   "metadata": {},
   "outputs": [],
   "source": []
  }
 ],
 "metadata": {
  "kernelspec": {
   "display_name": "Python 3",
   "language": "python",
   "name": "python3"
  },
  "language_info": {
   "codemirror_mode": {
    "name": "ipython",
    "version": 3
   },
   "file_extension": ".py",
   "mimetype": "text/x-python",
   "name": "python",
   "nbconvert_exporter": "python",
   "pygments_lexer": "ipython3",
   "version": "3.8.5"
  }
 },
 "nbformat": 4,
 "nbformat_minor": 4
}
