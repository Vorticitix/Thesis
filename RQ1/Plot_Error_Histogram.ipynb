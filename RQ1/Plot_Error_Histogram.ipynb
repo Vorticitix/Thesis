{
 "cells": [
  {
   "cell_type": "code",
   "execution_count": 6,
   "metadata": {},
   "outputs": [
    {
     "name": "stdout",
     "output_type": "stream",
     "text": [
      "The autoreload extension is already loaded. To reload it, use:\n",
      "  %reload_ext autoreload\n"
     ]
    }
   ],
   "source": [
    "%load_ext autoreload\n",
    "%autoreload 2\n",
    "import xarray as xr\n",
    "from matplotlib import pyplot as plt\n",
    "import numpy as np\n",
    "sys.path.append('/home/onno/Thesis/Scripts')\n",
    "import my_tools\n",
    "from my_tools import file_dic, plot_dic"
   ]
  },
  {
   "cell_type": "code",
   "execution_count": 7,
   "metadata": {},
   "outputs": [
    {
     "ename": "SystemExit",
     "evalue": "",
     "output_type": "error",
     "traceback": [
      "An exception has occurred, use %tb to see the full traceback.\n",
      "\u001b[0;31mSystemExit\u001b[0m\n"
     ]
    },
    {
     "name": "stderr",
     "output_type": "stream",
     "text": [
      "/home/onno/miniconda3/envs/thesis/lib/python3.8/site-packages/IPython/core/interactiveshell.py:3425: UserWarning: To exit: use 'exit', 'quit', or Ctrl-D.\n",
      "  warn(\"To exit: use 'exit', 'quit', or Ctrl-D.\", stacklevel=1)\n"
     ]
    },
    {
     "data": {
      "image/png": "[encoded data removed]",
      "text/plain": [
       "<Figure size 1152x648 with 1 Axes>"
      ]
     },
     "metadata": {
      "needs_background": "light"
     },
     "output_type": "display_data"
    }
   ],
   "source": [
    "path = '/media/onno/Algemeen/Thesis/GFS_histogram/'\n",
    "path_file = '/media/onno/Algemeen/Thesis/'\n",
    "variablez = ['envelope','phasespeed','u_wind']\n",
    "# latz = [(80,60),(60,40),(40,20)]\n",
    "# lonz = [(320,340),(290,310),(320,340)]\n",
    "latz = [(60,40)]\n",
    "lonz = [(290,310)]\n",
    "dayz = [2,5,8]\n",
    "y_limz = [3000,3500,2500]\n",
    "rangez = [(0,50),(-10,20),(-10,50)]\n",
    "for j,variable in enumerate(variablez):\n",
    "    for i in range(len(latz)):\n",
    "        fig,ax = plt.subplots(figsize=(16,9))\n",
    "        ds_day2 = xr.open_dataset(path+'/GFS_error_weighted_mean_{}_day_02_lat_lower_left_{}_lon_lower_left_{}_attempt2.nc'.format(variable,latz[i][1],lonz[i][0]),\n",
    "                                 decode_times=False)\n",
    "        ds_day5 = xr.open_dataset(path+'/GFS_error_weighted_mean_{}_day_05_lat_lower_left_{}_lon_lower_left_{}_attempt2.nc'.format(variable,latz[i][1],lonz[i][0]),\n",
    "                                 decode_times=False)\n",
    "        ds_day8 = xr.open_dataset(path+'/GFS_error_weighted_mean_{}_day_08_lat_lower_left_{}_lon_lower_left_{}_attempt2.nc'.format(variable,latz[i][1],lonz[i][0]),\n",
    "                                 decode_times=False)\n",
    "        ax.hist(x=[ds_day2[plot_dic[variable]['data_variable']].values,ds_day5[plot_dic[variable]['data_variable']].values,ds_day8[plot_dic[variable]['data_variable']].values],\n",
    "                bins=20,range=rangez[j],color=['purple','red','orange'],density=True)\n",
    "        ax.legend(['Day 2','Day 5','Day 8'])\n",
    "#         ax.set_ylim([0,y_limz[j]])\n",
    "#         ax.set_ylabel('N')\n",
    "        ax.set_xlabel(plot_dic[variable]['label'])\n",
    "        fig.suptitle('GEFS Distribution of {} at {}-{} N° and {}-{} E°'.format(plot_dic[variable]['title'],\n",
    "                                                                      latz[i][1],latz[i][0],\n",
    "                                                                      lonz[i][0],lonz[i][1]))\n",
    "        sys.exit()\n",
    "#         fig.savefig(path+'/Histogram_{}_lat_lower_left_{}_lon_lower_left_{}_norm.png'.format(variable,latz[i][1],lonz[i][0]))\n",
    "#         plt.close(fig)\n"
   ]
  },
  {
   "cell_type": "code",
   "execution_count": null,
   "metadata": {},
   "outputs": [],
   "source": []
  }
 ],
 "metadata": {
  "kernelspec": {
   "display_name": "Python 3",
   "language": "python",
   "name": "python3"
  },
  "language_info": {
   "codemirror_mode": {
    "name": "ipython",
    "version": 3
   },
   "file_extension": ".py",
   "mimetype": "text/x-python",
   "name": "python",
   "nbconvert_exporter": "python",
   "pygments_lexer": "ipython3",
   "version": "3.8.5"
  }
 },
 "nbformat": 4,
 "nbformat_minor": 4
}
