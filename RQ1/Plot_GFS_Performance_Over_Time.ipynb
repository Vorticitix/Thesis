{
 "cells": [
  {
   "cell_type": "code",
   "execution_count": 1,
   "metadata": {},
   "outputs": [],
   "source": [
    "import xarray as xr\n",
    "%load_ext autoreload\n",
    "%autoreload 2\n",
    "import xarray as xr\n",
    "import numpy as np\n",
    "import pandas as pd\n",
    "from matplotlib import pyplot as plt\n",
    "import statsmodels.api as sm\n",
    "#set directory for importinh my_tools,py\n",
    "import sys\n",
    "sys.path.append('/home/onno/Thesis/Scripts')\n",
    "import my_tools\n",
    "from my_tools import plot_dic, file_dic\n",
    "from mpl_toolkits.basemap import Basemap, addcyclic\n",
    "from datetime import datetime\n",
    "import glob\n",
    "import matplotlib\n",
    "matplotlib.use('agg')\n",
    "%matplotlib qt"
   ]
  },
  {
   "cell_type": "code",
   "execution_count": 3,
   "metadata": {},
   "outputs": [],
   "source": [
    "path = '/media/onno/Algemeen/Thesis/GFS_performace/'\n"
   ]
  },
  {
   "cell_type": "markdown",
   "metadata": {},
   "source": [
    "Average error for each quartile using data between 25 and 75 degrees north or south"
   ]
  },
  {
   "cell_type": "code",
   "execution_count": 4,
   "metadata": {},
   "outputs": [],
   "source": [
    "init_time = pd.Timestamp('1984-12-01')\n",
    "variablez = ['envelope','phasespeed','u_wind']\n",
    "latz_hem = [(75,25),(-25,-75)]\n",
    "for variable in variablez:\n",
    "    for lat_hem in latz_hem:\n",
    "        for i in range(11):\n",
    "            if (i==0)&(variable=='phasespeed'):\n",
    "                continue\n",
    "            fig,ax = plt.subplots()\n",
    "            file = 'GFS_resampled_RMSE_{}_day_{:02d}_alt.nc'.format(variable,i)\n",
    "            ds = xr.open_dataset(path+file,decode_times=False)\n",
    "            ds['time'] =[init_time+pd.Timedelta(i,'days') for i in ds.time.values]\n",
    "            ds = ds.sel(lat=slice(lat_hem[0],lat_hem[1]))\n",
    "            #ds_mean = ds.mean(dim=['lat','lon'])\n",
    "            ds_mean = my_tools.weighted_average_area_3D(ds,variable)\n",
    "            ds_mean = ds_mean.assign_coords(index=('time',np.arange(140)//4))\n",
    "            ds_mean_year = ds_mean.groupby(ds_mean.index).mean()\n",
    "            ax.scatter(np.arange(1985,2020),ds_mean_year.values)\n",
    "            ax.set_ylabel('RMSE {}'.format(plot_dic[variable]['label']))\n",
    "            ax.set_xlabel('Year')\n",
    "            if lat_hem == (75,25):\n",
    "                fig.suptitle('{} RMSE per quartile Northern Hemisphere lead day {}'.format(plot_dic[variable]['title'],i))\n",
    "                fig.savefig(path+file[:-3]+'_NH.png',dpi=100)\n",
    "            else:\n",
    "                fig.suptitle('{} RMSE per quartile Southern Hemisphere lead day {}'.format(plot_dic[variable]['title'],i))\n",
    "                fig.savefig(path+file[:-3]+'_SH.png',dpi=100)\n",
    "            plt.close(fig)"
   ]
  },
  {
   "cell_type": "markdown",
   "metadata": {},
   "source": [
    "Calculate RMSE for Atlantic Ocean"
   ]
  },
  {
   "cell_type": "code",
   "execution_count": 6,
   "metadata": {},
   "outputs": [],
   "source": [
    "init_time = pd.Timestamp('1984-12-01')\n",
    "variablez = ['envelope','phasespeed','u_wind']\n",
    "latz_hem = [(75,25)]\n",
    "for variable in variablez:\n",
    "    for lat_hem in latz_hem:\n",
    "        for i in range(11):\n",
    "            if (i==0)&(variable=='phasespeed'):\n",
    "                continue\n",
    "            fig,ax = plt.subplots()\n",
    "            file = 'GFS_resampled_RMSE_{}_day_{:02d}_alt.nc'.format(variable,i)\n",
    "            ds = xr.open_dataset(path+file,decode_times=False).sel(lat=slice(75,25),lon=slice(300,358))\n",
    "            ds['time'] =[init_time+pd.Timedelta(i,'days') for i in ds.time.values]\n",
    "            ds = ds.sel(lat=slice(lat_hem[0],lat_hem[1]))\n",
    "            #ds_mean = ds.mean(dim=['lat','lon'])\n",
    "            ds_mean = my_tools.weighted_average_area_3D(ds,variable)\n",
    "            ds_mean = ds_mean.assign_coords(index=('time',np.arange(140)//4))\n",
    "            ds_mean_year = ds_mean.groupby(ds_mean.index).mean()\n",
    "            ax.scatter(np.arange(1985,2020),ds_mean_year.values)\n",
    "            ax.set_ylabel('RMSE {}'.format(plot_dic[variable]['label']))\n",
    "            ax.set_xlabel('Year')\n",
    "            fig.suptitle('{} RMSE per quartile Northern Hemisphere lead day {}'.format(plot_dic[variable]['title'],i))\n",
    "            fig.savefig(path+file[:-3]+'_Atlantic.png',dpi=100)\n",
    "            plt.close(fig)"
   ]
  },
  {
   "cell_type": "markdown",
   "metadata": {},
   "source": [
    "Calculate Statistical Parameters"
   ]
  },
  {
   "cell_type": "code",
   "execution_count": 38,
   "metadata": {},
   "outputs": [],
   "source": [
    "#do linear regression on all resampled datasets\n",
    "#create linear regression model\n",
    "init_time = pd.Timestamp('1984-12-01')\n",
    "variablez = ['envelope','phasespeed','u_wind']\n",
    "latz_hem = [(75,25),(-25,-75)]\n",
    "for variable in variablez:\n",
    "    for lat_hem in latz_hem:\n",
    "        df = pd.DataFrame(index=range(11),columns=['Mean Error','Slope','p-value'])\n",
    "        for i in range(11):\n",
    "            if (i==0)&(variable=='phasespeed'):\n",
    "                continue\n",
    "            file = 'GFS_resampled_RMSE_{}_day_{:02d}.nc'.format(variable,i)\n",
    "            ds = xr.open_dataset(path+file, decode_times=False)\n",
    "            ds['time'] =[init_time+pd.Timedelta(i,'days') for i in ds.time.values]\n",
    "            ds = ds.sel(lat=slice(lat_hem[0],lat_hem[1]))\n",
    "            ds_mean = my_tools.weighted_average_area_3D(ds,variable)\n",
    "            df_mean = ds_mean.to_dataframe(name='error')\n",
    "            df_mean.index = np.arange(len(df_mean.index))\n",
    "            X = df_mean.index\n",
    "            X = sm.add_constant(X)\n",
    "            Y = df_mean['error']\n",
    "            model = sm.OLS(Y,X).fit()\n",
    "            p_value = model.pvalues[1]\n",
    "            slope = model.params[1]\n",
    "            mean = df_mean['error'].mean()\n",
    "            df.loc[i,:]=[mean,slope,p_value]\n",
    "        if lat_hem == (75,25):\n",
    "            df.to_csv(path+'trend_stats_{}_NH_RMSE.txt'.format(variable))\n",
    "        else:\n",
    "            df.to_csv(path+'trend_stats_{}_SH_RMSE.txt'.format(variable))\n",
    "        "
   ]
  },
  {
   "cell_type": "code",
   "execution_count": 32,
   "metadata": {},
   "outputs": [],
   "source": [
    "path = '/media/onno/Algemeen/Thesis/GFS_performace/'\n",
    "file = 'GFS_resampled_RMSE_envelope_day_{:02d}_alt.nc'\n",
    "init_time = pd.Timestamp('1984-12-01')\n",
    "days = [0,1,2,3,4,5]\n",
    "fig,axz = plt.subplots(2,3,figsize=(16,9))\n",
    "fig.subplots_adjust(hspace=0.2,wspace=0.2,left=0.1,right=0.9,top=0.90,bottom=0.08)\n",
    "# ax.set_ylim([0,20])\n",
    "for i,day in enumerate(days):\n",
    "    ax = axz.flat[i]\n",
    "    ds = xr.open_dataset(path+file.format(day),decode_times=False).sel(lat=slice(75,25),lon=slice(300,358))\n",
    "    ds['time'] =[init_time+pd.Timedelta(i,'days') for i in ds.time.values]\n",
    "    ds = ds.sel(lat=slice(75,25))\n",
    "    ds_mean = my_tools.weighted_average_area_3D(ds,'envelope')\n",
    "    ds_mean = ds_mean.assign_coords(index=('time',np.arange(140)//4))\n",
    "    ds_mean_year = ds_mean.groupby(ds_mean.index).mean()\n",
    "    ax.scatter(np.arange(1985,2020),ds_mean_year.values)\n",
    "    ax.set_title('Forecast Day {}'.format(i))\n",
    "    if i%3==0:\n",
    "        ax.set_ylabel('Envelope RMSE(m/s)')\n",
    "    if i>=3:\n",
    "        ax.set_xlabel('Year')\n",
    "        \n",
    "fig.suptitle('GEFS forecast Root Mean Square Error regarding RWP Envelope compared to ERA5 (25-75 °N, 0-60 °W)')\n",
    "fig.savefig('/media/onno/Algemeen/Thesis/Main_Figures/RMSE.png',dpi=150)"
   ]
  },
  {
   "cell_type": "code",
   "execution_count": null,
   "metadata": {},
   "outputs": [],
   "source": []
  }
 ],
 "metadata": {
  "kernelspec": {
   "display_name": "Python 3",
   "language": "python",
   "name": "python3"
  },
  "language_info": {
   "codemirror_mode": {
    "name": "ipython",
    "version": 3
   },
   "file_extension": ".py",
   "mimetype": "text/x-python",
   "name": "python",
   "nbconvert_exporter": "python",
   "pygments_lexer": "ipython3",
   "version": "3.6.12"
  }
 },
 "nbformat": 4,
 "nbformat_minor": 4
}
