{
 "cells": [
  {
   "cell_type": "code",
   "execution_count": 58,
   "metadata": {},
   "outputs": [
    {
     "name": "stdout",
     "output_type": "stream",
     "text": [
      "The autoreload extension is already loaded. To reload it, use:\n",
      "  %reload_ext autoreload\n"
     ]
    }
   ],
   "source": [
    "%load_ext autoreload\n",
    "%autoreload 2\n",
    "import warnings\n",
    "warnings.simplefilter(action='ignore', category=FutureWarning)\n",
    "import glob\n",
    "import xarray as xr\n",
    "from matplotlib import pyplot as plt\n",
    "%matplotlib qt\n",
    "import cartopy.crs as ccrs\n",
    "import numpy as np\n",
    "import sys\n",
    "sys.path.append('/home/onno/Thesis/Scripts')\n",
    "import my_tools\n",
    "#import dictionaries from my_tools to automize plotting\n",
    "from my_tools import plot_dic\n",
    "from mpl_toolkits.basemap import Basemap, addcyclic\n",
    "import matplotlib\n",
    "matplotlib.use('agg')\n",
    "#Set matplotlib to use agg so the plot doesn't constantly show up when I produce it which is very annoying.\n",
    "\n",
    "\n"
   ]
  },
  {
   "cell_type": "code",
   "execution_count": 40,
   "metadata": {},
   "outputs": [],
   "source": []
  },
  {
   "cell_type": "markdown",
   "metadata": {},
   "source": [
    "Normal 10 lead day error plot"
   ]
  },
  {
   "cell_type": "code",
   "execution_count": 60,
   "metadata": {},
   "outputs": [],
   "source": [
    "#list all the relevant files\n",
    "#Set variable to plot \n",
    "variablez = ['envelope','phasespeed','u_wind']\n",
    "path_file = '/media/onno/Algemeen/Thesis/'\n",
    "path = '/media/onno/Algemeen/Thesis/GFS_mean/'\n",
    "vminmax = [(-2,2),(-2,2),(-3,3)]\n",
    "for j,variable in enumerate(variablez):\n",
    "    if variable!='phasespeed':\n",
    "        continue\n",
    "    filez = sorted(glob.glob(path+'/*{}_day_??_globe_mars.nc'.format(plot_dic[variable]['filename'])))\n",
    "    #create orthographic plot for each lead day\n",
    "    latz = [(85,0),(0,-85)]\n",
    "    for lat_hem in latz:\n",
    "        fig,axz=plt.subplots(2,5,figsize=(20,10))\n",
    "\n",
    "        #Looping over all lead day error files\n",
    "        for i, ax in enumerate(axz.flat):\n",
    "            ds = xr.open_dataset(filez[i+1],decode_times=False).squeeze()\n",
    "            #Discard 85 - 90 degrees north, because these data yield unrealistical large errors\n",
    "            ds = ds.sel(lat=slice(lat_hem[0],lat_hem[1]))\n",
    "            ds_cyclic, lon_cyclic = addcyclic(ds[plot_dic[variable]['data_variable']].values, ds.lon)\n",
    "            lon,lat = np.meshgrid(lon_cyclic,ds.lat)\n",
    "            #Create coastlines\n",
    "            if lat_hem == (85,0):\n",
    "                m = Basemap(projection='ortho',lon_0=0,lat_0=90,resolution='c',ax=ax)\n",
    "            else:\n",
    "                m = Basemap(projection='ortho',lon_0=0,lat_0=-90,resolution='c',ax=ax)\n",
    "            #Plotting the data\n",
    "            #Sometimes contourf function raises unexplainable ValueError (might be bug). Then I switch to pcolormesh\n",
    "            im = m.contourf(lon,lat,ds_cyclic,latlon='true', extend='both', cmap=plt.cm.get_cmap('bwr'),\n",
    "               vmin=vminmax[j][0],vmax=vminmax[j][1],levels=np.linspace(vminmax[j][0],vminmax[j][1],49))\n",
    "            m.drawcoastlines()\n",
    "            m.drawparallels((-80,-60,-40,-20,0,20,40,60,80))\n",
    "            m.drawmeridians((0,60,120,180,240,300),labels=[0,0,1,1],labelstyle='+/-')\n",
    "            #Plotting the variable mean error below the graph\n",
    "            #Only taking data between 80 and 30 degrees N because other data is not representative for mid-latitudes\n",
    "            #For Souther Hemisphere we consider latitudes between -30 and -80 degrees N\n",
    "            if lat_hem==(85,0):\n",
    "                ds_text = ds.sel(lat=slice(80,30))\n",
    "            else:\n",
    "                ds_text = ds.sel(lat=slice(-30,-80))\n",
    "            ax.text(x=0.5,y=-0.125,s='Mean error = {:.2f}'.format(float(my_tools.weighted_average_area_2D(ds_text))),\n",
    "                   transform=ax.transAxes,horizontalalignment='center',fontsize=12)\n",
    "            #set gridlines\n",
    "            ax.text(x=0.5,y=1.10,s='Day {}'.format(i+1),transform=ax.transAxes,horizontalalignment='center',fontsize=12)\n",
    "\n",
    "        #set figure size\n",
    "        fig.suptitle('GEFS Mean Annual {} Error Compared to ERA5'.format(plot_dic[variable]['title']))\n",
    "        #Make room for color bar and create color bar\n",
    "        fig.subplots_adjust(left=0.03,right=0.97,bottom=0.135,top=0.9)\n",
    "        cbax = fig.add_axes([0.35, 0.06, 0.3, 0.025])\n",
    "        fig.colorbar(im, cax=cbax,ticks=np.linspace(vminmax[j][0],vminmax[j][1],5),orientation='horizontal')\n",
    "        cbax.set_xlabel(plot_dic[variable]['label'],rotation=0)\n",
    "        if lat_hem==(85,0): \n",
    "            fig.savefig(path+'/GEFS_forecast_mean_{}_error_NH.png'.format(plot_dic[variable]['filename']))\n",
    "        else:\n",
    "            fig.savefig(path+'/GEFS_forecast_mean_{}_error_SH.png'.format(plot_dic[variable]['filename']))\n",
    "        plt.close(fig)"
   ]
  },
  {
   "cell_type": "markdown",
   "metadata": {},
   "source": [
    "Simple 1 lead day error plot\n"
   ]
  },
  {
   "cell_type": "code",
   "execution_count": 5,
   "metadata": {},
   "outputs": [
    {
     "name": "stderr",
     "output_type": "stream",
     "text": [
      "/home/onno/miniconda3/envs/thesis/lib/python3.8/site-packages/mpl_toolkits/basemap/__init__.py:5098: FutureWarning: Using a non-tuple sequence for multidimensional indexing is deprecated; use `arr[tuple(seq)]` instead of `arr[seq]`. In the future this will be interpreted as an array index, `arr[np.array(seq)]`, which will result either in an error or a different result.\n",
      "  return npsel.concatenate((a,a[slicer]),axis=axis)\n",
      "/home/onno/miniconda3/envs/thesis/lib/python3.8/site-packages/mpl_toolkits/basemap/__init__.py:5098: FutureWarning: Using a non-tuple sequence for multidimensional indexing is deprecated; use `arr[tuple(seq)]` instead of `arr[seq]`. In the future this will be interpreted as an array index, `arr[np.array(seq)]`, which will result either in an error or a different result.\n",
      "  return npsel.concatenate((a,a[slicer]),axis=axis)\n"
     ]
    }
   ],
   "source": [
    "#list all files\n",
    "variables = ['envelope']\n",
    "latz_hem = [(85,0),(0,-85)]\n",
    "\n",
    "#Loop over all files\n",
    "for i, variable in enumerate(variables):\n",
    "    for lat_hem in latz_hem:\n",
    "        #open associated file for lead day\n",
    "        if lat_hem == (85,0):\n",
    "            lat_0 = 90\n",
    "        else:\n",
    "            lat_0 = -90\n",
    "        file = path+'GFS_mean_error_{}_day_00_globe_mars.nc'.format(variable)\n",
    "        ds = xr.open_dataset(file,decode_times=False).squeeze()\n",
    "        ds = ds.sel(lat=slice(lat_hem[0],lat_hem[1]))\n",
    "        #create figure\n",
    "        fig,ax = plt.subplots()\n",
    "\n",
    "        ds_cyclic, lon_cyclic = addcyclic(ds[plot_dic[variable]['data_variable']].values, ds.lon)\n",
    "        lon,lat = np.meshgrid(lon_cyclic,ds.lat)\n",
    "\n",
    "        m = Basemap(projection='ortho',lon_0=0,lat_0=lat_0,resolution='c',ax=ax)\n",
    "        im = m.contourf(lon,lat,ds_cyclic,latlon='true', extend='both', cmap='bwr',\n",
    "                   vmin=-1,vmax=1,levels=np.linspace(-1,1,41))\n",
    "        m.drawcoastlines()\n",
    "        m.drawparallels((-80,-60,-40,-20,0,20,40,60,80))\n",
    "        m.drawmeridians((0,60,120,180,240,300),labels=[0,0,1,1])\n",
    "        #create colorbar\n",
    "        cbar = fig.colorbar(im)\n",
    "        cbar.set_label(plot_dic[variable]['label'], rotation=90)\n",
    "        fig.suptitle('GEFS mean RWP {} error day {}'.format(plot_dic[variable]['title'],i))\n",
    "#         if lat_hem == (85,0):\n",
    "#             fig.savefig(path+'GFS_mean_error_{}_initialization_NH.png'.format(variable))\n",
    "#         else:\n",
    "#             fig.savefig(path+'GFS_mean_error_{}_initialization_SH.png'.format(variable))\n",
    "#         plt.close(fig)\n",
    "# #     fig.savefig('/media/onno/Algemeen/Thesis/GFS_mean/GEFS_forecast_{}_error_day_{:02d}'.format(plot_dic[variable]['filename'],i))\n"
   ]
  },
  {
   "cell_type": "markdown",
   "metadata": {},
   "source": [
    "Normal 10 day plot for each season"
   ]
  },
  {
   "cell_type": "code",
   "execution_count": 61,
   "metadata": {},
   "outputs": [],
   "source": [
    "#Loop over all seasons\n",
    "path = '/media/onno/Algemeen/Thesis/GFS_mean_season/'\n",
    "variablez = ['envelope','phasespeed','u_wind']\n",
    "seasons = ['MAM','JJA','SON','DJF']\n",
    "vminmax = [(-2,2),(-2,2),(-3,3)]\n",
    "for j,variable in enumerate(variablez):\n",
    "    if variable!='phasespeed':\n",
    "        continue\n",
    "    for season in seasons:\n",
    "        latz = [(85,0),(0,-85)]\n",
    "        for lat_hem in latz:\n",
    "            #list all files for each season\n",
    "            filez = sorted(glob.glob(path+'/*{}_{}*globe.nc'.format(plot_dic[variable]['filename'],season)))\n",
    "            #create orthographic plot for each lead day\n",
    "            fig,axz = plt.subplots(2,5,figsize=(20,10))\n",
    "            #Plot each mean error for each lead day\n",
    "            for i, ax in enumerate(axz.flat):\n",
    "                #open accompanying netcdf file for lead day error\n",
    "                ds = xr.open_dataset(filez[i+1],decode_times=False).squeeze()\n",
    "                #Discard 85 - 90 degrees north, because these data yield unrealistical large errors\n",
    "                ds = ds.sel(lat=slice(lat_hem[0],lat_hem[1]))\n",
    "                ds_cyclic, lon_cyclic = addcyclic(ds[plot_dic[variable]['data_variable']].values, ds.lon)\n",
    "                lon,lat = np.meshgrid(lon_cyclic,ds.lat)\n",
    "                if lat_hem == (85,0):\n",
    "                    m = Basemap(projection='ortho',lon_0=0,lat_0=90,resolution='c',ax=ax)\n",
    "                else:\n",
    "                    m = Basemap(projection='ortho',lon_0=0,lat_0=-90,resolution='c',ax=ax)\n",
    "                #Plotting the data\n",
    "                #Sometimes contourf function raises unexplainable ValueError (might be bug). Then I switch to pcolormesh\n",
    "                im = m.contourf(lon,lat,ds_cyclic,latlon='true', extend='both', cmap=plt.cm.get_cmap('bwr'),\n",
    "                   vmin=vminmax[j][0],vmax=vminmax[j][1],levels=np.linspace(vminmax[j][0],vminmax[j][1],49))\n",
    "                m.drawcoastlines()\n",
    "                m.drawparallels((-80,-60,-40,-20,0,20,40,60,80))\n",
    "                m.drawmeridians((0,60,120,180,240,300),labels=[0,0,1,1],labelstyle='+/-')\n",
    "                if lat_hem==(85,0):\n",
    "                    ds_text = ds.sel(lat=slice(80,30))\n",
    "                else:\n",
    "                    ds_text = ds.sel(lat=slice(-30,-80))\n",
    "                ax.text(x=0.5,y=-0.125,s='Mean error = {:.2f}'.format(float(my_tools.weighted_average_area_2D(ds_text))),\n",
    "                       transform=ax.transAxes,horizontalalignment='center',fontsize=12)\n",
    "                #set gridlines\n",
    "                ax.text(x=0.5,y=1.10,s='Day {}'.format(i+1),transform=ax.transAxes,horizontalalignment='center',fontsize=12)\n",
    "\n",
    "            # cbar = fig.colorbar(im)\n",
    "            # cbar.set_label('E (m/s)', rotation=90)\n",
    "            fig.suptitle('GEFS Seasonal Mean {} Error {} Compared to ERA5'.format(plot_dic[variable]['title'],season))\n",
    "            #Set colorbar and make room for it\n",
    "            fig.subplots_adjust(left=0.03,right=0.97,bottom=0.135,top=0.9)\n",
    "            cbax = fig.add_axes([0.35, 0.06, 0.3, 0.025])\n",
    "            fig.colorbar(im, cax=cbax,ticks=np.linspace(vminmax[j][0],vminmax[j][1],5),orientation='horizontal')\n",
    "            cbax.set_xlabel(plot_dic[variable]['label'],rotation=0)\n",
    "            #Save figure and make sure it does not open a window\n",
    "            if lat_hem == (85,0):\n",
    "                fig.savefig(path+'/GEFS_forecast_{}_error_{}_NH.png'.format(plot_dic[variable]['filename'],season),dpi=300)\n",
    "            else:\n",
    "                fig.savefig(path+'/GEFS_forecast_{}_error_{}_SH.png'.format(plot_dic[variable]['filename'],season),dpi=300)\n",
    "            plt.close(fig)"
   ]
  },
  {
   "cell_type": "code",
   "execution_count": null,
   "metadata": {},
   "outputs": [],
   "source": []
  }
 ],
 "metadata": {
  "kernelspec": {
   "display_name": "Python 3",
   "language": "python",
   "name": "python3"
  },
  "language_info": {
   "codemirror_mode": {
    "name": "ipython",
    "version": 3
   },
   "file_extension": ".py",
   "mimetype": "text/x-python",
   "name": "python",
   "nbconvert_exporter": "python",
   "pygments_lexer": "ipython3",
   "version": "3.8.5"
  }
 },
 "nbformat": 4,
 "nbformat_minor": 4
}
