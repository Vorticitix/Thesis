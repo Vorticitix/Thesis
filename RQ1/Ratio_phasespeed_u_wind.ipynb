{
 "cells": [
  {
   "cell_type": "code",
   "execution_count": 17,
   "metadata": {},
   "outputs": [
    {
     "name": "stdout",
     "output_type": "stream",
     "text": [
      "The autoreload extension is already loaded. To reload it, use:\n",
      "  %reload_ext autoreload\n"
     ]
    }
   ],
   "source": [
    "%load_ext autoreload\n",
    "%autoreload 2\n",
    "import xarray as xr\n",
    "import numpy as np\n",
    "import pandas as pd\n",
    "from matplotlib import pyplot as plt\n",
    "#set directory for importinh my_tools,py\n",
    "import sys\n",
    "sys.path.append('/home/onno/Thesis/Scripts')\n",
    "import my_tools\n",
    "from my_tools import file_dic, plot_dic\n",
    "from datetime import datetime\n",
    "import glob\n",
    "from mpl_toolkits.basemap import Basemap, addcyclic\n",
    "%matplotlib qt"
   ]
  },
  {
   "cell_type": "markdown",
   "metadata": {},
   "source": [
    "In this notebook we calculate the ratio between phasespeed errors and zonal wind speed errors to investigate whether these errors are related. "
   ]
  },
  {
   "cell_type": "code",
   "execution_count": 24,
   "metadata": {},
   "outputs": [],
   "source": [
    "#set path where annual errors are available\n",
    "path = '/media/onno/Algemeen/Thesis/GFS_mean/'\n",
    "#Loop over lead days. Skip day zero as phasespeed errors are undefined on day zero\n",
    "for i in range(1,11):\n",
    "    file_error_u_wind = 'GFS_mean_error_u_wind_day_{:02d}_globe_mars.nc'.format(i)\n",
    "    file_error_phasespeed = 'GFS_mean_error_phasespeed_day_{:02d}_globe_mars.nc'.format(i)\n",
    "    error_u_wind = xr.open_dataset(path+file_error_u_wind,decode_times=False)\n",
    "    error_phasespeed = xr.open_dataset(path+file_error_phasespeed,decode_times=False)\n",
    "    error_u_wind = error_u_wind.where(np.abs(error_u_wind.u)>0.1)\n",
    "    diff = (error_phasespeed.v /error_u_wind.u).to_dataset(name='ratio')\n",
    "    diff.to_netcdf(path+'/ratio_cp_u/difference_error_phasespeed_u_wind_day_{:02d}.nc'.format(i))\n"
   ]
  },
  {
   "cell_type": "code",
   "execution_count": null,
   "metadata": {},
   "outputs": [],
   "source": [
    "#Loop over the two poles\n",
    "latz_polar=[-90,90]\n",
    "for lat_polar in latz_polar:\n",
    "    #create figure\n",
    "    fig,axz = plt.subplots(2,5,figsize=(20,10))\n",
    "    #loop over lead days\n",
    "    for i in range(10):\n",
    "        ax = axz.flat[i]\n",
    "        #for each ax set title which day it is\n",
    "        ax.text(x=0.5,y=1.15,s='Day {}'.format(i),\n",
    "           transform=ax.transAxes,horizontalalignment='center',fontsize=12)\n",
    "        ds = xr.open_dataset(path+'/ratio_cp_u/difference_error_phasespeed_u_wind_day_{:02d}.nc'.format(i+1),\n",
    "                            decode_times=False)\n",
    "        #add cyclic point for contourf function to work properly\n",
    "        ds_cyclic, lon_cyclic = addcyclic(ds.ratio.values, ds.lon)\n",
    "        lon,lat = np.meshgrid(lon_cyclic,ds.lat)\n",
    "\n",
    "        m = Basemap(projection='ortho',lon_0=0,lat_0=lat_polar,resolution='c',ax=ax)\n",
    "        im = m.contourf(lon,lat,ds_cyclic,latlon='true', extend='both', cmap=plt.cm.get_cmap('bwr'),\n",
    "                   vmin=-2,vmax=2,levels=np.linspace(-2,2,81))\n",
    "        #draw coastlines, parellels and meridians\n",
    "        m.drawcoastlines()\n",
    "        m.drawparallels((-80,-60,-40,-20,0,20,40,60,80))\n",
    "        m.drawmeridians((0,60,120,180,240,300),labels=[0,0,1,1])\n",
    "    #adjust figure slightly to make optimal use of figsize\n",
    "    fig.subplots_adjust(top=0.85,bottom=0.05,left=0.05,\n",
    "                        right=0.9,hspace=0.25,wspace=0.25)\n",
    "    #add colarbar with seperate axis\n",
    "    cbax = fig.add_axes([0.95, 0.2, 0.02, 0.6])\n",
    "    fig.colorbar(im, cax=cbax)\n",
    "    cbax.set_ylabel('Ratio Error Cp/u (-)', rotation=90)\n",
    "    fig.suptitle('Ratio between errors in RWP phase speed and zonal wind for each lead day')\n",
    "    #save figure for each hemisphere\n",
    "    if lat_polar==90:\n",
    "        fig.savefig(path+'/ratio_cp_u/ratio_phasespeed_u_wind_NH.png')\n",
    "    else:\n",
    "        fig.savefig(path+'/ratio_cp_u/ratio_phasespeed_u_wind_SH.png')\n",
    "    plt.close(fig)"
   ]
  },
  {
   "cell_type": "code",
   "execution_count": 5,
   "metadata": {},
   "outputs": [],
   "source": [
    "path ='/media/onno/Algemeen/Thesis/GFS_mean_season/'\n",
    "seasonz = ['MAM','JJA','SON','DJF']\n",
    "for season in seasonz:\n",
    "    for i in range(1,11):\n",
    "        \n",
    "        file_error_u_wind = 'GFS_mean_error_u_wind_{}_day_{:02d}_globe.nc'.format(season,i)\n",
    "        file_error_phasespeed = 'GFS_mean_error_phasespeed_{}_day_{:02d}_globe.nc'.format(season,i)\n",
    "        error_u_wind = xr.open_dataset(path+file_error_u_wind,decode_times=False)\n",
    "        error_phasespeed = xr.open_dataset(path+file_error_phasespeed,decode_times=False)\n",
    "        error_u_wind = error_u_wind.where(np.abs(error_u_wind.u)>0.1)\n",
    "        diff = (error_phasespeed.v /error_u_wind.u).to_dataset(name='ratio')\n",
    "        diff.to_netcdf(path+'/ratio_cp_u/difference_error_phasespeed_u_wind_day_{:02d}_{}.nc'.format(i,season))\n"
   ]
  },
  {
   "cell_type": "code",
   "execution_count": null,
   "metadata": {},
   "outputs": [],
   "source": [
    "path ='/media/onno/Algemeen/Thesis/GFS_mean_season/'\n",
    "latz_polar=[-90,90]\n",
    "seasonz = ['MAM','JJA','SON','DJF']\n",
    "for season in seasonz:\n",
    "    for lat_polar in latz_polar:\n",
    "        fig,axz = plt.subplots(2,5,figsize=(20,10))\n",
    "        for i in range(10):\n",
    "            ax = axz.flat[i]\n",
    "            ax.text(x=0.5,y=1.15,s='Day {}'.format(i),\n",
    "               transform=ax.transAxes,horizontalalignment='center',fontsize=12)\n",
    "            ds = xr.open_dataset(path+'/ratio_cp_u/difference_error_phasespeed_u_wind_day_{:02d}_{}.nc'.format(i+1,season),\n",
    "                                decode_times=False)\n",
    "            ds_cyclic, lon_cyclic = addcyclic(ds.ratio.values, ds.lon)\n",
    "            lon,lat = np.meshgrid(lon_cyclic,ds.lat)\n",
    "\n",
    "            m = Basemap(projection='ortho',lon_0=0,lat_0=lat_polar,resolution='c',ax=ax)\n",
    "            im = m.contourf(lon,lat,ds_cyclic,latlon='true', extend='both', cmap=plt.cm.get_cmap('bwr'),\n",
    "                       vmin=-2,vmax=2,levels=np.linspace(-2,2,81))\n",
    "            m.drawcoastlines()\n",
    "            m.drawparallels((-80,-60,-40,-20,0,20,40,60,80))\n",
    "            m.drawmeridians((0,60,120,180,240,300),labels=[0,0,1,1])\n",
    "        fig.subplots_adjust(top=0.85,bottom=0.05,left=0.05,\n",
    "                            right=0.9,hspace=0.25,wspace=0.25)\n",
    "        cbax = fig.add_axes([0.95, 0.2, 0.02, 0.6])\n",
    "        fig.colorbar(im, cax=cbax)\n",
    "        cbax.set_ylabel('Ratio Error Cp/u (-)', rotation=90)\n",
    "        fig.suptitle('Ratio between errors in RWP phase speed and zonal wind for each lead day during {}'.format(season))\n",
    "        if lat_polar==90:\n",
    "            fig.savefig(path+'/ratio_cp_u/ratio_phasespeed_u_wind_{}_NH.png'.format(season))\n",
    "        else:\n",
    "            fig.savefig(path+'/ratio_cp_u/ratio_phasespeed_u_wind_{}_SH.png'.format(season))\n",
    "        plt.close(fig)\n",
    "\n"
   ]
  },
  {
   "cell_type": "code",
   "execution_count": 23,
   "metadata": {},
   "outputs": [
    {
     "ename": "SystemExit",
     "evalue": "",
     "output_type": "error",
     "traceback": [
      "An exception has occurred, use %tb to see the full traceback.\n",
      "\u001b[0;31mSystemExit\u001b[0m\n"
     ]
    }
   ],
   "source": [
    "latz_polar=[90]\n",
    "path = '/media/onno/Algemeen/Thesis/GFS_mean_season/'\n",
    "variable='u_wind'\n",
    "for lat_polar in latz_polar:\n",
    "    fig,axz = plt.subplots(2,2,figsize=(20,10))\n",
    "    j=0\n",
    "    for i in range(10):\n",
    "        if np.isin(i,[2,4,6,8])==False:\n",
    "            continue\n",
    "        ax = axz.flat[j]\n",
    "        j+=1\n",
    "\n",
    "        ax.text(x=0.5,y=1.15,s='Day {}'.format(i),\n",
    "           transform=ax.transAxes,horizontalalignment='center',fontsize=12)\n",
    "        ds = xr.open_dataset(path+'/ratio_cp_u/difference_error_phasespeed_u_wind_day_{:02d}.nc'.format(i+1),\n",
    "                            decode_times=False)\n",
    "#         ds = xr.open_dataset(path+'GFS_mean_error_{}_day_{:02d}_globe_mars.nc'.format(plot_dic[variable]['filename'],i+1),\n",
    "#                             decode_times=False)\n",
    "        ds_cyclic, lon_cyclic = addcyclic(ds.ratio.values, ds.lon)\n",
    "        lon,lat = np.meshgrid(lon_cyclic,ds.lat)\n",
    "\n",
    "        m = Basemap(lon_0=-95,lat_0=45,llcrnrlon=-160,llcrnrlat=25,urcrnrlon=-40,\n",
    "                    urcrnrlat=70,resolution='c',ax=ax)\n",
    "        im = m.contourf(lon,lat,ds_cyclic,latlon='true', extend='both', cmap=plt.cm.get_cmap('bwr'),\n",
    "                   vmin=-2,vmax=2,levels=np.linspace(-2,2,81))\n",
    "        m.drawcoastlines()\n",
    "        m.drawcountries()\n",
    "        m.drawparallels((-80,-60,-40,-20,0,20,40,60,80))\n",
    "        m.drawmeridians((0,60,120,180,240,300),labels=[0,0,1,1])\n",
    "    fig.subplots_adjust(top=0.85,bottom=0.05,left=0.05,\n",
    "                        right=0.9,hspace=0.25,wspace=0.25)\n",
    "    cbax = fig.add_axes([0.95, 0.2, 0.02, 0.6])\n",
    "    fig.colorbar(im, cax=cbax)\n",
    "    cbax.set_ylabel('Ratio Error Cp/u (-)', rotation=90)\n",
    "    fig.suptitle('Ratio between errors in RWP phase speed and zonal wind for each lead day')\n",
    "#     cbax.set_ylabel(plot_dic[variable]['label'], rotation=90)\n",
    "#     fig.suptitle('{} Error in North America'.format(plot_dic[variable]['title']))\n",
    "    sys.exit()\n",
    "    if lat_polar==90:\n",
    "        fig.savefig(path+'/ratio_cp_u/ratio_phasespeed_u_wind_NH.png')\n",
    "    else:\n",
    "        fig.savefig(path+'/ratio_cp_u/ratio_phasespeed_u_wind_SH.png')\n",
    "    plt.close(fig)"
   ]
  },
  {
   "cell_type": "code",
   "execution_count": null,
   "metadata": {},
   "outputs": [],
   "source": []
  }
 ],
 "metadata": {
  "kernelspec": {
   "display_name": "Python 3",
   "language": "python",
   "name": "python3"
  },
  "language_info": {
   "codemirror_mode": {
    "name": "ipython",
    "version": 3
   },
   "file_extension": ".py",
   "mimetype": "text/x-python",
   "name": "python",
   "nbconvert_exporter": "python",
   "pygments_lexer": "ipython3",
   "version": "3.8.5"
  }
 },
 "nbformat": 4,
 "nbformat_minor": 4
}
