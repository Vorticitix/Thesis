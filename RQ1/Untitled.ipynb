{
 "cells": [
  {
   "cell_type": "code",
   "execution_count": 13,
   "metadata": {},
   "outputs": [],
   "source": [
    "import matplotlib.pyplot as plt\n",
    "from numpy import meshgrid\n",
    "from mpl_toolkits.basemap import Basemap, addcyclic\n",
    "import xarray as xr\n",
    "import cartopy.crs as ccrs\n",
    "%matplotlib qt\n"
   ]
  },
  {
   "cell_type": "code",
   "execution_count": 24,
   "metadata": {},
   "outputs": [
    {
     "name": "stderr",
     "output_type": "stream",
     "text": [
      "/home/onno/miniconda3/envs/thesis/lib/python3.8/site-packages/mpl_toolkits/basemap/__init__.py:5098: FutureWarning: Using a non-tuple sequence for multidimensional indexing is deprecated; use `arr[tuple(seq)]` instead of `arr[seq]`. In the future this will be interpreted as an array index, `arr[np.array(seq)]`, which will result either in an error or a different result.\n",
      "  return npsel.concatenate((a,a[slicer]),axis=axis)\n"
     ]
    }
   ],
   "source": [
    "filein = xr.open_dataset('/media/onno/Algemeen/Thesis/GFS_mean/GFS_mean_error_envelope_day_00.nc',decode_times=False)\n",
    "filein = filein.sel(lat=slice(85,0))\n",
    "myfield = filein.v.squeeze().values\n",
    "\n",
    "lons = filein.variables['lon'][:]\n",
    "lats = filein.variables['lat'][:]\n",
    "myfield_cyclic, lons_cyclic  = addcyclic(myfield, lons)\n",
    "[LON, LAT] = meshgrid(lons_cyclic,lats)\n",
    "\n",
    "fig = plt.figure(1, figsize=(10,10))\n",
    "ax1 = plt.subplot(1,1,1)\n",
    "m = Basemap(projection='ortho',lon_0=0,lat_0=90,resolution='c')\n",
    "cs = m.contourf(LON, LAT, myfield_cyclic, latlon='true', extend='both', cmap=plt.cm.get_cmap('bwr',100), alpha=0.70,levels=100)\n",
    "m.drawcoastlines(linewidth=0.7, color='gray')\n",
    "m.drawparallels((-80,-60,-40,-20,0,20,40,60,80), linewidth=0.6, fontsize=11)\n",
    "m.drawmeridians((0,60,120,180,240,300), labels=[0,0,1,1], linewidth=0.6, fontsize=11)\n",
    "cbar = m.colorbar(cs, location='bottom', size=\"8%\", pad=\"8%\")\n",
    "cbar.set_label('My Field', fontsize=14)\n"
   ]
  },
  {
   "cell_type": "code",
   "execution_count": 26,
   "metadata": {},
   "outputs": [],
   "source": [
    "fig,ax=plt.subplots(subplot_kw={'projection': ccrs.Orthographic(0,90)})\n",
    "ds = xr.open_dataset('/media/onno/Algemeen/Thesis/GFS_mean/GFS_mean_error_envelope_day_00.nc',decode_times=False).squeeze()\n",
    "ds = ds.sel(lat=slice(85,0))\n",
    "ax.coastlines()\n",
    "im = ax.pcolormesh(ds.lon.values,ds.lat.values,ds.v.values,\n",
    "            transform=ccrs.PlateCarree(),\n",
    "            cmap='bwr',\n",
    "            vmin=0,vmax=2)\n",
    "# ax.text(x=0.5,y=-0.15,s='Mean error = {:.2f}'.format(float(my_tools.weighted_average_area(ds))),\n",
    "#    transform=ax.transAxes,horizontalalignment='center',fontsize=12)\n",
    "gl = ax.gridlines(crs=ccrs.PlateCarree(), draw_labels=True)\n",
    "# ax.set_title('Day {}'.format(i+1))"
   ]
  },
  {
   "cell_type": "code",
   "execution_count": null,
   "metadata": {},
   "outputs": [],
   "source": []
  }
 ],
 "metadata": {
  "kernelspec": {
   "display_name": "Python 3",
   "language": "python",
   "name": "python3"
  },
  "language_info": {
   "codemirror_mode": {
    "name": "ipython",
    "version": 3
   },
   "file_extension": ".py",
   "mimetype": "text/x-python",
   "name": "python",
   "nbconvert_exporter": "python",
   "pygments_lexer": "ipython3",
   "version": "3.8.5"
  }
 },
 "nbformat": 4,
 "nbformat_minor": 4
}
