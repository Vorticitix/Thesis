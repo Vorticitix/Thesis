{
 "cells": [
  {
   "cell_type": "code",
   "execution_count": 47,
   "id": "affecting-prisoner",
   "metadata": {},
   "outputs": [],
   "source": [
    "import xarray as xr\n",
    "from matplotlib import pyplot as plt\n",
    "import numpy as np\n",
    "from scipy import stats\n",
    "%matplotlib qt"
   ]
  },
  {
   "cell_type": "code",
   "execution_count": 30,
   "id": "appointed-norfolk",
   "metadata": {},
   "outputs": [],
   "source": [
    "path = '/home/onno/Downloads/'\n",
    "file_NL = 'igiss_temp_land_250_6E_52N_n_5lan.nc'\n",
    "file_RU = 'igiss_temp_land_250_38E_56N_n_5lan.nc'\n",
    "\n",
    "NL = xr.open_dataset(path+file_NL,decode_times=False)\n",
    "RU = xr.open_dataset(path+file_RU,decode_times=False)"
   ]
  },
  {
   "cell_type": "code",
   "execution_count": 54,
   "id": "informed-patrol",
   "metadata": {},
   "outputs": [
    {
     "data": {
      "text/plain": [
       "Text(0.5, 0.98, 'Maandelijkse Anomaliën Nederland vs Moskou')"
      ]
     },
     "execution_count": 54,
     "metadata": {},
     "output_type": "execute_result"
    }
   ],
   "source": [
    "fig, ax = plt.subplots()\n",
    "ax.scatter(NL.tempanomaly[12:],RU.tempanomaly)\n",
    "ax.set_xlabel('Maandelijkse Anomalie NL')\n",
    "ax.set_ylabel('Maandelijkse Anomalie Moskou')\n",
    "z = np.polyfit(NL.tempanomaly[12:-10].values, RU.tempanomaly.values[:-10], 1)\n",
    "p = np.poly1d(z)\n",
    "slope, intercept, r_value, p_value, std_err = stats.linregress(NL.tempanomaly[12:-10].values, RU.tempanomaly.values[:-10])\n",
    "ax.plot(NL.tempanomaly[12:-10],p(NL.tempanomaly[12:-10]),\"r--\")\n",
    "ax.text(-9,9,'R^2 = {:.3f}'.format(r_value**2),fontsize=14)\n",
    "fig.suptitle(\"Maandelijkse Anomaliën Nederland vs Moskou\")"
   ]
  },
  {
   "cell_type": "code",
   "execution_count": null,
   "id": "minimal-zambia",
   "metadata": {},
   "outputs": [],
   "source": []
  }
 ],
 "metadata": {
  "kernelspec": {
   "display_name": "Python 3",
   "language": "python",
   "name": "python3"
  },
  "language_info": {
   "codemirror_mode": {
    "name": "ipython",
    "version": 3
   },
   "file_extension": ".py",
   "mimetype": "text/x-python",
   "name": "python",
   "nbconvert_exporter": "python",
   "pygments_lexer": "ipython3",
   "version": "3.6.12"
  }
 },
 "nbformat": 4,
 "nbformat_minor": 5
}
