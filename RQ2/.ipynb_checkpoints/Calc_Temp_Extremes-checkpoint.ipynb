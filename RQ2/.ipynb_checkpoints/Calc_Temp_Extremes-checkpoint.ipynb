{
 "cells": [
  {
   "cell_type": "code",
   "execution_count": 1,
   "metadata": {},
   "outputs": [],
   "source": [
    "%load_ext autoreload\n",
    "%autoreload 2\n",
    "import numpy as np\n",
    "import xarray as xr\n",
    "from matplotlib import pyplot as plt\n",
    "import pandas as pd\n",
    "import sys\n",
    "sys.path.append('/home/onno/Thesis/Scripts')\n",
    "import my_tools\n",
    "from my_tools import plot_dic, file_dic\n",
    "from mpl_toolkits.basemap import Basemap, addcyclic\n",
    "%matplotlib qt"
   ]
  },
  {
   "cell_type": "code",
   "execution_count": 2,
   "metadata": {},
   "outputs": [],
   "source": [
    "path = '/media/onno/Algemeen/Thesis/GFS_T850/'"
   ]
  },
  {
   "cell_type": "code",
   "execution_count": 3,
   "metadata": {},
   "outputs": [],
   "source": [
    "#Anomalies from 10th and 90th percentile have already been calculated using cdo\n",
    "#Specify coordinates\n",
    "lat_0 = 52\n",
    "lat_1 = 46\n",
    "lon_0 = 6\n",
    "lon_1 = 12\n",
    "file_anom_p10 = 'era51_fldmean_mars_t850_79-19_24hourly_lon_{}_{}_lat_{}_{}_anom_from_smoothed_p10.nc'.format(lon_0,lon_1,lat_0,lat_1)\n",
    "file_anom_p90 = 'era51_fldmean_mars_t850_79-19_24hourly_lon_{}_{}_lat_{}_{}_anom_from_smoothed_p90.nc'.format(lon_0,lon_1,lat_0,lat_1)"
   ]
  },
  {
   "cell_type": "code",
   "execution_count": 5,
   "metadata": {},
   "outputs": [],
   "source": [
    "#Open calculated anomally files\n",
    "anom_p10 = xr.open_dataset(path+file_anom_p10).squeeze()\n",
    "anom_p90 = xr.open_dataset(path+file_anom_p90).squeeze()"
   ]
  },
  {
   "cell_type": "code",
   "execution_count": 6,
   "metadata": {},
   "outputs": [],
   "source": [
    "#Create numpy array for start and end dates of persistent temperature extremes\n",
    "#see my_tools.detect_heatwaves/my_tools.detect_coldwaves for further documentation\n",
    "persistent_heatwaves,short_heatwaves = my_tools.detect_heatwaves(anom_p90)\n",
    "persistent_coldwaves,short_coldwaves = my_tools.detect_coldwaves(anom_p10)"
   ]
  },
  {
   "cell_type": "code",
   "execution_count": 10,
   "metadata": {},
   "outputs": [
    {
     "name": "stderr",
     "output_type": "stream",
     "text": [
      "<ipython-input-10-d14af53a0cc4>:25: DeprecationWarning: elementwise comparison failed; this will raise an error in the future.\n",
      "  if np.all(variable == variablez[0]):\n"
     ]
    }
   ],
   "source": [
    "#This cell checks whether individual short lived extremes are independent from other short lived extreme events. \n",
    "#This is done by checking whether another short lived extreme occurs within three days\n",
    "#The result is a boolean array where independent events are labeled True and events that are not independent are labeled False\n",
    "variablez =[short_heatwaves,short_coldwaves]\n",
    "#loop over heat and coldwaves\n",
    "for variable in variablez:\n",
    "    #create empty boolean array\n",
    "    independent = np.zeros(len(variable),dtype=bool)\n",
    "    #Caluclate differenc ein days between individual events with for loop\n",
    "    for i in range(len(variable)):\n",
    "        #Make for loop work for first event\n",
    "        if i==0:\n",
    "            after = pd.Timedelta(variable[i+1,0]-variable[i,1]).days\n",
    "            if after > 3:\n",
    "                independent[i]=True\n",
    "            else:\n",
    "                independent[i]=False\n",
    "        #Make for loop work for last event\n",
    "        elif i==len(variable)-1:\n",
    "            before = pd.Timedelta(variable[i,0]-variable[i-1,1]).days\n",
    "            if before > 3:\n",
    "                independent[i]=True\n",
    "            else:\n",
    "                independent[i]=False\n",
    "        #general calculation\n",
    "        else:\n",
    "            before = pd.Timedelta(variable[i,0]-variable[i-1,1]).days\n",
    "            after = pd.Timedelta(variable[i+1,0]-variable[i,1]).days\n",
    "            #Take shortest day difference\n",
    "            combined = min(before,after)\n",
    "            if combined > 3:\n",
    "                independent[i]=True\n",
    "            else:\n",
    "                independent[i]=False\n",
    "    #save as numpy array\n",
    "    if np.all(variable == variablez[0]):\n",
    "        np.save(path+'independent_short_heatwaves_lon_{}_{}_lat_{}_{}.npy'.format(lon_0,lon_1,lat_0,lat_1),independent)\n",
    "    else:\n",
    "        np.save(path+'independent_short_coldwaves_lon_{}_{}_lat_{}_{}.npy'.format(lon_0,lon_1,lat_0,lat_1),independent)\n",
    "        "
   ]
  },
  {
   "cell_type": "code",
   "execution_count": 11,
   "metadata": {},
   "outputs": [],
   "source": [
    "#save dates as text file and numpy array\n",
    "np.savetxt(path+'persistent_heatwaves_lon_{}_{}_lat_{}_{}.txt'.format(lon_0,lon_1,lat_0,lat_1),persistent_heatwaves,fmt='%s')\n",
    "np.savetxt(path+'short_heatwaves_lon_{}_{}_lat_{}_{}.txt'.format(lon_0,lon_1,lat_0,lat_1),short_heatwaves,fmt='%s')\n",
    "np.savetxt(path+'persistent_coldwaves_lon_{}_{}_lat_{}_{}.txt'.format(lon_0,lon_1,lat_0,lat_1),persistent_coldwaves,fmt='%s')\n",
    "np.savetxt(path+'short_coldwaves_lon_{}_{}_lat_{}_{}.txt'.format(lon_0,lon_1,lat_0,lat_1),short_coldwaves,fmt='%s')\n",
    "np.save(path+'persistent_heatwaves_lon_{}_{}_lat_{}_{}.npy'.format(lon_0,lon_1,lat_0,lat_1),persistent_heatwaves)\n",
    "np.save(path+'persistent_coldwaves_lon_{}_{}_lat_{}_{}.npy'.format(lon_0,lon_1,lat_0,lat_1),persistent_coldwaves)\n",
    "np.save(path+'short_heatwaves_lon_{}_{}_lat_{}_{}.npy'.format(lon_0,lon_1,lat_0,lat_1),short_heatwaves)\n",
    "np.save(path+'short_coldwaves_lon_{}_{}_lat_{}_{}.npy'.format(lon_0,lon_1,lat_0,lat_1),short_coldwaves)"
   ]
  }
 ],
 "metadata": {
  "kernelspec": {
   "display_name": "Python 3",
   "language": "python",
   "name": "python3"
  },
  "language_info": {
   "codemirror_mode": {
    "name": "ipython",
    "version": 3
   },
   "file_extension": ".py",
   "mimetype": "text/x-python",
   "name": "python",
   "nbconvert_exporter": "python",
   "pygments_lexer": "ipython3",
   "version": "3.7.9"
  }
 },
 "nbformat": 4,
 "nbformat_minor": 4
}
