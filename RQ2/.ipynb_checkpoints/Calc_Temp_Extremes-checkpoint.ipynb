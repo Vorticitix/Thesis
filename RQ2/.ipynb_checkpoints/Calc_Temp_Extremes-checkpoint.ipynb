{
 "cells": [
  {
   "cell_type": "code",
   "execution_count": 1,
   "metadata": {},
   "outputs": [],
   "source": [
    "%load_ext autoreload\n",
    "%autoreload 2\n",
    "import numpy as np\n",
    "import xarray as xr\n",
    "from matplotlib import pyplot as plt\n",
    "import pandas as pd\n",
    "import sys\n",
    "sys.path.append('/home/onno/Thesis/Scripts')\n",
    "import my_tools\n",
    "from my_tools import plot_dic, file_dic\n",
    "from mpl_toolkits.basemap import Basemap, addcyclic\n",
    "%matplotlib qt"
   ]
  },
  {
   "cell_type": "code",
   "execution_count": 2,
   "metadata": {},
   "outputs": [],
   "source": [
    "path = '/media/onno/Algemeen/Thesis/GFS_T850/'"
   ]
  },
  {
   "cell_type": "code",
   "execution_count": 3,
   "metadata": {},
   "outputs": [],
   "source": [
    "#Anomalies from 10th and 90th percentile have already been calculated using cdo\n",
    "#Here I just list the resulting filenames\n",
    "lat_0 = 52\n",
    "lat_1 = 46\n",
    "lon_0 = 6\n",
    "lon_1 = 12\n",
    "file_anom_p10 = 'era51_fldmean_mars_t850_79-19_24hourly_lon_{}_{}_lat_{}_{}_anom_from_smoothed_p10.nc'.format(lon_0,lon_1,lat_0,lat_1)\n",
    "file_anom_p90 = 'era51_fldmean_mars_t850_79-19_24hourly_lon_{}_{}_lat_{}_{}_anom_from_smoothed_p90.nc'.format(lon_0,lon_1,lat_0,lat_1)"
   ]
  },
  {
   "cell_type": "code",
   "execution_count": 4,
   "metadata": {},
   "outputs": [],
   "source": [
    "anom_p10 = xr.open_dataset(path+file_anom_p10).squeeze()\n",
    "anom_p90 = xr.open_dataset(path+file_anom_p90).squeeze()"
   ]
  },
  {
   "cell_type": "code",
   "execution_count": 6,
   "metadata": {},
   "outputs": [],
   "source": [
    "#Create numpy array for start and end dates of persistent temperature extremes\n",
    "persistent_heatwaves,short_heatwaves = my_tools.detect_heatwaves(anom_p90)\n",
    "persistent_coldwaves,short_coldwaves = my_tools.detect_coldwaves(anom_p10)"
   ]
  },
  {
   "cell_type": "code",
   "execution_count": null,
   "metadata": {},
   "outputs": [],
   "source": [
    "for i in range(len(short_heatwaves))"
   ]
  },
  {
   "cell_type": "code",
   "execution_count": 13,
   "metadata": {},
   "outputs": [],
   "source": [
    "#write dates to text file\n",
    "np.savetxt(path+'persistent_heatwaves_lon_{}_{}_lat_{}_{}.txt'.format(lon_0,lon_1,lat_0,lat_1),persistent_heatwaves,fmt='%s')\n",
    "np.savetxt(path+'short_heatwaves_lon_{}_{}_lat_{}_{}.txt'.format(lon_0,lon_1,lat_0,lat_1),short_heatwaves,fmt='%s')\n",
    "np.savetxt(path+'persistent_coldwaves_lon_{}_{}_lat_{}_{}.txt'.format(lon_0,lon_1,lat_0,lat_1),persistent_coldwaves,fmt='%s')\n",
    "np.savetxt(path+'short_coldwaves_lon_{}_{}_lat_{}_{}.txt'.format(lon_0,lon_1,lat_0,lat_1),short_coldwaves,fmt='%s')\n",
    "np.save(path+'persistent_heatwaves_lon_{}_{}_lat_{}_{}.npy'.format(lon_0,lon_1,lat_0,lat_1),persistent_heatwaves)\n",
    "np.save(path+'persistent_coldwaves_lon_{}_{}_lat_{}_{}.npy'.format(lon_0,lon_1,lat_0,lat_1),persistent_coldwaves)\n",
    "np.save(path+'short_heatwaves_lon_{}_{}_lat_{}_{}.npy'.format(lon_0,lon_1,lat_0,lat_1),short_heatwaves)\n",
    "np.save(path+'short_coldwaves_lon_{}_{}_lat_{}_{}.npy'.format(lon_0,lon_1,lat_0,lat_1),short_coldwaves)"
   ]
  },
  {
   "cell_type": "code",
   "execution_count": 24,
   "metadata": {},
   "outputs": [],
   "source": [
    "file_era = 'era51_t850_fldmean_lon_6_14_lat_54_46_00hr.nc'\n",
    "file_era_p90 = 'era51_t850_fldmean_lon_6_14_lat_54_46_00hr_p90_SMOOTHED.nc'\n",
    "file_era_p10 = 'era51_t850_fldmean_lon_6_14_lat_54_46_00hr_p10_SMOOTHED.nc'\n",
    "era=xr.open_dataset(path+file_era).squeeze()\n",
    "era_p90 = xr.open_dataset(path+file_era_p90).squeeze()\n",
    "era_p10 = xr.open_dataset(path+file_era_p10).squeeze()"
   ]
  },
  {
   "cell_type": "markdown",
   "metadata": {},
   "source": [
    "Persistent Heatwave 4 Aug 2003 - 15 Aug 2003 and  short lived heat wave 18 Aug 2003 - 19 Aug 2003"
   ]
  },
  {
   "cell_type": "code",
   "execution_count": 32,
   "metadata": {},
   "outputs": [
    {
     "data": {
      "text/plain": [
       "[<matplotlib.lines.Line2D at 0x7fa569c1bbb0>]"
      ]
     },
     "execution_count": 32,
     "metadata": {},
     "output_type": "execute_result"
    }
   ],
   "source": [
    "era_sub = era.t[(era.time.dt.year==2003)&(era.time.dt.month==8)]\n",
    "era_p90_sub = era_p90.t[(era_p90.time.dt.month==8)]\n",
    "x = pd.date_range('2003-08-01','2003-08-31')\n",
    "fig,ax = plt.subplots()\n",
    "ax.plot(x,era_sub.values)\n",
    "ax.plot(x,era_p90_sub.values)"
   ]
  },
  {
   "cell_type": "markdown",
   "metadata": {},
   "source": [
    "Persistent Coldwave 1 Feb - 8 Feb and 10 Feb - 14 Feb and short lived coldwave 23 Feb - 25 Feb 2012"
   ]
  },
  {
   "cell_type": "code",
   "execution_count": 50,
   "metadata": {},
   "outputs": [
    {
     "data": {
      "text/plain": [
       "[<matplotlib.lines.Line2D at 0x7fa5648fb490>]"
      ]
     },
     "execution_count": 50,
     "metadata": {},
     "output_type": "execute_result"
    }
   ],
   "source": [
    "era_sub = era.t[(era.time.dt.year==2013)&(era.time.dt.month==2)]\n",
    "era_p10_sub = era_p10.t[(era_p10.time.dt.month==2)][:28]\n",
    "x = pd.date_range('2013-02-01','2013-02-28')\n",
    "fig,ax = plt.subplots()\n",
    "ax.plot(x,era_sub.values)\n",
    "ax.plot(x,era_p10_sub.values)"
   ]
  },
  {
   "cell_type": "code",
   "execution_count": 43,
   "metadata": {},
   "outputs": [
    {
     "data": {
      "text/plain": [
       "[<matplotlib.lines.Line2D at 0x7fa565bbd310>]"
      ]
     },
     "execution_count": 43,
     "metadata": {},
     "output_type": "execute_result"
    }
   ],
   "source": [
    "era_sub = era.t[(era.time.dt.year==2019)&(era.time.dt.month==5)]\n",
    "era_p10_sub = era_p10.t[(era_p10.time.dt.month==5)]\n",
    "x = pd.date_range('2019-05-01','2019-05-31')\n",
    "fig,ax = plt.subplots()\n",
    "ax.plot(x,era_sub.values)\n",
    "ax.plot(x,era_p10_sub.values)"
   ]
  },
  {
   "cell_type": "code",
   "execution_count": null,
   "metadata": {},
   "outputs": [],
   "source": []
  }
 ],
 "metadata": {
  "kernelspec": {
   "display_name": "Python 3",
   "language": "python",
   "name": "python3"
  },
  "language_info": {
   "codemirror_mode": {
    "name": "ipython",
    "version": 3
   },
   "file_extension": ".py",
   "mimetype": "text/x-python",
   "name": "python",
   "nbconvert_exporter": "python",
   "pygments_lexer": "ipython3",
   "version": "3.8.5"
  }
 },
 "nbformat": 4,
 "nbformat_minor": 4
}
