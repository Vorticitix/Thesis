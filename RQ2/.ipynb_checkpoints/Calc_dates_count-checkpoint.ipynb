{
 "cells": [
  {
   "cell_type": "code",
   "execution_count": 2,
   "metadata": {},
   "outputs": [],
   "source": [
    "import pandas as pd\n",
    "import numpy as np"
   ]
  },
  {
   "cell_type": "code",
   "execution_count": 15,
   "metadata": {},
   "outputs": [],
   "source": [
    "path = '/media/onno/Volume/GFS_T850/dates/'\n",
    "coordinatez = [\n",
    "(62,54,0,8),#Germany\n",
    "(54,46,0,8), #Spain\n",
    "(46,38,0,8), #Ukraine\n",
    "(62,54,8,16),#Germany\n",
    "(54,46,8,16), #Spain\n",
    "(46,38,8,16), #Ukraine\n",
    "(62,54,16,24),#Germany\n",
    "(54,46,16,24), #Spain\n",
    "(46,38,16,24),\n",
    "] #Ukraine\n",
    "\n",
    "month_to_season_dct = {\n",
    "    1: 'DJF', 2: 'DJF',\n",
    "    3: 'MAM', 4: 'MAM', 5: 'MAM',\n",
    "    6: 'JJA', 7: 'JJA', 8: 'JJA',\n",
    "    9: 'SON', 10: 'SON', 11: 'SON',\n",
    "    12: 'DJF'\n",
    "}"
   ]
  },
  {
   "cell_type": "code",
   "execution_count": 21,
   "metadata": {},
   "outputs": [],
   "source": [
    "eventz = ['pw','cw','avg_p40_p60']\n",
    "file = '{}_lon_{}_{}_lat_{}_{}.npy'\n",
    "\n",
    "df = pd.DataFrame(0,index = ['DJF','MAM','JJA','SON'])\n",
    "for lat_1,lat_0,lon_0,lon_1 in coordinatez:\n",
    "    for event in eventz:\n",
    "        arr = np.load(path+file.format(event,lon_0,lon_1,lat_1,lat_0),allow_pickle=True)\n",
    "        begin_season = pd.Series([month_to_season_dct[pd.to_datetime(i).month] for i in arr[:,0]])\n",
    "        \n",
    "        \n",
    "        \n",
    "file = 'pw_lon_0_8_lat_54_46.npy'\n",
    "arr = np.load(path+file,allow_pickle=True)\n",
    "begin = [month_to_season_dct[pd.to_datetime(i).month] for i in arr[:,0]]"
   ]
  },
  {
   "cell_type": "code",
   "execution_count": 28,
   "metadata": {},
   "outputs": [
    {
     "data": {
      "text/plain": [
       "DJF    34\n",
       "JJA    39\n",
       "MAM    30\n",
       "SON    32\n",
       "dtype: int64"
      ]
     },
     "execution_count": 28,
     "metadata": {},
     "output_type": "execute_result"
    }
   ],
   "source": [
    "begin_season.groupby(begin_season).count()"
   ]
  },
  {
   "cell_type": "code",
   "execution_count": null,
   "metadata": {},
   "outputs": [],
   "source": []
  }
 ],
 "metadata": {
  "kernelspec": {
   "display_name": "Python 3",
   "language": "python",
   "name": "python3"
  },
  "language_info": {
   "codemirror_mode": {
    "name": "ipython",
    "version": 3
   },
   "file_extension": ".py",
   "mimetype": "text/x-python",
   "name": "python",
   "nbconvert_exporter": "python",
   "pygments_lexer": "ipython3",
   "version": "3.8.5"
  }
 },
 "nbformat": 4,
 "nbformat_minor": 4
}
