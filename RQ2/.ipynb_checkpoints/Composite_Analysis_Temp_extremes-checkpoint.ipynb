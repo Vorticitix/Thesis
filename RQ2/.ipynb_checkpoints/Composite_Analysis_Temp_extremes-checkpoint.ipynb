{
 "cells": [
  {
   "cell_type": "code",
   "execution_count": 1,
   "id": "german-imperial",
   "metadata": {},
   "outputs": [],
   "source": [
    "%load_ext autoreload\n",
    "%autoreload 2\n",
    "import numpy as np\n",
    "import xarray as xr\n",
    "from matplotlib import pyplot as plt\n",
    "import pandas as pd\n",
    "import sys\n",
    "sys.path.append('/home/onno/Thesis/Scripts')\n",
    "import my_tools\n",
    "from my_tools import plot_dic, file_dic\n",
    "from mpl_toolkits.basemap import Basemap, addcyclic\n",
    "%matplotlib qt"
   ]
  },
  {
   "cell_type": "code",
   "execution_count": 7,
   "id": "varied-hardware",
   "metadata": {},
   "outputs": [],
   "source": [
    "#set path for general ERA5 reanalysis and GFS reforecast\n",
    "path_gen = '/media/onno/Algemeen/Thesis/'\n",
    "lat_0 = 52\n",
    "lat_1 = 46\n",
    "lon_0 = 6\n",
    "lon_1 = 12\n",
    "latlon = '_lon_{}_{}_lat_{}_{}'.format(lon_0,lon_1,lat_0,lat_1)"
   ]
  },
  {
   "cell_type": "code",
   "execution_count": 31,
   "id": "narrative-print",
   "metadata": {},
   "outputs": [],
   "source": [
    "#Load ERA5 files and regridding longitude data to -180 - 180\n",
    "era_env = xr.open_dataset(path_gen+'era51_mars_env_wledit2000-10000_latavg_v300_79-19_6hourly_anom_from_smoothed04_clim_smoothed.nc').squeeze()\n",
    "era_env = era_env.assign_coords(longitude=(((era_env.longitude + 180) % 360) - 180)).sortby('longitude')\n",
    "era_t850 = xr.open_dataset(path_gen+'era51_mars_t850_79-19_6hourly.nc').squeeze()\n",
    "era_t850 = era_t850.assign_coords(longitude=(((era_t850.longitude + 180) % 360) - 180)).sortby('longitude')\n"
   ]
  },
  {
   "cell_type": "markdown",
   "id": "handed-explosion",
   "metadata": {},
   "source": [
    "Make ERA5 composite Analysis"
   ]
  },
  {
   "cell_type": "code",
   "execution_count": 15,
   "id": "worse-vienna",
   "metadata": {},
   "outputs": [],
   "source": [
    "#set path for temp extremes files\n",
    "path = '/media/onno/Algemeen/Thesis/GFS_T850/'\n",
    "\n",
    "datez_pers_hw = np.load(path+'persistent_heatwaves'+latlon+'.npy')\n",
    "datez_pers_cw = np.load(path+'persistent_coldwaves'+latlon+'.npy')\n",
    "datez_short_hw = np.load(path+'short_heatwaves'+latlon+'.npy')\n",
    "datez_short_cw = np.load(path+'short_coldwaves'+latlon+'.npy')\n",
    "datez_total = [datez_pers_hw,datez_pers_cw,datez_short_hw,datez_short_cw]"
   ]
  },
  {
   "cell_type": "code",
   "execution_count": 51,
   "id": "behind-format",
   "metadata": {},
   "outputs": [
    {
     "ename": "SystemExit",
     "evalue": "",
     "output_type": "error",
     "traceback": [
      "An exception has occurred, use %tb to see the full traceback.\n",
      "\u001b[0;31mSystemExit\u001b[0m\n"
     ]
    },
    {
     "name": "stderr",
     "output_type": "stream",
     "text": [
      "/home/onno/miniconda3/envs/thesis/lib/python3.8/site-packages/IPython/core/interactiveshell.py:3426: UserWarning: To exit: use 'exit', 'quit', or Ctrl-D.\n",
      "  warn(\"To exit: use 'exit', 'quit', or Ctrl-D.\", stacklevel=1)\n"
     ]
    }
   ],
   "source": [
    "\n",
    "for datez in datez_total:\n",
    "    fig,ax = plt.subplots()\n",
    "    m = Basemap(projection='lcc', \n",
    "              lat_0=50, lon_0=10,\n",
    "              llcrnrlon=-60, \n",
    "              llcrnrlat=20, \n",
    "              urcrnrlon=60, \n",
    "              urcrnrlat=70,\n",
    "                ax=ax)\n",
    "    era_env_sub = era_env.sel(time=datez[:,0]).mean(dim='time')\n",
    "    lat = era_env_sub.latitude.values\n",
    "    lon = era_env_sub.longitude.values\n",
    "    LON,LAT = np.meshgrid(lon,lat)\n",
    "    m.contourf(LON,LAT,era_env_sub.v,latlon='true')\n",
    "    m.drawcountries()\n",
    "    m.drawcoastlines()\n",
    "    m.drawparallels((np.arange(0,91,10)))\n",
    "    m.drawmeridians(np.arange(-60,61,20),labels=[0,0,1,1])\n",
    "    \n",
    "    sys.exit()"
   ]
  },
  {
   "cell_type": "code",
   "execution_count": null,
   "id": "phantom-leone",
   "metadata": {},
   "outputs": [],
   "source": []
  }
 ],
 "metadata": {
  "kernelspec": {
   "display_name": "Python 3",
   "language": "python",
   "name": "python3"
  },
  "language_info": {
   "codemirror_mode": {
    "name": "ipython",
    "version": 3
   },
   "file_extension": ".py",
   "mimetype": "text/x-python",
   "name": "python",
   "nbconvert_exporter": "python",
   "pygments_lexer": "ipython3",
   "version": "3.8.5"
  }
 },
 "nbformat": 4,
 "nbformat_minor": 5
}
