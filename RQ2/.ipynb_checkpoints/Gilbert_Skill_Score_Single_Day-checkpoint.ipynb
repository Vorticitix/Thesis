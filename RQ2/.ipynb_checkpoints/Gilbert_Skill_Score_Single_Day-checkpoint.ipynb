{
 "cells": [
  {
   "cell_type": "code",
   "execution_count": 43,
   "metadata": {},
   "outputs": [
    {
     "name": "stdout",
     "output_type": "stream",
     "text": [
      "The autoreload extension is already loaded. To reload it, use:\n",
      "  %reload_ext autoreload\n"
     ]
    }
   ],
   "source": [
    "%load_ext autoreload\n",
    "%autoreload 2\n",
    "import numpy as np\n",
    "import xarray as xr\n",
    "from matplotlib import pyplot as plt\n",
    "import pandas as pd\n",
    "import sys\n",
    "sys.path.append('/home/onno/Thesis/Scripts')\n",
    "import my_tools\n",
    "from my_tools import plot_dic, file_dic\n",
    "%matplotlib qt"
   ]
  },
  {
   "cell_type": "code",
   "execution_count": 44,
   "metadata": {},
   "outputs": [],
   "source": [
    "path = '/media/onno/Algemeen/Thesis/GFS_T850/'"
   ]
  },
  {
   "cell_type": "code",
   "execution_count": 81,
   "metadata": {},
   "outputs": [],
   "source": [
    "file_pers_hw = 'persistent_heatwaves_lon_6_12_lat_52_46.npy'\n",
    "file_gfs = 'gefsrf2_fldmean_t850_control0-252h_24hourly_lon_6_12_lat_52_46.nc'\n",
    "file_era = 'era51_fldmean_mars_t850_79-19_24hourly_lon_6_12_lat_52_46.nc'\n",
    "file_clim_p90 = 'era51_mars_t850_79-19_24hourly_90p_lon_6_12_lat_52_46_SMOOTHED.nc'\n",
    "pers_hw = np.load(path+file_pers_hw)\n",
    "gfs = xr.open_dataset(path+file_gfs,decode_times=False).squeeze()\n",
    "init_time_gfs = pd.Timestamp('1800-01-01')\n",
    "gfs['time'] = [pd.Timedelta(i,'hours')+init_time_gfs for i in gfs.time.values]\n",
    "gfs['lead'] = gfs['lead']//24\n",
    "gfs = gfs.groupby('lead').mean()\n",
    "era = xr.open_dataset(path+file_era).squeeze()\n",
    "clim_p90 = xr.open_dataset(path+file_clim_p90).squeeze()\n",
    "clim_p90['time']=pd.date_range('2016-01-01',\"2016-12-31\")\n",
    "\n"
   ]
  },
  {
   "cell_type": "code",
   "execution_count": 83,
   "metadata": {},
   "outputs": [
    {
     "ename": "SystemExit",
     "evalue": "",
     "output_type": "error",
     "traceback": [
      "An exception has occurred, use %tb to see the full traceback.\n",
      "\u001b[0;31mSystemExit\u001b[0m\n"
     ]
    },
    {
     "name": "stderr",
     "output_type": "stream",
     "text": [
      "/home/onno/miniconda3/lib/python3.7/site-packages/IPython/core/interactiveshell.py:3426: UserWarning: To exit: use 'exit', 'quit', or Ctrl-D.\n",
      "  warn(\"To exit: use 'exit', 'quit', or Ctrl-D.\", stacklevel=1)\n"
     ]
    }
   ],
   "source": [
    "for i,datez in enumerate(pers_hw):\n",
    "    date_range = pd.date_range(datez[0],datez[1])\n",
    "    for date in date_range:\n",
    "        begin_date = date - pd.Timedelta(5,'days')\n",
    "        end_date = date + pd.Timedelta(4,'days')\n",
    "        era_sub = era.sel(time=slice(begin_date,end_date))\n",
    "        gfs_sub = gfs.sel(time=begin_date)\n",
    "        clim_p90_sub = clim_p90.sel(time=pd.date_range('2016-{:02d}-{:02d}'.format(begin_date.month,begin_date.day),\n",
    "                                                      '2016-{:02d}-{:02d}'.format(end_date.month,end_date.day)))\n",
    "        sys.exit()\n",
    "    "
   ]
  },
  {
   "cell_type": "code",
   "execution_count": null,
   "metadata": {},
   "outputs": [],
   "source": []
  }
 ],
 "metadata": {
  "kernelspec": {
   "display_name": "Python 3",
   "language": "python",
   "name": "python3"
  },
  "language_info": {
   "codemirror_mode": {
    "name": "ipython",
    "version": 3
   },
   "file_extension": ".py",
   "mimetype": "text/x-python",
   "name": "python",
   "nbconvert_exporter": "python",
   "pygments_lexer": "ipython3",
   "version": "3.7.9"
  }
 },
 "nbformat": 4,
 "nbformat_minor": 4
}
