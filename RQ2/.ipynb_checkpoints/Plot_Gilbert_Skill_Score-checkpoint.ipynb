{
 "cells": [
  {
   "cell_type": "code",
   "execution_count": 38,
   "id": "apart-brush",
   "metadata": {},
   "outputs": [
    {
     "name": "stdout",
     "output_type": "stream",
     "text": [
      "The autoreload extension is already loaded. To reload it, use:\n",
      "  %reload_ext autoreload\n"
     ]
    }
   ],
   "source": [
    "%load_ext autoreload\n",
    "%autoreload 2\n",
    "import numpy as np\n",
    "import xarray as xr\n",
    "from matplotlib import pyplot as plt\n",
    "import pandas as pd\n",
    "import sys\n",
    "sys.path.append('/home/onno/Thesis/Scripts')\n",
    "import my_tools\n",
    "from my_tools import plot_dic, file_dic\n",
    "%matplotlib qt"
   ]
  },
  {
   "cell_type": "code",
   "execution_count": 39,
   "id": "capable-composition",
   "metadata": {},
   "outputs": [],
   "source": [
    "path = '/media/onno/Algemeen/Thesis/GFS_T850/GSS/'"
   ]
  },
  {
   "cell_type": "code",
   "execution_count": 46,
   "id": "dangerous-cooperative",
   "metadata": {},
   "outputs": [
    {
     "ename": "SystemExit",
     "evalue": "",
     "output_type": "error",
     "traceback": [
      "An exception has occurred, use %tb to see the full traceback.\n",
      "\u001b[0;31mSystemExit\u001b[0m\n"
     ]
    },
    {
     "name": "stderr",
     "output_type": "stream",
     "text": [
      "/home/onno/miniconda3/envs/thesis/lib/python3.7/site-packages/IPython/core/interactiveshell.py:3426: UserWarning: To exit: use 'exit', 'quit', or Ctrl-D.\n",
      "  warn(\"To exit: use 'exit', 'quit', or Ctrl-D.\", stacklevel=1)\n"
     ]
    }
   ],
   "source": [
    "lead_dayz = [1,3,5,7,9]\n",
    "columnz = ['persistent_hw','short_hw','persistent_cw','short_cw']\n",
    "seasonz = ['DJF','MAM','JJA','SON']\n",
    "titlez = ['Persistent Heatwaves','Short-Lived Heatwaves',\n",
    "         ' Persistent Coldwaves','Short-Lived Coldwaves']\n",
    "xtickz = np.arange(4)\n",
    "file = 'GSS_Temp_Extremes_Seasonally_Grouped_lead_day_{}.csv'\n",
    "for lead_day in lead_dayz:\n",
    "    df = pd.read_csv(path+file.format(lead_day),index_col=0)\n",
    "    fig,axz = plt.subplots(2,2,figsize=(16,9))\n",
    "    fig.suptitle('Gilbert Skill Score Day {} Forecast Before Onset of Temperature Extreme'.format(lead_day))\n",
    "    for i,ax in enumerate(axz.flat):\n",
    "        df_sub=df[columnz[i]]\n",
    "        ax.set_title(titlez[i])\n",
    "        ax.set_ylim([0,1])\n",
    "        ax.bar(0,df_sub.loc['DJF'],label='DJF',color='dodgerblue')\n",
    "        ax.bar(1,df_sub.loc['MAM'],label='MAM',color='limegreen')\n",
    "        ax.bar(2,df_sub.loc['JJA'],label='DJF',color='r')\n",
    "        ax.bar(3,df_sub.loc['SON'],label='SON',color='darkorange')\n",
    "        ax.grid(axis='y')\n",
    "        ax.set_xticks(xtickz)\n",
    "        ax.set_xticklabels(seasonz)\n",
    "        for k in range(len(df_sub.values)):\n",
    "            ax.text(xtickz[k],0.08,'{:.2f}'.format(df_sub.loc[seasonz[k]]),fontsize=18,color='w',horizontalalignment='center')\n",
    "            \n",
    "        ax.legend()\n",
    "    fig.savefig(path+'GSS_seasonally_grouped_lead_day_{}.png'.format(lead_day))\n",
    "    plt.close(fig)\n",
    "sys.exit()\n",
    "        "
   ]
  },
  {
   "cell_type": "code",
   "execution_count": 143,
   "id": "stunning-farmer",
   "metadata": {},
   "outputs": [
    {
     "ename": "SystemExit",
     "evalue": "",
     "output_type": "error",
     "traceback": [
      "An exception has occurred, use %tb to see the full traceback.\n",
      "\u001b[0;31mSystemExit\u001b[0m\n"
     ]
    },
    {
     "name": "stderr",
     "output_type": "stream",
     "text": [
      "/home/onno/miniconda3/envs/thesis/lib/python3.7/site-packages/IPython/core/interactiveshell.py:3426: UserWarning: To exit: use 'exit', 'quit', or Ctrl-D.\n",
      "  warn(\"To exit: use 'exit', 'quit', or Ctrl-D.\", stacklevel=1)\n"
     ]
    }
   ],
   "source": [
    "lead_dayz = [1,3,5,7,9]\n",
    "columnz = ['persistent_hw','short_hw','persistent_cw','short_cw']\n",
    "\n",
    "titlez = ['Persistent Heatwaves','Short-Lived Heatwaves',\n",
    "         ' Persistent Coldwaves','Short-Lived Coldwaves']\n",
    "xtickz = np.arange(4)\n",
    "lead_dayz = [1,3,5,7,9]\n",
    "file = 'Gilbert_Skill_Score_lead_day_{}.csv'\n",
    "seasonz = {'MAM':[3,4,5],\n",
    "          'JJA':[6,7,8],\n",
    "          'SON':[9,10,11],\n",
    "          'DJF':[12,1,2]}\n",
    "\n",
    "for lead_day in lead_dayz:\n",
    "    df = pd.read_csv(path+file.format(lead_day),index_col=0)\n",
    "    df.index = pd.to_datetime(df.index)\n",
    "    df_seasonally = df.groupby(month_to_season_lu[df.index.month]).mean()\n",
    "    fig,axz = plt.subplots(2,2,figsize=(16,9))\n",
    "    fig.suptitle('Gilbert Skill Score Day {} Forecast Before Onset of Temperature Extreme'.format(lead_day))\n",
    "    for i,ax in enumerate(axz.flat):\n",
    "        df_sub=df[columnz[i]].dropna()\n",
    "        ax.set_title(titlez[i])\n",
    "        ax.set_ylim([0,1])\n",
    "        \n",
    "        dataz = [df_sub[np.isin(df_sub.index.month,seasonz['DJF'])],\n",
    "               df_sub[np.isin(df_sub.index.month,seasonz['MAM'])],\n",
    "                df_sub[np.isin(df_sub.index.month,seasonz['JJA'])],\n",
    "                df_sub[np.isin(df_sub.index.month,seasonz['SON'])]]\n",
    "\n",
    "        for x in xtickz:\n",
    "            GSS_mean = dataz[x].mean()\n",
    "            GSS_worst = ((dataz[x]>=0)&(dataz[x]<0.2)).sum()/dataz[x].count()\n",
    "            GSS_bad = ((dataz[x]>=0.2)&(dataz[x]<0.4)).sum()/dataz[x].count()\n",
    "            GSS_meh = ((dataz[x]>=0.4)&(dataz[x]<0.6)).sum()/dataz[x].count()\n",
    "            GSS_good = ((dataz[x]>=0.6)&(dataz[x]<0.8)).sum()/dataz[x].count()\n",
    "            GSS_perfect = ((dataz[x]>=0.8)&(dataz[x]<=1)).sum()/dataz[x].count()\n",
    "            if x==0:\n",
    "                ax.bar(x,GSS_worst,width=0.5,color='darkred',label='0.2 > GSS > 0')\n",
    "                ax.bar(x,GSS_bad,width=0.5,color='red',label='0.4 > GSS > 0.2',\n",
    "                       bottom=GSS_worst)\n",
    "                ax.bar(x,GSS_meh,width=0.5,color='orange',label='0.6 > GSS > 0.4',\n",
    "                      bottom=GSS_worst+GSS_bad)\n",
    "                ax.bar(x,GSS_good,width=0.5,color='gold',label='0.8 > GSS > 0.6',\n",
    "                      bottom=GSS_worst+GSS_bad+GSS_meh)\n",
    "                ax.bar(x,GSS_perfect,width=0.5,color='lime',label='1 > GSS > 0.8',\n",
    "                      bottom=GSS_worst+GSS_bad+GSS_meh+GSS_good)\n",
    "            else:\n",
    "                ax.bar(x,GSS_worst,width=0.5,color='darkred')\n",
    "                ax.bar(x,GSS_bad,width=0.5,color='red',\n",
    "                       bottom=GSS_worst)\n",
    "                ax.bar(x,GSS_meh,width=0.5,color='orange',\n",
    "                      bottom=GSS_worst+GSS_bad)\n",
    "                ax.bar(x,GSS_good,width=0.5,color='gold',\n",
    "                      bottom=GSS_worst+GSS_bad+GSS_meh)\n",
    "                ax.bar(x,GSS_perfect,width=0.5,color='lime',\n",
    "                      bottom=GSS_worst+GSS_bad+GSS_meh+GSS_good)\n",
    "            ax.text(xtickz[x],0.08,'{:.2f}'.format(GSS_mean),\n",
    "                    fontsize=18,color='w',horizontalalignment='center')\n",
    "#         ax.bar(0,df_sub.loc['DJF'],label='DJF',color='dodgerblue')\n",
    "#         ax.bar(1,df_sub.loc['MAM'],label='MAM',color='limegreen')\n",
    "#         ax.bar(2,df_sub.loc['JJA'],label='DJF',color='r')\n",
    "#         ax.bar(3,df_sub.loc['SON'],label='SON',color='darkorange')\n",
    "        ax.grid(axis='y')\n",
    "        ax.set_xticks(xtickz)\n",
    "        ax.set_xticklabels(['DJF','MAM','JJA','SON'])\n",
    "        if i ==1:\n",
    "            ax.legend(loc='center left', bbox_to_anchor=(1, 0.8275))\n",
    "    sys.exit()    \n",
    "#     fig.savefig(path+'GSS_seasonally_grouped_lead_day_{}_alt.png'.format(lead_day))\n",
    "#     plt.close(fig)\n",
    "sys.exit()\n",
    "        "
   ]
  },
  {
   "cell_type": "code",
   "execution_count": null,
   "id": "renewable-insured",
   "metadata": {},
   "outputs": [],
   "source": []
  },
  {
   "cell_type": "code",
   "execution_count": null,
   "id": "sublime-kingston",
   "metadata": {},
   "outputs": [],
   "source": []
  },
  {
   "cell_type": "code",
   "execution_count": null,
   "id": "recovered-italic",
   "metadata": {},
   "outputs": [],
   "source": []
  }
 ],
 "metadata": {
  "kernelspec": {
   "display_name": "Python 3",
   "language": "python",
   "name": "python3"
  },
  "language_info": {
   "codemirror_mode": {
    "name": "ipython",
    "version": 3
   },
   "file_extension": ".py",
   "mimetype": "text/x-python",
   "name": "python",
   "nbconvert_exporter": "python",
   "pygments_lexer": "ipython3",
   "version": "3.7.9"
  }
 },
 "nbformat": 4,
 "nbformat_minor": 5
}
