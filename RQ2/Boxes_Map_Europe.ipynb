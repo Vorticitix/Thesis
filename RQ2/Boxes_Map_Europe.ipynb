{
 "cells": [
  {
   "cell_type": "code",
   "execution_count": 9,
   "id": "incident-organ",
   "metadata": {},
   "outputs": [],
   "source": [
    "from matplotlib import pyplot as plt\n",
    "from mpl_toolkits.basemap import Basemap\n",
    "from matplotlib.patches import Polygon\n",
    "import numpy as np\n",
    "%matplotlib qt"
   ]
  },
  {
   "cell_type": "code",
   "execution_count": 23,
   "id": "creative-montgomery",
   "metadata": {},
   "outputs": [],
   "source": [
    "def draw_screen_poly( lats, lons, m):\n",
    "    x, y = m( lons, lats )\n",
    "    xy = zip(x,y)\n",
    "    poly = Polygon( list(xy), facecolor='red', alpha=0.4 )\n",
    "    plt.gca().add_patch(poly)\n",
    "    \n",
    "lats = [ 46, 54, 54,46 ]\n",
    "lons = [ 6, 6, 14, 14 ]"
   ]
  },
  {
   "cell_type": "code",
   "execution_count": 27,
   "id": "surprising-luxury",
   "metadata": {},
   "outputs": [],
   "source": [
    "m = Basemap(llcrnrlon=-20,llcrnrlat=40,urcrnrlon=50.,urcrnrlat=60,\n",
    "             resolution='i', projection='merc', lat_0 = 50, lon_0 = 25)\n",
    "\n",
    "m.drawmapboundary(fill_color='aqua')\n",
    "m.fillcontinents(color='w',lake_color='aqua')\n",
    "m.drawcoastlines()\n",
    "m.drawcountries()\n",
    "draw_screen_poly( lats, lons, m )\n",
    "\n",
    "\n",
    "\n"
   ]
  },
  {
   "cell_type": "code",
   "execution_count": null,
   "id": "backed-flooring",
   "metadata": {},
   "outputs": [],
   "source": []
  }
 ],
 "metadata": {
  "kernelspec": {
   "display_name": "Python 3",
   "language": "python",
   "name": "python3"
  },
  "language_info": {
   "codemirror_mode": {
    "name": "ipython",
    "version": 3
   },
   "file_extension": ".py",
   "mimetype": "text/x-python",
   "name": "python",
   "nbconvert_exporter": "python",
   "pygments_lexer": "ipython3",
   "version": "3.7.9"
  }
 },
 "nbformat": 4,
 "nbformat_minor": 5
}
