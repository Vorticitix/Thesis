{
 "cells": [
  {
   "cell_type": "code",
   "execution_count": 1,
   "id": "flying-mediterranean",
   "metadata": {},
   "outputs": [],
   "source": [
    "%load_ext autoreload\n",
    "%autoreload 2\n",
    "import numpy as np\n",
    "import xarray as xr\n",
    "from matplotlib import pyplot as plt\n",
    "import pandas as pd\n",
    "import sys\n",
    "sys.path.append('/home/onno/Thesis/Scripts')\n",
    "import my_tools\n",
    "from my_tools import plot_dic, file_dic\n",
    "%matplotlib qt\n",
    "import matplotlib.dates as mdates"
   ]
  },
  {
   "cell_type": "code",
   "execution_count": 2,
   "id": "understood-exhaust",
   "metadata": {},
   "outputs": [],
   "source": [
    "path = '/media/onno/Algemeen/Thesis/GFS_T850/'"
   ]
  },
  {
   "cell_type": "code",
   "execution_count": 3,
   "id": "continental-muslim",
   "metadata": {},
   "outputs": [],
   "source": [
    "df_MAE_GFS = pd.read_csv(path+'MAE/Mean_Absolute_Error_lead_day_5_lon_6_14_lat_54_46_GFS.csv',index_col=0)\n",
    "df_MAE_GFS.index = pd.to_datetime(df_MAE_GFS.index)\n",
    "df_MAE_ERA5RF = pd.read_csv(path+'MAE/Mean_Absolute_Error_lead_day_5_lon_6_14_lat_54_46_ERA5RF.csv',index_col=0)\n",
    "df_MAE_ERA5RF.index = pd.to_datetime(df_MAE_ERA5RF.index)\n",
    "df_GSS_GFS = pd.read_csv(path+'GSS/Gilbert_Skill_Score_lead_day_5_lon_6_14_lat_54_46_GFS.csv',index_col=0)\n",
    "df_GSS_GFS.index = pd.to_datetime(df_GSS_GFS.index)\n",
    "df_GSS_ERA5RF = pd.read_csv(path+'GSS/Gilbert_Skill_Score_lead_day_5_lon_6_14_lat_54_46_ERA5RF.csv',index_col=0)\n",
    "df_GSS_ERA5RF.index = pd.to_datetime(df_GSS_ERA5RF.index)\n",
    "\n",
    "\n",
    "\n"
   ]
  },
  {
   "cell_type": "markdown",
   "id": "after-humanitarian",
   "metadata": {},
   "source": [
    "Best and worst annual forecasts"
   ]
  },
  {
   "cell_type": "code",
   "execution_count": 10,
   "id": "micro-killer",
   "metadata": {},
   "outputs": [],
   "source": [
    "path_to_write = '/media/onno/Algemeen/Thesis/GFS_T850/rank_forecast/'\n",
    "lon_0,lon_1,lat_0,lat_1 = (6,14,54,46)\n",
    "#Good forecasts\n",
    "columnz = ['persistent_hw','persistent_cw']\n",
    "for column in columnz:\n",
    "    \n",
    "    column_MAE = column+'_MAE'\n",
    "    df_good = df_MAE_ERA5RF.loc[:,[column]].dropna().rename(columns={column:column_MAE})\n",
    "    df_good[column+'_GSS']=df_GSS_ERA5RF.loc[:,[column]].dropna()\n",
    "    # df_MAE['rank'] = df_MAE[column_MAE].rank(method='min')\n",
    "    df_good = df_good.sort_values(column+'_MAE').where(df_good[column+'_GSS']>0.6).dropna()\n",
    "    df_good[:10].to_csv(path_to_write+'good_forecasts_{}_lon_{}_{}_lat_{}_{}.txt'.format(column,lon_0,lon_1,lat_0,lat_1))\n",
    "\n",
    "    #Bad forecasts\n",
    "    column_MAE = column+'_MAE'\n",
    "    df_bad = df_MAE_ERA5RF.loc[:,[column]].dropna().rename(columns={column:column_MAE})\n",
    "    df_bad[column+'_GSS']=df_GSS_ERA5RF.loc[:,[column]].dropna()\n",
    "    # df_MAE['rank'] = df_MAE[column_MAE].rank(method='min')\n",
    "    df_bad = df_bad.sort_values(column+'_MAE',ascending=False).where(df_bad[column+'_GSS']<0.2).dropna()\n",
    "    df_bad[:10].to_csv(path_to_write+'bad_forecasts_{}_lon_{}_{}_lat_{}_{}.txt'.format(column,lon_0,lon_1,lat_0,lat_1))"
   ]
  },
  {
   "cell_type": "markdown",
   "id": "optional-mattress",
   "metadata": {},
   "source": [
    "Best and worst seasonal forecasts"
   ]
  },
  {
   "cell_type": "code",
   "execution_count": 20,
   "id": "small-tucson",
   "metadata": {},
   "outputs": [],
   "source": [
    "path_to_write = '/media/onno/Algemeen/Thesis/GFS_T850/rank_forecast/seasonal/'\n",
    "columnz = ['persistent_hw','persistent_cw']\n",
    "\n",
    "seasonz = {'MAM':[3,4,5],\n",
    "          'JJA':[6,7,8],\n",
    "          'SON':[9,10,11],\n",
    "          'DJF':[12,1,2]}\n",
    "for column in columnz:\n",
    "    for season in seasonz:\n",
    "    \n",
    "        column_MAE = column+'_MAE'\n",
    "        df_good = df_MAE_ERA5RF.loc[:,[column]].dropna().rename(columns={column:column_MAE})\n",
    "        df_good[column+'_GSS']=df_GSS_ERA5RF.loc[:,[column]].dropna()\n",
    "        # df_MAE['rank'] = df_MAE[column_MAE].rank(method='min')\n",
    "        df_good = df_good.sort_values(column+'_MAE').where(df_good[column+'_GSS']>0.6).dropna()\n",
    "        df_good = df_good[np.isin(df_good.index.month,seasonz[season])]\n",
    "        df_good[:5].to_csv(path_to_write+'good_forecasts_{}_lon_{}_{}_lat_{}_{}_{}.txt'.format(column,lon_0,lon_1,\n",
    "                                                                                               lat_0,lat_1,season))\n",
    "\n",
    "        #Bad forecasts\n",
    "        column_MAE = column+'_MAE'\n",
    "        df_bad = df_MAE_ERA5RF.loc[:,[column]].dropna().rename(columns={column:column_MAE})\n",
    "        df_bad[column+'_GSS']=df_GSS_ERA5RF.loc[:,[column]].dropna()\n",
    "        # df_MAE['rank'] = df_MAE[column_MAE].rank(method='min')\n",
    "        df_bad = df_bad.sort_values(column+'_MAE',ascending=False).where(df_bad[column+'_GSS']<0.2).dropna()\n",
    "        df_bad = df_bad[np.isin(df_bad.index.month,seasonz[season])]\n",
    "        df_bad[:5].to_csv(path_to_write+'bad_forecasts_{}_lon_{}_{}_lat_{}_{}_{}.txt'.format(column,lon_0,lon_1,\n",
    "                                                                                          lat_0,lat_1,season))        "
   ]
  },
  {
   "cell_type": "code",
   "execution_count": 9,
   "id": "composed-coupon",
   "metadata": {},
   "outputs": [],
   "source": [
    "columnz = ['persistent_hw','short_hw','persistent_cw','short_cw']\n",
    "total_GFS = []; total_ERA5RF = []\n",
    "for column in columnz:\n",
    "    column_MAE = column+'_MAE'\n",
    "    df_MAE = df_MAE_GFS.loc[:,[column]].dropna().rename(columns={column:column_MAE})\n",
    "    df_MAE['rank'] = df_MAE[column_MAE].rank(method='min')\n",
    "    df_MAE = df_MAE.sort_values(['rank'])\n",
    "    column_GSS = column+'_GSS'\n",
    "    df_GSS = df_GSS_GFS.loc[:,[column]].dropna().rename(columns={column:column_GSS})\n",
    "    df_GSS['rank'] = df_GSS[column_GSS].rank(method='min',ascending=False)\n",
    "    df_GSS = df_GSS.sort_values(['rank'])\n",
    "\n",
    "    df_combined_rank = df_MAE.copy()\n",
    "    df_combined_rank[column_GSS] = df_GSS[column_GSS]\n",
    "    df_combined_rank=df_combined_rank.reindex(columns=[column_MAE,column_GSS,'rank'])\n",
    "    df_combined_rank['rank']=((df_GSS['rank']+df_MAE['rank'])/2)\n",
    "    df_combined_rank = df_combined_rank.sort_values(['rank'])\n",
    "    df_combined_rank.to_csv(path+'rank_forecast/forecast_ranking_lead_day_5_{}_GFS.csv'.format(column))\n",
    "    total_GFS.append(df_combined_rank)\n",
    "    \n",
    "    column_MAE = column+'_MAE'\n",
    "    df_MAE = df_MAE_ERA5RF.loc[:,[column]].dropna().rename(columns={column:column_MAE})\n",
    "    df_MAE['rank'] = df_MAE[column_MAE].rank(method='min')\n",
    "    df_MAE = df_MAE.sort_values(['rank'])\n",
    "    column_GSS = column+'_GSS'\n",
    "    df_GSS = df_GSS_ERA5RF.loc[:,[column]].dropna().rename(columns={column:column_GSS})\n",
    "    df_GSS['rank'] = df_GSS[column_GSS].rank(method='min',ascending=False)\n",
    "    df_GSS = df_GSS.sort_values(['rank'])\n",
    "\n",
    "    df_combined_rank = df_MAE.copy()\n",
    "    df_combined_rank[column_GSS] = df_GSS[column_GSS]\n",
    "    df_combined_rank=df_combined_rank.reindex(columns=[column_MAE,column_GSS,'rank'])\n",
    "    df_combined_rank['rank']=((df_GSS['rank']+df_MAE['rank'])/2)\n",
    "    df_combined_rank = df_combined_rank.sort_values(['rank'])\n",
    "    df_combined_rank.to_csv(path+'rank_forecast/forecast_ranking_lead_day_5_{}_ERA5RF.csv'.format(column))\n",
    "    total_ERA5RF.append(df_combined_rank)\n",
    "\n",
    "    \n"
   ]
  },
  {
   "cell_type": "code",
   "execution_count": null,
   "id": "determined-brand",
   "metadata": {},
   "outputs": [],
   "source": []
  }
 ],
 "metadata": {
  "kernelspec": {
   "display_name": "Python 3",
   "language": "python",
   "name": "python3"
  },
  "language_info": {
   "codemirror_mode": {
    "name": "ipython",
    "version": 3
   },
   "file_extension": ".py",
   "mimetype": "text/x-python",
   "name": "python",
   "nbconvert_exporter": "python",
   "pygments_lexer": "ipython3",
   "version": "3.7.9"
  }
 },
 "nbformat": 4,
 "nbformat_minor": 5
}
