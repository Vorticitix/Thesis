{
 "cells": [
  {
   "cell_type": "code",
   "execution_count": 5,
   "id": "spread-chester",
   "metadata": {},
   "outputs": [
    {
     "name": "stdout",
     "output_type": "stream",
     "text": [
      "The autoreload extension is already loaded. To reload it, use:\n",
      "  %reload_ext autoreload\n"
     ]
    }
   ],
   "source": [
    "%load_ext autoreload\n",
    "%autoreload 2\n",
    "import numpy as np\n",
    "import xarray as xr\n",
    "from matplotlib import pyplot as plt\n",
    "import pandas as pd\n",
    "import sys\n",
    "sys.path.append('/home/onno/Thesis/Scripts')\n",
    "import my_tools\n",
    "from my_tools import plot_dic, file_dic\n",
    "%matplotlib qt\n",
    "import matplotlib.dates as mdates"
   ]
  },
  {
   "cell_type": "code",
   "execution_count": 6,
   "id": "french-candidate",
   "metadata": {},
   "outputs": [],
   "source": [
    "path = '/media/onno/Algemeen/Thesis/GFS_T850/'"
   ]
  },
  {
   "cell_type": "code",
   "execution_count": 8,
   "id": "consolidated-russia",
   "metadata": {},
   "outputs": [],
   "source": [
    "df_MAE_GFS = pd.read_csv(path+'MAE/Mean_Absolute_Error_lead_day_5_lon_6_14_lat_54_46_GFS.csv',index_col=0)\n",
    "df_MAE_GFS.index = pd.to_datetime(df_MAE_GFS.index)\n",
    "df_MAE_ERA5RF = pd.read_csv(path+'MAE/Mean_Absolute_Error_lead_day_5_lon_6_14_lat_54_46_ERA5RF.csv',index_col=0)\n",
    "df_MAE_ERA5RF.index = pd.to_datetime(df_MAE_ERA5RF.index)\n",
    "df_GSS_GFS = pd.read_csv(path+'GSS/Gilbert_Skill_Score_lead_day_5_lon_6_14_lat_54_46_GFS.csv',index_col=0)\n",
    "df_GSS_GFS.index = pd.to_datetime(df_GSS_GFS.index)\n",
    "df_GSS_ERA5RF = pd.read_csv(path+'GSS/Gilbert_Skill_Score_lead_day_5_lon_6_14_lat_54_46_ERA5RF.csv',index_col=0)\n",
    "df_GSS_ERA5RF.index = pd.to_datetime(df_GSS_ERA5RF.index)\n",
    "\n",
    "\n",
    "\n"
   ]
  },
  {
   "cell_type": "code",
   "execution_count": 9,
   "id": "parental-closing",
   "metadata": {},
   "outputs": [],
   "source": [
    "columnz = ['persistent_hw','short_hw','persistent_cw','short_cw']\n",
    "total_GFS = []; total_ERA5RF = []\n",
    "for column in columnz:\n",
    "    column_MAE = column+'_MAE'\n",
    "    df_MAE = df_MAE_GFS.loc[:,[column]].dropna().rename(columns={column:column_MAE})\n",
    "    df_MAE['rank'] = df_MAE[column_MAE].rank(method='min')\n",
    "    df_MAE = df_MAE.sort_values(['rank'])\n",
    "    column_GSS = column+'_GSS'\n",
    "    df_GSS = df_GSS_GFS.loc[:,[column]].dropna().rename(columns={column:column_GSS})\n",
    "    df_GSS['rank'] = df_GSS[column_GSS].rank(method='min',ascending=False)\n",
    "    df_GSS = df_GSS.sort_values(['rank'])\n",
    "\n",
    "    df_combined_rank = df_MAE.copy()\n",
    "    df_combined_rank[column_GSS] = df_GSS[column_GSS]\n",
    "    df_combined_rank=df_combined_rank.reindex(columns=[column_MAE,column_GSS,'rank'])\n",
    "    df_combined_rank['rank']=((df_GSS['rank']+df_MAE['rank'])/2)\n",
    "    df_combined_rank = df_combined_rank.sort_values(['rank'])\n",
    "    df_combined_rank.to_csv(path+'rank_forecast/forecast_ranking_lead_day_5_{}_GFS.csv'.format(column))\n",
    "    total_GFS.append(df_combined_rank)\n",
    "    \n",
    "    column_MAE = column+'_MAE'\n",
    "    df_MAE = df_MAE_ERA5RF.loc[:,[column]].dropna().rename(columns={column:column_MAE})\n",
    "    df_MAE['rank'] = df_MAE[column_MAE].rank(method='min')\n",
    "    df_MAE = df_MAE.sort_values(['rank'])\n",
    "    column_GSS = column+'_GSS'\n",
    "    df_GSS = df_GSS_ERA5RF.loc[:,[column]].dropna().rename(columns={column:column_GSS})\n",
    "    df_GSS['rank'] = df_GSS[column_GSS].rank(method='min',ascending=False)\n",
    "    df_GSS = df_GSS.sort_values(['rank'])\n",
    "\n",
    "    df_combined_rank = df_MAE.copy()\n",
    "    df_combined_rank[column_GSS] = df_GSS[column_GSS]\n",
    "    df_combined_rank=df_combined_rank.reindex(columns=[column_MAE,column_GSS,'rank'])\n",
    "    df_combined_rank['rank']=((df_GSS['rank']+df_MAE['rank'])/2)\n",
    "    df_combined_rank = df_combined_rank.sort_values(['rank'])\n",
    "    df_combined_rank.to_csv(path+'rank_forecast/forecast_ranking_lead_day_5_{}_ERA5RF.csv'.format(column))\n",
    "    total_ERA5RF.append(df_combined_rank)\n",
    "\n",
    "    \n"
   ]
  },
  {
   "cell_type": "code",
   "execution_count": null,
   "id": "forward-ceramic",
   "metadata": {},
   "outputs": [],
   "source": []
  }
 ],
 "metadata": {
  "kernelspec": {
   "display_name": "Python 3",
   "language": "python",
   "name": "python3"
  },
  "language_info": {
   "codemirror_mode": {
    "name": "ipython",
    "version": 3
   },
   "file_extension": ".py",
   "mimetype": "text/x-python",
   "name": "python",
   "nbconvert_exporter": "python",
   "pygments_lexer": "ipython3",
   "version": "3.7.9"
  }
 },
 "nbformat": 4,
 "nbformat_minor": 5
}
