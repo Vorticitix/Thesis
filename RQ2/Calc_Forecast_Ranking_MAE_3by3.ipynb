{
 "cells": [
  {
   "cell_type": "code",
   "execution_count": 1,
   "metadata": {},
   "outputs": [],
   "source": [
    "%load_ext autoreload\n",
    "%autoreload 2\n",
    "import numpy as np\n",
    "import xarray as xr\n",
    "from matplotlib import pyplot as plt\n",
    "import pandas as pd\n",
    "import sys\n",
    "sys.path.append('/home/onno/Thesis/Scripts')\n",
    "import my_tools\n",
    "from my_tools import plot_dic, file_dic\n",
    "%matplotlib qt\n",
    "import matplotlib.dates as mdates"
   ]
  },
  {
   "cell_type": "code",
   "execution_count": 2,
   "metadata": {},
   "outputs": [],
   "source": [
    "path = '/home/onno/Thesis/GFS_T850/'"
   ]
  },
  {
   "cell_type": "markdown",
   "metadata": {},
   "source": [
    "Best and worst annual forecasts"
   ]
  },
  {
   "cell_type": "code",
   "execution_count": 6,
   "metadata": {},
   "outputs": [
    {
     "ename": "SystemExit",
     "evalue": "",
     "output_type": "error",
     "traceback": [
      "An exception has occurred, use %tb to see the full traceback.\n",
      "\u001b[0;31mSystemExit\u001b[0m\n"
     ]
    },
    {
     "name": "stderr",
     "output_type": "stream",
     "text": [
      "/home/onno/miniconda3/envs/thesis/lib/python3.8/site-packages/IPython/core/interactiveshell.py:3425: UserWarning: To exit: use 'exit', 'quit', or Ctrl-D.\n",
      "  warn(\"To exit: use 'exit', 'quit', or Ctrl-D.\", stacklevel=1)\n"
     ]
    }
   ],
   "source": [
    "path_to_write = '/media/onno/Algemeen/Thesis/GFS_T850/rank_forecast/'\n",
    "coordinatez = [\n",
    "(62,54,0,8),#Germany\n",
    "(54,46,0,8), #Spain\n",
    "(46,38,0,8), #Ukraine\n",
    "(62,54,8,16),#Germany\n",
    "(54,46,8,16), #Spain\n",
    "(46,38,8,16), #Ukraine\n",
    "(62,54,16,24),#Germany\n",
    "(54,46,16,24), #Spain\n",
    "(46,38,16,24)] #Ukraine\n",
    "#Good forecasts\n",
    "columnz = ['persistent_hw','persistent_cw']\n",
    "modelz = ['GFS','ERA5RF']\n",
    "lead_day = 3\n",
    "for lat_0,lat_1,lon_0,lon_1 in coordinatez:\n",
    "    df_MAE_GFS = pd.read_csv(path+'MAE/Mean_Absolute_Error_lead_day_{}_lon_{}_{}_lat_{}_{}_GFS.csv'.format(lead_day,lon_0,lon_1,lat_0,lat_1),index_col=0)\n",
    "    df_MAE_GFS.index = pd.to_datetime(df_MAE_GFS.index)\n",
    "    df_MAE_ERA5RF = pd.read_csv(path+'MAE/Mean_Absolute_Error_lead_day_{}_lon_{}_{}_lat_{}_{}_ERA5RF.csv'.format(lead_day,lon_0,lon_1,lat_0,lat_1),index_col=0)\n",
    "    df_MAE_ERA5RF.index = pd.to_datetime(df_MAE_ERA5RF.index)\n",
    "    df_GSS_GFS = pd.read_csv(path+'GSS/GSS_lead_day_{}_lon_{}_{}_lat_{}_{}_GFS.csv'.format(lead_day,lon_0,lon_1,lat_1,lat_0),index_col=0)\n",
    "    df_GSS_GFS.index = pd.to_datetime(df_GSS_GFS.index)\n",
    "    df_GSS_ERA5RF = pd.read_csv(path+'GSS/GSS_lead_day_{}_lon_{}_{}_lat_{}_{}_ERA5RF.csv'.format(lead_day,lon_0,lon_1,lat_1,lat_0),index_col=0)\n",
    "    df_GSS_ERA5RF.index = pd.to_datetime(df_GSS_ERA5RF.index)\n",
    "    for column in columnz:\n",
    "        if (column=='persistent_hw') | (column=='persistent_cw'):\n",
    "            limit=10\n",
    "        else:\n",
    "            limit=30\n",
    "        for model in modelz:\n",
    "            if model == 'ERA5RF':\n",
    "                column_MAE = column+'_MAE'\n",
    "                df_good = df_MAE_ERA5RF.loc[:,[column]].dropna().rename(columns={column:column_MAE})\n",
    "                df_good[column+'_GSS']=df_GSS_ERA5RF.loc[:,[column]].dropna()\n",
    "                # df_MAE['rank'] = df_MAE[column_MAE].rank(method='min')\n",
    "                df_good = df_good.sort_values(column+'_MAE').where(df_good[column+'_GSS']>0.6).dropna()\n",
    "                sys.exit()\n",
    "                df_good[:limit].to_csv(path_to_write+'good_forecasts_{}_lon_{}_{}_lat_{}_{}_{}.txt'.format(column,lon_0,lon_1,lat_0,lat_1,model))\n",
    "\n",
    "                #Bad forecasts\n",
    "                column_MAE = column+'_MAE'\n",
    "                df_bad = df_MAE_ERA5RF.loc[:,[column]].dropna().rename(columns={column:column_MAE})\n",
    "                df_bad[column+'_GSS']=df_GSS_ERA5RF.loc[:,[column]].dropna()\n",
    "                # df_MAE['rank'] = df_MAE[column_MAE].rank(method='min')\n",
    "                df_bad = df_bad.sort_values(column+'_MAE',ascending=False).where(df_bad[column+'_GSS']<0.2).dropna()\n",
    "                sys.exit()\n",
    "                df_bad[:limit].to_csv(path_to_write+'bad_forecasts_{}_lon_{}_{}_lat_{}_{}_{}.txt'.format(column,lon_0,lon_1,lat_0,lat_1,model))\n",
    "            else:\n",
    "                column_MAE = column+'_MAE'\n",
    "                df_good = df_MAE_GFS.loc[:,[column]].dropna().rename(columns={column:column_MAE})\n",
    "                df_good[column+'_GSS']=df_GSS_GFS.loc[:,[column]].dropna()\n",
    "                # df_MAE['rank'] = df_MAE[column_MAE].rank(method='min')\n",
    "                df_good = df_good.sort_values(column+'_MAE').where(df_good[column+'_GSS']>0.6).dropna()\n",
    "                sys.exit()\n",
    "                df_good[:limit].to_csv(path_to_write+'good_forecasts_{}_lon_{}_{}_lat_{}_{}_{}.txt'.format(column,lon_0,lon_1,lat_0,lat_1,model))\n",
    "\n",
    "                #Bad forecasts\n",
    "                column_MAE = column+'_MAE'\n",
    "                df_bad = df_MAE_GFS.loc[:,[column]].dropna().rename(columns={column:column_MAE})\n",
    "                df_bad[column+'_GSS']=df_GSS_GFS.loc[:,[column]].dropna()\n",
    "                # df_MAE['rank'] = df_MAE[column_MAE].rank(method='min')\n",
    "                df_bad = df_bad.sort_values(column+'_MAE',ascending=False).where(df_bad[column+'_GSS']<0.2).dropna()\n",
    "                sys.exit()\n",
    "                df_bad[:limit].to_csv(path_to_write+'bad_forecasts_{}_lon_{}_{}_lat_{}_{}_{}.txt'.format(column,lon_0,lon_1,lat_0,lat_1,model))"
   ]
  },
  {
   "cell_type": "markdown",
   "metadata": {},
   "source": [
    "Best and worst half forecasts"
   ]
  },
  {
   "cell_type": "code",
   "execution_count": 16,
   "metadata": {},
   "outputs": [],
   "source": [
    "path_to_write = '/home/onno/Thesis/GFS_T850/rank_forecast/'\n",
    "coordinatez = [\n",
    "(62,54,0,8),#Germany\n",
    "(54,46,0,8), #Spain\n",
    "(46,38,0,8), #Ukraine\n",
    "(62,54,8,16),#Germany\n",
    "(54,46,8,16), #Spain\n",
    "(46,38,8,16), #Ukraine\n",
    "(62,54,16,24),#Germany\n",
    "(54,46,16,24), #Spain\n",
    "(46,38,16,24)] #Ukraine\n",
    "columnz = ['persistent_hw','persistent_cw']\n",
    "limitz = [5,5,15,15]\n",
    "\n",
    "seasonz = {'MAM':[3,4,5],\n",
    "          'JJA':[6,7,8],\n",
    "          'SON':[9,10,11],\n",
    "          'DJF':[12,1,2]}\n",
    "\n",
    "lead_dayz = [1,3,5,7,9]\n",
    "modelz = ['GFS',\"ERA5RF\"]\n",
    "for lead_day in lead_dayz:\n",
    "    for lat_0,lat_1,lon_0,lon_1 in coordinatez:\n",
    "        df_MAE_GFS = pd.read_csv(path+'MAE/Mean_Absolute_Error_lead_day_{}_lon_{}_{}_lat_{}_{}_GFS.csv'.format(lead_day,lon_0,lon_1,lat_0,lat_1),index_col=0)\n",
    "        df_MAE_GFS.index = pd.to_datetime(df_MAE_GFS.index)\n",
    "        df_MAE_ERA5RF = pd.read_csv(path+'MAE/Mean_Absolute_Error_lead_day_{}_lon_{}_{}_lat_{}_{}_ERA5RF.csv'.format(lead_day,lon_0,lon_1,lat_0,lat_1),index_col=0)\n",
    "        df_MAE_ERA5RF.index = pd.to_datetime(df_MAE_ERA5RF.index)\n",
    "        df_GSS_GFS = pd.read_csv(path+'GSS/GSS_lead_day_{}_lon_{}_{}_lat_{}_{}_GFS.csv'.format(lead_day,lon_0,lon_1,lat_1,lat_0),index_col=0)\n",
    "        df_GSS_GFS.index = pd.to_datetime(df_GSS_GFS.index)\n",
    "        df_GSS_ERA5RF = pd.read_csv(path+'GSS/GSS_lead_day_{}_lon_{}_{}_lat_{}_{}_ERA5RF.csv'.format(lead_day,lon_0,lon_1,lat_1,lat_0),index_col=0)\n",
    "        df_GSS_ERA5RF.index = pd.to_datetime(df_GSS_ERA5RF.index)\n",
    "        for i,column in enumerate(columnz):\n",
    "            for season in seasonz:\n",
    "                for model in modelz:\n",
    "                    if model == 'ERA5RF':\n",
    "                        column_MAE = column+'_MAE'\n",
    "                        df_good = df_MAE_ERA5RF.loc[:,[column]].dropna().rename(columns={column:column_MAE})\n",
    "                        df_good[column+'_GSS']=df_GSS_ERA5RF.loc[:,[column]].dropna()\n",
    "                        # df_MAE['rank'] = df_MAE[column_MAE].rank(method='min')\n",
    "                        df_good = df_good.sort_values(column+'_MAE')#.where(df_good[column+'_GSS']>0.6).dropna()\n",
    "                        df_good = df_good[np.isin(df_good.index.month,seasonz[season])]\n",
    "                        df_good[:len(df_good)//2].to_csv(path_to_write+'good_forecasts_{}_lon_{}_{}_lat_{}_{}_{}_{}_lead_day_{}.txt'.format(column,lon_0,lon_1,\n",
    "                                                                                                              lat_0,lat_1,season,model,lead_day))\n",
    "\n",
    "                        #Bad forecasts\n",
    "                        column_MAE = column+'_MAE'\n",
    "                        df_bad = df_MAE_ERA5RF.loc[:,[column]].dropna().rename(columns={column:column_MAE})\n",
    "                        df_bad[column+'_GSS']=df_GSS_ERA5RF.loc[:,[column]].dropna()\n",
    "                        # df_MAE['rank'] = df_MAE[column_MAE].rank(method='min')\n",
    "                        df_bad = df_bad.sort_values(column+'_MAE',ascending=False)#.where(df_bad[column+'_GSS']<0.2).dropna()\n",
    "                        df_bad = df_bad[np.isin(df_bad.index.month,seasonz[season])]\n",
    "                        df_bad[:len(df_good)//2].to_csv(path_to_write+'bad_forecasts_{}_lon_{}_{}_lat_{}_{}_{}_{}_lead_day_{}.txt'.format(column,lon_0,lon_1,\n",
    "                                                                                                          lat_0,lat_1,season,model,lead_day))\n",
    "                    else:\n",
    "                        column_MAE = column+'_MAE'\n",
    "                        df_good = df_MAE_GFS.loc[:,[column]].dropna().rename(columns={column:column_MAE})\n",
    "                        df_good[column+'_GSS']=df_GSS_GFS.loc[:,[column]].dropna()\n",
    "                        # df_MAE['rank'] = df_MAE[column_MAE].rank(method='min')\n",
    "                        df_good = df_good.sort_values(column+'_MAE')#.where(df_good[column+'_GSS']>0.6).dropna()\n",
    "                        df_good = df_good[np.isin(df_good.index.month,seasonz[season])]\n",
    "                        df_good[:len(df_good)//2].to_csv(path_to_write+'good_forecasts_{}_lon_{}_{}_lat_{}_{}_{}_{}_lead_day_{}.txt'.format(column,lon_0,lon_1,\n",
    "                                                                                                               lat_0,lat_1,season,model,lead_day))\n",
    "                        #Bad forecasts\n",
    "                        column_MAE = column+'_MAE'\n",
    "                        df_bad = df_MAE_GFS.loc[:,[column]].dropna().rename(columns={column:column_MAE})\n",
    "                        df_bad[column+'_GSS']=df_GSS_GFS.loc[:,[column]].dropna()\n",
    "                        # df_MAE['rank'] = df_MAE[column_MAE].rank(method='min')\n",
    "                        df_bad = df_bad.sort_values(column+'_MAE',ascending=False)#.where(df_bad[column+'_GSS']<0.2).dropna()\n",
    "                        df_bad = df_bad[np.isin(df_bad.index.month,seasonz[season])]\n",
    "                        df_bad[:len(df_good)//2].to_csv(path_to_write+'bad_forecasts_{}_lon_{}_{}_lat_{}_{}_{}_{}_lead_day_{}.txt'.format(column,lon_0,lon_1,\n",
    "                                                                                                          lat_0,lat_1,season,model,lead_day))        \n"
   ]
  },
  {
   "cell_type": "code",
   "execution_count": null,
   "metadata": {},
   "outputs": [],
   "source": []
  }
 ],
 "metadata": {
  "kernelspec": {
   "display_name": "Python 3",
   "language": "python",
   "name": "python3"
  },
  "language_info": {
   "codemirror_mode": {
    "name": "ipython",
    "version": 3
   },
   "file_extension": ".py",
   "mimetype": "text/x-python",
   "name": "python",
   "nbconvert_exporter": "python",
   "pygments_lexer": "ipython3",
   "version": "3.8.5"
  }
 },
 "nbformat": 4,
 "nbformat_minor": 5
}
