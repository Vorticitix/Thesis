{
 "cells": [
  {
   "cell_type": "code",
   "execution_count": 1,
   "metadata": {},
   "outputs": [],
   "source": [
    "%load_ext autoreload\n",
    "%autoreload 2\n",
    "import numpy as np\n",
    "import xarray as xr\n",
    "from matplotlib import pyplot as plt\n",
    "import pandas as pd\n",
    "import sys\n",
    "sys.path.append('/home/onno/Thesis/Scripts')\n",
    "import my_tools\n",
    "from my_tools import plot_dic, file_dic\n",
    "%matplotlib qt\n",
    "import matplotlib.dates as mdates"
   ]
  },
  {
   "cell_type": "code",
   "execution_count": 2,
   "metadata": {},
   "outputs": [],
   "source": [
    "#set path\n",
    "path = '/media/onno/Volume/GFS_T850/'"
   ]
  },
  {
   "cell_type": "markdown",
   "metadata": {},
   "source": [
    "Calculate Mean Absolute Error for every single vent on lead days 1, 3, 5, 7 and 9"
   ]
  },
  {
   "cell_type": "code",
   "execution_count": 30,
   "metadata": {},
   "outputs": [],
   "source": [
    "coordinatez = [\n",
    "(62,54,0,8),#Germany\n",
    "(54,46,0,8), #Spain\n",
    "(46,38,0,8), #Ukraine\n",
    "(62,54,8,16),#Germany\n",
    "(54,46,8,16), #Spain\n",
    "(46,38,8,16), #Ukraine\n",
    "(62,54,16,24),#Germanycw_lon_0_8_lat_62_54.txt\n",
    "(54,46,16,24), #Spain\n",
    "(46,38,16,24)] #Ukraine\n",
    "#loading GFS and ERA5 data for specific box \n",
    "\n",
    "\n",
    "\n",
    "\n",
    "#Choose Forecast model: GFS or ERA5RF\n",
    "fcst_modelz = ['ERA5RF']\n",
    "for fcst_model in fcst_modelz:\n",
    "    for lat_0,lat_1,lon_0,lon_1 in coordinatez:\n",
    "        file_fcst = file_dic['T850_grid'][fcst_model].format(lon_0,lon_1-2,lat_0-2,lat_1)\n",
    "        file_rean = file_dic['T850_grid']['ERA5'].format(lon_0,lon_1-2,lat_0-2,lat_1)\n",
    "        file_clim_p90 = 'era51_mars_t850_79-19_24hourly_90p_lon_{}_{}_lat_{}_{}_SMOOTHED_ALL.nc'.format(lon_0,lon_1-2,lat_0-2,lat_1)\n",
    "        file_clim_p50 = 'era51_mars_t850_79-19_24hourly_50p_lon_{}_{}_lat_{}_{}_SMOOTHED_ALL.nc'.format(lon_0,lon_1-2,lat_0-2,lat_1)\n",
    "        file_clim_p10 = 'era51_mars_t850_79-19_24hourly_10p_lon_{}_{}_lat_{}_{}_SMOOTHED_ALL.nc'.format(lon_0,lon_1-2,lat_0-2,lat_1)\n",
    "        fcst = xr.open_dataset(path+file_fcst,decode_times=False).squeeze()\n",
    "        #set fcst time data to datetime object\n",
    "        init_time_fcst = pd.Timestamp('1979-01-01')\n",
    "        fcst['time'] = [pd.Timedelta(i-fcst.time.values[0],'hours')+init_time_fcst for i in fcst.time.values]\n",
    "        fcst['lead'] = fcst['lead']//24\n",
    "        #group forecast by lead time and take daily means\n",
    "        fcst = fcst.sel(lead=slice(0,9)).groupby('lead').mean()\n",
    "        rean = xr.open_dataset(path+file_rean).squeeze()\n",
    "        if int(rean.time[0].dt.hour)!=0:\n",
    "            rean = rean.assign_coords({'time':rean.time.values - pd.Timedelta(int(rean.time[0].dt.hour),'h')})\n",
    "        #load percentile climatology. For convenience I set the data to all days in the leap year 2016. That has no further effect on the data\n",
    "        clim_p90 = xr.open_dataset(path+file_clim_p90).squeeze()\n",
    "        clim_p90['time']=pd.date_range('2016-01-01',\"2016-12-31\")\n",
    "        clim_p10 = xr.open_dataset(path+file_clim_p10).squeeze()\n",
    "        clim_p10['time']=pd.date_range('2016-01-01',\"2016-12-31\")\n",
    "        #load all temperature extremes\n",
    "        file_pers_hw = 'dates/pw_lon_{}_{}_lat_{}_{}.npy'.format(lon_0,lon_1,lat_0,lat_1)\n",
    "        file_pers_cw = 'dates/pc_lon_{}_{}_lat_{}_{}.npy'.format(lon_0,lon_1,lat_0,lat_1)\n",
    "        file_pers_avg = 'dates/avg_p40_p60_lon_{}_{}_lat_{}_{}.npy'.format(lon_0,lon_1,lat_0,lat_1)\n",
    "        pers_hw = np.load(path+file_pers_hw,allow_pickle=True)\n",
    "        pers_cw = np.load(path+file_pers_cw,allow_pickle=True)\n",
    "        pers_avg = np.load(path+file_pers_avg,allow_pickle=True)\n",
    "        temp_extremez = [pers_hw,pers_cw,pers_avg]\n",
    "        #set column names for csv file\n",
    "        extremez = ['pw','pc','avg']\n",
    "        #create index for csv file\n",
    "        index = pd.date_range(pd.Timestamp('1979-01-01'),pd.Timestamp('2019-12-31'))\n",
    "        #loop over lead days\n",
    "        lead_dayz = [3,5,7]\n",
    "        for lead_day in lead_dayz:\n",
    "            #create empty pandas dataframe\n",
    "            #Loop over all extreme events\n",
    "            for j,temp_extreme in enumerate(temp_extremez):\n",
    "                #Select persistent or short-lived warm or cold temp extreme\n",
    "                column = columnz[j]\n",
    "                df = pd.DataFrame(index=index,columns=np.arange(1,11),dtype=float)\n",
    "                #Loop over each individual event\n",
    "                for i,date in enumerate(temp_extreme[:,0]):\n",
    "                    date = pd.Timestamp(date)\n",
    "                    begin_date = date - pd.Timedelta(lead_day,'days')\n",
    "                    #If an event in the first few days of the datset requires a forecast before 1-12-84 skip this event\n",
    "                    if begin_date<pd.Timestamp('1979-01-01')+pd.Timedelta(lead_day,'days'):\n",
    "                        continue\n",
    "                    if np.isin(begin_date,[pd.Timestamp('2014-10-29'),\n",
    "                                           pd.Timestamp('2014-10-30'),\n",
    "                                           pd.Timestamp('2014-10-31')]):\n",
    "                        continue\n",
    "                    #define date for highest lead day (last day of forecast)\n",
    "                    end_date = date + pd.Timedelta(9-lead_day,'days')\n",
    "                    rean_sub = rean.sel(time=slice(begin_date,end_date)).load()\n",
    "                    fcst_sub = fcst.sel(time=begin_date).load()\n",
    "                    diff = np.abs(fcst_sub.t - rean_sub.t.values).values\n",
    "                    df.loc[date]=diff\n",
    "                df = df.dropna(how='all')\n",
    "                df.to_csv(path+'anom_files/Mean_Absolute_Error_lon_{}_{}_lat_{}_{}_lead_day_{}_{}.csv'.format(lon_0,lon_1,\n",
    "                                                                                           lat_0,lat_1,lead_day,extremez[j]))\n"
   ]
  },
  {
   "cell_type": "code",
   "execution_count": null,
   "metadata": {},
   "outputs": [],
   "source": []
  }
 ],
 "metadata": {
  "kernelspec": {
   "display_name": "Python 3",
   "language": "python",
   "name": "python3"
  },
  "language_info": {
   "codemirror_mode": {
    "name": "ipython",
    "version": 3
   },
   "file_extension": ".py",
   "mimetype": "text/x-python",
   "name": "python",
   "nbconvert_exporter": "python",
   "pygments_lexer": "ipython3",
   "version": "3.8.5"
  }
 },
 "nbformat": 4,
 "nbformat_minor": 5
}
