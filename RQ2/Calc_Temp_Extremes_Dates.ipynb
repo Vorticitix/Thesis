{
 "cells": [
  {
   "cell_type": "code",
   "execution_count": 1,
   "id": "cc1d2da2-1fa1-4201-ae71-dbf82f9d1fbd",
   "metadata": {},
   "outputs": [],
   "source": [
    "%load_ext autoreload\n",
    "%autoreload 2\n",
    "import numpy as np\n",
    "import xarray as xr\n",
    "from matplotlib import pyplot as plt\n",
    "import pandas as pd\n",
    "import sys\n",
    "sys.path.append('/home/onno/Thesis/Scripts')\n",
    "import my_tools\n",
    "from my_tools import plot_dic, file_dic\n",
    "%matplotlib qt\n",
    "import matplotlib.dates as mdates"
   ]
  },
  {
   "cell_type": "code",
   "execution_count": 2,
   "id": "b41ab760-1fd0-4e51-b087-968d2653b929",
   "metadata": {},
   "outputs": [],
   "source": [
    "#set path\n",
    "path = '/media/onno/Algemeen/Thesis/GFS_T850/'"
   ]
  },
  {
   "cell_type": "code",
   "execution_count": 6,
   "id": "bb6b86c7-bfc0-45a9-81b2-bfdcb3cf0e4d",
   "metadata": {},
   "outputs": [],
   "source": [
    "coordinatez = [\n",
    "(54,46,6,14),#Germany\n",
    "(44,36,352,360), #Spain\n",
    "(54,46,26,34), #Ukraine\n",
    "(58,50,352,360), #UK\n",
    "(42,34,28,36), #Turkey\n",
    "(68,60,22,30), #Finland\n",
    "(66,58,6,14), #Norway/Sweden\n",
    "(60,52,46,54)] #Russia Samara/Kazan region\n",
    "#loading GFS and ERA5 data for specific box \n",
    "\n",
    "#Choose Forecast model: GFS or ERA5RF\n",
    "fcst_modelz = ['GFS','ERA5RF']\n",
    "for fcst_model in fcst_modelz:\n",
    "    for lat_0,lat_1,lon_0,lon_1 in coordinatez:\n",
    "        #open anomaly files\n",
    "        file_anom_p90 = 'era51_fldmean_mars_t850_79-19_24hourly_lon_{}_{}_lat_{}_{}_anom_from_smoothed_p90.nc'.format(lon_0,lon_1-2,lat_0-2,lat_1)\n",
    "        file_anom_p10 = 'era51_fldmean_mars_t850_79-19_24hourly_lon_{}_{}_lat_{}_{}_anom_from_smoothed_p10.nc'.format(lon_0,lon_1-2,lat_0-2,lat_1)\n",
    "        anom_p90 = xr.open_dataset(path+file_anom_p90).t.squeeze()\n",
    "        anom_p10 = xr.open_dataset(path+file_anom_p10).t.squeeze()\n",
    "        #Process data for warm extremes\n",
    "        #Calculate dates of persitent extremes that are 4 consecutive days or longer\n",
    "        anom_p90_spec = anom_p90 > 0\n",
    "        iszero = np.concatenate(([0], np.equal(anom_p90_spec.values, True).view(np.int8), [0]))\n",
    "        abs_diff = np.abs(np.diff(iszero))\n",
    "        # Runs start and end where absdiff is 1.\n",
    "        idxz = np.where(abs_diff == 1)[0].reshape(-1, 2)\n",
    "        idx_bool = (idxz[:,1]-idxz[:,0])>=4\n",
    "        hw_idxz = idxz[idx_bool,:]\n",
    "        hw_dates = np.empty(hw_idxz.shape,dtype=object)\n",
    "        for i,hw_idx in enumerate(hw_idxz):\n",
    "            hw_date = [str(anom_p90.time[hw_idx[0]].values),\n",
    "                       str(anom_p90.time[hw_idx[1]].values-np.timedelta64(1,'D'))]\n",
    "            hw_dates[i]=hw_date\n",
    "        np.save(path+'pw_lon_{}_{}_lat_{}_{}.npy'.format(lon_0,lon_1,lat_0,lat_1),hw_dates)\n",
    "        np.savetxt(path+'pw_lon_{}_{}_lat_{}_{}.txt'.format(lon_0,lon_1,lat_0,lat_1),hw_dates,fmt=\"%s\")\n",
    "        #Process data for cold extremes\n",
    "        anom_p10_spec = anom_p10 < 0\n",
    "        iszero = np.concatenate(([0], np.equal(anom_p10_spec.values, True).view(np.int8), [0]))\n",
    "        abs_diff = np.abs(np.diff(iszero))\n",
    "        # Runs start and end where absdiff is 1.\n",
    "        idxz = np.where(abs_diff == 1)[0].reshape(-1, 2)\n",
    "        idx_bool = (idxz[:,1]-idxz[:,0])>=4\n",
    "        cw_idxz = idxz[idx_bool,:]\n",
    "        cw_dates = np.empty(cw_idxz.shape,dtype=object)\n",
    "        for i,cw_idx in enumerate(cw_idxz):\n",
    "            cw_date = [str(anom_p10.time[cw_idx[0]].values),\n",
    "                       str(anom_p10.time[cw_idx[1]].values-np.timedelta64(1,'D'))]\n",
    "            cw_dates[i]=cw_date\n",
    "        np.save(path+'cw_lon_{}_{}_lat_{}_{}.npy'.format(lon_0,lon_1,lat_0,lat_1),cw_dates)\n",
    "        np.savetxt(path+'cw_lon_{}_{}_lat_{}_{}.txt'.format(lon_0,lon_1,lat_0,lat_1),cw_dates,fmt=\"%s\")\n",
    "        "
   ]
  },
  {
   "cell_type": "code",
   "execution_count": null,
   "id": "47c87875-57e9-4a80-bd19-a0d5d1110ba6",
   "metadata": {},
   "outputs": [],
   "source": []
  }
 ],
 "metadata": {
  "kernelspec": {
   "display_name": "Python 3",
   "language": "python",
   "name": "python3"
  },
  "language_info": {
   "codemirror_mode": {
    "name": "ipython",
    "version": 3
   },
   "file_extension": ".py",
   "mimetype": "text/x-python",
   "name": "python",
   "nbconvert_exporter": "python",
   "pygments_lexer": "ipython3",
   "version": "3.6.13"
  }
 },
 "nbformat": 4,
 "nbformat_minor": 5
}
