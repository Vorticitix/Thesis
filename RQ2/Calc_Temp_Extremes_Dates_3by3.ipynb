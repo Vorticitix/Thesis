{
 "cells": [
  {
   "cell_type": "code",
   "execution_count": 1,
   "metadata": {},
   "outputs": [],
   "source": [
    "%load_ext autoreload\n",
    "%autoreload 2\n",
    "import numpy as np\n",
    "import xarray as xr\n",
    "from matplotlib import pyplot as plt\n",
    "import pandas as pd\n",
    "import sys\n",
    "sys.path.append('/home/onno/Thesis/Scripts')\n",
    "import my_tools\n",
    "from my_tools import plot_dic, file_dic\n",
    "%matplotlib qt\n",
    "import matplotlib.dates as mdates"
   ]
  },
  {
   "cell_type": "code",
   "execution_count": 5,
   "metadata": {},
   "outputs": [],
   "source": [
    "#set path\n",
    "path = '/media/onno/Volume//GFS_T850/'"
   ]
  },
  {
   "cell_type": "code",
   "execution_count": 6,
   "metadata": {},
   "outputs": [],
   "source": [
    "coordinatez = [\n",
    "(62,54,0,8),#Germany\n",
    "(54,46,0,8), #Spain\n",
    "(46,38,0,8), #Ukraine\n",
    "(62,54,8,16),#Germany\n",
    "(54,46,8,16), #Spain\n",
    "(46,38,8,16), #Ukraine\n",
    "(62,54,16,24),#Germany\n",
    "(54,46,16,24), #Spain\n",
    "(46,38,16,24)] #Ukraine\n",
    "# #loading GFS and ERA5 data for specific box \n",
    "\n",
    "#Choose Forecast model: GFS or ERA5RF\n",
    "fcst_modelz = ['GFS','ERA5RF']\n",
    "for fcst_model in fcst_modelz:\n",
    "    for lat_0,lat_1,lon_0,lon_1 in coordinatez:\n",
    "        #open anomaly files\n",
    "        file_anom_p90 = 'era51_fldmean_mars_t850_79-19_24hourly_lon_{}_{}_lat_{}_{}_anom_from_smoothed_p90_ALL.nc'.format(lon_0,lon_1-2,lat_0-2,lat_1)\n",
    "        file_anom_p10 = 'era51_fldmean_mars_t850_79-19_24hourly_lon_{}_{}_lat_{}_{}_anom_from_smoothed_p10_ALL.nc'.format(lon_0,lon_1-2,lat_0-2,lat_1)\n",
    "        anom_p90 = xr.open_dataset(path+file_anom_p90).t.squeeze()\n",
    "        anom_p10 = xr.open_dataset(path+file_anom_p10).t.squeeze()\n",
    "        if int(anom_p90.time[0].dt.hour)!=0:\n",
    "            anom_p90 = anom_p90.assign_coords({'time':anom_p90.time.values - pd.Timedelta(int(anom_p90.time[0].dt.hour),'h')})\n",
    "            anom_p10 = anom_p10.assign_coords({'time':anom_p10.time.values - pd.Timedelta(int(anom_p10.time[0].dt.hour),'h')})\n",
    "\n",
    "        #Process data for warm extremes\n",
    "        #Calculate dates of persitent extremes that are 4 consecutive days or longer\n",
    "        anom_p90_spec = anom_p90 > 0\n",
    "        iszero = np.concatenate(([0], np.equal(anom_p90_spec.values, True).view(np.int8), [0]))\n",
    "        abs_diff = np.abs(np.diff(iszero))\n",
    "        # Runs start and end where absdiff is 1.\n",
    "        idxz = np.where(abs_diff == 1)[0].reshape(-1, 2)\n",
    "        idx_bool = (idxz[:,1]-idxz[:,0])>=4\n",
    "        hw_idxz = idxz[idx_bool,:]\n",
    "        hw_dates = np.empty(hw_idxz.shape,dtype=object)\n",
    "        for i,hw_idx in enumerate(hw_idxz):\n",
    "            hw_date = [str(anom_p90.time[hw_idx[0]].values),\n",
    "                       str(anom_p90.time[hw_idx[1]].values-np.timedelta64(1,'D'))]\n",
    "            hw_dates[i]=hw_date\n",
    "        np.save(path+'pw_lon_{}_{}_lat_{}_{}.npy'.format(lon_0,lon_1,lat_0,lat_1),hw_dates)\n",
    "        np.savetxt(path+'pw_lon_{}_{}_lat_{}_{}.txt'.format(lon_0,lon_1,lat_0,lat_1),hw_dates,fmt=\"%s\")\n",
    "        #Process data for cold extremes\n",
    "        anom_p10_spec = anom_p10 < 0\n",
    "        iszero = np.concatenate(([0], np.equal(anom_p10_spec.values, True).view(np.int8), [0]))\n",
    "        abs_diff = np.abs(np.diff(iszero))\n",
    "        # Runs start and end where absdiff is 1.\n",
    "        idxz = np.where(abs_diff == 1)[0].reshape(-1, 2)\n",
    "        idx_bool = (idxz[:,1]-idxz[:,0])>=4\n",
    "        cw_idxz = idxz[idx_bool,:]\n",
    "        cw_dates = np.empty(cw_idxz.shape,dtype=object)\n",
    "        for i,cw_idx in enumerate(cw_idxz):\n",
    "            cw_date = [str(anom_p10.time[cw_idx[0]].values),\n",
    "                       str(anom_p10.time[cw_idx[1]].values-np.timedelta64(1,'D'))]\n",
    "            cw_dates[i]=cw_date\n",
    "        np.save(path+'cw_lon_{}_{}_lat_{}_{}.npy'.format(lon_0,lon_1,lat_0,lat_1),cw_dates)\n",
    "        np.savetxt(path+'cw_lon_{}_{}_lat_{}_{}.txt'.format(lon_0,lon_1,lat_0,lat_1),cw_dates,fmt=\"%s\")\n",
    "        "
   ]
  },
  {
   "cell_type": "code",
   "execution_count": null,
   "metadata": {},
   "outputs": [],
   "source": []
  }
 ],
 "metadata": {
  "kernelspec": {
   "display_name": "Python 3",
   "language": "python",
   "name": "python3"
  },
  "language_info": {
   "codemirror_mode": {
    "name": "ipython",
    "version": 3
   },
   "file_extension": ".py",
   "mimetype": "text/x-python",
   "name": "python",
   "nbconvert_exporter": "python",
   "pygments_lexer": "ipython3",
   "version": "3.8.5"
  }
 },
 "nbformat": 4,
 "nbformat_minor": 5
}
