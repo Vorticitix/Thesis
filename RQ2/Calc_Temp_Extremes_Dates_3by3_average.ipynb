{
 "cells": [
  {
   "cell_type": "code",
   "execution_count": 3,
   "metadata": {},
   "outputs": [
    {
     "name": "stdout",
     "output_type": "stream",
     "text": [
      "The autoreload extension is already loaded. To reload it, use:\n",
      "  %reload_ext autoreload\n"
     ]
    }
   ],
   "source": [
    "%load_ext autoreload\n",
    "%autoreload 2\n",
    "import numpy as np\n",
    "import xarray as xr\n",
    "from matplotlib import pyplot as plt\n",
    "import pandas as pd\n",
    "import sys\n",
    "sys.path.append('/home/onno/Thesis/Scripts')\n",
    "import my_tools\n",
    "from my_tools import plot_dic, file_dic\n",
    "%matplotlib qt\n",
    "import matplotlib.dates as mdates"
   ]
  },
  {
   "cell_type": "code",
   "execution_count": 4,
   "metadata": {},
   "outputs": [],
   "source": [
    "#set path\n",
    "path = '/media/onno/Volume/GFS_T850/'"
   ]
  },
  {
   "cell_type": "code",
   "execution_count": 5,
   "metadata": {},
   "outputs": [],
   "source": [
    "coordinatez = [\n",
    "(62,54,0,8),#Germany\n",
    "(54,46,0,8), #Spain\n",
    "(46,38,0,8), #Ukraine\n",
    "(62,54,8,16),#Germany\n",
    "(54,46,8,16), #Spain\n",
    "(46,38,8,16), #Ukraine\n",
    "(62,54,16,24),#Germany\n",
    "(54,46,16,24), #Spain\n",
    "(46,38,16,24)] #Ukraine\n",
    "# #loading GFS and ERA5 data for specific box \n",
    "\n",
    "#Choose Forecast model: GFS or ERA5RF\n",
    "fcst_modelz = ['GFS','ERA5RF']\n",
    "for fcst_model in fcst_modelz:\n",
    "    for lat_0,lat_1,lon_0,lon_1 in coordinatez:\n",
    "        #open anomaly files\n",
    "        file_anom_p60 = 'era5_fldmean_mars_t850_79-19_24hourly_lon_{}_{}_lat_{}_{}_anom_from_smoothed_p60_ALL.nc'.format(lon_0,lon_1-2,lat_0-2,lat_1)\n",
    "        file_anom_p40 = 'era5_fldmean_mars_t850_79-19_24hourly_lon_{}_{}_lat_{}_{}_anom_from_smoothed_p40_ALL.nc'.format(lon_0,lon_1-2,lat_0-2,lat_1)\n",
    "        anom_p60 = xr.open_dataset(path+file_anom_p60).t.squeeze()\n",
    "        anom_p40 = xr.open_dataset(path+file_anom_p40).t.squeeze()\n",
    "        #Process data for warm extremes\n",
    "        #Calculate dates of persitent extremes that are 4 consecutive days or longer\n",
    "        anom_avg = (anom_p60 < 0) & (anom_p40>0)\n",
    "        iszero = np.concatenate(([0], np.equal(anom_avg.values, True).view(np.int8), [0]))\n",
    "        abs_diff = np.abs(np.diff(iszero))\n",
    "        # Runs start and end where absdiff is 1.\n",
    "        idxz = np.where(abs_diff == 1)[0].reshape(-1, 2)\n",
    "        idx_bool = (idxz[:,1]-idxz[:,0])>=4\n",
    "        avg_idxz = idxz[idx_bool,:]\n",
    "        avg_dates = np.empty(avg_idxz.shape,dtype=object)\n",
    "        for i,avg_idx in enumerate(avg_idxz):\n",
    "            avg_date = [str(anom_p60.time[avg_idx[0]].values),\n",
    "                       str(anom_p60.time[avg_idx[1]].values-np.timedelta64(1,'D'))]\n",
    "            avg_dates[i]=avg_date\n",
    "        np.save(path+'dates/avg_p40_p60_lon_{}_{}_lat_{}_{}_new.npy'.format(lon_0,lon_1,lat_0,lat_1),avg_dates)\n",
    "        np.savetxt(path+'dates/avg_p40_p60_lon_{}_{}_lat_{}_{}_new.txt'.format(lon_0,lon_1,lat_0,lat_1),avg_dates,fmt=\"%s\")\n",
    "\n",
    "        "
   ]
  },
  {
   "cell_type": "code",
   "execution_count": null,
   "metadata": {},
   "outputs": [],
   "source": []
  }
 ],
 "metadata": {
  "kernelspec": {
   "display_name": "Python 3",
   "language": "python",
   "name": "python3"
  },
  "language_info": {
   "codemirror_mode": {
    "name": "ipython",
    "version": 3
   },
   "file_extension": ".py",
   "mimetype": "text/x-python",
   "name": "python",
   "nbconvert_exporter": "python",
   "pygments_lexer": "ipython3",
   "version": "3.8.5"
  }
 },
 "nbformat": 4,
 "nbformat_minor": 5
}
