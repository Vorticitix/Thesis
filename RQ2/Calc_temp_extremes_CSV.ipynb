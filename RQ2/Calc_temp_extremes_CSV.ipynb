{
 "cells": [
  {
   "cell_type": "code",
   "execution_count": 1,
   "metadata": {},
   "outputs": [],
   "source": [
    "%load_ext autoreload\n",
    "%autoreload 2\n",
    "import numpy as np\n",
    "import xarray as xr\n",
    "from matplotlib import pyplot as plt\n",
    "import pandas as pd\n",
    "import sys\n",
    "sys.path.append('/home/onno/Thesis/Scripts')\n",
    "import my_tools\n",
    "from my_tools import plot_dic, file_dic\n",
    "from mpl_toolkits.basemap import Basemap, addcyclic\n",
    "%matplotlib qt\n",
    "pd.set_option('mode.chained_assignment',None)"
   ]
  },
  {
   "cell_type": "code",
   "execution_count": 4,
   "metadata": {},
   "outputs": [],
   "source": [
    "#set path\n",
    "path = '/media/onno/Algemeen/Thesis/GFS_T850/'"
   ]
  },
  {
   "cell_type": "code",
   "execution_count": 3,
   "metadata": {},
   "outputs": [],
   "source": [
    "#set coordinates\n",
    "coordinatez = [\n",
    "(54,46,6,14),#Germany\n",
    "(44,36,352,360), #Spain\n",
    "(54,46,26,34), #Ukraine\n",
    "(58,50,352,360), #UK\n",
    "(42,34,28,36), #Turkey\n",
    "(68,60,22,30), #Finland\n",
    "(66,58,6,14), #Norway/Sweden\n",
    "(60,52,46,54)] #Russia Samara/Kazan region\n",
    "#set fileneames and load temp extreme data\n",
    "# file_era_anom_p10 = 'era51_fldmean_mars_t850_79-19_24hourly_lon_{}_{}_lat_{}_{}_anom_from_smoothed_p10.nc'.format(lon_0,lon_1,lat_0,lat_1)\n",
    "# file_era_anom_p90 = 'era51_fldmean_mars_t850_79-19_24hourly_lon_{}_{}_lat_{}_{}_anom_from_smoothed_p90.nc'.format(lon_0,lon_1,lat_0,lat_1)\n",
    "# file_hw_pers = 'persistent_heatwaves_lon_{}_{}_lat_{}_{}.npy'.format(lon_0,lon_1,lat_0,lat_1)\n",
    "# file_hw_short = 'short_heatwaves_lon_{}_{}_lat_{}_{}.npy'.format(lon_0,lon_1,lat_0,lat_1)\n",
    "# file_cw_pers = 'persistent_coldwaves_lon_{}_{}_lat_{}_{}.npy'.format(lon_0,lon_1,lat_0,lat_1)\n",
    "# file_cw_short = 'short_coldwaves_lon_{}_{}_lat_{}_{}.npy'.format(lon_0,lon_1,lat_0,lat_1)\n",
    "# file_independent_hw_short = 'independent_short_heatwaves_lon_{}_{}_lat_{}_{}.npy'.format(lon_0,lon_1,lat_0,lat_1)\n",
    "# file_independent_cw_short = 'independent_short_coldwaves_lon_{}_{}_lat_{}_{}.npy'.format(lon_0,lon_1,lat_0,lat_1)\n",
    "# #load anomaly data\n",
    "# era_anom_p90 = xr.open_dataset(path+file_era_anom_p90).squeeze()\n",
    "# era_anom_p10 = xr.open_dataset(path+file_era_anom_p10).squeeze()"
   ]
  },
  {
   "cell_type": "markdown",
   "metadata": {},
   "source": [
    "Heatwaves"
   ]
  },
  {
   "cell_type": "code",
   "execution_count": 19,
   "metadata": {},
   "outputs": [],
   "source": [
    "for lat_0,lat_1,lon_0,lon_1 in coordinatez:\n",
    "    file_era_anom_p10 = 'era51_fldmean_mars_t850_79-19_24hourly_lon_{}_{}_lat_{}_{}_anom_from_smoothed_p10.nc'.format(lon_0,lon_1-2,lat_0-2,lat_1)\n",
    "    file_era_anom_p90 = 'era51_fldmean_mars_t850_79-19_24hourly_lon_{}_{}_lat_{}_{}_anom_from_smoothed_p90.nc'.format(lon_0,lon_1-2,lat_0-2,lat_1)\n",
    "    era_anom_p90 = xr.open_dataset(path+file_era_anom_p90).squeeze()\n",
    "    era_anom_p10 = xr.open_dataset(path+file_era_anom_p10).squeeze()\n",
    "    file_hw_pers = 'persistent_heatwaves_lon_{}_{}_lat_{}_{}.npy'.format(lon_0,lon_1-2,lat_0-2,lat_1)\n",
    "    file_hw_short = 'short_heatwaves_lon_{}_{}_lat_{}_{}.npy'.format(lon_0,lon_1-2,lat_0-2,lat_1)\n",
    "    file_independent_hw_short = 'independent_short_heatwaves_lon_{}_{}_lat_{}_{}.npy'.format(lon_0,lon_1-2,lat_0-2,lat_1)\n",
    "\n",
    "    #Load heat wave dates as np array\n",
    "    pers_hw = np.load(path + file_hw_pers)\n",
    "    short_hw = np.load(path + file_hw_short)\n",
    "    independent_short_hw = np.load(path+file_independent_hw_short)\n",
    "    #set columns for pandas dataframe\n",
    "    columns = ['start_date','end_date','length','mean_anomaly','max_anomaly']\n",
    "\n",
    "    file_namez = [file_hw_pers,file_hw_short]\n",
    "    #loop over short and persistent heat waves\n",
    "    variablez = [pers_hw,short_hw]\n",
    "    for j,variable in enumerate(variablez):\n",
    "        #set index as 1,2,3...\n",
    "        index = np.arange(len(variable))\n",
    "        #create empty dataframe\n",
    "        df = pd.DataFrame(index=index,columns=columns)\n",
    "        #loop over all temperature extremes\n",
    "        for i in range(len(variable)):\n",
    "            #select specific dates where heat wave occurs\n",
    "            ds = era_anom_p90.sel(time=slice(variable[i,0],variable[i,1]))\n",
    "            #caluclate mean anomaly from 90th percentile\n",
    "            ds_mean = ds.t.mean().values\n",
    "            #caluclate max anomaly from 90th percentile\n",
    "            ds_max = ds.t.max().values\n",
    "            #calculate length of heat wave\n",
    "            length = len(ds.t)\n",
    "            #set start and end dates\n",
    "            start = variable[i,0]-pd.Timedelta(days=0)\n",
    "            end = variable[i,1]-pd.Timedelta(days=0)\n",
    "            #fill in dataframe\n",
    "            df['start_date'][i]=start\n",
    "            df['end_date'][i]=end\n",
    "            df['length'][i]=length\n",
    "            df['mean_anomaly'][i]=ds_mean\n",
    "            df['max_anomaly'][i]=ds_max\n",
    "            #for short heat waves fill in whether event is independent\n",
    "            if j==1:\n",
    "                df['independent']=independent_short_hw\n",
    "            #save to csv \n",
    "            df.to_csv(path+file_namez[j][:-4]+'.csv')\n",
    "    \n"
   ]
  },
  {
   "cell_type": "markdown",
   "metadata": {},
   "source": [
    "Coldwaves"
   ]
  },
  {
   "cell_type": "code",
   "execution_count": 6,
   "metadata": {},
   "outputs": [],
   "source": [
    "file_cw_pers = 'persistent_coldwaves_lon_{}_{}_lat_{}_{}.npy'.format(lon_0,lon_1,lat_0,lat_1)\n",
    "file_cw_short = 'short_coldwaves_lon_{}_{}_lat_{}_{}.npy'.format(lon_0,lon_1,lat_0,lat_1)\n",
    "\n",
    "file_independent_cw_short = 'independent_short_coldwaves_lon_{}_{}_lat_{}_{}.npy'.format(lon_0,lon_1,lat_0,lat_1)\n",
    "\n",
    "#Load coldwave data\n",
    "pers_cw = np.load(path + file_cw_pers)\n",
    "short_cw = np.load(path + file_cw_short)\n",
    "independent_short_cw = np.load(path+file_independent_cw_short)\n",
    "\n",
    "#set columns for pandas dataframe\n",
    "columns = ['start_date','end_date','length','mean_anomaly','min_anomaly']\n",
    "\n",
    "file_namez = [file_cw_pers,file_cw_short]\n",
    "variablez = [pers_cw,short_cw]\n",
    "for j,variable in enumerate(variablez):\n",
    "    #set index as 1,2,3...\n",
    "    index = np.arange(len(variable))\n",
    "    #create empty pandas dataframe\n",
    "    df = pd.DataFrame(index=index,columns=columns)\n",
    "    for i in range(len(variable)):\n",
    "        #select specific dates where cold wave occurs\n",
    "        ds = era_anom_p10.sel(time=slice(variable[i,0],variable[i,1]))\n",
    "        #caluclate mean anomaly from 10th percentile\n",
    "        ds_mean = ds.t.mean().values\n",
    "        #calculate max anomaly from 10th percentile\n",
    "        ds_min = ds.t.min().values\n",
    "        #calculate length of anomaaly\n",
    "        length = len(ds.t)\n",
    "        #list start and end dates of cold wave\n",
    "        start = variable[i,0]-pd.Timedelta(days=0)\n",
    "        end = variable[i,1]-pd.Timedelta(days=0)\n",
    "        #fill in dataframe\n",
    "        df['start_date'][i]=start\n",
    "        df['end_date'][i]=end\n",
    "        df['length'][i]=length\n",
    "        df['mean_anomaly'][i]=ds_mean\n",
    "        df['min_anomaly'][i]=ds_min\n",
    "        #for short cold waves list whether event is independent\n",
    "        if j==1:\n",
    "            df.loc[:,'independent']=independent_short_cw\n",
    "        #save as csv file\n",
    "        df.to_csv(path+file_namez[j][:-4]+'.csv')"
   ]
  },
  {
   "cell_type": "code",
   "execution_count": null,
   "metadata": {},
   "outputs": [],
   "source": []
  }
 ],
 "metadata": {
  "kernelspec": {
   "display_name": "Python 3",
   "language": "python",
   "name": "python3"
  },
  "language_info": {
   "codemirror_mode": {
    "name": "ipython",
    "version": 3
   },
   "file_extension": ".py",
   "mimetype": "text/x-python",
   "name": "python",
   "nbconvert_exporter": "python",
   "pygments_lexer": "ipython3",
   "version": "3.7.9"
  }
 },
 "nbformat": 4,
 "nbformat_minor": 4
}
