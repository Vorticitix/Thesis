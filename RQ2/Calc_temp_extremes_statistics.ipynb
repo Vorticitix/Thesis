{
 "cells": [
  {
   "cell_type": "code",
   "execution_count": 14,
   "metadata": {},
   "outputs": [
    {
     "name": "stdout",
     "output_type": "stream",
     "text": [
      "The autoreload extension is already loaded. To reload it, use:\n",
      "  %reload_ext autoreload\n"
     ]
    }
   ],
   "source": [
    "%load_ext autoreload\n",
    "%autoreload 2\n",
    "import numpy as np\n",
    "import xarray as xr\n",
    "from matplotlib import pyplot as plt\n",
    "import pandas as pd\n",
    "import sys\n",
    "sys.path.append('/home/onno/Thesis/Scripts')\n",
    "import my_tools\n",
    "from my_tools import plot_dic, file_dic\n",
    "from mpl_toolkits.basemap import Basemap, addcyclic\n",
    "%matplotlib qt\n",
    "pd.set_option('mode.chained_assignment',None)"
   ]
  },
  {
   "cell_type": "code",
   "execution_count": 6,
   "metadata": {},
   "outputs": [],
   "source": [
    "path = '/media/onno/Algemeen/Thesis/GFS_T850/'"
   ]
  },
  {
   "cell_type": "code",
   "execution_count": 7,
   "metadata": {},
   "outputs": [],
   "source": [
    "lat_0 = 52\n",
    "lat_1 = 46\n",
    "lon_0 = 6\n",
    "lon_1 = 12\n",
    "file_era_anom_p10 = 'era51_fldmean_mars_t850_79-19_24hourly_lon_{}_{}_lat_{}_{}_anom_from_smoothed_p10.nc'.format(lon_0,lon_1,lat_0,lat_1)\n",
    "file_era_anom_p90 = 'era51_fldmean_mars_t850_79-19_24hourly_lon_{}_{}_lat_{}_{}_anom_from_smoothed_p90.nc'.format(lon_0,lon_1,lat_0,lat_1)\n",
    "file_hw_pers = 'persistent_heatwaves_lon_{}_{}_lat_{}_{}.npy'.format(lon_0,lon_1,lat_0,lat_1)\n",
    "file_hw_short = 'short_heatwaves_lon_{}_{}_lat_{}_{}.npy'.format(lon_0,lon_1,lat_0,lat_1)\n",
    "file_cw_pers = 'persistent_coldwaves_lon_{}_{}_lat_{}_{}.npy'.format(lon_0,lon_1,lat_0,lat_1)\n",
    "file_cw_short = 'short_coldwaves_lon_{}_{}_lat_{}_{}.npy'.format(lon_0,lon_1,lat_0,lat_1)\n",
    "file_independent_hw_short = 'independent_short_heatwaves_lon_{}_{}_lat_{}_{}.npy'.format(lon_0,lon_1,lat_0,lat_1)\n",
    "file_independent_cw_short = 'independent_short_coldwaves_lon_{}_{}_lat_{}_{}.npy'.format(lon_0,lon_1,lat_0,lat_1)\n",
    "era_anom_p90 = xr.open_dataset(path+file_era_anom_p90).squeeze()\n",
    "era_anom_p10 = xr.open_dataset(path+file_era_anom_p10).squeeze()"
   ]
  },
  {
   "cell_type": "markdown",
   "metadata": {},
   "source": [
    "Heatwaves"
   ]
  },
  {
   "cell_type": "code",
   "execution_count": 15,
   "metadata": {},
   "outputs": [],
   "source": [
    "\n",
    "pers_hw = np.load(path + file_hw_pers)\n",
    "short_hw = np.load(path + file_hw_short)\n",
    "independent_short_hw = np.load(path+file_independent_hw_short)\n",
    "columns = ['start_date','end_date','length','mean_anomaly','max_anomaly']\n",
    "\n",
    "file_namez = [file_hw_pers,file_hw_short]\n",
    "variablez = [pers_hw,short_hw]\n",
    "for j,variable in enumerate(variablez):\n",
    "    index = np.arange(len(variable))\n",
    "    df = pd.DataFrame(index=index,columns=columns)\n",
    "    for i in range(len(variable)):\n",
    "        ds = era_anom_p90.sel(time=slice(variable[i,0],variable[i,1]-pd.Timedelta(days=1)))\n",
    "        ds_mean = ds.t.mean().values\n",
    "        ds_max = ds.t.max().values\n",
    "        length = len(ds.t)\n",
    "        start = variable[i,0]-pd.Timedelta(days=0)\n",
    "        end = variable[i,1]-pd.Timedelta(days=1)\n",
    "        df['start_date'][i]=start\n",
    "        df['end_date'][i]=end\n",
    "        df['length'][i]=length\n",
    "        df['mean_anomaly'][i]=ds_mean\n",
    "        df['max_anomaly'][i]=ds_max\n",
    "        if j==1:\n",
    "            df['independent']=independent_short_hw\n",
    "        df.to_csv(path+file_namez[j][:-4]+'.csv')\n",
    "    \n"
   ]
  },
  {
   "cell_type": "markdown",
   "metadata": {},
   "source": [
    "Coldwaves"
   ]
  },
  {
   "cell_type": "code",
   "execution_count": 16,
   "metadata": {},
   "outputs": [],
   "source": [
    "\n",
    "pers_cw = np.load(path + file_cw_pers)\n",
    "short_cw = np.load(path + file_cw_short)\n",
    "independent_short_cw = np.load(path+file_independent_cw_short)\n",
    "\n",
    "columns = ['start_date','end_date','length','mean_anomaly','min_anomaly']\n",
    "index = np.arange(len(pers_hw))\n",
    "file_namez = [file_cw_pers,file_cw_short]\n",
    "variablez = [pers_cw,short_cw]\n",
    "for j,variable in enumerate(variablez):\n",
    "    index = np.arange(len(variable))\n",
    "    df = pd.DataFrame(index=index,columns=columns)\n",
    "    for i in range(len(variable)):\n",
    "        ds = era_anom_p10.sel(time=slice(variable[i,0],variable[i,1]-pd.Timedelta(days=1)))\n",
    "        ds_mean = ds.t.mean().values\n",
    "        ds_min = ds.t.min().values\n",
    "        length = len(ds.t)\n",
    "        start = variable[i,0]-pd.Timedelta(days=0)\n",
    "        end = variable[i,1]-pd.Timedelta(days=1)\n",
    "        df['start_date'][i]=start\n",
    "        df['end_date'][i]=end\n",
    "        df['length'][i]=length\n",
    "        df['mean_anomaly'][i]=ds_mean\n",
    "        df['min_anomaly'][i]=ds_min\n",
    "        if j==1:\n",
    "            df.loc[:,'independent']=independent_short_cw\n",
    "        df.to_csv(path+file_namez[j][:-4]+'.csv')"
   ]
  },
  {
   "cell_type": "code",
   "execution_count": null,
   "metadata": {},
   "outputs": [],
   "source": []
  }
 ],
 "metadata": {
  "kernelspec": {
   "display_name": "Python 3",
   "language": "python",
   "name": "python3"
  },
  "language_info": {
   "codemirror_mode": {
    "name": "ipython",
    "version": 3
   },
   "file_extension": ".py",
   "mimetype": "text/x-python",
   "name": "python",
   "nbconvert_exporter": "python",
   "pygments_lexer": "ipython3",
   "version": "3.8.5"
  }
 },
 "nbformat": 4,
 "nbformat_minor": 4
}
