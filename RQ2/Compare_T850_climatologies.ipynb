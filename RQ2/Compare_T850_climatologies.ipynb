{
 "cells": [
  {
   "cell_type": "code",
   "execution_count": 1,
   "metadata": {},
   "outputs": [],
   "source": [
    "import numpy as np\n",
    "import xarray as xr\n",
    "from matplotlib import pyplot as plt\n",
    "import sys\n",
    "sys.path.append('/home/onno/Thesis/Scripts')\n",
    "import my_tools\n",
    "from mpl_toolkits.basemap import Basemap, addcyclic\n",
    "%matplotlib qt\n"
   ]
  },
  {
   "cell_type": "code",
   "execution_count": 2,
   "metadata": {},
   "outputs": [],
   "source": [
    "path = '/media/onno/Algemeen/Thesis/GFS_T850/'\n",
    "path_to_write = '/media/onno/Algemeen/Thesis/GFS_T850/GFS_ERA5_comparison/'\n",
    "file_gfs = 'gefsrf2_t850_control0h_6hourly_2x2_dec84-nov19_ydaymean_smoothed04.nc'\n",
    "file_era = 'era51_mars_t850_79-19_6hourly_ydaymean_smoothed04.nc'"
   ]
  },
  {
   "cell_type": "code",
   "execution_count": 3,
   "metadata": {},
   "outputs": [],
   "source": [
    "gfs = xr.open_dataset(path+file_gfs,decode_times=False).squeeze()\n",
    "era = xr.open_dataset(path+file_era,decode_times=False)\n",
    "era = era.sel(time=[i%24 ==0 for i in era.time.values])\n",
    "if list(era.coords)[1]=='longitude':\n",
    "    era=era.rename({'longitude':'lon'})\n",
    "if list(era.coords)[2]=='latitude':\n",
    "    era=era.rename({'latitude':'lat'})\n",
    "era.attrs['history']=None\n"
   ]
  },
  {
   "cell_type": "markdown",
   "metadata": {},
   "source": [
    "Mean Error"
   ]
  },
  {
   "cell_type": "code",
   "execution_count": 4,
   "metadata": {},
   "outputs": [],
   "source": [
    "diff = gfs.t - era.t.values\n",
    "diff_mean = diff.mean(dim='time')\n",
    "# diff_mean.plot()\n",
    "diff_mean.to_netcdf(path_to_write+'T850_diff_mean_error.nc')"
   ]
  },
  {
   "cell_type": "code",
   "execution_count": 5,
   "metadata": {},
   "outputs": [
    {
     "name": "stderr",
     "output_type": "stream",
     "text": [
      "/home/onno/miniconda3/envs/thesis/lib/python3.8/site-packages/mpl_toolkits/basemap/__init__.py:5098: FutureWarning: Using a non-tuple sequence for multidimensional indexing is deprecated; use `arr[tuple(seq)]` instead of `arr[seq]`. In the future this will be interpreted as an array index, `arr[np.array(seq)]`, which will result either in an error or a different result.\n",
      "  return npsel.concatenate((a,a[slicer]),axis=axis)\n",
      "/home/onno/miniconda3/envs/thesis/lib/python3.8/site-packages/mpl_toolkits/basemap/__init__.py:5098: FutureWarning: Using a non-tuple sequence for multidimensional indexing is deprecated; use `arr[tuple(seq)]` instead of `arr[seq]`. In the future this will be interpreted as an array index, `arr[np.array(seq)]`, which will result either in an error or a different result.\n",
      "  return npsel.concatenate((a,a[slicer]),axis=axis)\n"
     ]
    }
   ],
   "source": [
    "latz_hem = [90,-90]\n",
    "for lat_hem in latz_hem:\n",
    "    fig,ax = plt.subplots()\n",
    "    diff_cyclic, lon_cyclic = addcyclic(diff_mean.values, diff_mean.lon)\n",
    "    lon,lat = np.meshgrid(lon_cyclic,diff.lat)\n",
    "    m = Basemap(projection='ortho',lon_0=0,lat_0=lat_hem,resolution='c',ax=ax)\n",
    "    im = m.contourf(lon,lat,diff_cyclic,latlon='true', extend='both', cmap=plt.cm.get_cmap('bwr'),\n",
    "       vmin=-1,vmax=1,levels=[-1,-0.75,-0.5,-0.25,0.25,0.5,0.75,1])\n",
    "    m.drawcoastlines()\n",
    "    m.drawparallels((-80,-60,-40,-20,0,20,40,60,80))\n",
    "    m.drawmeridians((0,60,120,180,240,300),labels=[0,0,1,1])\n",
    "    fig.suptitle('Temp 850 hPa Mean Daily Error GEFS vs ERA5')\n",
    "    cbar = fig.colorbar(im)\n",
    "    cbar.set_label('Mean Daily Error [°C]', rotation=90)\n",
    "    if lat_hem==90:\n",
    "        fig.savefig(path_to_write+'Mean_Daily_Error_NH')\n",
    "    else:\n",
    "        fig.savefig(path_to_write+'Mean_Daily_Error_SH')"
   ]
  },
  {
   "cell_type": "markdown",
   "metadata": {},
   "source": [
    "Mean Absolute Error"
   ]
  },
  {
   "cell_type": "code",
   "execution_count": 6,
   "metadata": {},
   "outputs": [],
   "source": [
    "diff = np.fabs(gfs.t - era.t.values)\n",
    "diff_mean = diff.mean(dim='time')\n",
    "# diff_mean.plot()\n",
    "diff_mean.to_netcdf(path_to_write+'T850_diff_mean_abs_error.nc')"
   ]
  },
  {
   "cell_type": "code",
   "execution_count": 8,
   "metadata": {},
   "outputs": [
    {
     "name": "stderr",
     "output_type": "stream",
     "text": [
      "/home/onno/miniconda3/envs/thesis/lib/python3.8/site-packages/mpl_toolkits/basemap/__init__.py:5098: FutureWarning: Using a non-tuple sequence for multidimensional indexing is deprecated; use `arr[tuple(seq)]` instead of `arr[seq]`. In the future this will be interpreted as an array index, `arr[np.array(seq)]`, which will result either in an error or a different result.\n",
      "  return npsel.concatenate((a,a[slicer]),axis=axis)\n",
      "/home/onno/miniconda3/envs/thesis/lib/python3.8/site-packages/mpl_toolkits/basemap/__init__.py:5098: FutureWarning: Using a non-tuple sequence for multidimensional indexing is deprecated; use `arr[tuple(seq)]` instead of `arr[seq]`. In the future this will be interpreted as an array index, `arr[np.array(seq)]`, which will result either in an error or a different result.\n",
      "  return npsel.concatenate((a,a[slicer]),axis=axis)\n"
     ]
    }
   ],
   "source": [
    "latz_hem = [90,-90]\n",
    "\n",
    "for lat_hem in latz_hem:\n",
    "    fig,ax = plt.subplots()\n",
    "    diff_cyclic, lon_cyclic = addcyclic(diff_mean.values, diff_mean.lon)\n",
    "    lon,lat = np.meshgrid(lon_cyclic,diff.lat)\n",
    "    m = Basemap(projection='ortho',lon_0=0,lat_0=lat_hem,resolution='c',ax=ax)\n",
    "    im = m.contourf(lon,lat,diff_cyclic,latlon='true', extend='both', cmap=plt.cm.get_cmap('Reds'),\n",
    "       vmin=0,vmax=1,levels=[0.25,0.5,0.75,1])\n",
    "    m.drawcoastlines()\n",
    "    m.drawparallels((-80,-60,-40,-20,0,20,40,60,80))\n",
    "    m.drawmeridians((0,60,120,180,240,300),labels=[0,0,1,1])\n",
    "    fig.suptitle('Temp 850 hPa Mean Daily Absolute Error GEFS vs ERA5')\n",
    "    cbar = fig.colorbar(im)\n",
    "    cbar.set_label('Mean Daily Absolute Error [°C]', rotation=90)\n",
    "    if lat_hem==90:\n",
    "        fig.savefig(path_to_write+'Mean_Daily_Absolute_Error_NH')\n",
    "    else:\n",
    "        fig.savefig(path_to_write+'Mean_Daily_Absolute_Error_SH')"
   ]
  },
  {
   "cell_type": "markdown",
   "metadata": {},
   "source": [
    "Max Absolute Error"
   ]
  },
  {
   "cell_type": "code",
   "execution_count": 9,
   "metadata": {},
   "outputs": [],
   "source": [
    "diff = np.fabs(gfs.t - era.t.values)\n",
    "diff_mean = diff.max(dim='time')\n",
    "# diff_mean.plot()\n",
    "diff_mean.to_netcdf(path_to_write+'T850_diff_max_abs_error.nc')"
   ]
  },
  {
   "cell_type": "code",
   "execution_count": 10,
   "metadata": {},
   "outputs": [
    {
     "name": "stderr",
     "output_type": "stream",
     "text": [
      "/home/onno/miniconda3/envs/thesis/lib/python3.8/site-packages/mpl_toolkits/basemap/__init__.py:5098: FutureWarning: Using a non-tuple sequence for multidimensional indexing is deprecated; use `arr[tuple(seq)]` instead of `arr[seq]`. In the future this will be interpreted as an array index, `arr[np.array(seq)]`, which will result either in an error or a different result.\n",
      "  return npsel.concatenate((a,a[slicer]),axis=axis)\n",
      "/home/onno/miniconda3/envs/thesis/lib/python3.8/site-packages/mpl_toolkits/basemap/__init__.py:5098: FutureWarning: Using a non-tuple sequence for multidimensional indexing is deprecated; use `arr[tuple(seq)]` instead of `arr[seq]`. In the future this will be interpreted as an array index, `arr[np.array(seq)]`, which will result either in an error or a different result.\n",
      "  return npsel.concatenate((a,a[slicer]),axis=axis)\n"
     ]
    }
   ],
   "source": [
    "latz_hem = [90,-90]\n",
    "for lat_hem in latz_hem:\n",
    "    fig,ax = plt.subplots()\n",
    "    diff_cyclic, lon_cyclic = addcyclic(diff_mean.values, diff_mean.lon)\n",
    "    lon,lat = np.meshgrid(lon_cyclic,diff.lat)\n",
    "    m = Basemap(projection='ortho',lon_0=0,lat_0=lat_hem,resolution='c',ax=ax)\n",
    "    im = m.contourf(lon,lat,diff_cyclic,latlon='true', extend='both', cmap=plt.cm.get_cmap('Reds'),\n",
    "       vmin=0,vmax=2,levels=[0.5,0.75,1,1.25,1.5,1.75,2])\n",
    "    m.drawcoastlines()\n",
    "    m.drawparallels((-80,-60,-40,-20,0,20,40,60,80))\n",
    "    m.drawmeridians((0,60,120,180,240,300),labels=[0,0,1,1])\n",
    "    fig.suptitle('Temp 850 hPa Max Absolute Error GEFS vs ERA5')\n",
    "    cbar = fig.colorbar(im)\n",
    "    cbar.set_label('Max Absolute Error [°C]', rotation=90)\n",
    "    if lat_hem==90:\n",
    "        fig.savefig(path_to_write+'Max_Daily_Absolute_Error_NH')\n",
    "    else:\n",
    "        fig.savefig(path_to_write+'Max_Daily_Absolute_Error_SH')"
   ]
  },
  {
   "cell_type": "code",
   "execution_count": null,
   "metadata": {},
   "outputs": [],
   "source": []
  }
 ],
 "metadata": {
  "kernelspec": {
   "display_name": "Python 3",
   "language": "python",
   "name": "python3"
  },
  "language_info": {
   "codemirror_mode": {
    "name": "ipython",
    "version": 3
   },
   "file_extension": ".py",
   "mimetype": "text/x-python",
   "name": "python",
   "nbconvert_exporter": "python",
   "pygments_lexer": "ipython3",
   "version": "3.8.5"
  }
 },
 "nbformat": 4,
 "nbformat_minor": 4
}
