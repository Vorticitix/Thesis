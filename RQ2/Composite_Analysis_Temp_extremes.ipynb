{
 "cells": [
  {
   "cell_type": "code",
   "execution_count": 18,
   "id": "assumed-treasurer",
   "metadata": {},
   "outputs": [
    {
     "name": "stdout",
     "output_type": "stream",
     "text": [
      "The autoreload extension is already loaded. To reload it, use:\n",
      "  %reload_ext autoreload\n"
     ]
    }
   ],
   "source": [
    "%load_ext autoreload\n",
    "%autoreload 2\n",
    "import numpy as np\n",
    "import xarray as xr\n",
    "from matplotlib import pyplot as plt\n",
    "import pandas as pd\n",
    "import sys\n",
    "sys.path.append('/home/onno/Thesis/Scripts')\n",
    "import my_tools\n",
    "from my_tools import plot_dic, file_dic\n",
    "from mpl_toolkits.basemap import Basemap, addcyclic\n",
    "from cmap import ncl_colormap\n",
    "\n",
    "%matplotlib qt"
   ]
  },
  {
   "cell_type": "code",
   "execution_count": 2,
   "id": "occupied-howard",
   "metadata": {},
   "outputs": [],
   "source": [
    "#set path for general ERA5 reanalysis and GFS reforecast\n",
    "path_gen = '/media/onno/Algemeen/Thesis/'\n",
    "lat_0 = 52\n",
    "lat_1 = 46\n",
    "lon_0 = 6\n",
    "lon_1 = 12\n",
    "latlon = '_lon_{}_{}_lat_{}_{}'.format(lon_0,lon_1,lat_0,lat_1)"
   ]
  },
  {
   "cell_type": "code",
   "execution_count": 74,
   "id": "interesting-antibody",
   "metadata": {},
   "outputs": [],
   "source": [
    "#Load ERA5 files \n",
    "era_env = xr.open_dataset(path_gen+'era51_mars_env_wledit2000-10000_latavg_v300_79-19_6hourly_anom_from_smoothed04_clim_smoothed.nc').squeeze()\n",
    "era_t850 = xr.open_dataset(path_gen+'era51_mars_t850_79-19_6hourly_anom_from_smoothed04_clim.nc').squeeze()\n",
    "era_cp = xr.open_dataset(path_gen+'era51_mars_phasevel_wledit2000-10000_latavg_v300_envgt15_79-19_6hourly_setvrange_-100to100.nc').squeeze()\n",
    "era_v300 = xr.open_dataset(path_gen+'era51_mars_v300_wledit2000-10000_latavg_79-19_6hourly.nc').squeeze()"
   ]
  },
  {
   "cell_type": "markdown",
   "id": "industrial-frequency",
   "metadata": {},
   "source": [
    "Make ERA5 composite Analysis"
   ]
  },
  {
   "cell_type": "code",
   "execution_count": 5,
   "id": "animal-force",
   "metadata": {},
   "outputs": [],
   "source": [
    "#set path for temp extremes files\n",
    "path = '/media/onno/Algemeen/Thesis/GFS_T850/'\n",
    "\n",
    "datez_pers_hw = np.load(path+'persistent_heatwaves'+latlon+'.npy')\n",
    "datez_pers_cw = np.load(path+'persistent_coldwaves'+latlon+'.npy')\n",
    "datez_short_hw = np.load(path+'short_heatwaves'+latlon+'.npy')\n",
    "datez_short_cw = np.load(path+'short_coldwaves'+latlon+'.npy')\n",
    "datez_total = [datez_pers_hw,datez_pers_cw,datez_short_hw,datez_short_cw]"
   ]
  },
  {
   "cell_type": "markdown",
   "id": "spanish-sending",
   "metadata": {},
   "source": [
    "ERA5 Composite analysis for RWP Envelope and 850 hPa Temperature"
   ]
  },
  {
   "cell_type": "code",
   "execution_count": 66,
   "id": "public-snake",
   "metadata": {},
   "outputs": [
    {
     "name": "stderr",
     "output_type": "stream",
     "text": [
      "/home/onno/miniconda3/envs/thesis/lib/python3.8/site-packages/mpl_toolkits/basemap/__init__.py:5098: FutureWarning: Using a non-tuple sequence for multidimensional indexing is deprecated; use `arr[tuple(seq)]` instead of `arr[seq]`. In the future this will be interpreted as an array index, `arr[np.array(seq)]`, which will result either in an error or a different result.\n",
      "  return npsel.concatenate((a,a[slicer]),axis=axis)\n",
      "/home/onno/miniconda3/envs/thesis/lib/python3.8/site-packages/mpl_toolkits/basemap/__init__.py:5098: FutureWarning: Using a non-tuple sequence for multidimensional indexing is deprecated; use `arr[tuple(seq)]` instead of `arr[seq]`. In the future this will be interpreted as an array index, `arr[np.array(seq)]`, which will result either in an error or a different result.\n",
      "  return npsel.concatenate((a,a[slicer]),axis=axis)\n",
      "/home/onno/miniconda3/envs/thesis/lib/python3.8/site-packages/mpl_toolkits/basemap/__init__.py:5098: FutureWarning: Using a non-tuple sequence for multidimensional indexing is deprecated; use `arr[tuple(seq)]` instead of `arr[seq]`. In the future this will be interpreted as an array index, `arr[np.array(seq)]`, which will result either in an error or a different result.\n",
      "  return npsel.concatenate((a,a[slicer]),axis=axis)\n",
      "/home/onno/miniconda3/envs/thesis/lib/python3.8/site-packages/mpl_toolkits/basemap/__init__.py:5098: FutureWarning: Using a non-tuple sequence for multidimensional indexing is deprecated; use `arr[tuple(seq)]` instead of `arr[seq]`. In the future this will be interpreted as an array index, `arr[np.array(seq)]`, which will result either in an error or a different result.\n",
      "  return npsel.concatenate((a,a[slicer]),axis=axis)\n",
      "/home/onno/miniconda3/envs/thesis/lib/python3.8/site-packages/mpl_toolkits/basemap/__init__.py:5098: FutureWarning: Using a non-tuple sequence for multidimensional indexing is deprecated; use `arr[tuple(seq)]` instead of `arr[seq]`. In the future this will be interpreted as an array index, `arr[np.array(seq)]`, which will result either in an error or a different result.\n",
      "  return npsel.concatenate((a,a[slicer]),axis=axis)\n",
      "/home/onno/miniconda3/envs/thesis/lib/python3.8/site-packages/mpl_toolkits/basemap/__init__.py:5098: FutureWarning: Using a non-tuple sequence for multidimensional indexing is deprecated; use `arr[tuple(seq)]` instead of `arr[seq]`. In the future this will be interpreted as an array index, `arr[np.array(seq)]`, which will result either in an error or a different result.\n",
      "  return npsel.concatenate((a,a[slicer]),axis=axis)\n",
      "/home/onno/miniconda3/envs/thesis/lib/python3.8/site-packages/mpl_toolkits/basemap/__init__.py:5098: FutureWarning: Using a non-tuple sequence for multidimensional indexing is deprecated; use `arr[tuple(seq)]` instead of `arr[seq]`. In the future this will be interpreted as an array index, `arr[np.array(seq)]`, which will result either in an error or a different result.\n",
      "  return npsel.concatenate((a,a[slicer]),axis=axis)\n",
      "/home/onno/miniconda3/envs/thesis/lib/python3.8/site-packages/mpl_toolkits/basemap/__init__.py:5098: FutureWarning: Using a non-tuple sequence for multidimensional indexing is deprecated; use `arr[tuple(seq)]` instead of `arr[seq]`. In the future this will be interpreted as an array index, `arr[np.array(seq)]`, which will result either in an error or a different result.\n",
      "  return npsel.concatenate((a,a[slicer]),axis=axis)\n"
     ]
    }
   ],
   "source": [
    "my_cmap = ncl_colormap()\n",
    "titlez = ['Persistent Heatwaves','Persistent Coldwaves','Short-lived Heatwaves','Short-lived Coldwaves']\n",
    "file_namez = ['persistent_heatwaves','persistent_coldwaves','short-heatwaves','short_coldwaves']\n",
    "for i,datez in enumerate(datez_total):\n",
    "    fig,ax = plt.subplots(figsize=(16,9))\n",
    "    m = Basemap(projection='ortho', \n",
    "              lat_0=90, lon_0=0,\n",
    "#               llcrnrlon=-60, \n",
    "#               llcrnrlat=25, \n",
    "#               urcrnrlon=60, \n",
    "#               urcrnrlat=75,\n",
    "                ax=ax)\n",
    "    era_env_sub = era_env.sel(time=datez[:,0]).mean(dim='time')\n",
    "    era_env_sub_cyclic, lon_cyclic = addcyclic(era_env_sub.v.values, era_env_sub.longitude)\n",
    "    era_t850_sub = era_t850.sel(time=datez[:,0]).mean(dim='time')\n",
    "    era_t850_sub_cyclic, lon_cyclic = addcyclic(era_t850_sub.t.values, era_t850_sub.longitude)\n",
    "    lon,lat = np.meshgrid(lon_cyclic,era_env_sub.latitude)\n",
    "    im = m.contourf(lon,lat,era_env_sub_cyclic,latlon='true',cmap=my_cmap,\n",
    "                   vmin=8,vmax=40,extend='both',levels=np.arange(8,41))\n",
    "    cs = m.contour(lon,lat,era_t850_sub_cyclic,latlon='true',levels=[-10,-8,-6,-4,-2,2,4,6,8,10],\n",
    "             colors='k')\n",
    "    ax.clabel(cs,fmt='%d',colors='r',inline_spacing=.5)\n",
    "#     m.drawcountries()\n",
    "    m.drawcoastlines()\n",
    "    m.drawparallels((-80,-60,-40,-20,0,20,40,60,80))\n",
    "    m.drawmeridians([0,60,120,180,240,300],labels=[0,0,1,1])\n",
    "    cbax = fig.add_axes([0.85, 0.2, 0.025, 0.6])\n",
    "    fig.colorbar(im, cax=cbax)\n",
    "    cbax.set_ylabel(plot_dic['envelope']['label'], rotation=90)\n",
    "    fig.suptitle('GEFS RWP Envelope and 850 hPa Temp Composite Analysis for {}'.format(titlez[i]))\n",
    "    fig.subplots_adjust(right=0.84)\n",
    "    fig.savefig(path+'/composite/enn_t850{}_composite_{}'.format(latlon,file_namez[i]),dpi=200)\n",
    "\n",
    "    \n",
    "    \n"
   ]
  },
  {
   "cell_type": "markdown",
   "id": "blond-viewer",
   "metadata": {},
   "source": [
    "ERA5 composite analysis for RWP phase speed and meridional wind at 300 hPa"
   ]
  },
  {
   "cell_type": "code",
   "execution_count": 90,
   "id": "freelance-liquid",
   "metadata": {},
   "outputs": [
    {
     "name": "stderr",
     "output_type": "stream",
     "text": [
      "/home/onno/miniconda3/envs/thesis/lib/python3.8/site-packages/mpl_toolkits/basemap/__init__.py:5098: FutureWarning: Using a non-tuple sequence for multidimensional indexing is deprecated; use `arr[tuple(seq)]` instead of `arr[seq]`. In the future this will be interpreted as an array index, `arr[np.array(seq)]`, which will result either in an error or a different result.\n",
      "  return npsel.concatenate((a,a[slicer]),axis=axis)\n",
      "/home/onno/miniconda3/envs/thesis/lib/python3.8/site-packages/mpl_toolkits/basemap/__init__.py:5098: FutureWarning: Using a non-tuple sequence for multidimensional indexing is deprecated; use `arr[tuple(seq)]` instead of `arr[seq]`. In the future this will be interpreted as an array index, `arr[np.array(seq)]`, which will result either in an error or a different result.\n",
      "  return npsel.concatenate((a,a[slicer]),axis=axis)\n",
      "/home/onno/miniconda3/envs/thesis/lib/python3.8/site-packages/mpl_toolkits/basemap/__init__.py:5098: FutureWarning: Using a non-tuple sequence for multidimensional indexing is deprecated; use `arr[tuple(seq)]` instead of `arr[seq]`. In the future this will be interpreted as an array index, `arr[np.array(seq)]`, which will result either in an error or a different result.\n",
      "  return npsel.concatenate((a,a[slicer]),axis=axis)\n",
      "/home/onno/miniconda3/envs/thesis/lib/python3.8/site-packages/mpl_toolkits/basemap/__init__.py:5098: FutureWarning: Using a non-tuple sequence for multidimensional indexing is deprecated; use `arr[tuple(seq)]` instead of `arr[seq]`. In the future this will be interpreted as an array index, `arr[np.array(seq)]`, which will result either in an error or a different result.\n",
      "  return npsel.concatenate((a,a[slicer]),axis=axis)\n",
      "/home/onno/miniconda3/envs/thesis/lib/python3.8/site-packages/mpl_toolkits/basemap/__init__.py:5098: FutureWarning: Using a non-tuple sequence for multidimensional indexing is deprecated; use `arr[tuple(seq)]` instead of `arr[seq]`. In the future this will be interpreted as an array index, `arr[np.array(seq)]`, which will result either in an error or a different result.\n",
      "  return npsel.concatenate((a,a[slicer]),axis=axis)\n",
      "/home/onno/miniconda3/envs/thesis/lib/python3.8/site-packages/mpl_toolkits/basemap/__init__.py:5098: FutureWarning: Using a non-tuple sequence for multidimensional indexing is deprecated; use `arr[tuple(seq)]` instead of `arr[seq]`. In the future this will be interpreted as an array index, `arr[np.array(seq)]`, which will result either in an error or a different result.\n",
      "  return npsel.concatenate((a,a[slicer]),axis=axis)\n",
      "/home/onno/miniconda3/envs/thesis/lib/python3.8/site-packages/mpl_toolkits/basemap/__init__.py:5098: FutureWarning: Using a non-tuple sequence for multidimensional indexing is deprecated; use `arr[tuple(seq)]` instead of `arr[seq]`. In the future this will be interpreted as an array index, `arr[np.array(seq)]`, which will result either in an error or a different result.\n",
      "  return npsel.concatenate((a,a[slicer]),axis=axis)\n",
      "/home/onno/miniconda3/envs/thesis/lib/python3.8/site-packages/mpl_toolkits/basemap/__init__.py:5098: FutureWarning: Using a non-tuple sequence for multidimensional indexing is deprecated; use `arr[tuple(seq)]` instead of `arr[seq]`. In the future this will be interpreted as an array index, `arr[np.array(seq)]`, which will result either in an error or a different result.\n",
      "  return npsel.concatenate((a,a[slicer]),axis=axis)\n"
     ]
    }
   ],
   "source": [
    "my_cmap = ncl_colormap()\n",
    "titlez = ['Persistent Heatwaves','Persistent Coldwaves','Short-lived Heatwaves','Short-lived Coldwaves']\n",
    "file_namez = ['persistent_heatwaves','persistent_coldwaves','short-heatwaves','short_coldwaves']\n",
    "for i,datez in enumerate(datez_total):\n",
    "    fig,ax = plt.subplots(figsize=(16,9))\n",
    "    m = Basemap(projection='ortho', \n",
    "              lat_0=90, lon_0=0,\n",
    "#               llcrnrlon=-60, \n",
    "#               llcrnrlat=25, \n",
    "#               urcrnrlon=60, \n",
    "#               urcrnrlat=75,\n",
    "                ax=ax)\n",
    "    era_cp_sub = era_cp.sel(time=datez[:,0]).mean(dim='time')\n",
    "    era_cp_sub_cyclic, lon_cyclic = addcyclic(era_cp_sub.v.values, era_cp_sub.longitude)\n",
    "    era_v300_sub = era_v300.sel(time=datez[:,0]).mean(dim='time')\n",
    "    era_v300_sub_cyclic, lon_cyclic = addcyclic(era_v300_sub.v.values, era_v300_sub.longitude)\n",
    "    lon,lat = np.meshgrid(lon_cyclic,era_cp_sub.latitude)\n",
    "    im = m.contourf(lon,lat,era_cp_sub_cyclic,latlon='true',cmap=my_cmap,\n",
    "                   vmin=0,vmax=10,extend='both',levels=np.arange(0,10.5,.5))\n",
    "    cs = m.contour(lon,lat,era_v300_sub_cyclic,latlon='true',levels=[-20,-16,-12,-8,-4,-2,2,4,8,12,16,20],\n",
    "             colors='k')\n",
    "    ax.clabel(cs,fmt='%d',colors='r',inline_spacing=.5)\n",
    "#     m.drawcountries()\n",
    "    m.drawcoastlines()\n",
    "    m.drawparallels((-80,-60,-40,-20,0,20,40,60,80))\n",
    "    m.drawmeridians([0,60,120,180,240,300],labels=[0,0,1,1])\n",
    "    cbax = fig.add_axes([0.85, 0.2, 0.025, 0.6])\n",
    "    fig.colorbar(im, cax=cbax)\n",
    "    cbax.set_ylabel(plot_dic['phasespeed']['label'], rotation=90)\n",
    "    fig.suptitle('GEFS RWP Phase Speed and 300 hPa meridional wind Composite Analysis for {}'.format(titlez[i]))\n",
    "    fig.subplots_adjust(right=0.84)\n",
    "    fig.savefig(path+'/composite/phasespeed_v300{}_composite_{}'.format(latlon,file_namez[i]),dpi=200)\n",
    "    plt.close(fig)"
   ]
  },
  {
   "cell_type": "code",
   "execution_count": null,
   "id": "decreased-emperor",
   "metadata": {},
   "outputs": [],
   "source": []
  }
 ],
 "metadata": {
  "kernelspec": {
   "display_name": "Python 3",
   "language": "python",
   "name": "python3"
  },
  "language_info": {
   "codemirror_mode": {
    "name": "ipython",
    "version": 3
   },
   "file_extension": ".py",
   "mimetype": "text/x-python",
   "name": "python",
   "nbconvert_exporter": "python",
   "pygments_lexer": "ipython3",
   "version": "3.8.5"
  }
 },
 "nbformat": 4,
 "nbformat_minor": 5
}
