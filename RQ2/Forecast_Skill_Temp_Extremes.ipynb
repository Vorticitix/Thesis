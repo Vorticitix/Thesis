{
 "cells": [
  {
   "cell_type": "code",
   "execution_count": 1,
   "metadata": {},
   "outputs": [],
   "source": [
    "%load_ext autoreload\n",
    "%autoreload 2\n",
    "import numpy as np\n",
    "import xarray as xr\n",
    "from matplotlib import pyplot as plt\n",
    "import pandas as pd\n",
    "import sys\n",
    "sys.path.append('/home/onno/Thesis/Scripts')\n",
    "import my_tools\n",
    "from my_tools import plot_dic, file_dic\n",
    "from mpl_toolkits.basemap import Basemap, addcyclic\n",
    "%matplotlib qt\n",
    "pd.set_option('mode.chained_assignment',None)"
   ]
  },
  {
   "cell_type": "code",
   "execution_count": 2,
   "metadata": {},
   "outputs": [],
   "source": [
    "path ='/media/onno/Algemeen/Thesis/GFS_T850/'\n",
    "lat_0 = 52\n",
    "lat_1 = 46\n",
    "lon_0 = 6\n",
    "lon_1 = 12\n",
    "file_era = 'era51_fldmean_mars_t850_79-19_24hourly_lon_6_12_lat_52_46.nc'\n",
    "file_gfs = 'gefsrf2_fldmean_t850_control0-252h_24hourly_lon_6_12_lat_52_46.nc'\n",
    "file_hw_pers = 'persistent_heatwaves_lon_{}_{}_lat_{}_{}.npy'.format(lon_0,lon_1,lat_0,lat_1)\n",
    "file_hw_short = 'short_heatwaves_lon_{}_{}_lat_{}_{}.npy'.format(lon_0,lon_1,lat_0,lat_1)\n",
    "file_cw_pers = 'persistent_coldwaves_lon_{}_{}_lat_{}_{}.npy'.format(lon_0,lon_1,lat_0,lat_1)\n",
    "file_cw_short = 'short_coldwaves_lon_{}_{}_lat_{}_{}.npy'.format(lon_0,lon_1,lat_0,lat_1)\n",
    "file_independent_hw_short = 'independent_short_heatwaves_lon_{}_{}_lat_{}_{}.npy'.format(lon_0,lon_1,lat_0,lat_1)\n",
    "file_independent_cw_short = 'independent_short_coldwaves_lon_{}_{}_lat_{}_{}.npy'.format(lon_0,lon_1,lat_0,lat_1)\n"
   ]
  },
  {
   "cell_type": "code",
   "execution_count": 3,
   "metadata": {},
   "outputs": [],
   "source": [
    "era = xr.open_dataset(path+file_era).squeeze()\n",
    "era.attrs['history']=None\n",
    "gfs = xr.open_dataset(path+file_gfs,decode_times=False).squeeze()\n",
    "gfs_init_date = pd.Timestamp('1800-01-01')\n",
    "gfs['time']=[gfs_init_date+pd.Timedelta(i,'hours') for i in gfs.time.values]\n",
    "gfs.attrs['history']=None\n"
   ]
  },
  {
   "cell_type": "markdown",
   "metadata": {},
   "source": [
    "GFS Performance Persistent heatwaves"
   ]
  },
  {
   "cell_type": "code",
   "execution_count": 11,
   "metadata": {},
   "outputs": [],
   "source": [
    "datez = np.load(path+file_hw_pers)\n",
    "lead_dayz=np.arange(1,11)\n",
    "file_csv = 'persistent_heatwaves_lon_6_12_lat_52_46.csv'\n",
    "df = pd.read_csv(path+file_csv)\n",
    "for lead_day in lead_dayz:\n",
    "    forecast_errorz = pd.Series(np.full(len(datez),np.nan))\n",
    "    for i in range(len(datez)):\n",
    "        begin_date = pd.Timestamp(datez[i,0])\n",
    "        era_sub = era.sel(time=begin_date)\n",
    "        gfs_sub = gfs.sel(time=begin_date-pd.Timedelta(lead_day,'days'),lead=lead_day*24)\n",
    "        forecast_error = (gfs_sub.t-era_sub.t).values\n",
    "        forecast_errorz[i]=forecast_error\n",
    "    df.loc[:,'GFS_FE_day_{}'.format(lead_day)] = forecast_errorz\n",
    "df.to_csv(path+file_csv[:-4]+'_forecast_error.csv')"
   ]
  },
  {
   "cell_type": "markdown",
   "metadata": {},
   "source": [
    "GFS Performance short lived heatwaves"
   ]
  },
  {
   "cell_type": "code",
   "execution_count": 12,
   "metadata": {},
   "outputs": [],
   "source": [
    "datez = np.load(path+file_hw_short)\n",
    "independent = np.load(path+file_independent_hw_short)\n",
    "lead_dayz=np.arange(1,11)\n",
    "file_csv = 'short_heatwaves_lon_6_12_lat_52_46.csv'\n",
    "df = pd.read_csv(path+file_csv)\n",
    "for lead_day in lead_dayz:\n",
    "    forecast_errorz = pd.Series(np.full(len(datez),np.nan))\n",
    "    for i in range(len(datez)):\n",
    "        if datez[i,0]<pd.Timestamp('1984-12-01')+pd.Timedelta(lead_day,'days'):\n",
    "            continue\n",
    "        begin_date = pd.Timestamp(datez[i,0])\n",
    "        era_sub = era.sel(time=begin_date)\n",
    "        gfs_sub = gfs.sel(time=begin_date-pd.Timedelta(lead_day,'days'),lead=lead_day*24)\n",
    "        forecast_error = (gfs_sub.t-era_sub.t).values\n",
    "        forecast_errorz[i]=forecast_error\n",
    "    df.loc[:,'GFS_FE_day_{}'.format(lead_day)] = forecast_errorz\n",
    "df.to_csv(path+file_csv[:-4]+'_forecast_error.csv')"
   ]
  },
  {
   "cell_type": "markdown",
   "metadata": {},
   "source": [
    "GFS Performance persistent coldwaves"
   ]
  },
  {
   "cell_type": "code",
   "execution_count": 13,
   "metadata": {},
   "outputs": [],
   "source": [
    "datez = np.load(path+file_cw_pers)\n",
    "lead_dayz=np.arange(1,11)\n",
    "file_csv = 'persistent_coldwaves_lon_6_12_lat_52_46.csv'\n",
    "df = pd.read_csv(path+file_csv)\n",
    "for lead_day in lead_dayz:\n",
    "    forecast_errorz = pd.Series(np.full(len(datez),np.nan))\n",
    "    for i in range(len(datez)):\n",
    "        begin_date = pd.Timestamp(datez[i,0])\n",
    "        era_sub = era.sel(time=begin_date)\n",
    "        gfs_sub = gfs.sel(time=begin_date-pd.Timedelta(lead_day,'days'),lead=lead_day*24)\n",
    "        forecast_error = (gfs_sub.t-era_sub.t).values\n",
    "        forecast_errorz[i]=forecast_error\n",
    "    df.loc[:,'GFS_FE_day_{}'.format(lead_day)] = forecast_errorz\n",
    "df.to_csv(path+file_csv[:-4]+'_forecast_error.csv')"
   ]
  },
  {
   "cell_type": "markdown",
   "metadata": {},
   "source": [
    "GFS Performance short lived coldwaves"
   ]
  },
  {
   "cell_type": "code",
   "execution_count": 14,
   "metadata": {},
   "outputs": [],
   "source": [
    "datez = np.load(path+file_cw_short)\n",
    "independent = np.load(path+file_independent_cw_short)\n",
    "lead_dayz=np.arange(1,11)\n",
    "file_csv = 'short_coldwaves_lon_6_12_lat_52_46.csv'\n",
    "df = pd.read_csv(path+file_csv)\n",
    "for lead_day in lead_dayz:\n",
    "    forecast_errorz = pd.Series(np.full(len(datez),np.nan))\n",
    "    for i in range(len(datez)):\n",
    "        if datez[i,0]<pd.Timestamp('1984-12-01')+pd.Timedelta(lead_day,'days'):\n",
    "            continue\n",
    "        begin_date = pd.Timestamp(datez[i,0])\n",
    "        era_sub = era.sel(time=begin_date)\n",
    "        gfs_sub = gfs.sel(time=begin_date-pd.Timedelta(lead_day,'days'),lead=lead_day*24)\n",
    "        forecast_error = (gfs_sub.t-era_sub.t).values\n",
    "        forecast_errorz[i]=forecast_error\n",
    "    df.loc[:,'GFS_FE_day_{}'.format(lead_day)] = forecast_errorz\n",
    "df.to_csv(path+file_csv[:-4]+'_forecast_error.csv')"
   ]
  },
  {
   "cell_type": "code",
   "execution_count": null,
   "metadata": {},
   "outputs": [],
   "source": []
  }
 ],
 "metadata": {
  "kernelspec": {
   "display_name": "Python 3",
   "language": "python",
   "name": "python3"
  },
  "language_info": {
   "codemirror_mode": {
    "name": "ipython",
    "version": 3
   },
   "file_extension": ".py",
   "mimetype": "text/x-python",
   "name": "python",
   "nbconvert_exporter": "python",
   "pygments_lexer": "ipython3",
   "version": "3.7.9"
  }
 },
 "nbformat": 4,
 "nbformat_minor": 4
}
