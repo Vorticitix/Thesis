{
 "cells": [
  {
   "cell_type": "code",
   "execution_count": 1,
   "metadata": {},
   "outputs": [],
   "source": [
    "%load_ext autoreload\n",
    "%autoreload 2\n",
    "import numpy as np\n",
    "import xarray as xr\n",
    "from matplotlib import pyplot as plt\n",
    "import pandas as pd\n",
    "import sys\n",
    "sys.path.append('/home/onno/Thesis/Scripts')\n",
    "import my_tools\n",
    "from my_tools import plot_dic, file_dic\n",
    "from mpl_toolkits.basemap import Basemap, addcyclic\n",
    "%matplotlib qt\n",
    "pd.set_option('mode.chained_assignment',None)"
   ]
  },
  {
   "cell_type": "code",
   "execution_count": 2,
   "metadata": {},
   "outputs": [],
   "source": [
    "path ='/home/onno/Thesis/GFS_T850/'\n",
    "lat_0 = 52\n",
    "lat_1 = 46\n",
    "lon_0 = 6\n",
    "lon_1 = 12\n",
    "file_pers_hw = 'persistent_heatwaves_lon_{}_{}_lat_{}_{}_forecast_error.csv'.format(lon_0,lon_1,lat_0,lat_1)\n",
    "file_pers_cw = 'persistent_coldwaves_lon_{}_{}_lat_{}_{}_forecast_error.csv'.format(lon_0,lon_1,lat_0,lat_1)\n",
    "file_short_hw = 'short_heatwaves_lon_{}_{}_lat_{}_{}_forecast_error.csv'.format(lon_0,lon_1,lat_0,lat_1)\n",
    "file_short_cw = 'short_coldwaves_lon_{}_{}_lat_{}_{}_forecast_error.csv'.format(lon_0,lon_1,lat_0,lat_1)"
   ]
  },
  {
   "cell_type": "code",
   "execution_count": 58,
   "metadata": {},
   "outputs": [],
   "source": [
    "pers_hw = pd.read_csv(path+file_pers_hw)\n",
    "pers_cw = pd.read_csv(path+file_pers_cw)\n",
    "short_hw = pd.read_csv(path+file_short_hw)\n",
    "short_cw = pd.read_csv(path+file_short_cw)"
   ]
  },
  {
   "cell_type": "code",
   "execution_count": 59,
   "metadata": {},
   "outputs": [],
   "source": [
    "seasons = {'MAM':[3,4,5],\n",
    "          'JJA':[6,7,8],\n",
    "          'SON':[9,10,11],\n",
    "          'DJF':[12,1,2]}"
   ]
  },
  {
   "cell_type": "markdown",
   "metadata": {},
   "source": [
    "Annual forecast errors"
   ]
  },
  {
   "cell_type": "code",
   "execution_count": 57,
   "metadata": {},
   "outputs": [],
   "source": [
    "columns = ['day3','day5','day7','day10']\n",
    "index = ['pers_hw','short_hw','pers_cw','short_cw',\n",
    "         'short_hw_independent','short_cw_independent']\n",
    "lead_dayz = ['GFS_FE_day_3','GFS_FE_day_5','GFS_FE_day_7','GFS_FE_day_10']\n",
    "df = pd.DataFrame(columns=columns,index=index)\n",
    "pers_hw_mean_error = pers_hw[lead_dayz].mean().values\n",
    "pers_cw_mean_error = pers_cw[lead_dayz].mean().values\n",
    "short_hw_mean_error = short_hw[lead_dayz].mean().values\n",
    "short_cw_mean_error = short_cw[lead_dayz].mean().values\n",
    "short_hw_independent_mean_error = short_hw[lead_dayz].loc[short_hw['independent'],:].mean().values\n",
    "short_cw_independent_mean_error = short_cw[lead_dayz].loc[short_cw['independent'],:].mean().values\n",
    "\n",
    "df.loc['pers_hw']=pers_hw_mean_error\n",
    "df.loc['short_hw']=short_hw_mean_error\n",
    "df.loc['pers_cw']=pers_cw_mean_error\n",
    "df.loc['short_cw']=short_cw_mean_error\n",
    "df.loc['short_hw_independent']=short_hw_independent_mean_error\n",
    "df.loc['short_cw_independent']=short_cw_independent_mean_error"
   ]
  },
  {
   "cell_type": "markdown",
   "metadata": {},
   "source": [
    "DJF"
   ]
  },
  {
   "cell_type": "code",
   "execution_count": null,
   "metadata": {},
   "outputs": [],
   "source": [
    "df = pd.DataFrame(columns=columns,index=index)\n",
    "\n"
   ]
  },
  {
   "cell_type": "markdown",
   "metadata": {},
   "source": [
    "MAM"
   ]
  },
  {
   "cell_type": "code",
   "execution_count": null,
   "metadata": {},
   "outputs": [],
   "source": []
  },
  {
   "cell_type": "markdown",
   "metadata": {},
   "source": [
    "JJA"
   ]
  },
  {
   "cell_type": "code",
   "execution_count": null,
   "metadata": {},
   "outputs": [],
   "source": []
  },
  {
   "cell_type": "markdown",
   "metadata": {},
   "source": [
    "SON"
   ]
  },
  {
   "cell_type": "code",
   "execution_count": null,
   "metadata": {},
   "outputs": [],
   "source": []
  }
 ],
 "metadata": {
  "kernelspec": {
   "display_name": "Python 3",
   "language": "python",
   "name": "python3"
  },
  "language_info": {
   "codemirror_mode": {
    "name": "ipython",
    "version": 3
   },
   "file_extension": ".py",
   "mimetype": "text/x-python",
   "name": "python",
   "nbconvert_exporter": "python",
   "pygments_lexer": "ipython3",
   "version": "3.8.5"
  }
 },
 "nbformat": 4,
 "nbformat_minor": 4
}
