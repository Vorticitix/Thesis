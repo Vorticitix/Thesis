{
 "cells": [
  {
   "cell_type": "code",
   "execution_count": 1,
   "metadata": {},
   "outputs": [],
   "source": [
    "%load_ext autoreload\n",
    "%autoreload 2\n",
    "import numpy as np\n",
    "import xarray as xr\n",
    "from matplotlib import pyplot as plt\n",
    "import pandas as pd\n",
    "import sys\n",
    "sys.path.append('/home/onno/Thesis/Scripts')\n",
    "import my_tools\n",
    "from my_tools import plot_dic, file_dic\n",
    "%matplotlib qt\n",
    "import matplotlib.dates as mdates\n",
    "from glob import glob"
   ]
  },
  {
   "cell_type": "code",
   "execution_count": 2,
   "metadata": {},
   "outputs": [],
   "source": [
    "path = '/media/onno/Volume/GFS_T850/'"
   ]
  },
  {
   "cell_type": "code",
   "execution_count": 3,
   "metadata": {},
   "outputs": [],
   "source": [
    "coordinatez = [\n",
    "(62,54,0,8),#Germany\n",
    "(54,46,0,8), #Spain\n",
    "(46,38,0,8), #Ukraine\n",
    "(62,54,8,16),#Germany\n",
    "(54,46,8,16), #Spain\n",
    "(46,38,8,16), #Ukraine\n",
    "(62,54,16,24),#Germany\n",
    "(54,46,16,24), #Spain\n",
    "(46,38,16,24)] #Ukraine\n",
    "\n"
   ]
  },
  {
   "cell_type": "markdown",
   "metadata": {},
   "source": [
    "Combine all anomalies for all events into one csv dataframe"
   ]
  },
  {
   "cell_type": "code",
   "execution_count": 132,
   "metadata": {},
   "outputs": [],
   "source": [
    "\n",
    "datez_pw = 'pw_lon_{}_{}_lat_{}_{}.npy'\n",
    "datez_cw = 'cw_lon_{}_{}_lat_{}_{}.npy'\n",
    "datez_average = 'avg_p40_p60_lon_{}_{}_lat_{}_{}.npy'\n",
    "datez_all = [datez_average]\n",
    "extremez = ['average']\n",
    "fcst_modelz = ['ERA5RF']\n",
    "for fcst_model in fcst_modelz:\n",
    "    for lat_1,lat_0,lon_0,lon_1 in coordinatez:\n",
    "        for i,extreme in enumerate(extremez):\n",
    "            datez = datez_all[i].format(lon_0,lon_1,lat_1,lat_0)\n",
    "            datez = np.load(path+'/dates/'+datez,allow_pickle=True)\n",
    "            rean_anomz = []\n",
    "            fcst_anomz = []\n",
    "            for date in datez[:,0]:\n",
    "                date = pd.Timestamp(date)\n",
    "                rean_file = '/anom_files/rean_lon_{}_{}_lat_{}_{}_{}_{:02d}_{:02d}_{}.nc'.format(lon_0,lon_1,lat_1,lat_0,\n",
    "                                                                            date.year,date.month,date.day,\n",
    "                                                                            extreme)\n",
    "                fcst_file = '/anom_files/fcst_lon_{}_{}_lat_{}_{}_{}_{:02d}_{:02d}_{}.nc'.format(lon_0,lon_1,lat_1,lat_0,\n",
    "                                                                            date.year,date.month,date.day,\n",
    "                                                                            extreme)\n",
    "                try:\n",
    "                    rean_sub = xr.open_dataset(path+rean_file)\n",
    "                    fcst_sub = xr.open_dataset(path+fcst_file)\n",
    "                    rean_anomz.append(list(rean_sub.t.values))\n",
    "                    fcst_anomz.append(list(fcst_sub.t.values))\n",
    "                except FileNotFoundError:\n",
    "                    rean_anomz.append(list(np.full(10,np.nan)))\n",
    "                    fcst_anomz.append(list(np.full(10,np.nan)))                    \n",
    "\n",
    "            df_rean = pd.DataFrame(data=rean_anomz,index=datez[:,0],columns=np.arange(1,11))\n",
    "            df_fcst = pd.DataFrame(data=fcst_anomz,index=datez[:,0],columns=np.arange(1,11))\n",
    "            df_rean.to_csv(path+'/anom_files/rean_lon_{}_{}_lat_{}_{}_anoms_{}.csv'.format(lon_0,lon_1,lat_1,lat_0,extreme))\n",
    "            df_fcst.to_csv(path+'/anom_files/fcst_lon_{}_{}_lat_{}_{}_anoms_{}.csv'.format(lon_0,lon_1,lat_1,lat_0,extreme))\n"
   ]
  },
  {
   "cell_type": "markdown",
   "metadata": {},
   "source": [
    "Plot persistent warm extremes"
   ]
  },
  {
   "cell_type": "code",
   "execution_count": 8,
   "metadata": {},
   "outputs": [],
   "source": [
    "for lat_1,lat_0,lon_0,lon_1 in coordinatez:\n",
    "    fig,ax = plt.subplots(figsize=(12,9))\n",
    "    df_rean = pd.read_csv(path+'/anom_files/rean_lon_{}_{}_lat_{}_{}_anoms_pw.csv'.format(lon_0,lon_1,lat_1,lat_0),index_col=0)\n",
    "    df_fcst = pd.read_csv(path+'/anom_files/fcst_lon_{}_{}_lat_{}_{}_anoms_pw.csv'.format(lon_0,lon_1,lat_1,lat_0),index_col=0)\n",
    "    df_rean_median = df_rean.median(axis=0)\n",
    "    df_fcst_median = df_fcst.median(axis=0)\n",
    "    df_rean_q = df_rean.quantile([0.1,0.25,0.75,0.9])\n",
    "    df_fcst_q = df_fcst.quantile([0.1,0.25,0.75,0.9])\n",
    "    ax.plot(np.arange(1,11),df_rean_median,label='Reanalysis')\n",
    "    ax.plot(np.arange(1,11),df_fcst_median,label='Forecast')\n",
    "\n",
    "    ax.fill_between(np.arange(1,11),df_rean_q.loc[0.75],df_rean_median,color='#1f77b4',alpha=.3)\n",
    "    ax.fill_between(np.arange(1,11),df_rean_q.loc[0.25],df_rean_median,color='#1f77b4',alpha=.3)\n",
    "    ax.plot(np.arange(1,11),df_rean_q.loc[0.9],color='#1f77b4',alpha=.5,linestyle='--')\n",
    "    ax.plot(np.arange(1,11),df_rean_q.loc[0.1],color='#1f77b4',alpha=.5,linestyle='--')\n",
    "    \n",
    "    ax.fill_between(np.arange(1,11),df_fcst_q.loc[0.75],df_fcst_median,color='#ff7f0e',alpha=.3)\n",
    "    ax.fill_between(np.arange(1,11),df_fcst_q.loc[0.25],df_fcst_median,color='#ff7f0e',alpha=.3)\n",
    "    ax.plot(np.arange(1,11),df_fcst_q.loc[0.9],color='#ff7f0e',alpha=.5,linestyle='--')\n",
    "    ax.plot(np.arange(1,11),df_fcst_q.loc[0.1],color='#ff7f0e',alpha=.5,linestyle='--')\n",
    "    ax.legend()\n",
    "    ax.set_xticks(np.arange(0,11))\n",
    "    ax.margins(x=0)\n",
    "    ax.grid()\n",
    "    ax.set_xlabel('Lead Day')\n",
    "    ax.set_ylabel('Anomaly from 90th percentile climatology [°C]')\n",
    "    ax.set_ylim([-10,6])\n",
    "    ax.axhline(y=0,color='k')\n",
    "    ax.axvline(x=5,color='k')\n",
    "    fig.suptitle('Persitent Warm Extremes Temeprature Anomalies in Forecast and Reanalysis {}-{} °N {}-{} °E'.format(lat_0,lat_1,lon_0,lon_1))\n",
    "    fig.savefig(path+'/anom_files/pw_lon_{}_{}_lat_{}_{}.png'.format(lon_0,lon_1,lat_1,lat_0))\n",
    "    plt.close(fig)"
   ]
  },
  {
   "cell_type": "markdown",
   "metadata": {},
   "source": [
    "Plot persistent cold extremes"
   ]
  },
  {
   "cell_type": "code",
   "execution_count": 9,
   "metadata": {},
   "outputs": [],
   "source": [
    "for lat_1,lat_0,lon_0,lon_1 in coordinatez:\n",
    "    fig,ax = plt.subplots(figsize=(12,9))\n",
    "    df_rean = pd.read_csv(path+'/anom_files/rean_lon_{}_{}_lat_{}_{}_anoms_cw.csv'.format(lon_0,lon_1,lat_1,lat_0),index_col=0)\n",
    "    df_fcst = pd.read_csv(path+'/anom_files/fcst_lon_{}_{}_lat_{}_{}_anoms_cw.csv'.format(lon_0,lon_1,lat_1,lat_0),index_col=0)\n",
    "    df_rean_median = df_rean.median(axis=0)\n",
    "    df_fcst_median = df_fcst.median(axis=0)\n",
    "    df_rean_q = df_rean.quantile([0.1,0.25,0.75,0.9])\n",
    "    df_fcst_q = df_fcst.quantile([0.1,0.25,0.75,0.9])\n",
    "    ax.plot(np.arange(1,11),df_rean_median,label='Reanalysis')\n",
    "    ax.plot(np.arange(1,11),df_fcst_median,label='Forecast')\n",
    "\n",
    "    ax.fill_between(np.arange(1,11),df_rean_q.loc[0.75],df_rean_median,color='#1f77b4',alpha=.3)\n",
    "    ax.fill_between(np.arange(1,11),df_rean_q.loc[0.25],df_rean_median,color='#1f77b4',alpha=.3)\n",
    "    ax.plot(np.arange(1,11),df_rean_q.loc[0.9],color='#1f77b4',alpha=.5,linestyle='--')\n",
    "    ax.plot(np.arange(1,11),df_rean_q.loc[0.1],color='#1f77b4',alpha=.5,linestyle='--')\n",
    "    \n",
    "    ax.fill_between(np.arange(1,11),df_fcst_q.loc[0.75],df_fcst_median,color='#ff7f0e',alpha=.3)\n",
    "    ax.fill_between(np.arange(1,11),df_fcst_q.loc[0.25],df_fcst_median,color='#ff7f0e',alpha=.3)\n",
    "    ax.plot(np.arange(1,11),df_fcst_q.loc[0.9],color='#ff7f0e',alpha=.5,linestyle='--')\n",
    "    ax.plot(np.arange(1,11),df_fcst_q.loc[0.1],color='#ff7f0e',alpha=.5,linestyle='--')\n",
    "    ax.legend()\n",
    "    ax.set_xticks(np.arange(0,11))\n",
    "    ax.margins(x=0)\n",
    "    ax.grid()\n",
    "    ax.set_xlabel('Lead Day')\n",
    "    ax.set_ylabel('Anomaly from 10th percentile climatology [°C]')\n",
    "    ax.set_ylim([-6,10])\n",
    "    ax.axhline(y=0,color='k')\n",
    "    ax.axvline(x=5,color='k')\n",
    "    fig.suptitle('Persitent Cold Extremes Temeprature Anomalies in Forecast and Reanalysis {}-{} °N {}-{} °E'.format(lat_0,lat_1,lon_0,lon_1))\n",
    "    fig.savefig(path+'/anom_files/cw_lon_{}_{}_lat_{}_{}.png'.format(lon_0,lon_1,lat_1,lat_0))\n",
    "    plt.close(fig)"
   ]
  },
  {
   "cell_type": "markdown",
   "metadata": {},
   "source": [
    "Plot persistent average weather"
   ]
  },
  {
   "cell_type": "code",
   "execution_count": 10,
   "metadata": {},
   "outputs": [],
   "source": [
    "for lat_1,lat_0,lon_0,lon_1 in coordinatez:\n",
    "    fig,ax = plt.subplots(figsize=(12,9))\n",
    "    df_rean = pd.read_csv(path+'/anom_files/rean_lon_{}_{}_lat_{}_{}_anoms_average.csv'.format(lon_0,lon_1,lat_1,lat_0),index_col=0)\n",
    "    df_fcst = pd.read_csv(path+'/anom_files/fcst_lon_{}_{}_lat_{}_{}_anoms_average.csv'.format(lon_0,lon_1,lat_1,lat_0),index_col=0)\n",
    "    df_rean_median = df_rean.median(axis=0)\n",
    "    df_fcst_median = df_fcst.median(axis=0)\n",
    "    df_rean_q = df_rean.quantile([0.1,0.25,0.75,0.9])\n",
    "    df_fcst_q = df_fcst.quantile([0.1,0.25,0.75,0.9])\n",
    "    ax.plot(np.arange(1,11),df_rean_median,label='Reanalysis')\n",
    "    ax.plot(np.arange(1,11),df_fcst_median,label='Forecast')\n",
    "\n",
    "    ax.fill_between(np.arange(1,11),df_rean_q.loc[0.75],df_rean_median,color='#1f77b4',alpha=.3)\n",
    "    ax.fill_between(np.arange(1,11),df_rean_q.loc[0.25],df_rean_median,color='#1f77b4',alpha=.3)\n",
    "    ax.plot(np.arange(1,11),df_rean_q.loc[0.9],color='#1f77b4',alpha=.5,linestyle='--')\n",
    "    ax.plot(np.arange(1,11),df_rean_q.loc[0.1],color='#1f77b4',alpha=.5,linestyle='--')\n",
    "    \n",
    "    ax.fill_between(np.arange(1,11),df_fcst_q.loc[0.75],df_fcst_median,color='#ff7f0e',alpha=.3)\n",
    "    ax.fill_between(np.arange(1,11),df_fcst_q.loc[0.25],df_fcst_median,color='#ff7f0e',alpha=.3)\n",
    "    ax.plot(np.arange(1,11),df_fcst_q.loc[0.9],color='#ff7f0e',alpha=.5,linestyle='--')\n",
    "    ax.plot(np.arange(1,11),df_fcst_q.loc[0.1],color='#ff7f0e',alpha=.5,linestyle='--')\n",
    "    ax.legend()\n",
    "    ax.set_xticks(np.arange(0,11))\n",
    "    ax.margins(x=0)\n",
    "    ax.grid()\n",
    "    ax.set_xlabel('Lead Day')\n",
    "    ax.set_ylabel('Anomaly from 50th percentile climatology [°C]')\n",
    "    ax.set_ylim([-8,8])\n",
    "    ax.axhline(y=0,color='k')\n",
    "    ax.axvline(x=5,color='k')\n",
    "    fig.suptitle('Peristent Average Temperature Anomalies in Forecast and Reanalysis {}-{} °N {}-{} °E'.format(lat_0,lat_1,lon_0,lon_1))\n",
    "    fig.savefig(path+'/anom_files/average_lon_{}_{}_lat_{}_{}.png'.format(lon_0,lon_1,lat_1,lat_0))\n",
    "    plt.close(fig)"
   ]
  },
  {
   "cell_type": "code",
   "execution_count": null,
   "metadata": {},
   "outputs": [],
   "source": []
  }
 ],
 "metadata": {
  "kernelspec": {
   "display_name": "Python 3",
   "language": "python",
   "name": "python3"
  },
  "language_info": {
   "codemirror_mode": {
    "name": "ipython",
    "version": 3
   },
   "file_extension": ".py",
   "mimetype": "text/x-python",
   "name": "python",
   "nbconvert_exporter": "python",
   "pygments_lexer": "ipython3",
   "version": "3.8.5"
  }
 },
 "nbformat": 4,
 "nbformat_minor": 4
}
