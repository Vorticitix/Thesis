{
 "cells": [
  {
   "cell_type": "code",
   "execution_count": 1,
   "id": "controlling-snowboard",
   "metadata": {},
   "outputs": [],
   "source": [
    "from matplotlib import pyplot as plt\n",
    "from mpl_toolkits.basemap import Basemap\n",
    "from matplotlib.patches import Polygon\n",
    "import numpy as np\n",
    "%matplotlib qt"
   ]
  },
  {
   "cell_type": "code",
   "execution_count": 2,
   "id": "biological-leather",
   "metadata": {},
   "outputs": [],
   "source": [
    "def draw_screen_poly( lats, lons, m):\n",
    "    x, y = m( lons, lats )\n",
    "    xy = zip(x,y)\n",
    "    poly = Polygon( list(xy), facecolor='red', alpha=0.4 )\n",
    "    plt.gca().add_patch(poly)\n",
    "    \n",
    "lats_total = [[46,54,54,46],\n",
    "       [36,44,44,36],\n",
    "       [46,54,54,46],\n",
    "       [50,58,58,50],\n",
    "       [34,42,42,34],\n",
    "       [60,68,68,60],\n",
    "       [58,66,66,58],\n",
    "       [52,60,60,52]]\n",
    "lons_total = [[6,6,14,14],\n",
    "       [-8,-8,0,0],\n",
    "       [26,26,34,34],\n",
    "       [-8,-8,0,0],\n",
    "       [28,28,36,36],\n",
    "       [22,22,30,30],\n",
    "       [6,6,14,14],\n",
    "       [46,46,54,54]]"
   ]
  },
  {
   "cell_type": "code",
   "execution_count": 6,
   "id": "interracial-shore",
   "metadata": {},
   "outputs": [],
   "source": [
    "m = Basemap(llcrnrlon=-20,llcrnrlat=30,urcrnrlon=60.,urcrnrlat=70,\n",
    "             resolution='i', projection='merc', lat_0 = 50, lon_0 = 30)\n",
    "\n",
    "m.drawmapboundary(fill_color='aqua')\n",
    "m.fillcontinents(color='w',lake_color='aqua')\n",
    "m.drawcoastlines()\n",
    "m.drawcountries()\n",
    "for i in np.arange(len(lats_total)):\n",
    "    draw_screen_poly( lats_total[i], lons_total[i], m )\n",
    "\n",
    "\n",
    "\n"
   ]
  },
  {
   "cell_type": "code",
   "execution_count": null,
   "id": "concrete-poker",
   "metadata": {},
   "outputs": [],
   "source": []
  }
 ],
 "metadata": {
  "kernelspec": {
   "display_name": "Python 3",
   "language": "python",
   "name": "python3"
  },
  "language_info": {
   "codemirror_mode": {
    "name": "ipython",
    "version": 3
   },
   "file_extension": ".py",
   "mimetype": "text/x-python",
   "name": "python",
   "nbconvert_exporter": "python",
   "pygments_lexer": "ipython3",
   "version": "3.7.9"
  }
 },
 "nbformat": 4,
 "nbformat_minor": 5
}
