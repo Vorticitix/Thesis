{
 "cells": [
  {
   "cell_type": "code",
   "execution_count": 1,
   "id": "lovely-doubt",
   "metadata": {},
   "outputs": [],
   "source": [
    "%load_ext autoreload\n",
    "%autoreload 2\n",
    "import numpy as np\n",
    "import xarray as xr\n",
    "from matplotlib import pyplot as plt\n",
    "import pandas as pd\n",
    "import sys\n",
    "sys.path.append('/home/onno/Thesis/Scripts')\n",
    "import my_tools\n",
    "from my_tools import plot_dic, file_dic\n",
    "%matplotlib qt\n",
    "import matplotlib.dates as mdates"
   ]
  },
  {
   "cell_type": "code",
   "execution_count": 2,
   "id": "transparent-jacob",
   "metadata": {},
   "outputs": [],
   "source": [
    "path = '/media/onno/Algemeen/Thesis/GFS_T850/'"
   ]
  },
  {
   "cell_type": "code",
   "execution_count": 3,
   "id": "sapphire-darkness",
   "metadata": {},
   "outputs": [
    {
     "ename": "SystemExit",
     "evalue": "",
     "output_type": "error",
     "traceback": [
      "An exception has occurred, use %tb to see the full traceback.\n",
      "\u001b[0;31mSystemExit\u001b[0m\n"
     ]
    },
    {
     "name": "stderr",
     "output_type": "stream",
     "text": [
      "/home/onno/miniconda3/envs/thesis/lib/python3.7/site-packages/IPython/core/interactiveshell.py:3426: UserWarning: To exit: use 'exit', 'quit', or Ctrl-D.\n",
      "  warn(\"To exit: use 'exit', 'quit', or Ctrl-D.\", stacklevel=1)\n"
     ]
    }
   ],
   "source": [
    "coordinatez = [\n",
    "(54,46,6,14),#Germany\n",
    "(44,36,352,360), #Spain\n",
    "(54,46,26,34), #Ukraine\n",
    "(58,50,352,360), #UK\n",
    "(42,34,28,36), #Turkey\n",
    "(68,60,22,30), #Finland\n",
    "(66,58,6,14), #Norway/Sweden\n",
    "(60,52,46,54)] #Russia Samara/Kazan region\n",
    "\n",
    "\n",
    "for lat_0,lat_1,lon_0,lon_1 in coordinatez:\n",
    "    df_MAE_ERA5RF = pd.read_csv(path+'/MAE/Mean_Absolute_Error_lead_day_5_lon_{}_{}_lat_{}_{}_ERA5RF.csv'.format(lon_0,lon_1,lat_0,lat_1),\n",
    "                                index_col=0)\n",
    "    df_MAE_GFS = pd.read_csv(path+'/MAE/Mean_Absolute_Error_lead_day_5_lon_{}_{}_lat_{}_{}_GFS.csv'.format(lon_0,lon_1,lat_0,lat_1),\n",
    "                             index_col=0)\n",
    "    df_GSS_ERA5RF = pd.read_csv(path+'/GSS/Gilbert_Skill_Score_lead_day_5_lon_{}_{}_lat_{}_{}_ERA5RF.csv'.format(lon_0,lon_1,lat_0,lat_1),\n",
    "                                index_col=0)\n",
    "    df_GSS_GFS = pd.read_csv(path+'/GSS/Gilbert_Skill_Score_lead_day_5_lon_{}_{}_lat_{}_{}_GFS.csv'.format(lon_0,lon_1,lat_0,lat_1),\n",
    "                             index_col=0)\n",
    "\n",
    "\n",
    "    columnz = ['persistent_hw','persistent_cw']\n",
    "    column_namez =['Persistent Heatwave','Persistent Coldwave']\n",
    "    fig,axz = plt.subplots(2,2,figsize=(16,9),sharey=True)\n",
    "    for i in np.arange(len(columnz)):\n",
    "        GSS_GFS = df_GSS_GFS[columnz[i]].values\n",
    "        GSS_ERA5RF = df_GSS_ERA5RF[columnz[i]].values\n",
    "        MAE_GFS = df_MAE_GFS[columnz[i]].values\n",
    "        MAE_ERA5RF = df_MAE_ERA5RF[columnz[i]].values\n",
    "        ax1 = axz[i,0]\n",
    "        ax2 = axz[i,1]\n",
    "        ax1.scatter(GSS_GFS,MAE_GFS)\n",
    "        ax1.set_title('{} GEFS'.format(column_namez[i]))\n",
    "        ax2.scatter(GSS_ERA5RF,MAE_ERA5RF)\n",
    "        ax2.set_title('{} ERA5RF'.format(column_namez[i]))\n",
    "    fig.tight_layout()    \n",
    "    fig.suptitle('{} {} {} {}'.format(lat_0,lat_1,lon_0,lon_1))\n",
    "    columnz = ['short_hw','short_cw']\n",
    "    column_namez =['Short-Lived Heatwave','Short-Lived Coldwave']\n",
    "    fig,axz = plt.subplots(2,2,figsize=(16,9),sharey=True)\n",
    "    for i in np.arange(len(columnz)):\n",
    "        GSS_GFS = df_GSS_GFS[columnz[i]].values\n",
    "        GSS_ERA5RF = df_GSS_ERA5RF[columnz[i]].values\n",
    "        MAE_GFS = df_MAE_GFS[columnz[i]].values\n",
    "        MAE_ERA5RF = df_MAE_ERA5RF[columnz[i]].values\n",
    "        ax1 = axz[i,0]\n",
    "        ax2 = axz[i,1]\n",
    "        ax1.scatter(GSS_GFS,MAE_GFS)\n",
    "        ax1.set_title('{} GEFS'.format(column_namez[i]))\n",
    "        ax2.scatter(GSS_ERA5RF,MAE_ERA5RF)\n",
    "        ax2.set_title('{} ERA5RF'.format(column_namez[i]))\n",
    "    fig.tight_layout()    \n",
    "    fig.suptitle('{} {} {} {}'.format(lat_0,lat_1,lon_0,lon_1))\n",
    "    sys.exit()"
   ]
  },
  {
   "cell_type": "code",
   "execution_count": null,
   "id": "yellow-sculpture",
   "metadata": {},
   "outputs": [],
   "source": []
  }
 ],
 "metadata": {
  "kernelspec": {
   "display_name": "Python 3",
   "language": "python",
   "name": "python3"
  },
  "language_info": {
   "codemirror_mode": {
    "name": "ipython",
    "version": 3
   },
   "file_extension": ".py",
   "mimetype": "text/x-python",
   "name": "python",
   "nbconvert_exporter": "python",
   "pygments_lexer": "ipython3",
   "version": "3.7.9"
  }
 },
 "nbformat": 4,
 "nbformat_minor": 5
}
