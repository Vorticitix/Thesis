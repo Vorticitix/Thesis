{
 "cells": [
  {
   "cell_type": "code",
   "execution_count": 18,
   "id": "national-wallace",
   "metadata": {},
   "outputs": [
    {
     "name": "stdout",
     "output_type": "stream",
     "text": [
      "The autoreload extension is already loaded. To reload it, use:\n",
      "  %reload_ext autoreload\n"
     ]
    }
   ],
   "source": [
    "%load_ext autoreload\n",
    "%autoreload 2\n",
    "import xarray as xr\n",
    "import numpy as np\n",
    "from matplotlib import pyplot as plt\n",
    "import pandas as pd\n",
    "import sys\n",
    "sys.path.append('/home/onno/Thesis/Scripts')\n",
    "import my_tools\n",
    "from my_tools import file_dic, plot_dic\n",
    "from cmap import ncl_colormap\n",
    "from mpl_toolkits.basemap import Basemap\n",
    "from scipy import stats\n",
    "%matplotlib qt"
   ]
  },
  {
   "cell_type": "code",
   "execution_count": 2,
   "id": "tender-shadow",
   "metadata": {},
   "outputs": [],
   "source": [
    "#set path for \n",
    "path = '/media/onno/Algemeen/Thesis/fcst_RWP_properties/'"
   ]
  },
  {
   "cell_type": "markdown",
   "id": "brave-nightmare",
   "metadata": {},
   "source": [
    "Plot Histograms of standardized RWP forecast errors"
   ]
  },
  {
   "cell_type": "code",
   "execution_count": 32,
   "id": "cross-rough",
   "metadata": {},
   "outputs": [],
   "source": [
    "eventz = ['persistent_hw','persistent_cw','short_hw','short_cw']\n",
    "event_titlez = ['Persistent Warm Extreme','Persistent Cold Extreme',\n",
    "               'Short-Lived Warm Extreme','Short-Lived Cold Extreme']\n",
    "rankz = ['good','bad']\n",
    "seasonz = ['DJF','JJA']\n",
    "coordinatez = [\n",
    "(54,46,6,14),#Germany\n",
    "(44,36,352,360), #Spain\n",
    "(54,46,26,34), #Ukraine\n",
    "(58,50,352,360), #UK\n",
    "(42,34,28,36), #Turkey\n",
    "(68,60,22,30), #Finland\n",
    "(66,58,6,14), #Norway/Sweden\n",
    "(60,52,46,54)]\n",
    "file = '{}_forecasts_errors_standardized_{}_lon_{}_{}_lat_{}_{}_{}_GFS_lead_day_{}.txt'\n",
    "lead_dayz = [3,5]\n",
    "for lead_day in lead_dayz:\n",
    "    for i,event in enumerate(eventz):\n",
    "        for season in seasonz:\n",
    "            env_error_good = np.array([])\n",
    "            env_error_bad = np.array([])\n",
    "            cp_error_good = np.array([])\n",
    "            cp_error_bad = np.array([])\n",
    "            for lat_0,lat_1,lon_0,lon_1 in coordinatez:\n",
    "                df_good = pd.read_csv(path+file.format('good',event,\n",
    "                                                      lon_0,lon_1,lat_0,lat_1,\n",
    "                                                      season,lead_day),index_col=0)\n",
    "                df_bad = pd.read_csv(path+file.format('bad',event,\n",
    "                                          lon_0,lon_1,lat_0,lat_1,\n",
    "                                          season,lead_day),index_col=0)\n",
    "                env_error_good = np.concatenate((env_error_good,df_good['envelope'].values))\n",
    "                env_error_bad = np.concatenate((env_error_bad,df_bad['envelope'].values))\n",
    "                cp_error_good = np.concatenate((cp_error_good,df_good['phasespeed'].values))\n",
    "                cp_error_bad = np.concatenate((cp_error_bad,df_bad['phasespeed'].values))\n",
    "\n",
    "            p_env = stats.ttest_ind(env_error_good,env_error_bad)[1]\n",
    "            p_cp = stats.ttest_ind(cp_error_good,cp_error_bad,nan_policy='omit')[1]\n",
    "            fig,axz = plt.subplots(1,2,figsize=(16,9))\n",
    "            bins = np.linspace(-4,4,19)\n",
    "            ax1 = axz.flat[0]\n",
    "            ax1.hist([env_error_good,env_error_bad],bins,label=['good','bad'],density=True)\n",
    "            ax1.set_title('Envelope')\n",
    "            ax1.set_xticks(np.linspace(-4,4,9))\n",
    "            ax1.set_xlabel('Forecast Error E (m/s)')\n",
    "            ax1.text(0.01,0.99,'$μ_{{good}}$ = {:.2f} \\n$μ_{{bad}}$ = {:.2f} \\n$σ_{{good}}$ = {:.2f} \\n$σ_{{bad}}$ = {:.2f} \\n$p$ = {:.3f}'\\\n",
    "                    .format(np.mean(env_error_good),np.mean(env_error_bad),np.std(env_error_good),np.std(env_error_bad),p_env),\n",
    "                    transform = ax1.transAxes,verticalalignment='top',horizontalalignment='left')\n",
    "            ax2 = axz.flat[1]\n",
    "            ax2.hist([cp_error_good,cp_error_bad],bins,label=['Good','Bad'],density=True)\n",
    "            ax2.set_title('Phasespeed')\n",
    "            ax2.set_xticks(np.linspace(-4,4,9))\n",
    "            ax2.set_xlabel('Forecast Error Cp (m/s)')\n",
    "            ax2.text(0.01,0.99,'$μ_{{good}}$ = {:.2f} \\n$μ_{{bad}}$ = {:.2f} \\n$σ_{{good}}$ = {:.2f} \\n$σ_{{bad}}$ = {:.2f} \\n$p$ = {:.3f}'\\\n",
    "            .format(np.nanmean(cp_error_good),np.nanmean(cp_error_bad),np.nanstd(cp_error_good),np.nanstd(cp_error_bad),p_cp),\n",
    "            transform = ax2.transAxes,verticalalignment='top',horizontalalignment='left')\n",
    "            ax2.legend()\n",
    "            fig.suptitle('Standardized Forecast Error {} {} GFS {} Day Forecast'.format(event_titlez[i],season,lead_day))\n",
    "            fig.savefig(path + 'histograms/forecast_errors_standardized_{}_{}_GFS_lead_day_{}'.format(event,season,lead_day))\n",
    "            plt.close(fig)\n"
   ]
  },
  {
   "cell_type": "markdown",
   "id": "paperback-script",
   "metadata": {},
   "source": [
    "Plot Histograms of standardized RWP property values"
   ]
  },
  {
   "cell_type": "code",
   "execution_count": 33,
   "id": "chinese-refund",
   "metadata": {},
   "outputs": [],
   "source": [
    "eventz = ['persistent_hw','persistent_cw','short_hw','short_cw']\n",
    "event_titlez = ['Persistent Warm Extreme','Persistent Cold Extreme',\n",
    "               'Short-Lived Warm Extreme','Short-Lived Cold Extreme']\n",
    "rankz = ['good','bad']\n",
    "seasonz = ['DJF','JJA']\n",
    "coordinatez = [\n",
    "(54,46,6,14),#Germany\n",
    "(44,36,352,360), #Spain\n",
    "(54,46,26,34), #Ukraine\n",
    "(58,50,352,360), #UK\n",
    "(42,34,28,36), #Turkey\n",
    "(68,60,22,30), #Finland\n",
    "(66,58,6,14), #Norway/Sweden\n",
    "(60,52,46,54)]\n",
    "file = '{}_forecasts_RWP_properties_standardized_{}_lon_{}_{}_lat_{}_{}_{}_GFS_lead_day_{}.txt'\n",
    "lead_dayz = [3,5]\n",
    "for lead_day in lead_dayz:\n",
    "    for i,event in enumerate(eventz):\n",
    "        for season in seasonz:\n",
    "            env_error_good = np.array([])\n",
    "            env_error_bad = np.array([])\n",
    "            cp_error_good = np.array([])\n",
    "            cp_error_bad = np.array([])\n",
    "            for lat_0,lat_1,lon_0,lon_1 in coordinatez:\n",
    "                df_good = pd.read_csv(path+file.format('good',event,\n",
    "                                                      lon_0,lon_1,lat_0,lat_1,\n",
    "                                                      season,lead_day),index_col=0)\n",
    "                df_bad = pd.read_csv(path+file.format('bad',event,\n",
    "                                          lon_0,lon_1,lat_0,lat_1,\n",
    "                                          season,lead_day),index_col=0)\n",
    "                env_error_good = np.concatenate((env_error_good,df_good['envelope'].values))\n",
    "                env_error_bad = np.concatenate((env_error_bad,df_bad['envelope'].values))\n",
    "                cp_error_good = np.concatenate((cp_error_good,df_good['phasespeed'].values))\n",
    "                cp_error_bad = np.concatenate((cp_error_bad,df_bad['phasespeed'].values))\n",
    "\n",
    "            fig,axz = plt.subplots(1,2,figsize=(16,9))\n",
    "            bins = np.linspace(-4,4,19)\n",
    "            p_env = stats.ttest_ind(env_error_good,env_error_bad)[1]\n",
    "            p_cp = stats.ttest_ind(cp_error_good,cp_error_bad,nan_policy='omit')[1]\n",
    "            ax1 = axz.flat[0]\n",
    "            ax1.hist([env_error_good,env_error_bad],bins,label=['Good','Bad'],density=True)\n",
    "            ax1.set_title('Envelope')\n",
    "            ax1.set_xticks(np.linspace(-4,4,9))\n",
    "            ax1.set_xlabel('Forecast Error E (m/s)')\n",
    "            ax1.text(0.01,0.99,'$μ_{{good}}$ = {:.2f} \\n$μ_{{bad}}$ = {:.2f} \\n$σ_{{good}}$ = {:.2f} \\n$σ_{{bad}}$ = {:.2f} \\n$p$ = {:.3f}'\\\n",
    "                    .format(np.mean(env_error_good),np.mean(env_error_bad),np.std(env_error_good),np.std(env_error_bad),p_env),\n",
    "                    transform = ax1.transAxes,verticalalignment='top',horizontalalignment='left')\n",
    "            ax2 = axz.flat[1]\n",
    "            ax2.hist([cp_error_good,cp_error_bad],bins,label=['good','bad'],density=True)\n",
    "            ax2.set_title('Phasespeed')\n",
    "            ax2.set_xticks(np.linspace(-4,4,9))\n",
    "            ax2.set_xlabel('Forecast Error Cp (m/s)')\n",
    "            ax2.text(0.01,0.99,'$μ_{{good}}$ = {:.2f} \\n$μ_{{bad}}$ = {:.2f} \\n$σ_{{good}}$ = {:.2f} \\n$σ_{{bad}}$ = {:.2f} \\n$p$ = {:.3f}'\\\n",
    "            .format(np.nanmean(cp_error_good),np.nanmean(cp_error_bad),np.nanstd(cp_error_good),np.nanstd(cp_error_bad),p_cp),\n",
    "            transform = ax2.transAxes,verticalalignment='top',horizontalalignment='left')\n",
    "            ax2.legend()\n",
    "            fig.suptitle('Standardized Mean RWP Properties {} {} GFS {} Day Forecast'.format(event_titlez[i],season,lead_day))\n",
    "            fig.savefig(path + 'histograms/RWP_properties_standardized_{}_{}_GFS_lead_day_{}'.format(event,season,lead_day))\n",
    "            plt.close(fig)\n",
    "            "
   ]
  },
  {
   "cell_type": "code",
   "execution_count": null,
   "id": "dietary-nickel",
   "metadata": {},
   "outputs": [],
   "source": []
  }
 ],
 "metadata": {
  "kernelspec": {
   "display_name": "Python 3",
   "language": "python",
   "name": "python3"
  },
  "language_info": {
   "codemirror_mode": {
    "name": "ipython",
    "version": 3
   },
   "file_extension": ".py",
   "mimetype": "text/x-python",
   "name": "python",
   "nbconvert_exporter": "python",
   "pygments_lexer": "ipython3",
   "version": "3.6.12"
  }
 },
 "nbformat": 4,
 "nbformat_minor": 5
}
