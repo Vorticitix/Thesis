{
 "cells": [
  {
   "cell_type": "code",
   "execution_count": 35,
   "id": "wicked-split",
   "metadata": {},
   "outputs": [],
   "source": [
    "import xarray as xr\n",
    "import numpy as np\n",
    "from matplotlib import pyplot as plt\n",
    "import pandas as pd\n",
    "import sys\n",
    "sys.path.append('/home/onno/Thesis/Scripts')\n",
    "import my_tools\n",
    "from cmap import ncl_colormap\n",
    "from mpl_toolkits.basemap import Basemap\n",
    "%matplotlib qt"
   ]
  },
  {
   "cell_type": "markdown",
   "id": "secure-freeware",
   "metadata": {},
   "source": [
    "Good seasonal forecasts"
   ]
  },
  {
   "cell_type": "code",
   "execution_count": 8,
   "id": "hybrid-courtesy",
   "metadata": {},
   "outputs": [],
   "source": [
    "#set path\n",
    "path = '/media/onno/Algemeen/Thesis/GFS_T850/rank_forecast/seasonal/'"
   ]
  },
  {
   "cell_type": "code",
   "execution_count": 81,
   "id": "previous-williams",
   "metadata": {},
   "outputs": [],
   "source": [
    "#list of seasons to loop over\n",
    "seasonz = ['DJF','MAM','JJA','SON']\n",
    "#list of events to loop over\n",
    "eventz = ['persistent_hw','persistent_cw']\n",
    "#set general file name\n",
    "\n",
    "#Open 500 hPa geopotential height data\n",
    "file_z500 = '/media/onno/Algemeen/Thesis/era51_mars_phi500_79-19_6hourly.nc'\n",
    "z500_gen = xr.open_dataset(file_z500)\n",
    "z500_gen = z500_gen.assign_coords(longitude=(((z500_gen.longitude + 180) % 360) - 180)).sortby('longitude')\n",
    "z500 = z500_gen.sel(latitude=slice(90,0),\n",
    "               time=[bool(i) for i in z500_gen.time.dt.hour%24==0])"
   ]
  },
  {
   "cell_type": "code",
   "execution_count": 85,
   "id": "voluntary-settlement",
   "metadata": {},
   "outputs": [
    {
     "ename": "SystemExit",
     "evalue": "",
     "output_type": "error",
     "traceback": [
      "An exception has occurred, use %tb to see the full traceback.\n",
      "\u001b[0;31mSystemExit\u001b[0m\n"
     ]
    },
    {
     "name": "stderr",
     "output_type": "stream",
     "text": [
      "/home/onno/miniconda3/envs/thesis/lib/python3.7/site-packages/IPython/core/interactiveshell.py:3426: UserWarning: To exit: use 'exit', 'quit', or Ctrl-D.\n",
      "  warn(\"To exit: use 'exit', 'quit', or Ctrl-D.\", stacklevel=1)\n"
     ]
    }
   ],
   "source": [
    "file = 'good_forecasts_{}_lon_6_14_lat_54_46_{}.txt'\n",
    "for season in seasonz:\n",
    "    for event in eventz:\n",
    "        file_sub = file.format(event,season)\n",
    "        df = pd.read_csv(path+file_sub,index_col=0)\n",
    "        df.index = pd.to_datetime(df.index)\n",
    "        composite_list = []\n",
    "        datez = df.index + pd.Timedelta(3,'days')\n",
    "        z500_sub = z500.sel(time=datez).mean(dim='time')\n",
    "        fig,ax = plt.subplots(figsize=(16,9))\n",
    "        m = Basemap(llcrnrlon=-30,llcrnrlat=25.,urcrnrlon=75,urcrnrlat=60,\n",
    "            projection='lcc',lat_1=45,lon_0=0,\n",
    "            resolution ='l',area_thresh=1000.,ax=ax)\n",
    "        m.drawcoastlines()\n",
    "        lonz,latz = np.meshgrid(z500_sub.longitude,z500_sub.latitude)\n",
    "        m.contourf(lonz,latz,(z500_sub.z/10),latlon='true',cmap=ncl_colormap())\n",
    "        sys.exit()\n",
    "            \n",
    "            "
   ]
  },
  {
   "cell_type": "code",
   "execution_count": null,
   "id": "mexican-costa",
   "metadata": {},
   "outputs": [],
   "source": []
  }
 ],
 "metadata": {
  "kernelspec": {
   "display_name": "Python 3",
   "language": "python",
   "name": "python3"
  },
  "language_info": {
   "codemirror_mode": {
    "name": "ipython",
    "version": 3
   },
   "file_extension": ".py",
   "mimetype": "text/x-python",
   "name": "python",
   "nbconvert_exporter": "python",
   "pygments_lexer": "ipython3",
   "version": "3.7.9"
  }
 },
 "nbformat": 4,
 "nbformat_minor": 5
}
