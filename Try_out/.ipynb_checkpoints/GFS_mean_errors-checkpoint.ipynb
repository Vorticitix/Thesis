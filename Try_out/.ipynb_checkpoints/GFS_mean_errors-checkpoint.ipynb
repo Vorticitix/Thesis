{
 "cells": [
  {
   "cell_type": "code",
   "execution_count": 2,
   "metadata": {},
   "outputs": [],
   "source": [
    "import xarray as xr\n",
    "import numpy as np\n",
    "import pandas as pd\n",
    "from matplotlib import pyplot as plt\n",
    "import cartopy.crs as ccrs\n",
    "import sys\n",
    "sys.path.append('/home/onno/Thesis/Scripts')\n",
    "import my_tools\n",
    "from datetime import datetime\n",
    "import glob\n",
    "%matplotlib qt\n"
   ]
  },
  {
   "cell_type": "code",
   "execution_count": 5,
   "metadata": {},
   "outputs": [],
   "source": [
    "path = '/media/onno/Algemeen/Thesis/'\n",
    "file = 'gefsrf2_env_wledit2000-10000_latavg_v300_control0-252h_6hourly_2x2_dec84-nov19.nc'\n",
    "\n",
    "ds = xr.open_dataset(path+file,decode_times=False)"
   ]
  },
  {
   "cell_type": "code",
   "execution_count": 6,
   "metadata": {},
   "outputs": [],
   "source": [
    "ds_nh = ds.sel(lat=slice(90,0),lead=ds.lead.values[[bool(i) for i in ds.lead%24==0]])"
   ]
  },
  {
   "cell_type": "code",
   "execution_count": 8,
   "metadata": {},
   "outputs": [
    {
     "name": "stdout",
     "output_type": "stream",
     "text": [
      "0:00:00.258630\n"
     ]
    }
   ],
   "source": [
    "t1 = datetime.now()\n",
    "for i in range(1,11):\n",
    "    forecast = ds_nh.sel(time=[my_tools.convert_date_gefs(i) for i in pd.date_range('2014-12-1','2019-11-{}'.format(30-i))],lead=i*24)\n",
    "    reanalysis = ds_nh.sel(time=[my_tools.convert_date_gefs(i) for i in pd.date_range('2014-12-{}'.format(1+i),'2019-11-30')],lead=0)\n",
    "    forecast_mean = forecast.mean(dim='time')\n",
    "    reanalysis_mean = reanalysis.mean(dim='time')\n",
    "    diff = forecast_mean - reanalysis_mean\n",
    "    mean_diff.to_netcdf('/media/onno/Algemeen/Thesis/GFS_mean/bias_GFS_forecast_day{:02d}.nc'.format(i))\n",
    "    \n",
    "    \n",
    "t2 = datetime.now()\n",
    "print(t2-t1)\n"
   ]
  },
  {
   "cell_type": "code",
   "execution_count": 58,
   "metadata": {},
   "outputs": [],
   "source": [
    "filez = glob.glob('/media/onno/Algemeen/Thesis/GFS_mean/*.nc')\n",
    "for i, file in enumerate(filez):\n",
    "    ds = xr.open_dataset(file)\n",
    "    fig = plt.figure()\n",
    "    ax = plt.subplot(1,1,1,projection=ccrs.Orthographic(0, 90))\n",
    "    ax.coastlines()\n",
    "    im = ax.imshow(ds.v,transform=ccrs.PlateCarree(),\n",
    "                   vmin=-2.5,vmax=2.5,cmap='seismic')\n",
    "    cbar = fig.colorbar(im)\n",
    "    cbar.set_label('E (m/s)', rotation=90)\n",
    "    fig.suptitle('GEFS mean RWP envelope speed error forecast day {}'.format(i+1))\n",
    "    fig.savefig('/media/onno/Algemeen/Thesis/GFS_mean/GEFS_forecast_error_day_{}'.format(i+1))\n",
    "    plt.close(fig)\n"
   ]
  },
  {
   "cell_type": "code",
   "execution_count": 9,
   "metadata": {},
   "outputs": [
    {
     "data": {
      "text/plain": [
       "1708584.0"
      ]
     },
     "execution_count": 9,
     "metadata": {},
     "output_type": "execute_result"
    }
   ],
   "source": []
  },
  {
   "cell_type": "code",
   "execution_count": null,
   "metadata": {},
   "outputs": [],
   "source": []
  }
 ],
 "metadata": {
  "kernelspec": {
   "display_name": "Python 3",
   "language": "python",
   "name": "python3"
  },
  "language_info": {
   "codemirror_mode": {
    "name": "ipython",
    "version": 3
   },
   "file_extension": ".py",
   "mimetype": "text/x-python",
   "name": "python",
   "nbconvert_exporter": "python",
   "pygments_lexer": "ipython3",
   "version": "3.8.5"
  }
 },
 "nbformat": 4,
 "nbformat_minor": 4
}
