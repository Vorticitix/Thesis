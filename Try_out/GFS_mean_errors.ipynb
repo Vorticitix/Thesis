{
 "cells": [
  {
   "cell_type": "code",
   "execution_count": 14,
   "metadata": {},
   "outputs": [
    {
     "name": "stdout",
     "output_type": "stream",
     "text": [
      "The autoreload extension is already loaded. To reload it, use:\n",
      "  %reload_ext autoreload\n"
     ]
    }
   ],
   "source": [
    "%load_ext autoreload\n",
    "%autoreload 2\n",
    "import xarray as xr\n",
    "import numpy as np\n",
    "import pandas as pd\n",
    "from matplotlib import pyplot as plt\n",
    "import cartopy.crs as ccrs\n",
    "import sys\n",
    "sys.path.append('/home/onno/Thesis/Scripts')\n",
    "import my_tools\n",
    "from datetime import datetime\n",
    "import glob\n",
    "%matplotlib qt"
   ]
  },
  {
   "cell_type": "markdown",
   "metadata": {},
   "source": [
    "Selecting the GEFS data and comparing them with ERA5 observations. Choose either RWP envelope or phase speed. Only select Northern Hemisphere"
   ]
  },
  {
   "cell_type": "code",
   "execution_count": 15,
   "metadata": {},
   "outputs": [],
   "source": [
    "path = '/media/onno/Algemeen/Thesis/'\n",
    "# file_gfs = 'gefsrf2_env_wledit2000-10000_latavg_v300_control0-252h_6hourly_2x2_dec84-nov19.nc'\n",
    "# file_era = 'era51_env_wledit2000-10000_latavg_v300_79-19_6hourly_anom_from_smoothed04_clim_smoothed.nc'\n",
    "# file_gfs = 'gefsrf2_phasevel_wledit2000-10000_latavg_v300_envgt15_control0-252h_6hourly_2x2_dec84-nov19_setvrange_-100to100.nc'\n",
    "# file_era = 'era51_phasevel_wledit2000-10000_latavg_v300_envgt15_79-19_6hourly_anom_from_smoothed04_clim_setvrange_-100to100.nc'\n",
    "file_gfs = 'gefsrf2_u300_control0-252h_6hourly_2x2_dec84-nov19.nc'\n",
    "file_era = 'era5_u300_79-19_6hourly.nc'\n",
    "gfs = xr.open_dataset(path+file_gfs,decode_times=False)\n",
    "era = xr.open_dataset(path+file_era,decode_times=False)\n",
    "#Convert dates to standard datetime values\n",
    "gfs['time']=my_tools.convert_date_gefs_r(gfs.time.values)\n",
    "era['time']=my_tools.convert_date_era_r(era.time.values)"
   ]
  },
  {
   "cell_type": "code",
   "execution_count": 16,
   "metadata": {},
   "outputs": [],
   "source": [
    "gfs_nh = gfs.sel(lat=slice(90,0),lead=gfs.lead.values[[bool(i) for i in gfs.lead%24==0]])\n",
    "era_nh = era.sel(lat=slice(90,0))"
   ]
  },
  {
   "cell_type": "markdown",
   "metadata": {},
   "source": [
    "Calculating daily mean errors "
   ]
  },
  {
   "cell_type": "code",
   "execution_count": null,
   "metadata": {},
   "outputs": [
    {
     "name": "stdout",
     "output_type": "stream",
     "text": [
      "0\n"
     ]
    }
   ],
   "source": [
    "\n",
    "for i in range(11):\n",
    "    #Select days for which GEFS data is present and make datasets equally long\n",
    "    gfs_nh_d = gfs_nh.sel(time=[i for i in pd.date_range('1984-12-1','2019-11-{}'.format(30-i))],lead=i*24)\n",
    "    era_nh_d = era_nh.sel(time=[i for i in pd.date_range('1984-12-{}'.format(1+i),'2019-11-30')]) \n",
    "    print(i)\n",
    "    #Make boolean array for each day that is present in season        \n",
    "    #Check if dates are correct\n",
    "    assert(gfs_nh_d.time.values[0]==(era_nh_d.time.values[0]-pd.Timedelta(i,'d')))\n",
    "    gfs_season_mean = gfs_nh_d.mean(dim='time')\n",
    "    era_season_mean = era_nh_d.mean(dim='time')\n",
    "    diff = gfs_season_mean - era_season_mean\n",
    "    diff.to_netcdf('/media/onno/Algemeen/Thesis/GFS_mean/GFS_mean_error_u_wind_day_{:02d}.nc'.format(i))\n"
   ]
  },
  {
   "cell_type": "code",
   "execution_count": 6,
   "metadata": {
    "jupyter": {
     "source_hidden": true
    }
   },
   "outputs": [
    {
     "name": "stdout",
     "output_type": "stream",
     "text": [
      "0:00:01.863019\n"
     ]
    }
   ],
   "source": [
    "t1 = datetime.now()\n",
    "for i in range(1,11):\n",
    "    forecast = gfs_nh.sel(time=[my_tools.convert_date_gefs(i) for i in pd.date_range('2014-12-1','2019-11-{}'.format(30-i))],lead=i*24)\n",
    "    reanalysis = era_nh.sel(time=[my_tools.convert_date_era(i) for i in pd.date_range('2014-12-{}'.format(1+i),'2019-11-30')])\n",
    "    assert(my_tools.convert_date_gefs_r(float(forecast.time[0]+forecast.lead.values))==my_tools.convert_date_era_r(float(reanalysis.time[0])))\n",
    "    reanalysis['time'] = forecast.time.values\n",
    "#     forecast_mean = forecast.mean(dim='time')\n",
    "#     reanalysis_mean = reanalysis.mean(dim='time')\n",
    "    diff2 = forecast - reanalysis\n",
    "    diff2 = diff2.mean(dim='time')\n",
    "    break\n",
    "    diff.to_netcdf('/media/onno/Algemeen/Thesis/GFS_mean/bias_GFS_forecast_phasespeed_day{:02d}.nc'.format(i))\n",
    "    print(i)\n",
    "t2 = datetime.now()\n",
    "print(t2-t1)\n"
   ]
  },
  {
   "cell_type": "code",
   "execution_count": 8,
   "metadata": {},
   "outputs": [],
   "source": [
    "\n"
   ]
  },
  {
   "cell_type": "code",
   "execution_count": 9,
   "metadata": {},
   "outputs": [
    {
     "data": {
      "text/plain": [
       "1708584.0"
      ]
     },
     "execution_count": 9,
     "metadata": {},
     "output_type": "execute_result"
    }
   ],
   "source": []
  },
  {
   "cell_type": "code",
   "execution_count": null,
   "metadata": {},
   "outputs": [],
   "source": []
  }
 ],
 "metadata": {
  "kernelspec": {
   "display_name": "Python 3",
   "language": "python",
   "name": "python3"
  },
  "language_info": {
   "codemirror_mode": {
    "name": "ipython",
    "version": 3
   },
   "file_extension": ".py",
   "mimetype": "text/x-python",
   "name": "python",
   "nbconvert_exporter": "python",
   "pygments_lexer": "ipython3",
   "version": "3.8.5"
  }
 },
 "nbformat": 4,
 "nbformat_minor": 4
}
